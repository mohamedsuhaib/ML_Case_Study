{
 "cells": [
  {
   "cell_type": "markdown",
   "metadata": {},
   "source": [
    "<img src=\"http://cfs22.simplicdn.net/ice9/new_logo.svgz \"/>\n",
    "\n",
    "# Assessment:  Mercedes-Benz Greener Manufacturing\n",
    "\n",
    "*The comments/sections provided are your cues to perform the assignment. You don't need to limit yourself to the number of rows/cells provided. You can add additional rows in each section to add more lines of code.*\n",
    "\n",
    "*If at any point in time you need help on solving this assignment, view our demo video to understand the different steps of the code.*\n",
    "\n",
    "**Happy coding!**\n",
    "\n",
    "* * *"
   ]
  },
  {
   "cell_type": "markdown",
   "metadata": {},
   "source": [
    "# Project 1: Mercedes-Benz Greener Manufacturing\n",
    "\n",
    "__DESCRIPTION__\n",
    "\n",
    "Reduce the time a Mercedes-Benz spends on the test bench.\n",
    "\n",
    "__Problem Statement Scenario:__\n",
    "\n",
    "Since the first automobile, the Benz Patent Motor Car in 1886, Mercedes-Benz has stood for important automotive innovations. These include the passenger safety cell with a crumple zone, the airbag, and intelligent assistance systems. Mercedes-Benz applies for nearly 2000 patents per year, making the brand the European leader among premium carmakers. Mercedes-Benz is the leader in the premium car industry. With a huge selection of features and options, customers can choose the customized Mercedes-Benz of their dreams.\n",
    "\n",
    "To ensure the safety and reliability of every unique car configuration before they hit the road, the company’s engineers have developed a robust testing system. As one of the world’s biggest manufacturers of premium cars, safety and efficiency are paramount on Mercedes-Benz’s production lines. However, optimizing the speed of their testing system for many possible feature combinations is complex and time-consuming without a powerful algorithmic approach.\n",
    "\n",
    "You are required to reduce the time that cars spend on the test bench. Others will work with a dataset representing different permutations of features in a Mercedes-Benz car to predict the time it takes to pass testing. Optimal algorithms will contribute to faster testing, resulting in lower carbon dioxide emissions without reducing Mercedes-Benz’s standards.\n",
    "\n",
    "__Following actions should be performed:__\n",
    "\n",
    "* If for any column(s), the variance is equal to zero, then you need to remove those variable(s).\n",
    "* Check for null and unique values for test and train sets.\n",
    "* Apply label encoder.\n",
    "* Perform dimensionality reduction.\n",
    "* Predict your test_df values using XGBoost."
   ]
  },
  {
   "cell_type": "markdown",
   "metadata": {},
   "source": [
    "## Import the required libraries"
   ]
  },
  {
   "cell_type": "code",
   "execution_count": 1,
   "metadata": {
    "ExecuteTime": {
     "end_time": "2021-08-25T15:05:08.503095Z",
     "start_time": "2021-08-25T15:05:03.843089Z"
    }
   },
   "outputs": [],
   "source": [
    "# importing the required libraries\n",
    "import pandas as pd\n",
    "import numpy as np\n",
    "import matplotlib.pyplot as plt\n",
    "from matplotlib import style\n",
    "import seaborn as sns\n",
    "%matplotlib inline\n",
    "\n",
    "# importing the library to ignore warnings\n",
    "import warnings\n",
    "warnings.filterwarnings('ignore')"
   ]
  },
  {
   "cell_type": "markdown",
   "metadata": {},
   "source": [
    "## Read the train dataset"
   ]
  },
  {
   "cell_type": "code",
   "execution_count": 2,
   "metadata": {
    "ExecuteTime": {
     "end_time": "2021-08-25T15:05:09.083096Z",
     "start_time": "2021-08-25T15:05:08.503095Z"
    }
   },
   "outputs": [
    {
     "name": "stdout",
     "output_type": "stream",
     "text": [
      "Size of training set: 4209 rows and 378 columns\n"
     ]
    },
    {
     "data": {
      "text/html": [
       "<div>\n",
       "<style scoped>\n",
       "    .dataframe tbody tr th:only-of-type {\n",
       "        vertical-align: middle;\n",
       "    }\n",
       "\n",
       "    .dataframe tbody tr th {\n",
       "        vertical-align: top;\n",
       "    }\n",
       "\n",
       "    .dataframe thead th {\n",
       "        text-align: right;\n",
       "    }\n",
       "</style>\n",
       "<table border=\"1\" class=\"dataframe\">\n",
       "  <thead>\n",
       "    <tr style=\"text-align: right;\">\n",
       "      <th></th>\n",
       "      <th>ID</th>\n",
       "      <th>y</th>\n",
       "      <th>X0</th>\n",
       "      <th>X1</th>\n",
       "      <th>X2</th>\n",
       "      <th>X3</th>\n",
       "      <th>X4</th>\n",
       "      <th>X5</th>\n",
       "      <th>X6</th>\n",
       "      <th>X8</th>\n",
       "      <th>...</th>\n",
       "      <th>X375</th>\n",
       "      <th>X376</th>\n",
       "      <th>X377</th>\n",
       "      <th>X378</th>\n",
       "      <th>X379</th>\n",
       "      <th>X380</th>\n",
       "      <th>X382</th>\n",
       "      <th>X383</th>\n",
       "      <th>X384</th>\n",
       "      <th>X385</th>\n",
       "    </tr>\n",
       "  </thead>\n",
       "  <tbody>\n",
       "    <tr>\n",
       "      <th>0</th>\n",
       "      <td>0</td>\n",
       "      <td>130.81</td>\n",
       "      <td>k</td>\n",
       "      <td>v</td>\n",
       "      <td>at</td>\n",
       "      <td>a</td>\n",
       "      <td>d</td>\n",
       "      <td>u</td>\n",
       "      <td>j</td>\n",
       "      <td>o</td>\n",
       "      <td>...</td>\n",
       "      <td>0</td>\n",
       "      <td>0</td>\n",
       "      <td>1</td>\n",
       "      <td>0</td>\n",
       "      <td>0</td>\n",
       "      <td>0</td>\n",
       "      <td>0</td>\n",
       "      <td>0</td>\n",
       "      <td>0</td>\n",
       "      <td>0</td>\n",
       "    </tr>\n",
       "    <tr>\n",
       "      <th>1</th>\n",
       "      <td>6</td>\n",
       "      <td>88.53</td>\n",
       "      <td>k</td>\n",
       "      <td>t</td>\n",
       "      <td>av</td>\n",
       "      <td>e</td>\n",
       "      <td>d</td>\n",
       "      <td>y</td>\n",
       "      <td>l</td>\n",
       "      <td>o</td>\n",
       "      <td>...</td>\n",
       "      <td>1</td>\n",
       "      <td>0</td>\n",
       "      <td>0</td>\n",
       "      <td>0</td>\n",
       "      <td>0</td>\n",
       "      <td>0</td>\n",
       "      <td>0</td>\n",
       "      <td>0</td>\n",
       "      <td>0</td>\n",
       "      <td>0</td>\n",
       "    </tr>\n",
       "    <tr>\n",
       "      <th>2</th>\n",
       "      <td>7</td>\n",
       "      <td>76.26</td>\n",
       "      <td>az</td>\n",
       "      <td>w</td>\n",
       "      <td>n</td>\n",
       "      <td>c</td>\n",
       "      <td>d</td>\n",
       "      <td>x</td>\n",
       "      <td>j</td>\n",
       "      <td>x</td>\n",
       "      <td>...</td>\n",
       "      <td>0</td>\n",
       "      <td>0</td>\n",
       "      <td>0</td>\n",
       "      <td>0</td>\n",
       "      <td>0</td>\n",
       "      <td>0</td>\n",
       "      <td>1</td>\n",
       "      <td>0</td>\n",
       "      <td>0</td>\n",
       "      <td>0</td>\n",
       "    </tr>\n",
       "    <tr>\n",
       "      <th>3</th>\n",
       "      <td>9</td>\n",
       "      <td>80.62</td>\n",
       "      <td>az</td>\n",
       "      <td>t</td>\n",
       "      <td>n</td>\n",
       "      <td>f</td>\n",
       "      <td>d</td>\n",
       "      <td>x</td>\n",
       "      <td>l</td>\n",
       "      <td>e</td>\n",
       "      <td>...</td>\n",
       "      <td>0</td>\n",
       "      <td>0</td>\n",
       "      <td>0</td>\n",
       "      <td>0</td>\n",
       "      <td>0</td>\n",
       "      <td>0</td>\n",
       "      <td>0</td>\n",
       "      <td>0</td>\n",
       "      <td>0</td>\n",
       "      <td>0</td>\n",
       "    </tr>\n",
       "    <tr>\n",
       "      <th>4</th>\n",
       "      <td>13</td>\n",
       "      <td>78.02</td>\n",
       "      <td>az</td>\n",
       "      <td>v</td>\n",
       "      <td>n</td>\n",
       "      <td>f</td>\n",
       "      <td>d</td>\n",
       "      <td>h</td>\n",
       "      <td>d</td>\n",
       "      <td>n</td>\n",
       "      <td>...</td>\n",
       "      <td>0</td>\n",
       "      <td>0</td>\n",
       "      <td>0</td>\n",
       "      <td>0</td>\n",
       "      <td>0</td>\n",
       "      <td>0</td>\n",
       "      <td>0</td>\n",
       "      <td>0</td>\n",
       "      <td>0</td>\n",
       "      <td>0</td>\n",
       "    </tr>\n",
       "  </tbody>\n",
       "</table>\n",
       "<p>5 rows × 378 columns</p>\n",
       "</div>"
      ],
      "text/plain": [
       "   ID       y  X0 X1  X2 X3 X4 X5 X6 X8  ...  X375  X376  X377  X378  X379  \\\n",
       "0   0  130.81   k  v  at  a  d  u  j  o  ...     0     0     1     0     0   \n",
       "1   6   88.53   k  t  av  e  d  y  l  o  ...     1     0     0     0     0   \n",
       "2   7   76.26  az  w   n  c  d  x  j  x  ...     0     0     0     0     0   \n",
       "3   9   80.62  az  t   n  f  d  x  l  e  ...     0     0     0     0     0   \n",
       "4  13   78.02  az  v   n  f  d  h  d  n  ...     0     0     0     0     0   \n",
       "\n",
       "   X380  X382  X383  X384  X385  \n",
       "0     0     0     0     0     0  \n",
       "1     0     0     0     0     0  \n",
       "2     0     1     0     0     0  \n",
       "3     0     0     0     0     0  \n",
       "4     0     0     0     0     0  \n",
       "\n",
       "[5 rows x 378 columns]"
      ]
     },
     "execution_count": 2,
     "metadata": {},
     "output_type": "execute_result"
    }
   ],
   "source": [
    "# importing the train dataset\n",
    "train_original = pd.read_csv('train.csv')\n",
    "\n",
    "# let us understand the train data\n",
    "print('Size of training set: {} rows and {} columns'.format(*train_original.shape))\n",
    "\n",
    "# print first fove rows of training set\n",
    "train_original.head()"
   ]
  },
  {
   "cell_type": "markdown",
   "metadata": {},
   "source": [
    "* There are 4209 data points and 378 features in the dataset.\n",
    "* It is observed that there are more number of features with binary values. Hence sparsity exists in the train data.\n",
    "* Target feature 'y' from the training data is 'the time that cars spend on the test bench."
   ]
  },
  {
   "cell_type": "code",
   "execution_count": 3,
   "metadata": {
    "ExecuteTime": {
     "end_time": "2021-08-25T15:05:09.243096Z",
     "start_time": "2021-08-25T15:05:09.083096Z"
    },
    "scrolled": true
   },
   "outputs": [
    {
     "name": "stdout",
     "output_type": "stream",
     "text": [
      "<class 'pandas.core.frame.DataFrame'>\n",
      "RangeIndex: 4209 entries, 0 to 4208\n",
      "Columns: 378 entries, ID to X385\n",
      "dtypes: float64(1), int64(369), object(8)\n",
      "memory usage: 12.0+ MB\n"
     ]
    }
   ],
   "source": [
    "# check the info of the train data\n",
    "train_original.info()"
   ]
  },
  {
   "cell_type": "markdown",
   "metadata": {},
   "source": [
    "* The train dataset has one feature with float64 datatype which is target (Y) features.\n",
    "* The train dataset has 369 features with int64 datatype which are features having binary values (0 & 1).\n",
    "* The train dataset has 8 features with object datatype which are features having categorical data."
   ]
  },
  {
   "cell_type": "code",
   "execution_count": 4,
   "metadata": {
    "ExecuteTime": {
     "end_time": "2021-08-25T15:05:10.633098Z",
     "start_time": "2021-08-25T15:05:09.243096Z"
    },
    "scrolled": true
   },
   "outputs": [
    {
     "data": {
      "image/png": "[encoded data removed]",
      "text/plain": [
       "<Figure size 1080x360 with 2 Axes>"
      ]
     },
     "metadata": {
      "needs_background": "light"
     },
     "output_type": "display_data"
    }
   ],
   "source": [
    "colors = ['#001c57','#50248f','#a6a6a6','#38d1ff','#ca7beb','#c8aef8','#9154f8','#cef3f5']\n",
    "plt.figure(figsize=(15,5))\n",
    "plt.subplot(121)\n",
    "sns.distplot(train_original.y.values, bins=20, color=colors[4])\n",
    "plt.title('Target Value Distribution \\n',fontsize=15)\n",
    "plt.xlabel('Target Value in Seconds'); plt.ylabel('Occurances');\n",
    "\n",
    "plt.subplot(122)\n",
    "sns.boxplot(train_original.y.values, color=colors[0])\n",
    "plt.title('Target Value Distribution \\n',fontsize=15)\n",
    "plt.xlabel('Target Value in Seconds');"
   ]
  },
  {
   "cell_type": "markdown",
   "metadata": {},
   "source": [
    "## If for any column(s), the variance is equal to zero, then we need to remove those variable(s)"
   ]
  },
  {
   "cell_type": "code",
   "execution_count": 5,
   "metadata": {
    "ExecuteTime": {
     "end_time": "2021-08-25T15:05:10.803098Z",
     "start_time": "2021-08-25T15:05:10.633098Z"
    },
    "scrolled": true
   },
   "outputs": [
    {
     "data": {
      "text/html": [
       "<div>\n",
       "<style scoped>\n",
       "    .dataframe tbody tr th:only-of-type {\n",
       "        vertical-align: middle;\n",
       "    }\n",
       "\n",
       "    .dataframe tbody tr th {\n",
       "        vertical-align: top;\n",
       "    }\n",
       "\n",
       "    .dataframe thead th {\n",
       "        text-align: right;\n",
       "    }\n",
       "</style>\n",
       "<table border=\"1\" class=\"dataframe\">\n",
       "  <thead>\n",
       "    <tr style=\"text-align: right;\">\n",
       "      <th></th>\n",
       "      <th>Variance</th>\n",
       "    </tr>\n",
       "  </thead>\n",
       "  <tbody>\n",
       "    <tr>\n",
       "      <th>ID</th>\n",
       "      <td>5.941936e+06</td>\n",
       "    </tr>\n",
       "    <tr>\n",
       "      <th>y</th>\n",
       "      <td>1.607667e+02</td>\n",
       "    </tr>\n",
       "    <tr>\n",
       "      <th>X10</th>\n",
       "      <td>1.313092e-02</td>\n",
       "    </tr>\n",
       "    <tr>\n",
       "      <th>X11</th>\n",
       "      <td>0.000000e+00</td>\n",
       "    </tr>\n",
       "    <tr>\n",
       "      <th>X12</th>\n",
       "      <td>6.945713e-02</td>\n",
       "    </tr>\n",
       "    <tr>\n",
       "      <th>...</th>\n",
       "      <td>...</td>\n",
       "    </tr>\n",
       "    <tr>\n",
       "      <th>X380</th>\n",
       "      <td>8.014579e-03</td>\n",
       "    </tr>\n",
       "    <tr>\n",
       "      <th>X382</th>\n",
       "      <td>7.546747e-03</td>\n",
       "    </tr>\n",
       "    <tr>\n",
       "      <th>X383</th>\n",
       "      <td>1.660732e-03</td>\n",
       "    </tr>\n",
       "    <tr>\n",
       "      <th>X384</th>\n",
       "      <td>4.750593e-04</td>\n",
       "    </tr>\n",
       "    <tr>\n",
       "      <th>X385</th>\n",
       "      <td>1.423823e-03</td>\n",
       "    </tr>\n",
       "  </tbody>\n",
       "</table>\n",
       "<p>370 rows × 1 columns</p>\n",
       "</div>"
      ],
      "text/plain": [
       "          Variance\n",
       "ID    5.941936e+06\n",
       "y     1.607667e+02\n",
       "X10   1.313092e-02\n",
       "X11   0.000000e+00\n",
       "X12   6.945713e-02\n",
       "...            ...\n",
       "X380  8.014579e-03\n",
       "X382  7.546747e-03\n",
       "X383  1.660732e-03\n",
       "X384  4.750593e-04\n",
       "X385  1.423823e-03\n",
       "\n",
       "[370 rows x 1 columns]"
      ]
     },
     "execution_count": 5,
     "metadata": {},
     "output_type": "execute_result"
    }
   ],
   "source": [
    "#checking the variance of all the features in the train dataset and storing it to new object\n",
    "train_original_var=pd.DataFrame(train_original.var(axis=0),columns=['Variance'])\n",
    "train_original_var"
   ]
  },
  {
   "cell_type": "markdown",
   "metadata": {},
   "source": [
    "* Define a function to remove the features of train dataset with zero variance. \n",
    "* Add the object train_original to the function. i.e., features_zero_var(train_original). \n",
    "* The variance with respect to each features in the train_original dataset will be stored in the object df_original_var. \n",
    "* The index contains the feature names and the corresponding variances will be displayed in the column with name 'Variance'. Then, it returns only the features of object 'df_original_var' having variance = 0. \n",
    "* The name df_original_var is used because the function will be used on both train and test data."
   ]
  },
  {
   "cell_type": "code",
   "execution_count": 6,
   "metadata": {
    "ExecuteTime": {
     "end_time": "2021-08-25T15:05:10.823098Z",
     "start_time": "2021-08-25T15:05:10.803098Z"
    }
   },
   "outputs": [],
   "source": [
    "#Define a function to remove the features of train dataset with zero variance \n",
    "def features_zero_var(df):\n",
    "    df_original_var=pd.DataFrame(df.var(axis=0),columns=['Variance']) \n",
    "    return((df_original_var[df_original_var.Variance==0]))"
   ]
  },
  {
   "cell_type": "code",
   "execution_count": 7,
   "metadata": {
    "ExecuteTime": {
     "end_time": "2021-08-25T15:05:10.883099Z",
     "start_time": "2021-08-25T15:05:10.823098Z"
    }
   },
   "outputs": [
    {
     "data": {
      "text/html": [
       "<div>\n",
       "<style scoped>\n",
       "    .dataframe tbody tr th:only-of-type {\n",
       "        vertical-align: middle;\n",
       "    }\n",
       "\n",
       "    .dataframe tbody tr th {\n",
       "        vertical-align: top;\n",
       "    }\n",
       "\n",
       "    .dataframe thead th {\n",
       "        text-align: right;\n",
       "    }\n",
       "</style>\n",
       "<table border=\"1\" class=\"dataframe\">\n",
       "  <thead>\n",
       "    <tr style=\"text-align: right;\">\n",
       "      <th></th>\n",
       "      <th>Variance</th>\n",
       "    </tr>\n",
       "  </thead>\n",
       "  <tbody>\n",
       "    <tr>\n",
       "      <th>X11</th>\n",
       "      <td>0.0</td>\n",
       "    </tr>\n",
       "    <tr>\n",
       "      <th>X93</th>\n",
       "      <td>0.0</td>\n",
       "    </tr>\n",
       "    <tr>\n",
       "      <th>X107</th>\n",
       "      <td>0.0</td>\n",
       "    </tr>\n",
       "    <tr>\n",
       "      <th>X233</th>\n",
       "      <td>0.0</td>\n",
       "    </tr>\n",
       "    <tr>\n",
       "      <th>X235</th>\n",
       "      <td>0.0</td>\n",
       "    </tr>\n",
       "    <tr>\n",
       "      <th>X268</th>\n",
       "      <td>0.0</td>\n",
       "    </tr>\n",
       "    <tr>\n",
       "      <th>X289</th>\n",
       "      <td>0.0</td>\n",
       "    </tr>\n",
       "    <tr>\n",
       "      <th>X290</th>\n",
       "      <td>0.0</td>\n",
       "    </tr>\n",
       "    <tr>\n",
       "      <th>X293</th>\n",
       "      <td>0.0</td>\n",
       "    </tr>\n",
       "    <tr>\n",
       "      <th>X297</th>\n",
       "      <td>0.0</td>\n",
       "    </tr>\n",
       "    <tr>\n",
       "      <th>X330</th>\n",
       "      <td>0.0</td>\n",
       "    </tr>\n",
       "    <tr>\n",
       "      <th>X347</th>\n",
       "      <td>0.0</td>\n",
       "    </tr>\n",
       "  </tbody>\n",
       "</table>\n",
       "</div>"
      ],
      "text/plain": [
       "      Variance\n",
       "X11        0.0\n",
       "X93        0.0\n",
       "X107       0.0\n",
       "X233       0.0\n",
       "X235       0.0\n",
       "X268       0.0\n",
       "X289       0.0\n",
       "X290       0.0\n",
       "X293       0.0\n",
       "X297       0.0\n",
       "X330       0.0\n",
       "X347       0.0"
      ]
     },
     "execution_count": 7,
     "metadata": {},
     "output_type": "execute_result"
    }
   ],
   "source": [
    "# Call the function to return the train dataset features having zero variance.\n",
    "features_zero_var(train_original)"
   ]
  },
  {
   "cell_type": "markdown",
   "metadata": {},
   "source": [
    "Above columns are the list of features having zero variance in training dataset."
   ]
  },
  {
   "cell_type": "code",
   "execution_count": 8,
   "metadata": {
    "ExecuteTime": {
     "end_time": "2021-08-25T15:05:10.913099Z",
     "start_time": "2021-08-25T15:05:10.883099Z"
    }
   },
   "outputs": [],
   "source": [
    "# Remove the features with zero variance from train dataset and store the data in the new object\n",
    "train_original_modified= train_original.drop(columns=train_original_var[train_original_var.Variance==0].index)"
   ]
  },
  {
   "cell_type": "code",
   "execution_count": 9,
   "metadata": {
    "ExecuteTime": {
     "end_time": "2021-08-25T15:05:10.973099Z",
     "start_time": "2021-08-25T15:05:10.913099Z"
    }
   },
   "outputs": [
    {
     "data": {
      "text/html": [
       "<div>\n",
       "<style scoped>\n",
       "    .dataframe tbody tr th:only-of-type {\n",
       "        vertical-align: middle;\n",
       "    }\n",
       "\n",
       "    .dataframe tbody tr th {\n",
       "        vertical-align: top;\n",
       "    }\n",
       "\n",
       "    .dataframe thead th {\n",
       "        text-align: right;\n",
       "    }\n",
       "</style>\n",
       "<table border=\"1\" class=\"dataframe\">\n",
       "  <thead>\n",
       "    <tr style=\"text-align: right;\">\n",
       "      <th></th>\n",
       "      <th>ID</th>\n",
       "      <th>y</th>\n",
       "      <th>X0</th>\n",
       "      <th>X1</th>\n",
       "      <th>X2</th>\n",
       "      <th>X3</th>\n",
       "      <th>X4</th>\n",
       "      <th>X5</th>\n",
       "      <th>X6</th>\n",
       "      <th>X8</th>\n",
       "      <th>...</th>\n",
       "      <th>X375</th>\n",
       "      <th>X376</th>\n",
       "      <th>X377</th>\n",
       "      <th>X378</th>\n",
       "      <th>X379</th>\n",
       "      <th>X380</th>\n",
       "      <th>X382</th>\n",
       "      <th>X383</th>\n",
       "      <th>X384</th>\n",
       "      <th>X385</th>\n",
       "    </tr>\n",
       "  </thead>\n",
       "  <tbody>\n",
       "    <tr>\n",
       "      <th>0</th>\n",
       "      <td>0</td>\n",
       "      <td>130.81</td>\n",
       "      <td>k</td>\n",
       "      <td>v</td>\n",
       "      <td>at</td>\n",
       "      <td>a</td>\n",
       "      <td>d</td>\n",
       "      <td>u</td>\n",
       "      <td>j</td>\n",
       "      <td>o</td>\n",
       "      <td>...</td>\n",
       "      <td>0</td>\n",
       "      <td>0</td>\n",
       "      <td>1</td>\n",
       "      <td>0</td>\n",
       "      <td>0</td>\n",
       "      <td>0</td>\n",
       "      <td>0</td>\n",
       "      <td>0</td>\n",
       "      <td>0</td>\n",
       "      <td>0</td>\n",
       "    </tr>\n",
       "    <tr>\n",
       "      <th>1</th>\n",
       "      <td>6</td>\n",
       "      <td>88.53</td>\n",
       "      <td>k</td>\n",
       "      <td>t</td>\n",
       "      <td>av</td>\n",
       "      <td>e</td>\n",
       "      <td>d</td>\n",
       "      <td>y</td>\n",
       "      <td>l</td>\n",
       "      <td>o</td>\n",
       "      <td>...</td>\n",
       "      <td>1</td>\n",
       "      <td>0</td>\n",
       "      <td>0</td>\n",
       "      <td>0</td>\n",
       "      <td>0</td>\n",
       "      <td>0</td>\n",
       "      <td>0</td>\n",
       "      <td>0</td>\n",
       "      <td>0</td>\n",
       "      <td>0</td>\n",
       "    </tr>\n",
       "    <tr>\n",
       "      <th>2</th>\n",
       "      <td>7</td>\n",
       "      <td>76.26</td>\n",
       "      <td>az</td>\n",
       "      <td>w</td>\n",
       "      <td>n</td>\n",
       "      <td>c</td>\n",
       "      <td>d</td>\n",
       "      <td>x</td>\n",
       "      <td>j</td>\n",
       "      <td>x</td>\n",
       "      <td>...</td>\n",
       "      <td>0</td>\n",
       "      <td>0</td>\n",
       "      <td>0</td>\n",
       "      <td>0</td>\n",
       "      <td>0</td>\n",
       "      <td>0</td>\n",
       "      <td>1</td>\n",
       "      <td>0</td>\n",
       "      <td>0</td>\n",
       "      <td>0</td>\n",
       "    </tr>\n",
       "    <tr>\n",
       "      <th>3</th>\n",
       "      <td>9</td>\n",
       "      <td>80.62</td>\n",
       "      <td>az</td>\n",
       "      <td>t</td>\n",
       "      <td>n</td>\n",
       "      <td>f</td>\n",
       "      <td>d</td>\n",
       "      <td>x</td>\n",
       "      <td>l</td>\n",
       "      <td>e</td>\n",
       "      <td>...</td>\n",
       "      <td>0</td>\n",
       "      <td>0</td>\n",
       "      <td>0</td>\n",
       "      <td>0</td>\n",
       "      <td>0</td>\n",
       "      <td>0</td>\n",
       "      <td>0</td>\n",
       "      <td>0</td>\n",
       "      <td>0</td>\n",
       "      <td>0</td>\n",
       "    </tr>\n",
       "    <tr>\n",
       "      <th>4</th>\n",
       "      <td>13</td>\n",
       "      <td>78.02</td>\n",
       "      <td>az</td>\n",
       "      <td>v</td>\n",
       "      <td>n</td>\n",
       "      <td>f</td>\n",
       "      <td>d</td>\n",
       "      <td>h</td>\n",
       "      <td>d</td>\n",
       "      <td>n</td>\n",
       "      <td>...</td>\n",
       "      <td>0</td>\n",
       "      <td>0</td>\n",
       "      <td>0</td>\n",
       "      <td>0</td>\n",
       "      <td>0</td>\n",
       "      <td>0</td>\n",
       "      <td>0</td>\n",
       "      <td>0</td>\n",
       "      <td>0</td>\n",
       "      <td>0</td>\n",
       "    </tr>\n",
       "  </tbody>\n",
       "</table>\n",
       "<p>5 rows × 366 columns</p>\n",
       "</div>"
      ],
      "text/plain": [
       "   ID       y  X0 X1  X2 X3 X4 X5 X6 X8  ...  X375  X376  X377  X378  X379  \\\n",
       "0   0  130.81   k  v  at  a  d  u  j  o  ...     0     0     1     0     0   \n",
       "1   6   88.53   k  t  av  e  d  y  l  o  ...     1     0     0     0     0   \n",
       "2   7   76.26  az  w   n  c  d  x  j  x  ...     0     0     0     0     0   \n",
       "3   9   80.62  az  t   n  f  d  x  l  e  ...     0     0     0     0     0   \n",
       "4  13   78.02  az  v   n  f  d  h  d  n  ...     0     0     0     0     0   \n",
       "\n",
       "   X380  X382  X383  X384  X385  \n",
       "0     0     0     0     0     0  \n",
       "1     0     0     0     0     0  \n",
       "2     0     1     0     0     0  \n",
       "3     0     0     0     0     0  \n",
       "4     0     0     0     0     0  \n",
       "\n",
       "[5 rows x 366 columns]"
      ]
     },
     "execution_count": 9,
     "metadata": {},
     "output_type": "execute_result"
    }
   ],
   "source": [
    "# Display the modified train dataset after removing the features having zero variance\n",
    "train_original_modified.head()"
   ]
  },
  {
   "cell_type": "code",
   "execution_count": 10,
   "metadata": {
    "ExecuteTime": {
     "end_time": "2021-08-25T15:05:11.013099Z",
     "start_time": "2021-08-25T15:05:10.973099Z"
    }
   },
   "outputs": [
    {
     "name": "stdout",
     "output_type": "stream",
     "text": [
      "Shape of original train dataset is: (4209, 378)\n",
      "\n",
      "Shape of modified train dataset after removing features having zero variance is: (4209, 366)\n"
     ]
    }
   ],
   "source": [
    "# Print the original and modified shape of the train dataset\n",
    "print('Shape of original train dataset is:', train_original.shape)\n",
    "print('\\nShape of modified train dataset after removing features having zero variance is:', train_original_modified.shape)"
   ]
  },
  {
   "cell_type": "markdown",
   "metadata": {},
   "source": [
    "The modified train dataset contains 366 features, which means the 12 features with zero variance from the original dataset is removed."
   ]
  },
  {
   "cell_type": "code",
   "execution_count": 11,
   "metadata": {
    "ExecuteTime": {
     "end_time": "2021-08-25T15:05:11.435100Z",
     "start_time": "2021-08-25T15:05:11.013099Z"
    }
   },
   "outputs": [],
   "source": [
    "# Save the modified train dataset\n",
    "train_original_modified.to_csv('train_original_modified.csv',index=False)"
   ]
  },
  {
   "cell_type": "markdown",
   "metadata": {},
   "source": [
    "### Similarly, Read the Test Dataset and  remove the zero variance features from the dataset"
   ]
  },
  {
   "cell_type": "code",
   "execution_count": 12,
   "metadata": {
    "ExecuteTime": {
     "end_time": "2021-08-25T15:05:11.805101Z",
     "start_time": "2021-08-25T15:05:11.436100Z"
    }
   },
   "outputs": [
    {
     "name": "stdout",
     "output_type": "stream",
     "text": [
      "Size of testing set: 4209 rows and 377 columns\n"
     ]
    },
    {
     "data": {
      "text/html": [
       "<div>\n",
       "<style scoped>\n",
       "    .dataframe tbody tr th:only-of-type {\n",
       "        vertical-align: middle;\n",
       "    }\n",
       "\n",
       "    .dataframe tbody tr th {\n",
       "        vertical-align: top;\n",
       "    }\n",
       "\n",
       "    .dataframe thead th {\n",
       "        text-align: right;\n",
       "    }\n",
       "</style>\n",
       "<table border=\"1\" class=\"dataframe\">\n",
       "  <thead>\n",
       "    <tr style=\"text-align: right;\">\n",
       "      <th></th>\n",
       "      <th>ID</th>\n",
       "      <th>X0</th>\n",
       "      <th>X1</th>\n",
       "      <th>X2</th>\n",
       "      <th>X3</th>\n",
       "      <th>X4</th>\n",
       "      <th>X5</th>\n",
       "      <th>X6</th>\n",
       "      <th>X8</th>\n",
       "      <th>X10</th>\n",
       "      <th>...</th>\n",
       "      <th>X375</th>\n",
       "      <th>X376</th>\n",
       "      <th>X377</th>\n",
       "      <th>X378</th>\n",
       "      <th>X379</th>\n",
       "      <th>X380</th>\n",
       "      <th>X382</th>\n",
       "      <th>X383</th>\n",
       "      <th>X384</th>\n",
       "      <th>X385</th>\n",
       "    </tr>\n",
       "  </thead>\n",
       "  <tbody>\n",
       "    <tr>\n",
       "      <th>0</th>\n",
       "      <td>1</td>\n",
       "      <td>az</td>\n",
       "      <td>v</td>\n",
       "      <td>n</td>\n",
       "      <td>f</td>\n",
       "      <td>d</td>\n",
       "      <td>t</td>\n",
       "      <td>a</td>\n",
       "      <td>w</td>\n",
       "      <td>0</td>\n",
       "      <td>...</td>\n",
       "      <td>0</td>\n",
       "      <td>0</td>\n",
       "      <td>0</td>\n",
       "      <td>1</td>\n",
       "      <td>0</td>\n",
       "      <td>0</td>\n",
       "      <td>0</td>\n",
       "      <td>0</td>\n",
       "      <td>0</td>\n",
       "      <td>0</td>\n",
       "    </tr>\n",
       "    <tr>\n",
       "      <th>1</th>\n",
       "      <td>2</td>\n",
       "      <td>t</td>\n",
       "      <td>b</td>\n",
       "      <td>ai</td>\n",
       "      <td>a</td>\n",
       "      <td>d</td>\n",
       "      <td>b</td>\n",
       "      <td>g</td>\n",
       "      <td>y</td>\n",
       "      <td>0</td>\n",
       "      <td>...</td>\n",
       "      <td>0</td>\n",
       "      <td>0</td>\n",
       "      <td>1</td>\n",
       "      <td>0</td>\n",
       "      <td>0</td>\n",
       "      <td>0</td>\n",
       "      <td>0</td>\n",
       "      <td>0</td>\n",
       "      <td>0</td>\n",
       "      <td>0</td>\n",
       "    </tr>\n",
       "    <tr>\n",
       "      <th>2</th>\n",
       "      <td>3</td>\n",
       "      <td>az</td>\n",
       "      <td>v</td>\n",
       "      <td>as</td>\n",
       "      <td>f</td>\n",
       "      <td>d</td>\n",
       "      <td>a</td>\n",
       "      <td>j</td>\n",
       "      <td>j</td>\n",
       "      <td>0</td>\n",
       "      <td>...</td>\n",
       "      <td>0</td>\n",
       "      <td>0</td>\n",
       "      <td>0</td>\n",
       "      <td>1</td>\n",
       "      <td>0</td>\n",
       "      <td>0</td>\n",
       "      <td>0</td>\n",
       "      <td>0</td>\n",
       "      <td>0</td>\n",
       "      <td>0</td>\n",
       "    </tr>\n",
       "    <tr>\n",
       "      <th>3</th>\n",
       "      <td>4</td>\n",
       "      <td>az</td>\n",
       "      <td>l</td>\n",
       "      <td>n</td>\n",
       "      <td>f</td>\n",
       "      <td>d</td>\n",
       "      <td>z</td>\n",
       "      <td>l</td>\n",
       "      <td>n</td>\n",
       "      <td>0</td>\n",
       "      <td>...</td>\n",
       "      <td>0</td>\n",
       "      <td>0</td>\n",
       "      <td>0</td>\n",
       "      <td>1</td>\n",
       "      <td>0</td>\n",
       "      <td>0</td>\n",
       "      <td>0</td>\n",
       "      <td>0</td>\n",
       "      <td>0</td>\n",
       "      <td>0</td>\n",
       "    </tr>\n",
       "    <tr>\n",
       "      <th>4</th>\n",
       "      <td>5</td>\n",
       "      <td>w</td>\n",
       "      <td>s</td>\n",
       "      <td>as</td>\n",
       "      <td>c</td>\n",
       "      <td>d</td>\n",
       "      <td>y</td>\n",
       "      <td>i</td>\n",
       "      <td>m</td>\n",
       "      <td>0</td>\n",
       "      <td>...</td>\n",
       "      <td>1</td>\n",
       "      <td>0</td>\n",
       "      <td>0</td>\n",
       "      <td>0</td>\n",
       "      <td>0</td>\n",
       "      <td>0</td>\n",
       "      <td>0</td>\n",
       "      <td>0</td>\n",
       "      <td>0</td>\n",
       "      <td>0</td>\n",
       "    </tr>\n",
       "  </tbody>\n",
       "</table>\n",
       "<p>5 rows × 377 columns</p>\n",
       "</div>"
      ],
      "text/plain": [
       "   ID  X0 X1  X2 X3 X4 X5 X6 X8  X10  ...  X375  X376  X377  X378  X379  X380  \\\n",
       "0   1  az  v   n  f  d  t  a  w    0  ...     0     0     0     1     0     0   \n",
       "1   2   t  b  ai  a  d  b  g  y    0  ...     0     0     1     0     0     0   \n",
       "2   3  az  v  as  f  d  a  j  j    0  ...     0     0     0     1     0     0   \n",
       "3   4  az  l   n  f  d  z  l  n    0  ...     0     0     0     1     0     0   \n",
       "4   5   w  s  as  c  d  y  i  m    0  ...     1     0     0     0     0     0   \n",
       "\n",
       "   X382  X383  X384  X385  \n",
       "0     0     0     0     0  \n",
       "1     0     0     0     0  \n",
       "2     0     0     0     0  \n",
       "3     0     0     0     0  \n",
       "4     0     0     0     0  \n",
       "\n",
       "[5 rows x 377 columns]"
      ]
     },
     "execution_count": 12,
     "metadata": {},
     "output_type": "execute_result"
    }
   ],
   "source": [
    "#import the test dataset\n",
    "test_original = pd.read_csv('test.csv')\n",
    "\n",
    "\n",
    "# let us understand the test data\n",
    "print('Size of testing set: {} rows and {} columns'.format(*test_original.shape))\n",
    "\n",
    "# print few rows and see how the data looks like\n",
    "test_original.head()"
   ]
  },
  {
   "cell_type": "markdown",
   "metadata": {},
   "source": [
    "* There are 4209 data points and 377 features in the test dataset.\n",
    "* Number of features in the test dataset is 377 because, the target feature 'y' is intentionally removed from the test dataset compared to train dataset."
   ]
  },
  {
   "cell_type": "code",
   "execution_count": 13,
   "metadata": {
    "ExecuteTime": {
     "end_time": "2021-08-25T15:05:11.845101Z",
     "start_time": "2021-08-25T15:05:11.805101Z"
    }
   },
   "outputs": [
    {
     "data": {
      "text/html": [
       "<div>\n",
       "<style scoped>\n",
       "    .dataframe tbody tr th:only-of-type {\n",
       "        vertical-align: middle;\n",
       "    }\n",
       "\n",
       "    .dataframe tbody tr th {\n",
       "        vertical-align: top;\n",
       "    }\n",
       "\n",
       "    .dataframe thead th {\n",
       "        text-align: right;\n",
       "    }\n",
       "</style>\n",
       "<table border=\"1\" class=\"dataframe\">\n",
       "  <thead>\n",
       "    <tr style=\"text-align: right;\">\n",
       "      <th></th>\n",
       "      <th>Variance</th>\n",
       "    </tr>\n",
       "  </thead>\n",
       "  <tbody>\n",
       "    <tr>\n",
       "      <th>ID</th>\n",
       "      <td>5.871311e+06</td>\n",
       "    </tr>\n",
       "    <tr>\n",
       "      <th>X10</th>\n",
       "      <td>1.865006e-02</td>\n",
       "    </tr>\n",
       "    <tr>\n",
       "      <th>X11</th>\n",
       "      <td>2.375861e-04</td>\n",
       "    </tr>\n",
       "    <tr>\n",
       "      <th>X12</th>\n",
       "      <td>6.885074e-02</td>\n",
       "    </tr>\n",
       "    <tr>\n",
       "      <th>X13</th>\n",
       "      <td>5.734498e-02</td>\n",
       "    </tr>\n",
       "    <tr>\n",
       "      <th>...</th>\n",
       "      <td>...</td>\n",
       "    </tr>\n",
       "    <tr>\n",
       "      <th>X380</th>\n",
       "      <td>8.014579e-03</td>\n",
       "    </tr>\n",
       "    <tr>\n",
       "      <th>X382</th>\n",
       "      <td>8.715481e-03</td>\n",
       "    </tr>\n",
       "    <tr>\n",
       "      <th>X383</th>\n",
       "      <td>4.750593e-04</td>\n",
       "    </tr>\n",
       "    <tr>\n",
       "      <th>X384</th>\n",
       "      <td>7.124196e-04</td>\n",
       "    </tr>\n",
       "    <tr>\n",
       "      <th>X385</th>\n",
       "      <td>1.660732e-03</td>\n",
       "    </tr>\n",
       "  </tbody>\n",
       "</table>\n",
       "<p>369 rows × 1 columns</p>\n",
       "</div>"
      ],
      "text/plain": [
       "          Variance\n",
       "ID    5.871311e+06\n",
       "X10   1.865006e-02\n",
       "X11   2.375861e-04\n",
       "X12   6.885074e-02\n",
       "X13   5.734498e-02\n",
       "...            ...\n",
       "X380  8.014579e-03\n",
       "X382  8.715481e-03\n",
       "X383  4.750593e-04\n",
       "X384  7.124196e-04\n",
       "X385  1.660732e-03\n",
       "\n",
       "[369 rows x 1 columns]"
      ]
     },
     "execution_count": 13,
     "metadata": {},
     "output_type": "execute_result"
    }
   ],
   "source": [
    "# Check the original variance of all the features in the test dataset and store it to new object\n",
    "test_original_var=pd.DataFrame(test_original.var(axis=0),columns=['Variance'])\n",
    "test_original_var"
   ]
  },
  {
   "cell_type": "code",
   "execution_count": 14,
   "metadata": {
    "ExecuteTime": {
     "end_time": "2021-08-25T15:05:11.955101Z",
     "start_time": "2021-08-25T15:05:11.845101Z"
    }
   },
   "outputs": [
    {
     "data": {
      "text/html": [
       "<div>\n",
       "<style scoped>\n",
       "    .dataframe tbody tr th:only-of-type {\n",
       "        vertical-align: middle;\n",
       "    }\n",
       "\n",
       "    .dataframe tbody tr th {\n",
       "        vertical-align: top;\n",
       "    }\n",
       "\n",
       "    .dataframe thead th {\n",
       "        text-align: right;\n",
       "    }\n",
       "</style>\n",
       "<table border=\"1\" class=\"dataframe\">\n",
       "  <thead>\n",
       "    <tr style=\"text-align: right;\">\n",
       "      <th></th>\n",
       "      <th>Variance</th>\n",
       "    </tr>\n",
       "  </thead>\n",
       "  <tbody>\n",
       "    <tr>\n",
       "      <th>X257</th>\n",
       "      <td>0.0</td>\n",
       "    </tr>\n",
       "    <tr>\n",
       "      <th>X258</th>\n",
       "      <td>0.0</td>\n",
       "    </tr>\n",
       "    <tr>\n",
       "      <th>X295</th>\n",
       "      <td>0.0</td>\n",
       "    </tr>\n",
       "    <tr>\n",
       "      <th>X296</th>\n",
       "      <td>0.0</td>\n",
       "    </tr>\n",
       "    <tr>\n",
       "      <th>X369</th>\n",
       "      <td>0.0</td>\n",
       "    </tr>\n",
       "  </tbody>\n",
       "</table>\n",
       "</div>"
      ],
      "text/plain": [
       "      Variance\n",
       "X257       0.0\n",
       "X258       0.0\n",
       "X295       0.0\n",
       "X296       0.0\n",
       "X369       0.0"
      ]
     },
     "execution_count": 14,
     "metadata": {},
     "output_type": "execute_result"
    }
   ],
   "source": [
    "# Call the function to return the test dataset features having zero variance.\n",
    "features_zero_var(test_original)"
   ]
  },
  {
   "cell_type": "markdown",
   "metadata": {},
   "source": [
    "* Above listed features have zero variance.\n",
    "* However, since test dataset is not considered for training and only used for testing, we can remove the same features with zero variance as in train dataset.\n",
    "* This will ensure the same size and shape of the train and test dataset."
   ]
  },
  {
   "cell_type": "code",
   "execution_count": 15,
   "metadata": {
    "ExecuteTime": {
     "end_time": "2021-08-25T15:05:12.045101Z",
     "start_time": "2021-08-25T15:05:11.955101Z"
    }
   },
   "outputs": [],
   "source": [
    "# In test dataset, remove the same features of train dataset having zero variance.\n",
    "test_original_modified= test_original.drop(columns=['X11', 'X93', 'X107','X233', 'X235', 'X268', 'X289', 'X290', 'X293','X297','X330','X347'])"
   ]
  },
  {
   "cell_type": "code",
   "execution_count": 16,
   "metadata": {
    "ExecuteTime": {
     "end_time": "2021-08-25T15:05:12.135101Z",
     "start_time": "2021-08-25T15:05:12.045101Z"
    }
   },
   "outputs": [
    {
     "data": {
      "text/html": [
       "<div>\n",
       "<style scoped>\n",
       "    .dataframe tbody tr th:only-of-type {\n",
       "        vertical-align: middle;\n",
       "    }\n",
       "\n",
       "    .dataframe tbody tr th {\n",
       "        vertical-align: top;\n",
       "    }\n",
       "\n",
       "    .dataframe thead th {\n",
       "        text-align: right;\n",
       "    }\n",
       "</style>\n",
       "<table border=\"1\" class=\"dataframe\">\n",
       "  <thead>\n",
       "    <tr style=\"text-align: right;\">\n",
       "      <th></th>\n",
       "      <th>ID</th>\n",
       "      <th>X0</th>\n",
       "      <th>X1</th>\n",
       "      <th>X2</th>\n",
       "      <th>X3</th>\n",
       "      <th>X4</th>\n",
       "      <th>X5</th>\n",
       "      <th>X6</th>\n",
       "      <th>X8</th>\n",
       "      <th>X10</th>\n",
       "      <th>...</th>\n",
       "      <th>X375</th>\n",
       "      <th>X376</th>\n",
       "      <th>X377</th>\n",
       "      <th>X378</th>\n",
       "      <th>X379</th>\n",
       "      <th>X380</th>\n",
       "      <th>X382</th>\n",
       "      <th>X383</th>\n",
       "      <th>X384</th>\n",
       "      <th>X385</th>\n",
       "    </tr>\n",
       "  </thead>\n",
       "  <tbody>\n",
       "    <tr>\n",
       "      <th>0</th>\n",
       "      <td>1</td>\n",
       "      <td>az</td>\n",
       "      <td>v</td>\n",
       "      <td>n</td>\n",
       "      <td>f</td>\n",
       "      <td>d</td>\n",
       "      <td>t</td>\n",
       "      <td>a</td>\n",
       "      <td>w</td>\n",
       "      <td>0</td>\n",
       "      <td>...</td>\n",
       "      <td>0</td>\n",
       "      <td>0</td>\n",
       "      <td>0</td>\n",
       "      <td>1</td>\n",
       "      <td>0</td>\n",
       "      <td>0</td>\n",
       "      <td>0</td>\n",
       "      <td>0</td>\n",
       "      <td>0</td>\n",
       "      <td>0</td>\n",
       "    </tr>\n",
       "    <tr>\n",
       "      <th>1</th>\n",
       "      <td>2</td>\n",
       "      <td>t</td>\n",
       "      <td>b</td>\n",
       "      <td>ai</td>\n",
       "      <td>a</td>\n",
       "      <td>d</td>\n",
       "      <td>b</td>\n",
       "      <td>g</td>\n",
       "      <td>y</td>\n",
       "      <td>0</td>\n",
       "      <td>...</td>\n",
       "      <td>0</td>\n",
       "      <td>0</td>\n",
       "      <td>1</td>\n",
       "      <td>0</td>\n",
       "      <td>0</td>\n",
       "      <td>0</td>\n",
       "      <td>0</td>\n",
       "      <td>0</td>\n",
       "      <td>0</td>\n",
       "      <td>0</td>\n",
       "    </tr>\n",
       "    <tr>\n",
       "      <th>2</th>\n",
       "      <td>3</td>\n",
       "      <td>az</td>\n",
       "      <td>v</td>\n",
       "      <td>as</td>\n",
       "      <td>f</td>\n",
       "      <td>d</td>\n",
       "      <td>a</td>\n",
       "      <td>j</td>\n",
       "      <td>j</td>\n",
       "      <td>0</td>\n",
       "      <td>...</td>\n",
       "      <td>0</td>\n",
       "      <td>0</td>\n",
       "      <td>0</td>\n",
       "      <td>1</td>\n",
       "      <td>0</td>\n",
       "      <td>0</td>\n",
       "      <td>0</td>\n",
       "      <td>0</td>\n",
       "      <td>0</td>\n",
       "      <td>0</td>\n",
       "    </tr>\n",
       "    <tr>\n",
       "      <th>3</th>\n",
       "      <td>4</td>\n",
       "      <td>az</td>\n",
       "      <td>l</td>\n",
       "      <td>n</td>\n",
       "      <td>f</td>\n",
       "      <td>d</td>\n",
       "      <td>z</td>\n",
       "      <td>l</td>\n",
       "      <td>n</td>\n",
       "      <td>0</td>\n",
       "      <td>...</td>\n",
       "      <td>0</td>\n",
       "      <td>0</td>\n",
       "      <td>0</td>\n",
       "      <td>1</td>\n",
       "      <td>0</td>\n",
       "      <td>0</td>\n",
       "      <td>0</td>\n",
       "      <td>0</td>\n",
       "      <td>0</td>\n",
       "      <td>0</td>\n",
       "    </tr>\n",
       "    <tr>\n",
       "      <th>4</th>\n",
       "      <td>5</td>\n",
       "      <td>w</td>\n",
       "      <td>s</td>\n",
       "      <td>as</td>\n",
       "      <td>c</td>\n",
       "      <td>d</td>\n",
       "      <td>y</td>\n",
       "      <td>i</td>\n",
       "      <td>m</td>\n",
       "      <td>0</td>\n",
       "      <td>...</td>\n",
       "      <td>1</td>\n",
       "      <td>0</td>\n",
       "      <td>0</td>\n",
       "      <td>0</td>\n",
       "      <td>0</td>\n",
       "      <td>0</td>\n",
       "      <td>0</td>\n",
       "      <td>0</td>\n",
       "      <td>0</td>\n",
       "      <td>0</td>\n",
       "    </tr>\n",
       "  </tbody>\n",
       "</table>\n",
       "<p>5 rows × 365 columns</p>\n",
       "</div>"
      ],
      "text/plain": [
       "   ID  X0 X1  X2 X3 X4 X5 X6 X8  X10  ...  X375  X376  X377  X378  X379  X380  \\\n",
       "0   1  az  v   n  f  d  t  a  w    0  ...     0     0     0     1     0     0   \n",
       "1   2   t  b  ai  a  d  b  g  y    0  ...     0     0     1     0     0     0   \n",
       "2   3  az  v  as  f  d  a  j  j    0  ...     0     0     0     1     0     0   \n",
       "3   4  az  l   n  f  d  z  l  n    0  ...     0     0     0     1     0     0   \n",
       "4   5   w  s  as  c  d  y  i  m    0  ...     1     0     0     0     0     0   \n",
       "\n",
       "   X382  X383  X384  X385  \n",
       "0     0     0     0     0  \n",
       "1     0     0     0     0  \n",
       "2     0     0     0     0  \n",
       "3     0     0     0     0  \n",
       "4     0     0     0     0  \n",
       "\n",
       "[5 rows x 365 columns]"
      ]
     },
     "execution_count": 16,
     "metadata": {},
     "output_type": "execute_result"
    }
   ],
   "source": [
    "# Display the modified test dataset after removing the features having zero variance\n",
    "test_original_modified.head()"
   ]
  },
  {
   "cell_type": "code",
   "execution_count": 17,
   "metadata": {
    "ExecuteTime": {
     "end_time": "2021-08-25T15:05:12.185102Z",
     "start_time": "2021-08-25T15:05:12.135101Z"
    }
   },
   "outputs": [
    {
     "name": "stdout",
     "output_type": "stream",
     "text": [
      "Shape of original test dataset is: (4209, 377)\n",
      "\n",
      "Shape of modified test dataset after removing features having zero variance is: (4209, 365)\n"
     ]
    }
   ],
   "source": [
    "# Print the original and modified shape of the test dataset\n",
    "print('Shape of original test dataset is:', test_original.shape)\n",
    "print('\\nShape of modified test dataset after removing features having zero variance is:', test_original_modified.shape)"
   ]
  },
  {
   "cell_type": "markdown",
   "metadata": {},
   "source": [
    "* The modified test dataset contains 365 features. This is because, we had removed the same 12 features having zero variance in the train dataset.\n",
    "* The modified test dataset has 365 features, whereas modified train dataset had 366 features. This is because target feature 'y' is missing  in the train dataset."
   ]
  },
  {
   "cell_type": "code",
   "execution_count": 18,
   "metadata": {
    "ExecuteTime": {
     "end_time": "2021-08-25T15:05:12.695102Z",
     "start_time": "2021-08-25T15:05:12.185102Z"
    }
   },
   "outputs": [],
   "source": [
    "# Save the modified test dataset\n",
    "test_original_modified.to_csv('test_original_modified.csv',index=False)"
   ]
  },
  {
   "cell_type": "markdown",
   "metadata": {},
   "source": [
    "##  Check for the null and unique values in the train dataset"
   ]
  },
  {
   "cell_type": "code",
   "execution_count": 19,
   "metadata": {
    "ExecuteTime": {
     "end_time": "2021-08-25T15:05:12.705102Z",
     "start_time": "2021-08-25T15:05:12.695102Z"
    }
   },
   "outputs": [
    {
     "name": "stdout",
     "output_type": "stream",
     "text": [
      "The sum of null values in the train dataset is: 0\n"
     ]
    }
   ],
   "source": [
    "# Check the null values in the train dataset\n",
    "print('The sum of null values in the train dataset is:', train_original_modified.isnull().any().sum())"
   ]
  },
  {
   "cell_type": "markdown",
   "metadata": {},
   "source": [
    "There are no null values in the train dataset.\n",
    "\n",
    "The unique() function includes the missing value. But the nunique() function excludes the missing value as the default parameter is dropna=True. Since, there are no missing values in the train dataset, we can use nunique()."
   ]
  },
  {
   "cell_type": "code",
   "execution_count": 20,
   "metadata": {
    "ExecuteTime": {
     "end_time": "2021-08-25T15:05:13.095103Z",
     "start_time": "2021-08-25T15:05:12.705102Z"
    }
   },
   "outputs": [
    {
     "data": {
      "text/html": [
       "<div>\n",
       "<style scoped>\n",
       "    .dataframe tbody tr th:only-of-type {\n",
       "        vertical-align: middle;\n",
       "    }\n",
       "\n",
       "    .dataframe tbody tr th {\n",
       "        vertical-align: top;\n",
       "    }\n",
       "\n",
       "    .dataframe thead th {\n",
       "        text-align: right;\n",
       "    }\n",
       "</style>\n",
       "<table border=\"1\" class=\"dataframe\">\n",
       "  <thead>\n",
       "    <tr style=\"text-align: right;\">\n",
       "      <th></th>\n",
       "      <th>Unique_Values</th>\n",
       "    </tr>\n",
       "  </thead>\n",
       "  <tbody>\n",
       "    <tr>\n",
       "      <th>ID</th>\n",
       "      <td>4209</td>\n",
       "    </tr>\n",
       "    <tr>\n",
       "      <th>y</th>\n",
       "      <td>2545</td>\n",
       "    </tr>\n",
       "    <tr>\n",
       "      <th>X0</th>\n",
       "      <td>47</td>\n",
       "    </tr>\n",
       "    <tr>\n",
       "      <th>X1</th>\n",
       "      <td>27</td>\n",
       "    </tr>\n",
       "    <tr>\n",
       "      <th>X2</th>\n",
       "      <td>44</td>\n",
       "    </tr>\n",
       "    <tr>\n",
       "      <th>...</th>\n",
       "      <td>...</td>\n",
       "    </tr>\n",
       "    <tr>\n",
       "      <th>X380</th>\n",
       "      <td>2</td>\n",
       "    </tr>\n",
       "    <tr>\n",
       "      <th>X382</th>\n",
       "      <td>2</td>\n",
       "    </tr>\n",
       "    <tr>\n",
       "      <th>X383</th>\n",
       "      <td>2</td>\n",
       "    </tr>\n",
       "    <tr>\n",
       "      <th>X384</th>\n",
       "      <td>2</td>\n",
       "    </tr>\n",
       "    <tr>\n",
       "      <th>X385</th>\n",
       "      <td>2</td>\n",
       "    </tr>\n",
       "  </tbody>\n",
       "</table>\n",
       "<p>366 rows × 1 columns</p>\n",
       "</div>"
      ],
      "text/plain": [
       "      Unique_Values\n",
       "ID             4209\n",
       "y              2545\n",
       "X0               47\n",
       "X1               27\n",
       "X2               44\n",
       "...             ...\n",
       "X380              2\n",
       "X382              2\n",
       "X383              2\n",
       "X384              2\n",
       "X385              2\n",
       "\n",
       "[366 rows x 1 columns]"
      ]
     },
     "execution_count": 20,
     "metadata": {},
     "output_type": "execute_result"
    }
   ],
   "source": [
    "# Check the unique values in the train dataset\n",
    "train_original_modified_UV=pd.DataFrame(train_original_modified.nunique(),columns=['Unique_Values'])\n",
    "train_original_modified_UV"
   ]
  },
  {
   "cell_type": "markdown",
   "metadata": {},
   "source": [
    "* It is observed that all the values in ID column are unique. In the provided dataaset, the ID represents the unique car configuration. So, this feature must be ignored for training as it will not make any sense to the prediction. \n",
    "* 'y' feature is the target feature. \n",
    "* Features X0,X1,X2,X3,X4,X5,X6,X8 are the categorical features which must be converted to numerical values/one hot encoded values.\n",
    "* All the features after X8 are having binary values."
   ]
  },
  {
   "cell_type": "code",
   "execution_count": 21,
   "metadata": {
    "ExecuteTime": {
     "end_time": "2021-08-25T15:05:13.135103Z",
     "start_time": "2021-08-25T15:05:13.095103Z"
    }
   },
   "outputs": [
    {
     "name": "stdout",
     "output_type": "stream",
     "text": [
      "Train Features with unique values greater than 2 are as follows:\n",
      " Unique_Values  ID    4209\n",
      "               y     2545\n",
      "               X0      47\n",
      "               X1      27\n",
      "               X2      44\n",
      "               X3       7\n",
      "               X4       4\n",
      "               X5      29\n",
      "               X6      12\n",
      "               X8      25\n",
      "dtype: int64\n",
      "\n",
      "Test Features with unique values equal to 2 are as follows:\n",
      " Unique_Values  X10     2\n",
      "               X12     2\n",
      "               X13     2\n",
      "               X14     2\n",
      "               X15     2\n",
      "                      ..\n",
      "               X380    2\n",
      "               X382    2\n",
      "               X383    2\n",
      "               X384    2\n",
      "               X385    2\n",
      "Length: 356, dtype: int64\n"
     ]
    }
   ],
   "source": [
    "# Print the train dataset features unique values where the values = 2 and values>2.\n",
    "print('Train Features with unique values greater than 2 are as follows:\\n',train_original_modified_UV[train_original_modified_UV.Unique_Values>2].unstack())\n",
    "print('\\nTest Features with unique values equal to 2 are as follows:\\n',train_original_modified_UV[train_original_modified_UV.Unique_Values==2].unstack())"
   ]
  },
  {
   "cell_type": "markdown",
   "metadata": {},
   "source": [
    "* Out of 366 train dataset features, 10 features are having greater than 2 unique values and remaining features are having only 2 unique values (0 and 1). "
   ]
  },
  {
   "cell_type": "markdown",
   "metadata": {},
   "source": [
    "### Similarly, check the  null and unique values in the  test dataset "
   ]
  },
  {
   "cell_type": "code",
   "execution_count": 22,
   "metadata": {
    "ExecuteTime": {
     "end_time": "2021-08-25T15:05:13.165103Z",
     "start_time": "2021-08-25T15:05:13.135103Z"
    }
   },
   "outputs": [
    {
     "name": "stdout",
     "output_type": "stream",
     "text": [
      "The sum of null values in the test dataset is: 0\n"
     ]
    }
   ],
   "source": [
    "# Check the null values in the test dataset\n",
    "print('The sum of null values in the test dataset is:', test_original_modified.isnull().any().sum())"
   ]
  },
  {
   "cell_type": "markdown",
   "metadata": {},
   "source": [
    "* There are no null values in the test dataset."
   ]
  },
  {
   "cell_type": "code",
   "execution_count": 23,
   "metadata": {
    "ExecuteTime": {
     "end_time": "2021-08-25T15:05:13.365103Z",
     "start_time": "2021-08-25T15:05:13.165103Z"
    }
   },
   "outputs": [
    {
     "data": {
      "text/html": [
       "<div>\n",
       "<style scoped>\n",
       "    .dataframe tbody tr th:only-of-type {\n",
       "        vertical-align: middle;\n",
       "    }\n",
       "\n",
       "    .dataframe tbody tr th {\n",
       "        vertical-align: top;\n",
       "    }\n",
       "\n",
       "    .dataframe thead th {\n",
       "        text-align: right;\n",
       "    }\n",
       "</style>\n",
       "<table border=\"1\" class=\"dataframe\">\n",
       "  <thead>\n",
       "    <tr style=\"text-align: right;\">\n",
       "      <th></th>\n",
       "      <th>Unique_Values</th>\n",
       "    </tr>\n",
       "  </thead>\n",
       "  <tbody>\n",
       "    <tr>\n",
       "      <th>ID</th>\n",
       "      <td>4209</td>\n",
       "    </tr>\n",
       "    <tr>\n",
       "      <th>X0</th>\n",
       "      <td>49</td>\n",
       "    </tr>\n",
       "    <tr>\n",
       "      <th>X1</th>\n",
       "      <td>27</td>\n",
       "    </tr>\n",
       "    <tr>\n",
       "      <th>X2</th>\n",
       "      <td>45</td>\n",
       "    </tr>\n",
       "    <tr>\n",
       "      <th>X3</th>\n",
       "      <td>7</td>\n",
       "    </tr>\n",
       "    <tr>\n",
       "      <th>...</th>\n",
       "      <td>...</td>\n",
       "    </tr>\n",
       "    <tr>\n",
       "      <th>X380</th>\n",
       "      <td>2</td>\n",
       "    </tr>\n",
       "    <tr>\n",
       "      <th>X382</th>\n",
       "      <td>2</td>\n",
       "    </tr>\n",
       "    <tr>\n",
       "      <th>X383</th>\n",
       "      <td>2</td>\n",
       "    </tr>\n",
       "    <tr>\n",
       "      <th>X384</th>\n",
       "      <td>2</td>\n",
       "    </tr>\n",
       "    <tr>\n",
       "      <th>X385</th>\n",
       "      <td>2</td>\n",
       "    </tr>\n",
       "  </tbody>\n",
       "</table>\n",
       "<p>365 rows × 1 columns</p>\n",
       "</div>"
      ],
      "text/plain": [
       "      Unique_Values\n",
       "ID             4209\n",
       "X0               49\n",
       "X1               27\n",
       "X2               45\n",
       "X3                7\n",
       "...             ...\n",
       "X380              2\n",
       "X382              2\n",
       "X383              2\n",
       "X384              2\n",
       "X385              2\n",
       "\n",
       "[365 rows x 1 columns]"
      ]
     },
     "execution_count": 23,
     "metadata": {},
     "output_type": "execute_result"
    }
   ],
   "source": [
    "# Check the unique values in the test dataset\n",
    "test_original_modified_UV=pd.DataFrame(test_original_modified.nunique(),columns=['Unique_Values'])\n",
    "test_original_modified_UV"
   ]
  },
  {
   "cell_type": "markdown",
   "metadata": {},
   "source": [
    "* It is observed that all the valus in ID column are unique. In the provided dataset, the ID represents the unique car configuration. So, this feature must be ignored for testing as it will not make any sense to the prediction.\n",
    "* Features X0,X1,X2,X3,X4,X5,X6,X8 are the categorical features which must be converted to numerical values/one hot encoded values.\n",
    "* All the features after X8 are having binary values."
   ]
  },
  {
   "cell_type": "code",
   "execution_count": 24,
   "metadata": {
    "ExecuteTime": {
     "end_time": "2021-08-25T15:05:13.385103Z",
     "start_time": "2021-08-25T15:05:13.365103Z"
    }
   },
   "outputs": [
    {
     "name": "stdout",
     "output_type": "stream",
     "text": [
      "Test Features with unique values greater than 2 are as follows:\n",
      " Unique_Values  ID    4209\n",
      "               X0      49\n",
      "               X1      27\n",
      "               X2      45\n",
      "               X3       7\n",
      "               X4       4\n",
      "               X5      32\n",
      "               X6      12\n",
      "               X8      25\n",
      "dtype: int64\n",
      "\n",
      "Test Features with unique values equal to 2 are as follows:\n",
      " Unique_Values  X10     2\n",
      "               X12     2\n",
      "               X13     2\n",
      "               X14     2\n",
      "               X15     2\n",
      "                      ..\n",
      "               X380    2\n",
      "               X382    2\n",
      "               X383    2\n",
      "               X384    2\n",
      "               X385    2\n",
      "Length: 351, dtype: int64\n"
     ]
    }
   ],
   "source": [
    "# Print the test dataset features unique values where the values = 2 and values >2.\n",
    "print('Test Features with unique values greater than 2 are as follows:\\n',test_original_modified_UV[test_original_modified_UV.Unique_Values>2].unstack())\n",
    "print('\\nTest Features with unique values equal to 2 are as follows:\\n',test_original_modified_UV[test_original_modified_UV.Unique_Values==2].unstack())"
   ]
  },
  {
   "cell_type": "markdown",
   "metadata": {},
   "source": [
    "* Out of 365 test dataset features, 9 features are having greater than 2 unique values and remaining features are having only 2 unique values (0 and 1). "
   ]
  },
  {
   "cell_type": "markdown",
   "metadata": {},
   "source": [
    "## Apply the label encoder/one hot encoding  for the train dataset\n",
    "\n",
    "Before applying label encoder, separate the ID and 'y' features from the train dataset."
   ]
  },
  {
   "cell_type": "code",
   "execution_count": 25,
   "metadata": {
    "ExecuteTime": {
     "end_time": "2021-08-25T15:05:13.475103Z",
     "start_time": "2021-08-25T15:05:13.385103Z"
    }
   },
   "outputs": [
    {
     "data": {
      "text/plain": [
       "(4209, 364)"
      ]
     },
     "execution_count": 25,
     "metadata": {},
     "output_type": "execute_result"
    }
   ],
   "source": [
    "#Drop the columns 'ID' and 'y' and store the data into new object train_X_check and verify the shape\n",
    "train_X_check = train_original_modified.drop(columns = ['ID','y'])\n",
    "# train_X_check to verify how the one hot encoding works for the features with multi categorical variables \n",
    "train_X_check.shape"
   ]
  },
  {
   "cell_type": "code",
   "execution_count": 26,
   "metadata": {
    "ExecuteTime": {
     "end_time": "2021-08-25T15:05:13.795104Z",
     "start_time": "2021-08-25T15:05:13.475103Z"
    }
   },
   "outputs": [],
   "source": [
    "# perform label encoder/one hot encoding for the categories features of train_X_check\n",
    "\n",
    "# Import the required library\n",
    "from sklearn.preprocessing import LabelEncoder\n",
    "\n",
    "# Define the function to apply the label encoder for the categories features of train_X_check\n",
    "def label_encoder(df,x):\n",
    "    # select only the features with datatype Object\n",
    "    features_cat=df.select_dtypes(include='object').columns \n",
    "    # instantiate the label encoder\n",
    "    le=LabelEncoder() \n",
    "    for i in features_cat:\n",
    "        # Fit,transform \n",
    "        # And replace with label-encoded data for the existing data in the object datatype columns of train_X_check\n",
    "        x[i]=le.fit_transform(x[i]) "
   ]
  },
  {
   "cell_type": "code",
   "execution_count": 27,
   "metadata": {
    "ExecuteTime": {
     "end_time": "2021-08-25T15:05:13.825104Z",
     "start_time": "2021-08-25T15:05:13.795104Z"
    }
   },
   "outputs": [],
   "source": [
    "# Call the function to apply label encoder for the train_X_check data\n",
    "label_encoder(train_original_modified,train_X_check)"
   ]
  },
  {
   "cell_type": "code",
   "execution_count": 28,
   "metadata": {
    "ExecuteTime": {
     "end_time": "2021-08-25T15:05:13.895104Z",
     "start_time": "2021-08-25T15:05:13.825104Z"
    },
    "scrolled": false
   },
   "outputs": [
    {
     "data": {
      "text/html": [
       "<div>\n",
       "<style scoped>\n",
       "    .dataframe tbody tr th:only-of-type {\n",
       "        vertical-align: middle;\n",
       "    }\n",
       "\n",
       "    .dataframe tbody tr th {\n",
       "        vertical-align: top;\n",
       "    }\n",
       "\n",
       "    .dataframe thead th {\n",
       "        text-align: right;\n",
       "    }\n",
       "</style>\n",
       "<table border=\"1\" class=\"dataframe\">\n",
       "  <thead>\n",
       "    <tr style=\"text-align: right;\">\n",
       "      <th></th>\n",
       "      <th>X0</th>\n",
       "      <th>X1</th>\n",
       "      <th>X2</th>\n",
       "      <th>X3</th>\n",
       "      <th>X4</th>\n",
       "      <th>X5</th>\n",
       "      <th>X6</th>\n",
       "      <th>X8</th>\n",
       "      <th>X10</th>\n",
       "      <th>X12</th>\n",
       "      <th>...</th>\n",
       "      <th>X375</th>\n",
       "      <th>X376</th>\n",
       "      <th>X377</th>\n",
       "      <th>X378</th>\n",
       "      <th>X379</th>\n",
       "      <th>X380</th>\n",
       "      <th>X382</th>\n",
       "      <th>X383</th>\n",
       "      <th>X384</th>\n",
       "      <th>X385</th>\n",
       "    </tr>\n",
       "  </thead>\n",
       "  <tbody>\n",
       "    <tr>\n",
       "      <th>0</th>\n",
       "      <td>32</td>\n",
       "      <td>23</td>\n",
       "      <td>17</td>\n",
       "      <td>0</td>\n",
       "      <td>3</td>\n",
       "      <td>24</td>\n",
       "      <td>9</td>\n",
       "      <td>14</td>\n",
       "      <td>0</td>\n",
       "      <td>0</td>\n",
       "      <td>...</td>\n",
       "      <td>0</td>\n",
       "      <td>0</td>\n",
       "      <td>1</td>\n",
       "      <td>0</td>\n",
       "      <td>0</td>\n",
       "      <td>0</td>\n",
       "      <td>0</td>\n",
       "      <td>0</td>\n",
       "      <td>0</td>\n",
       "      <td>0</td>\n",
       "    </tr>\n",
       "    <tr>\n",
       "      <th>1</th>\n",
       "      <td>32</td>\n",
       "      <td>21</td>\n",
       "      <td>19</td>\n",
       "      <td>4</td>\n",
       "      <td>3</td>\n",
       "      <td>28</td>\n",
       "      <td>11</td>\n",
       "      <td>14</td>\n",
       "      <td>0</td>\n",
       "      <td>0</td>\n",
       "      <td>...</td>\n",
       "      <td>1</td>\n",
       "      <td>0</td>\n",
       "      <td>0</td>\n",
       "      <td>0</td>\n",
       "      <td>0</td>\n",
       "      <td>0</td>\n",
       "      <td>0</td>\n",
       "      <td>0</td>\n",
       "      <td>0</td>\n",
       "      <td>0</td>\n",
       "    </tr>\n",
       "    <tr>\n",
       "      <th>2</th>\n",
       "      <td>20</td>\n",
       "      <td>24</td>\n",
       "      <td>34</td>\n",
       "      <td>2</td>\n",
       "      <td>3</td>\n",
       "      <td>27</td>\n",
       "      <td>9</td>\n",
       "      <td>23</td>\n",
       "      <td>0</td>\n",
       "      <td>0</td>\n",
       "      <td>...</td>\n",
       "      <td>0</td>\n",
       "      <td>0</td>\n",
       "      <td>0</td>\n",
       "      <td>0</td>\n",
       "      <td>0</td>\n",
       "      <td>0</td>\n",
       "      <td>1</td>\n",
       "      <td>0</td>\n",
       "      <td>0</td>\n",
       "      <td>0</td>\n",
       "    </tr>\n",
       "    <tr>\n",
       "      <th>3</th>\n",
       "      <td>20</td>\n",
       "      <td>21</td>\n",
       "      <td>34</td>\n",
       "      <td>5</td>\n",
       "      <td>3</td>\n",
       "      <td>27</td>\n",
       "      <td>11</td>\n",
       "      <td>4</td>\n",
       "      <td>0</td>\n",
       "      <td>0</td>\n",
       "      <td>...</td>\n",
       "      <td>0</td>\n",
       "      <td>0</td>\n",
       "      <td>0</td>\n",
       "      <td>0</td>\n",
       "      <td>0</td>\n",
       "      <td>0</td>\n",
       "      <td>0</td>\n",
       "      <td>0</td>\n",
       "      <td>0</td>\n",
       "      <td>0</td>\n",
       "    </tr>\n",
       "    <tr>\n",
       "      <th>4</th>\n",
       "      <td>20</td>\n",
       "      <td>23</td>\n",
       "      <td>34</td>\n",
       "      <td>5</td>\n",
       "      <td>3</td>\n",
       "      <td>12</td>\n",
       "      <td>3</td>\n",
       "      <td>13</td>\n",
       "      <td>0</td>\n",
       "      <td>0</td>\n",
       "      <td>...</td>\n",
       "      <td>0</td>\n",
       "      <td>0</td>\n",
       "      <td>0</td>\n",
       "      <td>0</td>\n",
       "      <td>0</td>\n",
       "      <td>0</td>\n",
       "      <td>0</td>\n",
       "      <td>0</td>\n",
       "      <td>0</td>\n",
       "      <td>0</td>\n",
       "    </tr>\n",
       "  </tbody>\n",
       "</table>\n",
       "<p>5 rows × 364 columns</p>\n",
       "</div>"
      ],
      "text/plain": [
       "   X0  X1  X2  X3  X4  X5  X6  X8  X10  X12  ...  X375  X376  X377  X378  \\\n",
       "0  32  23  17   0   3  24   9  14    0    0  ...     0     0     1     0   \n",
       "1  32  21  19   4   3  28  11  14    0    0  ...     1     0     0     0   \n",
       "2  20  24  34   2   3  27   9  23    0    0  ...     0     0     0     0   \n",
       "3  20  21  34   5   3  27  11   4    0    0  ...     0     0     0     0   \n",
       "4  20  23  34   5   3  12   3  13    0    0  ...     0     0     0     0   \n",
       "\n",
       "   X379  X380  X382  X383  X384  X385  \n",
       "0     0     0     0     0     0     0  \n",
       "1     0     0     0     0     0     0  \n",
       "2     0     0     1     0     0     0  \n",
       "3     0     0     0     0     0     0  \n",
       "4     0     0     0     0     0     0  \n",
       "\n",
       "[5 rows x 364 columns]"
      ]
     },
     "execution_count": 28,
     "metadata": {},
     "output_type": "execute_result"
    }
   ],
   "source": [
    "# verify the train_X dataset\n",
    "train_X_check.head()"
   ]
  },
  {
   "cell_type": "code",
   "execution_count": 29,
   "metadata": {
    "ExecuteTime": {
     "end_time": "2021-08-25T15:05:13.955104Z",
     "start_time": "2021-08-25T15:05:13.895104Z"
    }
   },
   "outputs": [
    {
     "data": {
      "text/plain": [
       "29"
      ]
     },
     "execution_count": 29,
     "metadata": {},
     "output_type": "execute_result"
    }
   ],
   "source": [
    "train_X_check.X5.nunique()"
   ]
  },
  {
   "cell_type": "markdown",
   "metadata": {},
   "source": [
    "* It is observed from the above table, that the label encoder is applied to categorial features of train_X_check data, the encoded labels are not binary (0 and 1) since the features has 4 or more different categories.\n",
    "* Example: X5 feature has 29(0 to 28) unique categories. So, when label encoder is applied, the categories will be replaced with 28 unique values starting from 0 to 28.\n",
    "* This may impact the accuracy level.\n",
    "* In order to fix this issue, we have to perform one hot encoding for multi-categorical variables, the  procedure is follows as\n",
    "    * Identify the top 10 most frequent categories from each feature. \n",
    "    * Perform one hot encoding only for the top 10 most frequent categories.\n",
    "    * All Top 10 most frequent categories will be considered as '1' and all the remaining categories will be considered as '0' in each feature.\n",
    "    * By performing above 3 steps ensures only binary values (0 and 1) in all the features"
   ]
  },
  {
   "cell_type": "code",
   "execution_count": 30,
   "metadata": {
    "ExecuteTime": {
     "end_time": "2021-08-25T15:05:14.035104Z",
     "start_time": "2021-08-25T15:05:13.955104Z"
    }
   },
   "outputs": [
    {
     "data": {
      "text/plain": [
       "z     360\n",
       "ak    349\n",
       "y     324\n",
       "ay    313\n",
       "t     306\n",
       "x     300\n",
       "o     269\n",
       "f     227\n",
       "n     195\n",
       "w     182\n",
       "Name: X0, dtype: int64"
      ]
     },
     "execution_count": 30,
     "metadata": {},
     "output_type": "execute_result"
    }
   ],
   "source": [
    "# Identify the top 10 most frequent categories of features X0,X1,X2,X3,X4,X5,X6,X8\n",
    "\n",
    "#X0\n",
    "train_original_modified.X0.value_counts().sort_values(ascending=False).head(10)"
   ]
  },
  {
   "cell_type": "code",
   "execution_count": 31,
   "metadata": {
    "ExecuteTime": {
     "end_time": "2021-08-25T15:05:14.075104Z",
     "start_time": "2021-08-25T15:05:14.035104Z"
    }
   },
   "outputs": [
    {
     "data": {
      "text/plain": [
       "['z', 'ak', 'y', 'ay', 't', 'x', 'o', 'f', 'n', 'w']"
      ]
     },
     "execution_count": 31,
     "metadata": {},
     "output_type": "execute_result"
    }
   ],
   "source": [
    "# create a list for the top 10 most frequent catergories of feature X0\n",
    "top_10_X0 = [x for x in train_original_modified.X0.value_counts().sort_values(ascending=False).head(10).index]\n",
    "top_10_X0"
   ]
  },
  {
   "cell_type": "code",
   "execution_count": 32,
   "metadata": {
    "ExecuteTime": {
     "end_time": "2021-08-25T15:05:14.125104Z",
     "start_time": "2021-08-25T15:05:14.075104Z"
    }
   },
   "outputs": [],
   "source": [
    "# Define a funtion to peform one hot encoding for the top 10 most frequent categories of features\n",
    "def one_hot_top10(df,feature,top10_categories):\n",
    "    for category in top10_categories:\n",
    "        df[feature+'_'+category]=np.where(train_original_modified[feature]==category,1,0)"
   ]
  },
  {
   "cell_type": "code",
   "execution_count": 33,
   "metadata": {
    "ExecuteTime": {
     "end_time": "2021-08-25T15:05:14.175104Z",
     "start_time": "2021-08-25T15:05:14.125104Z"
    }
   },
   "outputs": [],
   "source": [
    "# Call the function to perform one hot encoding on feature X0\n",
    "one_hot_top10(train_original_modified,'X0',top_10_X0)"
   ]
  },
  {
   "cell_type": "code",
   "execution_count": 34,
   "metadata": {
    "ExecuteTime": {
     "end_time": "2021-08-25T15:05:14.235104Z",
     "start_time": "2021-08-25T15:05:14.175104Z"
    }
   },
   "outputs": [
    {
     "data": {
      "text/html": [
       "<div>\n",
       "<style scoped>\n",
       "    .dataframe tbody tr th:only-of-type {\n",
       "        vertical-align: middle;\n",
       "    }\n",
       "\n",
       "    .dataframe tbody tr th {\n",
       "        vertical-align: top;\n",
       "    }\n",
       "\n",
       "    .dataframe thead th {\n",
       "        text-align: right;\n",
       "    }\n",
       "</style>\n",
       "<table border=\"1\" class=\"dataframe\">\n",
       "  <thead>\n",
       "    <tr style=\"text-align: right;\">\n",
       "      <th></th>\n",
       "      <th>ID</th>\n",
       "      <th>y</th>\n",
       "      <th>X0</th>\n",
       "      <th>X1</th>\n",
       "      <th>X2</th>\n",
       "      <th>X3</th>\n",
       "      <th>X4</th>\n",
       "      <th>X5</th>\n",
       "      <th>X6</th>\n",
       "      <th>X8</th>\n",
       "      <th>...</th>\n",
       "      <th>X0_z</th>\n",
       "      <th>X0_ak</th>\n",
       "      <th>X0_y</th>\n",
       "      <th>X0_ay</th>\n",
       "      <th>X0_t</th>\n",
       "      <th>X0_x</th>\n",
       "      <th>X0_o</th>\n",
       "      <th>X0_f</th>\n",
       "      <th>X0_n</th>\n",
       "      <th>X0_w</th>\n",
       "    </tr>\n",
       "  </thead>\n",
       "  <tbody>\n",
       "    <tr>\n",
       "      <th>0</th>\n",
       "      <td>0</td>\n",
       "      <td>130.81</td>\n",
       "      <td>k</td>\n",
       "      <td>v</td>\n",
       "      <td>at</td>\n",
       "      <td>a</td>\n",
       "      <td>d</td>\n",
       "      <td>u</td>\n",
       "      <td>j</td>\n",
       "      <td>o</td>\n",
       "      <td>...</td>\n",
       "      <td>0</td>\n",
       "      <td>0</td>\n",
       "      <td>0</td>\n",
       "      <td>0</td>\n",
       "      <td>0</td>\n",
       "      <td>0</td>\n",
       "      <td>0</td>\n",
       "      <td>0</td>\n",
       "      <td>0</td>\n",
       "      <td>0</td>\n",
       "    </tr>\n",
       "    <tr>\n",
       "      <th>1</th>\n",
       "      <td>6</td>\n",
       "      <td>88.53</td>\n",
       "      <td>k</td>\n",
       "      <td>t</td>\n",
       "      <td>av</td>\n",
       "      <td>e</td>\n",
       "      <td>d</td>\n",
       "      <td>y</td>\n",
       "      <td>l</td>\n",
       "      <td>o</td>\n",
       "      <td>...</td>\n",
       "      <td>0</td>\n",
       "      <td>0</td>\n",
       "      <td>0</td>\n",
       "      <td>0</td>\n",
       "      <td>0</td>\n",
       "      <td>0</td>\n",
       "      <td>0</td>\n",
       "      <td>0</td>\n",
       "      <td>0</td>\n",
       "      <td>0</td>\n",
       "    </tr>\n",
       "    <tr>\n",
       "      <th>2</th>\n",
       "      <td>7</td>\n",
       "      <td>76.26</td>\n",
       "      <td>az</td>\n",
       "      <td>w</td>\n",
       "      <td>n</td>\n",
       "      <td>c</td>\n",
       "      <td>d</td>\n",
       "      <td>x</td>\n",
       "      <td>j</td>\n",
       "      <td>x</td>\n",
       "      <td>...</td>\n",
       "      <td>0</td>\n",
       "      <td>0</td>\n",
       "      <td>0</td>\n",
       "      <td>0</td>\n",
       "      <td>0</td>\n",
       "      <td>0</td>\n",
       "      <td>0</td>\n",
       "      <td>0</td>\n",
       "      <td>0</td>\n",
       "      <td>0</td>\n",
       "    </tr>\n",
       "  </tbody>\n",
       "</table>\n",
       "<p>3 rows × 376 columns</p>\n",
       "</div>"
      ],
      "text/plain": [
       "   ID       y  X0 X1  X2 X3 X4 X5 X6 X8  ...  X0_z  X0_ak  X0_y  X0_ay  X0_t  \\\n",
       "0   0  130.81   k  v  at  a  d  u  j  o  ...     0      0     0      0     0   \n",
       "1   6   88.53   k  t  av  e  d  y  l  o  ...     0      0     0      0     0   \n",
       "2   7   76.26  az  w   n  c  d  x  j  x  ...     0      0     0      0     0   \n",
       "\n",
       "   X0_x  X0_o  X0_f  X0_n  X0_w  \n",
       "0     0     0     0     0     0  \n",
       "1     0     0     0     0     0  \n",
       "2     0     0     0     0     0  \n",
       "\n",
       "[3 rows x 376 columns]"
      ]
     },
     "execution_count": 34,
     "metadata": {},
     "output_type": "execute_result"
    }
   ],
   "source": [
    "# verify the train dataset after applying one hot encoding for the feature X0\n",
    "train_original_modified.head(3)"
   ]
  },
  {
   "cell_type": "code",
   "execution_count": 35,
   "metadata": {
    "ExecuteTime": {
     "end_time": "2021-08-25T15:05:14.265104Z",
     "start_time": "2021-08-25T15:05:14.235104Z"
    }
   },
   "outputs": [
    {
     "data": {
      "text/plain": [
       "array([0, 1])"
      ]
     },
     "execution_count": 35,
     "metadata": {},
     "output_type": "execute_result"
    }
   ],
   "source": [
    "# verify for one feature if it contains only binary value\n",
    "train_original_modified.X0_z.unique()"
   ]
  },
  {
   "cell_type": "markdown",
   "metadata": {},
   "source": [
    "* It is evident from the above table that, 10 new features are created with only binary values, for the top 10 most frequent categories of feature X0. \n",
    "* Hence the total columns/features are increased from 366 to 376.\n",
    "* Similarly perform one hot encoding for the top 10 frequent categories of remaining categorical features."
   ]
  },
  {
   "cell_type": "code",
   "execution_count": 36,
   "metadata": {
    "ExecuteTime": {
     "end_time": "2021-08-25T15:05:14.335105Z",
     "start_time": "2021-08-25T15:05:14.265104Z"
    }
   },
   "outputs": [
    {
     "data": {
      "text/html": [
       "<div>\n",
       "<style scoped>\n",
       "    .dataframe tbody tr th:only-of-type {\n",
       "        vertical-align: middle;\n",
       "    }\n",
       "\n",
       "    .dataframe tbody tr th {\n",
       "        vertical-align: top;\n",
       "    }\n",
       "\n",
       "    .dataframe thead th {\n",
       "        text-align: right;\n",
       "    }\n",
       "</style>\n",
       "<table border=\"1\" class=\"dataframe\">\n",
       "  <thead>\n",
       "    <tr style=\"text-align: right;\">\n",
       "      <th></th>\n",
       "      <th>ID</th>\n",
       "      <th>y</th>\n",
       "      <th>X0</th>\n",
       "      <th>X1</th>\n",
       "      <th>X2</th>\n",
       "      <th>X3</th>\n",
       "      <th>X4</th>\n",
       "      <th>X5</th>\n",
       "      <th>X6</th>\n",
       "      <th>X8</th>\n",
       "      <th>...</th>\n",
       "      <th>X1_aa</th>\n",
       "      <th>X1_s</th>\n",
       "      <th>X1_b</th>\n",
       "      <th>X1_l</th>\n",
       "      <th>X1_v</th>\n",
       "      <th>X1_r</th>\n",
       "      <th>X1_i</th>\n",
       "      <th>X1_a</th>\n",
       "      <th>X1_c</th>\n",
       "      <th>X1_o</th>\n",
       "    </tr>\n",
       "  </thead>\n",
       "  <tbody>\n",
       "    <tr>\n",
       "      <th>0</th>\n",
       "      <td>0</td>\n",
       "      <td>130.81</td>\n",
       "      <td>k</td>\n",
       "      <td>v</td>\n",
       "      <td>at</td>\n",
       "      <td>a</td>\n",
       "      <td>d</td>\n",
       "      <td>u</td>\n",
       "      <td>j</td>\n",
       "      <td>o</td>\n",
       "      <td>...</td>\n",
       "      <td>0</td>\n",
       "      <td>0</td>\n",
       "      <td>0</td>\n",
       "      <td>0</td>\n",
       "      <td>1</td>\n",
       "      <td>0</td>\n",
       "      <td>0</td>\n",
       "      <td>0</td>\n",
       "      <td>0</td>\n",
       "      <td>0</td>\n",
       "    </tr>\n",
       "    <tr>\n",
       "      <th>1</th>\n",
       "      <td>6</td>\n",
       "      <td>88.53</td>\n",
       "      <td>k</td>\n",
       "      <td>t</td>\n",
       "      <td>av</td>\n",
       "      <td>e</td>\n",
       "      <td>d</td>\n",
       "      <td>y</td>\n",
       "      <td>l</td>\n",
       "      <td>o</td>\n",
       "      <td>...</td>\n",
       "      <td>0</td>\n",
       "      <td>0</td>\n",
       "      <td>0</td>\n",
       "      <td>0</td>\n",
       "      <td>0</td>\n",
       "      <td>0</td>\n",
       "      <td>0</td>\n",
       "      <td>0</td>\n",
       "      <td>0</td>\n",
       "      <td>0</td>\n",
       "    </tr>\n",
       "  </tbody>\n",
       "</table>\n",
       "<p>2 rows × 386 columns</p>\n",
       "</div>"
      ],
      "text/plain": [
       "   ID       y X0 X1  X2 X3 X4 X5 X6 X8  ...  X1_aa  X1_s  X1_b  X1_l  X1_v  \\\n",
       "0   0  130.81  k  v  at  a  d  u  j  o  ...      0     0     0     0     1   \n",
       "1   6   88.53  k  t  av  e  d  y  l  o  ...      0     0     0     0     0   \n",
       "\n",
       "   X1_r  X1_i  X1_a  X1_c  X1_o  \n",
       "0     0     0     0     0     0  \n",
       "1     0     0     0     0     0  \n",
       "\n",
       "[2 rows x 386 columns]"
      ]
     },
     "execution_count": 36,
     "metadata": {},
     "output_type": "execute_result"
    }
   ],
   "source": [
    "# create a list for the top 10 most frequent categories of features X1, X2,X3,X4,X5,X6 and X8\n",
    "# Call the function to perform one hot encoding on features X1, X2,X3,X4,X5,X6 and X8 \n",
    "# verify the train dataset after applying one hot encoding for the features X1, X2,X3,X4,X5,X6 and X8 \n",
    "\n",
    "# X1 \n",
    "top_10_X1 = [x for x in train_original_modified.X1.value_counts().sort_values(ascending=False).head(10).index]\n",
    "one_hot_top10(train_original_modified,'X1',top_10_X1)\n",
    "train_original_modified.head(2)"
   ]
  },
  {
   "cell_type": "code",
   "execution_count": 37,
   "metadata": {
    "ExecuteTime": {
     "end_time": "2021-08-25T15:05:14.375105Z",
     "start_time": "2021-08-25T15:05:14.335105Z"
    }
   },
   "outputs": [
    {
     "data": {
      "text/html": [
       "<div>\n",
       "<style scoped>\n",
       "    .dataframe tbody tr th:only-of-type {\n",
       "        vertical-align: middle;\n",
       "    }\n",
       "\n",
       "    .dataframe tbody tr th {\n",
       "        vertical-align: top;\n",
       "    }\n",
       "\n",
       "    .dataframe thead th {\n",
       "        text-align: right;\n",
       "    }\n",
       "</style>\n",
       "<table border=\"1\" class=\"dataframe\">\n",
       "  <thead>\n",
       "    <tr style=\"text-align: right;\">\n",
       "      <th></th>\n",
       "      <th>ID</th>\n",
       "      <th>y</th>\n",
       "      <th>X0</th>\n",
       "      <th>X1</th>\n",
       "      <th>X2</th>\n",
       "      <th>X3</th>\n",
       "      <th>X4</th>\n",
       "      <th>X5</th>\n",
       "      <th>X6</th>\n",
       "      <th>X8</th>\n",
       "      <th>...</th>\n",
       "      <th>X2_as</th>\n",
       "      <th>X2_ae</th>\n",
       "      <th>X2_ai</th>\n",
       "      <th>X2_m</th>\n",
       "      <th>X2_ak</th>\n",
       "      <th>X2_r</th>\n",
       "      <th>X2_n</th>\n",
       "      <th>X2_s</th>\n",
       "      <th>X2_f</th>\n",
       "      <th>X2_e</th>\n",
       "    </tr>\n",
       "  </thead>\n",
       "  <tbody>\n",
       "    <tr>\n",
       "      <th>0</th>\n",
       "      <td>0</td>\n",
       "      <td>130.81</td>\n",
       "      <td>k</td>\n",
       "      <td>v</td>\n",
       "      <td>at</td>\n",
       "      <td>a</td>\n",
       "      <td>d</td>\n",
       "      <td>u</td>\n",
       "      <td>j</td>\n",
       "      <td>o</td>\n",
       "      <td>...</td>\n",
       "      <td>0</td>\n",
       "      <td>0</td>\n",
       "      <td>0</td>\n",
       "      <td>0</td>\n",
       "      <td>0</td>\n",
       "      <td>0</td>\n",
       "      <td>0</td>\n",
       "      <td>0</td>\n",
       "      <td>0</td>\n",
       "      <td>0</td>\n",
       "    </tr>\n",
       "    <tr>\n",
       "      <th>1</th>\n",
       "      <td>6</td>\n",
       "      <td>88.53</td>\n",
       "      <td>k</td>\n",
       "      <td>t</td>\n",
       "      <td>av</td>\n",
       "      <td>e</td>\n",
       "      <td>d</td>\n",
       "      <td>y</td>\n",
       "      <td>l</td>\n",
       "      <td>o</td>\n",
       "      <td>...</td>\n",
       "      <td>0</td>\n",
       "      <td>0</td>\n",
       "      <td>0</td>\n",
       "      <td>0</td>\n",
       "      <td>0</td>\n",
       "      <td>0</td>\n",
       "      <td>0</td>\n",
       "      <td>0</td>\n",
       "      <td>0</td>\n",
       "      <td>0</td>\n",
       "    </tr>\n",
       "  </tbody>\n",
       "</table>\n",
       "<p>2 rows × 396 columns</p>\n",
       "</div>"
      ],
      "text/plain": [
       "   ID       y X0 X1  X2 X3 X4 X5 X6 X8  ...  X2_as  X2_ae  X2_ai  X2_m  X2_ak  \\\n",
       "0   0  130.81  k  v  at  a  d  u  j  o  ...      0      0      0     0      0   \n",
       "1   6   88.53  k  t  av  e  d  y  l  o  ...      0      0      0     0      0   \n",
       "\n",
       "   X2_r  X2_n  X2_s  X2_f  X2_e  \n",
       "0     0     0     0     0     0  \n",
       "1     0     0     0     0     0  \n",
       "\n",
       "[2 rows x 396 columns]"
      ]
     },
     "execution_count": 37,
     "metadata": {},
     "output_type": "execute_result"
    }
   ],
   "source": [
    "# X2\n",
    "top_10_X2 = [x for x in train_original_modified.X2.value_counts().sort_values(ascending=False).head(10).index]\n",
    "one_hot_top10(train_original_modified,'X2',top_10_X2)\n",
    "train_original_modified.head(2)"
   ]
  },
  {
   "cell_type": "code",
   "execution_count": 38,
   "metadata": {
    "ExecuteTime": {
     "end_time": "2021-08-25T15:05:14.445105Z",
     "start_time": "2021-08-25T15:05:14.375105Z"
    }
   },
   "outputs": [
    {
     "data": {
      "text/html": [
       "<div>\n",
       "<style scoped>\n",
       "    .dataframe tbody tr th:only-of-type {\n",
       "        vertical-align: middle;\n",
       "    }\n",
       "\n",
       "    .dataframe tbody tr th {\n",
       "        vertical-align: top;\n",
       "    }\n",
       "\n",
       "    .dataframe thead th {\n",
       "        text-align: right;\n",
       "    }\n",
       "</style>\n",
       "<table border=\"1\" class=\"dataframe\">\n",
       "  <thead>\n",
       "    <tr style=\"text-align: right;\">\n",
       "      <th></th>\n",
       "      <th>ID</th>\n",
       "      <th>y</th>\n",
       "      <th>X0</th>\n",
       "      <th>X1</th>\n",
       "      <th>X2</th>\n",
       "      <th>X3</th>\n",
       "      <th>X4</th>\n",
       "      <th>X5</th>\n",
       "      <th>X6</th>\n",
       "      <th>X8</th>\n",
       "      <th>...</th>\n",
       "      <th>X2_s</th>\n",
       "      <th>X2_f</th>\n",
       "      <th>X2_e</th>\n",
       "      <th>X3_c</th>\n",
       "      <th>X3_f</th>\n",
       "      <th>X3_a</th>\n",
       "      <th>X3_d</th>\n",
       "      <th>X3_g</th>\n",
       "      <th>X3_e</th>\n",
       "      <th>X3_b</th>\n",
       "    </tr>\n",
       "  </thead>\n",
       "  <tbody>\n",
       "    <tr>\n",
       "      <th>0</th>\n",
       "      <td>0</td>\n",
       "      <td>130.81</td>\n",
       "      <td>k</td>\n",
       "      <td>v</td>\n",
       "      <td>at</td>\n",
       "      <td>a</td>\n",
       "      <td>d</td>\n",
       "      <td>u</td>\n",
       "      <td>j</td>\n",
       "      <td>o</td>\n",
       "      <td>...</td>\n",
       "      <td>0</td>\n",
       "      <td>0</td>\n",
       "      <td>0</td>\n",
       "      <td>0</td>\n",
       "      <td>0</td>\n",
       "      <td>1</td>\n",
       "      <td>0</td>\n",
       "      <td>0</td>\n",
       "      <td>0</td>\n",
       "      <td>0</td>\n",
       "    </tr>\n",
       "    <tr>\n",
       "      <th>1</th>\n",
       "      <td>6</td>\n",
       "      <td>88.53</td>\n",
       "      <td>k</td>\n",
       "      <td>t</td>\n",
       "      <td>av</td>\n",
       "      <td>e</td>\n",
       "      <td>d</td>\n",
       "      <td>y</td>\n",
       "      <td>l</td>\n",
       "      <td>o</td>\n",
       "      <td>...</td>\n",
       "      <td>0</td>\n",
       "      <td>0</td>\n",
       "      <td>0</td>\n",
       "      <td>0</td>\n",
       "      <td>0</td>\n",
       "      <td>0</td>\n",
       "      <td>0</td>\n",
       "      <td>0</td>\n",
       "      <td>1</td>\n",
       "      <td>0</td>\n",
       "    </tr>\n",
       "  </tbody>\n",
       "</table>\n",
       "<p>2 rows × 403 columns</p>\n",
       "</div>"
      ],
      "text/plain": [
       "   ID       y X0 X1  X2 X3 X4 X5 X6 X8  ...  X2_s  X2_f  X2_e  X3_c  X3_f  \\\n",
       "0   0  130.81  k  v  at  a  d  u  j  o  ...     0     0     0     0     0   \n",
       "1   6   88.53  k  t  av  e  d  y  l  o  ...     0     0     0     0     0   \n",
       "\n",
       "   X3_a  X3_d  X3_g  X3_e  X3_b  \n",
       "0     1     0     0     0     0  \n",
       "1     0     0     0     1     0  \n",
       "\n",
       "[2 rows x 403 columns]"
      ]
     },
     "execution_count": 38,
     "metadata": {},
     "output_type": "execute_result"
    }
   ],
   "source": [
    "# X3\n",
    "top_10_X3 = [x for x in train_original_modified.X3.value_counts().sort_values(ascending=False).head(10).index]\n",
    "one_hot_top10(train_original_modified,'X3',top_10_X3)\n",
    "train_original_modified.head(2)"
   ]
  },
  {
   "cell_type": "markdown",
   "metadata": {},
   "source": [
    "* In case X3, only 7 columns were added since there are only 7 unique categories in in this feature."
   ]
  },
  {
   "cell_type": "code",
   "execution_count": 39,
   "metadata": {
    "ExecuteTime": {
     "end_time": "2021-08-25T15:05:14.525105Z",
     "start_time": "2021-08-25T15:05:14.445105Z"
    }
   },
   "outputs": [
    {
     "data": {
      "text/html": [
       "<div>\n",
       "<style scoped>\n",
       "    .dataframe tbody tr th:only-of-type {\n",
       "        vertical-align: middle;\n",
       "    }\n",
       "\n",
       "    .dataframe tbody tr th {\n",
       "        vertical-align: top;\n",
       "    }\n",
       "\n",
       "    .dataframe thead th {\n",
       "        text-align: right;\n",
       "    }\n",
       "</style>\n",
       "<table border=\"1\" class=\"dataframe\">\n",
       "  <thead>\n",
       "    <tr style=\"text-align: right;\">\n",
       "      <th></th>\n",
       "      <th>ID</th>\n",
       "      <th>y</th>\n",
       "      <th>X0</th>\n",
       "      <th>X1</th>\n",
       "      <th>X2</th>\n",
       "      <th>X3</th>\n",
       "      <th>X4</th>\n",
       "      <th>X5</th>\n",
       "      <th>X6</th>\n",
       "      <th>X8</th>\n",
       "      <th>...</th>\n",
       "      <th>X3_f</th>\n",
       "      <th>X3_a</th>\n",
       "      <th>X3_d</th>\n",
       "      <th>X3_g</th>\n",
       "      <th>X3_e</th>\n",
       "      <th>X3_b</th>\n",
       "      <th>X4_d</th>\n",
       "      <th>X4_a</th>\n",
       "      <th>X4_b</th>\n",
       "      <th>X4_c</th>\n",
       "    </tr>\n",
       "  </thead>\n",
       "  <tbody>\n",
       "    <tr>\n",
       "      <th>0</th>\n",
       "      <td>0</td>\n",
       "      <td>130.81</td>\n",
       "      <td>k</td>\n",
       "      <td>v</td>\n",
       "      <td>at</td>\n",
       "      <td>a</td>\n",
       "      <td>d</td>\n",
       "      <td>u</td>\n",
       "      <td>j</td>\n",
       "      <td>o</td>\n",
       "      <td>...</td>\n",
       "      <td>0</td>\n",
       "      <td>1</td>\n",
       "      <td>0</td>\n",
       "      <td>0</td>\n",
       "      <td>0</td>\n",
       "      <td>0</td>\n",
       "      <td>1</td>\n",
       "      <td>0</td>\n",
       "      <td>0</td>\n",
       "      <td>0</td>\n",
       "    </tr>\n",
       "    <tr>\n",
       "      <th>1</th>\n",
       "      <td>6</td>\n",
       "      <td>88.53</td>\n",
       "      <td>k</td>\n",
       "      <td>t</td>\n",
       "      <td>av</td>\n",
       "      <td>e</td>\n",
       "      <td>d</td>\n",
       "      <td>y</td>\n",
       "      <td>l</td>\n",
       "      <td>o</td>\n",
       "      <td>...</td>\n",
       "      <td>0</td>\n",
       "      <td>0</td>\n",
       "      <td>0</td>\n",
       "      <td>0</td>\n",
       "      <td>1</td>\n",
       "      <td>0</td>\n",
       "      <td>1</td>\n",
       "      <td>0</td>\n",
       "      <td>0</td>\n",
       "      <td>0</td>\n",
       "    </tr>\n",
       "  </tbody>\n",
       "</table>\n",
       "<p>2 rows × 407 columns</p>\n",
       "</div>"
      ],
      "text/plain": [
       "   ID       y X0 X1  X2 X3 X4 X5 X6 X8  ...  X3_f  X3_a  X3_d  X3_g  X3_e  \\\n",
       "0   0  130.81  k  v  at  a  d  u  j  o  ...     0     1     0     0     0   \n",
       "1   6   88.53  k  t  av  e  d  y  l  o  ...     0     0     0     0     1   \n",
       "\n",
       "   X3_b  X4_d  X4_a  X4_b  X4_c  \n",
       "0     0     1     0     0     0  \n",
       "1     0     1     0     0     0  \n",
       "\n",
       "[2 rows x 407 columns]"
      ]
     },
     "execution_count": 39,
     "metadata": {},
     "output_type": "execute_result"
    }
   ],
   "source": [
    "# X4\n",
    "top_10_X4 = [x for x in train_original_modified.X4.value_counts().sort_values(ascending=False).head(10).index]\n",
    "one_hot_top10(train_original_modified,'X4',top_10_X4)\n",
    "train_original_modified.head(2)"
   ]
  },
  {
   "cell_type": "markdown",
   "metadata": {},
   "source": [
    "* In case X4, only 4 columns were added since there are only 4 unique categories in in this feature."
   ]
  },
  {
   "cell_type": "code",
   "execution_count": 40,
   "metadata": {
    "ExecuteTime": {
     "end_time": "2021-08-25T15:05:14.595105Z",
     "start_time": "2021-08-25T15:05:14.525105Z"
    }
   },
   "outputs": [
    {
     "data": {
      "text/html": [
       "<div>\n",
       "<style scoped>\n",
       "    .dataframe tbody tr th:only-of-type {\n",
       "        vertical-align: middle;\n",
       "    }\n",
       "\n",
       "    .dataframe tbody tr th {\n",
       "        vertical-align: top;\n",
       "    }\n",
       "\n",
       "    .dataframe thead th {\n",
       "        text-align: right;\n",
       "    }\n",
       "</style>\n",
       "<table border=\"1\" class=\"dataframe\">\n",
       "  <thead>\n",
       "    <tr style=\"text-align: right;\">\n",
       "      <th></th>\n",
       "      <th>ID</th>\n",
       "      <th>y</th>\n",
       "      <th>X0</th>\n",
       "      <th>X1</th>\n",
       "      <th>X2</th>\n",
       "      <th>X3</th>\n",
       "      <th>X4</th>\n",
       "      <th>X5</th>\n",
       "      <th>X6</th>\n",
       "      <th>X8</th>\n",
       "      <th>...</th>\n",
       "      <th>X5_v</th>\n",
       "      <th>X5_w</th>\n",
       "      <th>X5_q</th>\n",
       "      <th>X5_r</th>\n",
       "      <th>X5_s</th>\n",
       "      <th>X5_d</th>\n",
       "      <th>X5_n</th>\n",
       "      <th>X5_m</th>\n",
       "      <th>X5_p</th>\n",
       "      <th>X5_i</th>\n",
       "    </tr>\n",
       "  </thead>\n",
       "  <tbody>\n",
       "    <tr>\n",
       "      <th>0</th>\n",
       "      <td>0</td>\n",
       "      <td>130.81</td>\n",
       "      <td>k</td>\n",
       "      <td>v</td>\n",
       "      <td>at</td>\n",
       "      <td>a</td>\n",
       "      <td>d</td>\n",
       "      <td>u</td>\n",
       "      <td>j</td>\n",
       "      <td>o</td>\n",
       "      <td>...</td>\n",
       "      <td>0</td>\n",
       "      <td>0</td>\n",
       "      <td>0</td>\n",
       "      <td>0</td>\n",
       "      <td>0</td>\n",
       "      <td>0</td>\n",
       "      <td>0</td>\n",
       "      <td>0</td>\n",
       "      <td>0</td>\n",
       "      <td>0</td>\n",
       "    </tr>\n",
       "    <tr>\n",
       "      <th>1</th>\n",
       "      <td>6</td>\n",
       "      <td>88.53</td>\n",
       "      <td>k</td>\n",
       "      <td>t</td>\n",
       "      <td>av</td>\n",
       "      <td>e</td>\n",
       "      <td>d</td>\n",
       "      <td>y</td>\n",
       "      <td>l</td>\n",
       "      <td>o</td>\n",
       "      <td>...</td>\n",
       "      <td>0</td>\n",
       "      <td>0</td>\n",
       "      <td>0</td>\n",
       "      <td>0</td>\n",
       "      <td>0</td>\n",
       "      <td>0</td>\n",
       "      <td>0</td>\n",
       "      <td>0</td>\n",
       "      <td>0</td>\n",
       "      <td>0</td>\n",
       "    </tr>\n",
       "  </tbody>\n",
       "</table>\n",
       "<p>2 rows × 417 columns</p>\n",
       "</div>"
      ],
      "text/plain": [
       "   ID       y X0 X1  X2 X3 X4 X5 X6 X8  ...  X5_v  X5_w  X5_q  X5_r  X5_s  \\\n",
       "0   0  130.81  k  v  at  a  d  u  j  o  ...     0     0     0     0     0   \n",
       "1   6   88.53  k  t  av  e  d  y  l  o  ...     0     0     0     0     0   \n",
       "\n",
       "   X5_d  X5_n  X5_m  X5_p  X5_i  \n",
       "0     0     0     0     0     0  \n",
       "1     0     0     0     0     0  \n",
       "\n",
       "[2 rows x 417 columns]"
      ]
     },
     "execution_count": 40,
     "metadata": {},
     "output_type": "execute_result"
    }
   ],
   "source": [
    "# X5\n",
    "top_10_X5 = [x for x in train_original_modified.X5.value_counts().sort_values(ascending=False).head(10).index]\n",
    "one_hot_top10(train_original_modified,'X5',top_10_X5)\n",
    "train_original_modified.head(2)"
   ]
  },
  {
   "cell_type": "code",
   "execution_count": 41,
   "metadata": {
    "ExecuteTime": {
     "end_time": "2021-08-25T15:05:14.665105Z",
     "start_time": "2021-08-25T15:05:14.595105Z"
    }
   },
   "outputs": [
    {
     "data": {
      "text/html": [
       "<div>\n",
       "<style scoped>\n",
       "    .dataframe tbody tr th:only-of-type {\n",
       "        vertical-align: middle;\n",
       "    }\n",
       "\n",
       "    .dataframe tbody tr th {\n",
       "        vertical-align: top;\n",
       "    }\n",
       "\n",
       "    .dataframe thead th {\n",
       "        text-align: right;\n",
       "    }\n",
       "</style>\n",
       "<table border=\"1\" class=\"dataframe\">\n",
       "  <thead>\n",
       "    <tr style=\"text-align: right;\">\n",
       "      <th></th>\n",
       "      <th>ID</th>\n",
       "      <th>y</th>\n",
       "      <th>X0</th>\n",
       "      <th>X1</th>\n",
       "      <th>X2</th>\n",
       "      <th>X3</th>\n",
       "      <th>X4</th>\n",
       "      <th>X5</th>\n",
       "      <th>X6</th>\n",
       "      <th>X8</th>\n",
       "      <th>...</th>\n",
       "      <th>X6_g</th>\n",
       "      <th>X6_j</th>\n",
       "      <th>X6_d</th>\n",
       "      <th>X6_i</th>\n",
       "      <th>X6_l</th>\n",
       "      <th>X6_a</th>\n",
       "      <th>X6_h</th>\n",
       "      <th>X6_k</th>\n",
       "      <th>X6_c</th>\n",
       "      <th>X6_b</th>\n",
       "    </tr>\n",
       "  </thead>\n",
       "  <tbody>\n",
       "    <tr>\n",
       "      <th>0</th>\n",
       "      <td>0</td>\n",
       "      <td>130.81</td>\n",
       "      <td>k</td>\n",
       "      <td>v</td>\n",
       "      <td>at</td>\n",
       "      <td>a</td>\n",
       "      <td>d</td>\n",
       "      <td>u</td>\n",
       "      <td>j</td>\n",
       "      <td>o</td>\n",
       "      <td>...</td>\n",
       "      <td>0</td>\n",
       "      <td>1</td>\n",
       "      <td>0</td>\n",
       "      <td>0</td>\n",
       "      <td>0</td>\n",
       "      <td>0</td>\n",
       "      <td>0</td>\n",
       "      <td>0</td>\n",
       "      <td>0</td>\n",
       "      <td>0</td>\n",
       "    </tr>\n",
       "    <tr>\n",
       "      <th>1</th>\n",
       "      <td>6</td>\n",
       "      <td>88.53</td>\n",
       "      <td>k</td>\n",
       "      <td>t</td>\n",
       "      <td>av</td>\n",
       "      <td>e</td>\n",
       "      <td>d</td>\n",
       "      <td>y</td>\n",
       "      <td>l</td>\n",
       "      <td>o</td>\n",
       "      <td>...</td>\n",
       "      <td>0</td>\n",
       "      <td>0</td>\n",
       "      <td>0</td>\n",
       "      <td>0</td>\n",
       "      <td>1</td>\n",
       "      <td>0</td>\n",
       "      <td>0</td>\n",
       "      <td>0</td>\n",
       "      <td>0</td>\n",
       "      <td>0</td>\n",
       "    </tr>\n",
       "  </tbody>\n",
       "</table>\n",
       "<p>2 rows × 427 columns</p>\n",
       "</div>"
      ],
      "text/plain": [
       "   ID       y X0 X1  X2 X3 X4 X5 X6 X8  ...  X6_g  X6_j  X6_d  X6_i  X6_l  \\\n",
       "0   0  130.81  k  v  at  a  d  u  j  o  ...     0     1     0     0     0   \n",
       "1   6   88.53  k  t  av  e  d  y  l  o  ...     0     0     0     0     1   \n",
       "\n",
       "   X6_a  X6_h  X6_k  X6_c  X6_b  \n",
       "0     0     0     0     0     0  \n",
       "1     0     0     0     0     0  \n",
       "\n",
       "[2 rows x 427 columns]"
      ]
     },
     "execution_count": 41,
     "metadata": {},
     "output_type": "execute_result"
    }
   ],
   "source": [
    "# X6\n",
    "top_10_X6 = [x for x in train_original_modified.X6.value_counts().sort_values(ascending=False).head(10).index]\n",
    "one_hot_top10(train_original_modified,'X6',top_10_X6)\n",
    "train_original_modified.head(2)"
   ]
  },
  {
   "cell_type": "code",
   "execution_count": 42,
   "metadata": {
    "ExecuteTime": {
     "end_time": "2021-08-25T15:05:14.795105Z",
     "start_time": "2021-08-25T15:05:14.665105Z"
    }
   },
   "outputs": [
    {
     "data": {
      "text/html": [
       "<div>\n",
       "<style scoped>\n",
       "    .dataframe tbody tr th:only-of-type {\n",
       "        vertical-align: middle;\n",
       "    }\n",
       "\n",
       "    .dataframe tbody tr th {\n",
       "        vertical-align: top;\n",
       "    }\n",
       "\n",
       "    .dataframe thead th {\n",
       "        text-align: right;\n",
       "    }\n",
       "</style>\n",
       "<table border=\"1\" class=\"dataframe\">\n",
       "  <thead>\n",
       "    <tr style=\"text-align: right;\">\n",
       "      <th></th>\n",
       "      <th>ID</th>\n",
       "      <th>y</th>\n",
       "      <th>X0</th>\n",
       "      <th>X1</th>\n",
       "      <th>X2</th>\n",
       "      <th>X3</th>\n",
       "      <th>X4</th>\n",
       "      <th>X5</th>\n",
       "      <th>X6</th>\n",
       "      <th>X8</th>\n",
       "      <th>...</th>\n",
       "      <th>X8_j</th>\n",
       "      <th>X8_s</th>\n",
       "      <th>X8_f</th>\n",
       "      <th>X8_n</th>\n",
       "      <th>X8_i</th>\n",
       "      <th>X8_e</th>\n",
       "      <th>X8_r</th>\n",
       "      <th>X8_a</th>\n",
       "      <th>X8_w</th>\n",
       "      <th>X8_v</th>\n",
       "    </tr>\n",
       "  </thead>\n",
       "  <tbody>\n",
       "    <tr>\n",
       "      <th>0</th>\n",
       "      <td>0</td>\n",
       "      <td>130.81</td>\n",
       "      <td>k</td>\n",
       "      <td>v</td>\n",
       "      <td>at</td>\n",
       "      <td>a</td>\n",
       "      <td>d</td>\n",
       "      <td>u</td>\n",
       "      <td>j</td>\n",
       "      <td>o</td>\n",
       "      <td>...</td>\n",
       "      <td>0</td>\n",
       "      <td>0</td>\n",
       "      <td>0</td>\n",
       "      <td>0</td>\n",
       "      <td>0</td>\n",
       "      <td>0</td>\n",
       "      <td>0</td>\n",
       "      <td>0</td>\n",
       "      <td>0</td>\n",
       "      <td>0</td>\n",
       "    </tr>\n",
       "    <tr>\n",
       "      <th>1</th>\n",
       "      <td>6</td>\n",
       "      <td>88.53</td>\n",
       "      <td>k</td>\n",
       "      <td>t</td>\n",
       "      <td>av</td>\n",
       "      <td>e</td>\n",
       "      <td>d</td>\n",
       "      <td>y</td>\n",
       "      <td>l</td>\n",
       "      <td>o</td>\n",
       "      <td>...</td>\n",
       "      <td>0</td>\n",
       "      <td>0</td>\n",
       "      <td>0</td>\n",
       "      <td>0</td>\n",
       "      <td>0</td>\n",
       "      <td>0</td>\n",
       "      <td>0</td>\n",
       "      <td>0</td>\n",
       "      <td>0</td>\n",
       "      <td>0</td>\n",
       "    </tr>\n",
       "  </tbody>\n",
       "</table>\n",
       "<p>2 rows × 437 columns</p>\n",
       "</div>"
      ],
      "text/plain": [
       "   ID       y X0 X1  X2 X3 X4 X5 X6 X8  ...  X8_j  X8_s  X8_f  X8_n  X8_i  \\\n",
       "0   0  130.81  k  v  at  a  d  u  j  o  ...     0     0     0     0     0   \n",
       "1   6   88.53  k  t  av  e  d  y  l  o  ...     0     0     0     0     0   \n",
       "\n",
       "   X8_e  X8_r  X8_a  X8_w  X8_v  \n",
       "0     0     0     0     0     0  \n",
       "1     0     0     0     0     0  \n",
       "\n",
       "[2 rows x 437 columns]"
      ]
     },
     "execution_count": 42,
     "metadata": {},
     "output_type": "execute_result"
    }
   ],
   "source": [
    "# X8\n",
    "top_10_X8 = [x for x in train_original_modified.X8.value_counts().sort_values(ascending=False).head(10).index]\n",
    "one_hot_top10(train_original_modified,'X8',top_10_X8)\n",
    "train_original_modified.head(2)"
   ]
  },
  {
   "cell_type": "markdown",
   "metadata": {},
   "source": [
    "* label encoder/one hot encoding is successfully applied to the train dataset"
   ]
  },
  {
   "cell_type": "code",
   "execution_count": 43,
   "metadata": {
    "ExecuteTime": {
     "end_time": "2021-08-25T15:05:14.915105Z",
     "start_time": "2021-08-25T15:05:14.795105Z"
    }
   },
   "outputs": [
    {
     "data": {
      "text/html": [
       "<div>\n",
       "<style scoped>\n",
       "    .dataframe tbody tr th:only-of-type {\n",
       "        vertical-align: middle;\n",
       "    }\n",
       "\n",
       "    .dataframe tbody tr th {\n",
       "        vertical-align: top;\n",
       "    }\n",
       "\n",
       "    .dataframe thead th {\n",
       "        text-align: right;\n",
       "    }\n",
       "</style>\n",
       "<table border=\"1\" class=\"dataframe\">\n",
       "  <thead>\n",
       "    <tr style=\"text-align: right;\">\n",
       "      <th></th>\n",
       "      <th>ID</th>\n",
       "      <th>y</th>\n",
       "      <th>X10</th>\n",
       "      <th>X12</th>\n",
       "      <th>X13</th>\n",
       "      <th>X14</th>\n",
       "      <th>X15</th>\n",
       "      <th>X16</th>\n",
       "      <th>X17</th>\n",
       "      <th>X18</th>\n",
       "      <th>...</th>\n",
       "      <th>X8_j</th>\n",
       "      <th>X8_s</th>\n",
       "      <th>X8_f</th>\n",
       "      <th>X8_n</th>\n",
       "      <th>X8_i</th>\n",
       "      <th>X8_e</th>\n",
       "      <th>X8_r</th>\n",
       "      <th>X8_a</th>\n",
       "      <th>X8_w</th>\n",
       "      <th>X8_v</th>\n",
       "    </tr>\n",
       "  </thead>\n",
       "  <tbody>\n",
       "    <tr>\n",
       "      <th>0</th>\n",
       "      <td>0</td>\n",
       "      <td>130.81</td>\n",
       "      <td>0</td>\n",
       "      <td>0</td>\n",
       "      <td>1</td>\n",
       "      <td>0</td>\n",
       "      <td>0</td>\n",
       "      <td>0</td>\n",
       "      <td>0</td>\n",
       "      <td>1</td>\n",
       "      <td>...</td>\n",
       "      <td>0</td>\n",
       "      <td>0</td>\n",
       "      <td>0</td>\n",
       "      <td>0</td>\n",
       "      <td>0</td>\n",
       "      <td>0</td>\n",
       "      <td>0</td>\n",
       "      <td>0</td>\n",
       "      <td>0</td>\n",
       "      <td>0</td>\n",
       "    </tr>\n",
       "    <tr>\n",
       "      <th>1</th>\n",
       "      <td>6</td>\n",
       "      <td>88.53</td>\n",
       "      <td>0</td>\n",
       "      <td>0</td>\n",
       "      <td>0</td>\n",
       "      <td>0</td>\n",
       "      <td>0</td>\n",
       "      <td>0</td>\n",
       "      <td>0</td>\n",
       "      <td>1</td>\n",
       "      <td>...</td>\n",
       "      <td>0</td>\n",
       "      <td>0</td>\n",
       "      <td>0</td>\n",
       "      <td>0</td>\n",
       "      <td>0</td>\n",
       "      <td>0</td>\n",
       "      <td>0</td>\n",
       "      <td>0</td>\n",
       "      <td>0</td>\n",
       "      <td>0</td>\n",
       "    </tr>\n",
       "    <tr>\n",
       "      <th>2</th>\n",
       "      <td>7</td>\n",
       "      <td>76.26</td>\n",
       "      <td>0</td>\n",
       "      <td>0</td>\n",
       "      <td>0</td>\n",
       "      <td>0</td>\n",
       "      <td>0</td>\n",
       "      <td>0</td>\n",
       "      <td>1</td>\n",
       "      <td>0</td>\n",
       "      <td>...</td>\n",
       "      <td>0</td>\n",
       "      <td>0</td>\n",
       "      <td>0</td>\n",
       "      <td>0</td>\n",
       "      <td>0</td>\n",
       "      <td>0</td>\n",
       "      <td>0</td>\n",
       "      <td>0</td>\n",
       "      <td>0</td>\n",
       "      <td>0</td>\n",
       "    </tr>\n",
       "    <tr>\n",
       "      <th>3</th>\n",
       "      <td>9</td>\n",
       "      <td>80.62</td>\n",
       "      <td>0</td>\n",
       "      <td>0</td>\n",
       "      <td>0</td>\n",
       "      <td>0</td>\n",
       "      <td>0</td>\n",
       "      <td>0</td>\n",
       "      <td>0</td>\n",
       "      <td>0</td>\n",
       "      <td>...</td>\n",
       "      <td>0</td>\n",
       "      <td>0</td>\n",
       "      <td>0</td>\n",
       "      <td>0</td>\n",
       "      <td>0</td>\n",
       "      <td>1</td>\n",
       "      <td>0</td>\n",
       "      <td>0</td>\n",
       "      <td>0</td>\n",
       "      <td>0</td>\n",
       "    </tr>\n",
       "    <tr>\n",
       "      <th>4</th>\n",
       "      <td>13</td>\n",
       "      <td>78.02</td>\n",
       "      <td>0</td>\n",
       "      <td>0</td>\n",
       "      <td>0</td>\n",
       "      <td>0</td>\n",
       "      <td>0</td>\n",
       "      <td>0</td>\n",
       "      <td>0</td>\n",
       "      <td>0</td>\n",
       "      <td>...</td>\n",
       "      <td>0</td>\n",
       "      <td>0</td>\n",
       "      <td>0</td>\n",
       "      <td>1</td>\n",
       "      <td>0</td>\n",
       "      <td>0</td>\n",
       "      <td>0</td>\n",
       "      <td>0</td>\n",
       "      <td>0</td>\n",
       "      <td>0</td>\n",
       "    </tr>\n",
       "  </tbody>\n",
       "</table>\n",
       "<p>5 rows × 429 columns</p>\n",
       "</div>"
      ],
      "text/plain": [
       "   ID       y  X10  X12  X13  X14  X15  X16  X17  X18  ...  X8_j  X8_s  X8_f  \\\n",
       "0   0  130.81    0    0    1    0    0    0    0    1  ...     0     0     0   \n",
       "1   6   88.53    0    0    0    0    0    0    0    1  ...     0     0     0   \n",
       "2   7   76.26    0    0    0    0    0    0    1    0  ...     0     0     0   \n",
       "3   9   80.62    0    0    0    0    0    0    0    0  ...     0     0     0   \n",
       "4  13   78.02    0    0    0    0    0    0    0    0  ...     0     0     0   \n",
       "\n",
       "   X8_n  X8_i  X8_e  X8_r  X8_a  X8_w  X8_v  \n",
       "0     0     0     0     0     0     0     0  \n",
       "1     0     0     0     0     0     0     0  \n",
       "2     0     0     0     0     0     0     0  \n",
       "3     0     0     1     0     0     0     0  \n",
       "4     1     0     0     0     0     0     0  \n",
       "\n",
       "[5 rows x 429 columns]"
      ]
     },
     "execution_count": 43,
     "metadata": {},
     "output_type": "execute_result"
    }
   ],
   "source": [
    "# Store the data set in train_original_modified to new object train_original_modified_OHE\n",
    "# drop the columns which are not required after performing one hot encoding\n",
    "train_original_modified_OHE = train_original_modified.drop(columns=['X0','X1','X2','X3','X4','X5','X6','X8'])\n",
    "# One hot encoded(OHE) data\n",
    "train_original_modified_OHE.head()"
   ]
  },
  {
   "cell_type": "code",
   "execution_count": 44,
   "metadata": {
    "ExecuteTime": {
     "end_time": "2021-08-25T15:05:15.345106Z",
     "start_time": "2021-08-25T15:05:14.915105Z"
    }
   },
   "outputs": [],
   "source": [
    "# Save the modified one hot encoded train dataset\n",
    "train_original_modified_OHE.to_csv('train_original_modified_OHE.csv',index=False)"
   ]
  },
  {
   "cell_type": "code",
   "execution_count": 45,
   "metadata": {
    "ExecuteTime": {
     "end_time": "2021-08-25T15:05:15.355106Z",
     "start_time": "2021-08-25T15:05:15.345106Z"
    }
   },
   "outputs": [
    {
     "data": {
      "text/plain": [
       "(4209, 429)"
      ]
     },
     "execution_count": 45,
     "metadata": {},
     "output_type": "execute_result"
    }
   ],
   "source": [
    "# Check the shape of the modified one hot encoded train dataset\n",
    "train_original_modified_OHE.shape"
   ]
  },
  {
   "cell_type": "markdown",
   "metadata": {},
   "source": [
    "* The shape of the train dataset is reduced to 429 from 437 since 8 multi-categorical features (X0,X1,X2,X3,X4,X5,X6 and X8) were dropped after performing one hot encoding."
   ]
  },
  {
   "cell_type": "markdown",
   "metadata": {},
   "source": [
    "## Apply the label encoder/one hot encoding for the test dataset similar to the train dataset"
   ]
  },
  {
   "cell_type": "code",
   "execution_count": 46,
   "metadata": {
    "ExecuteTime": {
     "end_time": "2021-08-25T15:05:15.435106Z",
     "start_time": "2021-08-25T15:05:15.355106Z"
    }
   },
   "outputs": [
    {
     "data": {
      "text/html": [
       "<div>\n",
       "<style scoped>\n",
       "    .dataframe tbody tr th:only-of-type {\n",
       "        vertical-align: middle;\n",
       "    }\n",
       "\n",
       "    .dataframe tbody tr th {\n",
       "        vertical-align: top;\n",
       "    }\n",
       "\n",
       "    .dataframe thead th {\n",
       "        text-align: right;\n",
       "    }\n",
       "</style>\n",
       "<table border=\"1\" class=\"dataframe\">\n",
       "  <thead>\n",
       "    <tr style=\"text-align: right;\">\n",
       "      <th></th>\n",
       "      <th>ID</th>\n",
       "      <th>X0</th>\n",
       "      <th>X1</th>\n",
       "      <th>X2</th>\n",
       "      <th>X3</th>\n",
       "      <th>X4</th>\n",
       "      <th>X5</th>\n",
       "      <th>X6</th>\n",
       "      <th>X8</th>\n",
       "      <th>X10</th>\n",
       "      <th>...</th>\n",
       "      <th>X0_ak</th>\n",
       "      <th>X0_y</th>\n",
       "      <th>X0_z</th>\n",
       "      <th>X0_x</th>\n",
       "      <th>X0_ay</th>\n",
       "      <th>X0_t</th>\n",
       "      <th>X0_o</th>\n",
       "      <th>X0_f</th>\n",
       "      <th>X0_w</th>\n",
       "      <th>X0_j</th>\n",
       "    </tr>\n",
       "  </thead>\n",
       "  <tbody>\n",
       "    <tr>\n",
       "      <th>0</th>\n",
       "      <td>1</td>\n",
       "      <td>az</td>\n",
       "      <td>v</td>\n",
       "      <td>n</td>\n",
       "      <td>f</td>\n",
       "      <td>d</td>\n",
       "      <td>t</td>\n",
       "      <td>a</td>\n",
       "      <td>w</td>\n",
       "      <td>0</td>\n",
       "      <td>...</td>\n",
       "      <td>0</td>\n",
       "      <td>0</td>\n",
       "      <td>0</td>\n",
       "      <td>0</td>\n",
       "      <td>0</td>\n",
       "      <td>0</td>\n",
       "      <td>0</td>\n",
       "      <td>0</td>\n",
       "      <td>0</td>\n",
       "      <td>0</td>\n",
       "    </tr>\n",
       "    <tr>\n",
       "      <th>1</th>\n",
       "      <td>2</td>\n",
       "      <td>t</td>\n",
       "      <td>b</td>\n",
       "      <td>ai</td>\n",
       "      <td>a</td>\n",
       "      <td>d</td>\n",
       "      <td>b</td>\n",
       "      <td>g</td>\n",
       "      <td>y</td>\n",
       "      <td>0</td>\n",
       "      <td>...</td>\n",
       "      <td>0</td>\n",
       "      <td>0</td>\n",
       "      <td>0</td>\n",
       "      <td>0</td>\n",
       "      <td>0</td>\n",
       "      <td>0</td>\n",
       "      <td>0</td>\n",
       "      <td>0</td>\n",
       "      <td>0</td>\n",
       "      <td>0</td>\n",
       "    </tr>\n",
       "  </tbody>\n",
       "</table>\n",
       "<p>2 rows × 375 columns</p>\n",
       "</div>"
      ],
      "text/plain": [
       "   ID  X0 X1  X2 X3 X4 X5 X6 X8  X10  ...  X0_ak  X0_y  X0_z  X0_x  X0_ay  \\\n",
       "0   1  az  v   n  f  d  t  a  w    0  ...      0     0     0     0      0   \n",
       "1   2   t  b  ai  a  d  b  g  y    0  ...      0     0     0     0      0   \n",
       "\n",
       "   X0_t  X0_o  X0_f  X0_w  X0_j  \n",
       "0     0     0     0     0     0  \n",
       "1     0     0     0     0     0  \n",
       "\n",
       "[2 rows x 375 columns]"
      ]
     },
     "execution_count": 46,
     "metadata": {},
     "output_type": "execute_result"
    }
   ],
   "source": [
    "# create a list for the top 10 most frequent catergories of features X0, X1, X2,X3,X4,X5,X6 and X8\n",
    "# Call the function to perform one hot encoding on features X0,X1,X2,X3,X4,X5,X6 and X8 \n",
    "# verify the train dataset after applying one hot encoding for the features X0,X1,X2,X3,X4,X5,X6 and X8 \n",
    "\n",
    "# X0\n",
    "top_10_test_X0 = [x for x in test_original_modified.X0.value_counts().sort_values(ascending=False).head(10).index]\n",
    "one_hot_top10(test_original_modified,'X0',top_10_test_X0)\n",
    "test_original_modified.head(2)"
   ]
  },
  {
   "cell_type": "code",
   "execution_count": 47,
   "metadata": {
    "ExecuteTime": {
     "end_time": "2021-08-25T15:05:15.495106Z",
     "start_time": "2021-08-25T15:05:15.435106Z"
    }
   },
   "outputs": [
    {
     "data": {
      "text/html": [
       "<div>\n",
       "<style scoped>\n",
       "    .dataframe tbody tr th:only-of-type {\n",
       "        vertical-align: middle;\n",
       "    }\n",
       "\n",
       "    .dataframe tbody tr th {\n",
       "        vertical-align: top;\n",
       "    }\n",
       "\n",
       "    .dataframe thead th {\n",
       "        text-align: right;\n",
       "    }\n",
       "</style>\n",
       "<table border=\"1\" class=\"dataframe\">\n",
       "  <thead>\n",
       "    <tr style=\"text-align: right;\">\n",
       "      <th></th>\n",
       "      <th>ID</th>\n",
       "      <th>X0</th>\n",
       "      <th>X1</th>\n",
       "      <th>X2</th>\n",
       "      <th>X3</th>\n",
       "      <th>X4</th>\n",
       "      <th>X5</th>\n",
       "      <th>X6</th>\n",
       "      <th>X8</th>\n",
       "      <th>X10</th>\n",
       "      <th>...</th>\n",
       "      <th>X1_aa</th>\n",
       "      <th>X1_s</th>\n",
       "      <th>X1_l</th>\n",
       "      <th>X1_b</th>\n",
       "      <th>X1_v</th>\n",
       "      <th>X1_r</th>\n",
       "      <th>X1_i</th>\n",
       "      <th>X1_a</th>\n",
       "      <th>X1_c</th>\n",
       "      <th>X1_o</th>\n",
       "    </tr>\n",
       "  </thead>\n",
       "  <tbody>\n",
       "    <tr>\n",
       "      <th>0</th>\n",
       "      <td>1</td>\n",
       "      <td>az</td>\n",
       "      <td>v</td>\n",
       "      <td>n</td>\n",
       "      <td>f</td>\n",
       "      <td>d</td>\n",
       "      <td>t</td>\n",
       "      <td>a</td>\n",
       "      <td>w</td>\n",
       "      <td>0</td>\n",
       "      <td>...</td>\n",
       "      <td>0</td>\n",
       "      <td>0</td>\n",
       "      <td>0</td>\n",
       "      <td>0</td>\n",
       "      <td>1</td>\n",
       "      <td>0</td>\n",
       "      <td>0</td>\n",
       "      <td>0</td>\n",
       "      <td>0</td>\n",
       "      <td>0</td>\n",
       "    </tr>\n",
       "    <tr>\n",
       "      <th>1</th>\n",
       "      <td>2</td>\n",
       "      <td>t</td>\n",
       "      <td>b</td>\n",
       "      <td>ai</td>\n",
       "      <td>a</td>\n",
       "      <td>d</td>\n",
       "      <td>b</td>\n",
       "      <td>g</td>\n",
       "      <td>y</td>\n",
       "      <td>0</td>\n",
       "      <td>...</td>\n",
       "      <td>0</td>\n",
       "      <td>0</td>\n",
       "      <td>0</td>\n",
       "      <td>0</td>\n",
       "      <td>0</td>\n",
       "      <td>0</td>\n",
       "      <td>0</td>\n",
       "      <td>0</td>\n",
       "      <td>0</td>\n",
       "      <td>0</td>\n",
       "    </tr>\n",
       "  </tbody>\n",
       "</table>\n",
       "<p>2 rows × 385 columns</p>\n",
       "</div>"
      ],
      "text/plain": [
       "   ID  X0 X1  X2 X3 X4 X5 X6 X8  X10  ...  X1_aa  X1_s  X1_l  X1_b  X1_v  \\\n",
       "0   1  az  v   n  f  d  t  a  w    0  ...      0     0     0     0     1   \n",
       "1   2   t  b  ai  a  d  b  g  y    0  ...      0     0     0     0     0   \n",
       "\n",
       "   X1_r  X1_i  X1_a  X1_c  X1_o  \n",
       "0     0     0     0     0     0  \n",
       "1     0     0     0     0     0  \n",
       "\n",
       "[2 rows x 385 columns]"
      ]
     },
     "execution_count": 47,
     "metadata": {},
     "output_type": "execute_result"
    }
   ],
   "source": [
    "# X1\n",
    "top_10_test_X1 = [x for x in test_original_modified.X1.value_counts().sort_values(ascending=False).head(10).index]\n",
    "one_hot_top10(test_original_modified,'X1',top_10_test_X1)\n",
    "test_original_modified.head(2)"
   ]
  },
  {
   "cell_type": "code",
   "execution_count": 48,
   "metadata": {
    "ExecuteTime": {
     "end_time": "2021-08-25T15:05:15.575106Z",
     "start_time": "2021-08-25T15:05:15.495106Z"
    }
   },
   "outputs": [
    {
     "data": {
      "text/html": [
       "<div>\n",
       "<style scoped>\n",
       "    .dataframe tbody tr th:only-of-type {\n",
       "        vertical-align: middle;\n",
       "    }\n",
       "\n",
       "    .dataframe tbody tr th {\n",
       "        vertical-align: top;\n",
       "    }\n",
       "\n",
       "    .dataframe thead th {\n",
       "        text-align: right;\n",
       "    }\n",
       "</style>\n",
       "<table border=\"1\" class=\"dataframe\">\n",
       "  <thead>\n",
       "    <tr style=\"text-align: right;\">\n",
       "      <th></th>\n",
       "      <th>ID</th>\n",
       "      <th>X0</th>\n",
       "      <th>X1</th>\n",
       "      <th>X2</th>\n",
       "      <th>X3</th>\n",
       "      <th>X4</th>\n",
       "      <th>X5</th>\n",
       "      <th>X6</th>\n",
       "      <th>X8</th>\n",
       "      <th>X10</th>\n",
       "      <th>...</th>\n",
       "      <th>X2_as</th>\n",
       "      <th>X2_ae</th>\n",
       "      <th>X2_ai</th>\n",
       "      <th>X2_m</th>\n",
       "      <th>X2_ak</th>\n",
       "      <th>X2_r</th>\n",
       "      <th>X2_n</th>\n",
       "      <th>X2_s</th>\n",
       "      <th>X2_f</th>\n",
       "      <th>X2_e</th>\n",
       "    </tr>\n",
       "  </thead>\n",
       "  <tbody>\n",
       "    <tr>\n",
       "      <th>0</th>\n",
       "      <td>1</td>\n",
       "      <td>az</td>\n",
       "      <td>v</td>\n",
       "      <td>n</td>\n",
       "      <td>f</td>\n",
       "      <td>d</td>\n",
       "      <td>t</td>\n",
       "      <td>a</td>\n",
       "      <td>w</td>\n",
       "      <td>0</td>\n",
       "      <td>...</td>\n",
       "      <td>0</td>\n",
       "      <td>0</td>\n",
       "      <td>0</td>\n",
       "      <td>0</td>\n",
       "      <td>0</td>\n",
       "      <td>0</td>\n",
       "      <td>0</td>\n",
       "      <td>0</td>\n",
       "      <td>0</td>\n",
       "      <td>0</td>\n",
       "    </tr>\n",
       "    <tr>\n",
       "      <th>1</th>\n",
       "      <td>2</td>\n",
       "      <td>t</td>\n",
       "      <td>b</td>\n",
       "      <td>ai</td>\n",
       "      <td>a</td>\n",
       "      <td>d</td>\n",
       "      <td>b</td>\n",
       "      <td>g</td>\n",
       "      <td>y</td>\n",
       "      <td>0</td>\n",
       "      <td>...</td>\n",
       "      <td>0</td>\n",
       "      <td>0</td>\n",
       "      <td>0</td>\n",
       "      <td>0</td>\n",
       "      <td>0</td>\n",
       "      <td>0</td>\n",
       "      <td>0</td>\n",
       "      <td>0</td>\n",
       "      <td>0</td>\n",
       "      <td>0</td>\n",
       "    </tr>\n",
       "  </tbody>\n",
       "</table>\n",
       "<p>2 rows × 395 columns</p>\n",
       "</div>"
      ],
      "text/plain": [
       "   ID  X0 X1  X2 X3 X4 X5 X6 X8  X10  ...  X2_as  X2_ae  X2_ai  X2_m  X2_ak  \\\n",
       "0   1  az  v   n  f  d  t  a  w    0  ...      0      0      0     0      0   \n",
       "1   2   t  b  ai  a  d  b  g  y    0  ...      0      0      0     0      0   \n",
       "\n",
       "   X2_r  X2_n  X2_s  X2_f  X2_e  \n",
       "0     0     0     0     0     0  \n",
       "1     0     0     0     0     0  \n",
       "\n",
       "[2 rows x 395 columns]"
      ]
     },
     "execution_count": 48,
     "metadata": {},
     "output_type": "execute_result"
    }
   ],
   "source": [
    "# X2\n",
    "top_10_test_X2 = [x for x in test_original_modified.X2.value_counts().sort_values(ascending=False).head(10).index]\n",
    "one_hot_top10(test_original_modified,'X2',top_10_test_X2)\n",
    "test_original_modified.head(2)"
   ]
  },
  {
   "cell_type": "code",
   "execution_count": 49,
   "metadata": {
    "ExecuteTime": {
     "end_time": "2021-08-25T15:05:15.625106Z",
     "start_time": "2021-08-25T15:05:15.575106Z"
    }
   },
   "outputs": [
    {
     "data": {
      "text/html": [
       "<div>\n",
       "<style scoped>\n",
       "    .dataframe tbody tr th:only-of-type {\n",
       "        vertical-align: middle;\n",
       "    }\n",
       "\n",
       "    .dataframe tbody tr th {\n",
       "        vertical-align: top;\n",
       "    }\n",
       "\n",
       "    .dataframe thead th {\n",
       "        text-align: right;\n",
       "    }\n",
       "</style>\n",
       "<table border=\"1\" class=\"dataframe\">\n",
       "  <thead>\n",
       "    <tr style=\"text-align: right;\">\n",
       "      <th></th>\n",
       "      <th>ID</th>\n",
       "      <th>X0</th>\n",
       "      <th>X1</th>\n",
       "      <th>X2</th>\n",
       "      <th>X3</th>\n",
       "      <th>X4</th>\n",
       "      <th>X5</th>\n",
       "      <th>X6</th>\n",
       "      <th>X8</th>\n",
       "      <th>X10</th>\n",
       "      <th>...</th>\n",
       "      <th>X2_s</th>\n",
       "      <th>X2_f</th>\n",
       "      <th>X2_e</th>\n",
       "      <th>X3_c</th>\n",
       "      <th>X3_f</th>\n",
       "      <th>X3_a</th>\n",
       "      <th>X3_d</th>\n",
       "      <th>X3_g</th>\n",
       "      <th>X3_e</th>\n",
       "      <th>X3_b</th>\n",
       "    </tr>\n",
       "  </thead>\n",
       "  <tbody>\n",
       "    <tr>\n",
       "      <th>0</th>\n",
       "      <td>1</td>\n",
       "      <td>az</td>\n",
       "      <td>v</td>\n",
       "      <td>n</td>\n",
       "      <td>f</td>\n",
       "      <td>d</td>\n",
       "      <td>t</td>\n",
       "      <td>a</td>\n",
       "      <td>w</td>\n",
       "      <td>0</td>\n",
       "      <td>...</td>\n",
       "      <td>0</td>\n",
       "      <td>0</td>\n",
       "      <td>0</td>\n",
       "      <td>0</td>\n",
       "      <td>0</td>\n",
       "      <td>1</td>\n",
       "      <td>0</td>\n",
       "      <td>0</td>\n",
       "      <td>0</td>\n",
       "      <td>0</td>\n",
       "    </tr>\n",
       "    <tr>\n",
       "      <th>1</th>\n",
       "      <td>2</td>\n",
       "      <td>t</td>\n",
       "      <td>b</td>\n",
       "      <td>ai</td>\n",
       "      <td>a</td>\n",
       "      <td>d</td>\n",
       "      <td>b</td>\n",
       "      <td>g</td>\n",
       "      <td>y</td>\n",
       "      <td>0</td>\n",
       "      <td>...</td>\n",
       "      <td>0</td>\n",
       "      <td>0</td>\n",
       "      <td>0</td>\n",
       "      <td>0</td>\n",
       "      <td>0</td>\n",
       "      <td>0</td>\n",
       "      <td>0</td>\n",
       "      <td>0</td>\n",
       "      <td>1</td>\n",
       "      <td>0</td>\n",
       "    </tr>\n",
       "  </tbody>\n",
       "</table>\n",
       "<p>2 rows × 402 columns</p>\n",
       "</div>"
      ],
      "text/plain": [
       "   ID  X0 X1  X2 X3 X4 X5 X6 X8  X10  ...  X2_s  X2_f  X2_e  X3_c  X3_f  X3_a  \\\n",
       "0   1  az  v   n  f  d  t  a  w    0  ...     0     0     0     0     0     1   \n",
       "1   2   t  b  ai  a  d  b  g  y    0  ...     0     0     0     0     0     0   \n",
       "\n",
       "   X3_d  X3_g  X3_e  X3_b  \n",
       "0     0     0     0     0  \n",
       "1     0     0     1     0  \n",
       "\n",
       "[2 rows x 402 columns]"
      ]
     },
     "execution_count": 49,
     "metadata": {},
     "output_type": "execute_result"
    }
   ],
   "source": [
    "# X3\n",
    "top_10_test_X3 = [x for x in test_original_modified.X3.value_counts().sort_values(ascending=False).head(10).index]\n",
    "one_hot_top10(test_original_modified,'X3',top_10_test_X3)\n",
    "test_original_modified.head(2)"
   ]
  },
  {
   "cell_type": "markdown",
   "metadata": {},
   "source": [
    "* In case X3, only 7 columns were added as the maximum categorial variable for this feature is only 7."
   ]
  },
  {
   "cell_type": "code",
   "execution_count": 50,
   "metadata": {
    "ExecuteTime": {
     "end_time": "2021-08-25T15:05:15.685106Z",
     "start_time": "2021-08-25T15:05:15.625106Z"
    }
   },
   "outputs": [
    {
     "data": {
      "text/html": [
       "<div>\n",
       "<style scoped>\n",
       "    .dataframe tbody tr th:only-of-type {\n",
       "        vertical-align: middle;\n",
       "    }\n",
       "\n",
       "    .dataframe tbody tr th {\n",
       "        vertical-align: top;\n",
       "    }\n",
       "\n",
       "    .dataframe thead th {\n",
       "        text-align: right;\n",
       "    }\n",
       "</style>\n",
       "<table border=\"1\" class=\"dataframe\">\n",
       "  <thead>\n",
       "    <tr style=\"text-align: right;\">\n",
       "      <th></th>\n",
       "      <th>ID</th>\n",
       "      <th>X0</th>\n",
       "      <th>X1</th>\n",
       "      <th>X2</th>\n",
       "      <th>X3</th>\n",
       "      <th>X4</th>\n",
       "      <th>X5</th>\n",
       "      <th>X6</th>\n",
       "      <th>X8</th>\n",
       "      <th>X10</th>\n",
       "      <th>...</th>\n",
       "      <th>X3_f</th>\n",
       "      <th>X3_a</th>\n",
       "      <th>X3_d</th>\n",
       "      <th>X3_g</th>\n",
       "      <th>X3_e</th>\n",
       "      <th>X3_b</th>\n",
       "      <th>X4_d</th>\n",
       "      <th>X4_b</th>\n",
       "      <th>X4_a</th>\n",
       "      <th>X4_c</th>\n",
       "    </tr>\n",
       "  </thead>\n",
       "  <tbody>\n",
       "    <tr>\n",
       "      <th>0</th>\n",
       "      <td>1</td>\n",
       "      <td>az</td>\n",
       "      <td>v</td>\n",
       "      <td>n</td>\n",
       "      <td>f</td>\n",
       "      <td>d</td>\n",
       "      <td>t</td>\n",
       "      <td>a</td>\n",
       "      <td>w</td>\n",
       "      <td>0</td>\n",
       "      <td>...</td>\n",
       "      <td>0</td>\n",
       "      <td>1</td>\n",
       "      <td>0</td>\n",
       "      <td>0</td>\n",
       "      <td>0</td>\n",
       "      <td>0</td>\n",
       "      <td>1</td>\n",
       "      <td>0</td>\n",
       "      <td>0</td>\n",
       "      <td>0</td>\n",
       "    </tr>\n",
       "    <tr>\n",
       "      <th>1</th>\n",
       "      <td>2</td>\n",
       "      <td>t</td>\n",
       "      <td>b</td>\n",
       "      <td>ai</td>\n",
       "      <td>a</td>\n",
       "      <td>d</td>\n",
       "      <td>b</td>\n",
       "      <td>g</td>\n",
       "      <td>y</td>\n",
       "      <td>0</td>\n",
       "      <td>...</td>\n",
       "      <td>0</td>\n",
       "      <td>0</td>\n",
       "      <td>0</td>\n",
       "      <td>0</td>\n",
       "      <td>1</td>\n",
       "      <td>0</td>\n",
       "      <td>1</td>\n",
       "      <td>0</td>\n",
       "      <td>0</td>\n",
       "      <td>0</td>\n",
       "    </tr>\n",
       "  </tbody>\n",
       "</table>\n",
       "<p>2 rows × 406 columns</p>\n",
       "</div>"
      ],
      "text/plain": [
       "   ID  X0 X1  X2 X3 X4 X5 X6 X8  X10  ...  X3_f  X3_a  X3_d  X3_g  X3_e  X3_b  \\\n",
       "0   1  az  v   n  f  d  t  a  w    0  ...     0     1     0     0     0     0   \n",
       "1   2   t  b  ai  a  d  b  g  y    0  ...     0     0     0     0     1     0   \n",
       "\n",
       "   X4_d  X4_b  X4_a  X4_c  \n",
       "0     1     0     0     0  \n",
       "1     1     0     0     0  \n",
       "\n",
       "[2 rows x 406 columns]"
      ]
     },
     "execution_count": 50,
     "metadata": {},
     "output_type": "execute_result"
    }
   ],
   "source": [
    "# X4\n",
    "top_10_test_X4 = [x for x in test_original_modified.X4.value_counts().sort_values(ascending=False).head(10).index]\n",
    "one_hot_top10(test_original_modified,'X4',top_10_test_X4)\n",
    "test_original_modified.head(2)"
   ]
  },
  {
   "cell_type": "markdown",
   "metadata": {},
   "source": [
    "* In case X4, only 4 columns were added as the maximum categorial variable for this feature is only 4."
   ]
  },
  {
   "cell_type": "code",
   "execution_count": 51,
   "metadata": {
    "ExecuteTime": {
     "end_time": "2021-08-25T15:05:15.755107Z",
     "start_time": "2021-08-25T15:05:15.685106Z"
    }
   },
   "outputs": [
    {
     "data": {
      "text/html": [
       "<div>\n",
       "<style scoped>\n",
       "    .dataframe tbody tr th:only-of-type {\n",
       "        vertical-align: middle;\n",
       "    }\n",
       "\n",
       "    .dataframe tbody tr th {\n",
       "        vertical-align: top;\n",
       "    }\n",
       "\n",
       "    .dataframe thead th {\n",
       "        text-align: right;\n",
       "    }\n",
       "</style>\n",
       "<table border=\"1\" class=\"dataframe\">\n",
       "  <thead>\n",
       "    <tr style=\"text-align: right;\">\n",
       "      <th></th>\n",
       "      <th>ID</th>\n",
       "      <th>X0</th>\n",
       "      <th>X1</th>\n",
       "      <th>X2</th>\n",
       "      <th>X3</th>\n",
       "      <th>X4</th>\n",
       "      <th>X5</th>\n",
       "      <th>X6</th>\n",
       "      <th>X8</th>\n",
       "      <th>X10</th>\n",
       "      <th>...</th>\n",
       "      <th>X5_v</th>\n",
       "      <th>X5_r</th>\n",
       "      <th>X5_p</th>\n",
       "      <th>X5_w</th>\n",
       "      <th>X5_af</th>\n",
       "      <th>X5_ad</th>\n",
       "      <th>X5_ac</th>\n",
       "      <th>X5_n</th>\n",
       "      <th>X5_l</th>\n",
       "      <th>X5_s</th>\n",
       "    </tr>\n",
       "  </thead>\n",
       "  <tbody>\n",
       "    <tr>\n",
       "      <th>0</th>\n",
       "      <td>1</td>\n",
       "      <td>az</td>\n",
       "      <td>v</td>\n",
       "      <td>n</td>\n",
       "      <td>f</td>\n",
       "      <td>d</td>\n",
       "      <td>t</td>\n",
       "      <td>a</td>\n",
       "      <td>w</td>\n",
       "      <td>0</td>\n",
       "      <td>...</td>\n",
       "      <td>0</td>\n",
       "      <td>0</td>\n",
       "      <td>0</td>\n",
       "      <td>0</td>\n",
       "      <td>0</td>\n",
       "      <td>0</td>\n",
       "      <td>0</td>\n",
       "      <td>0</td>\n",
       "      <td>0</td>\n",
       "      <td>0</td>\n",
       "    </tr>\n",
       "    <tr>\n",
       "      <th>1</th>\n",
       "      <td>2</td>\n",
       "      <td>t</td>\n",
       "      <td>b</td>\n",
       "      <td>ai</td>\n",
       "      <td>a</td>\n",
       "      <td>d</td>\n",
       "      <td>b</td>\n",
       "      <td>g</td>\n",
       "      <td>y</td>\n",
       "      <td>0</td>\n",
       "      <td>...</td>\n",
       "      <td>0</td>\n",
       "      <td>0</td>\n",
       "      <td>0</td>\n",
       "      <td>0</td>\n",
       "      <td>0</td>\n",
       "      <td>0</td>\n",
       "      <td>0</td>\n",
       "      <td>0</td>\n",
       "      <td>0</td>\n",
       "      <td>0</td>\n",
       "    </tr>\n",
       "  </tbody>\n",
       "</table>\n",
       "<p>2 rows × 416 columns</p>\n",
       "</div>"
      ],
      "text/plain": [
       "   ID  X0 X1  X2 X3 X4 X5 X6 X8  X10  ...  X5_v  X5_r  X5_p  X5_w  X5_af  \\\n",
       "0   1  az  v   n  f  d  t  a  w    0  ...     0     0     0     0      0   \n",
       "1   2   t  b  ai  a  d  b  g  y    0  ...     0     0     0     0      0   \n",
       "\n",
       "   X5_ad  X5_ac  X5_n  X5_l  X5_s  \n",
       "0      0      0     0     0     0  \n",
       "1      0      0     0     0     0  \n",
       "\n",
       "[2 rows x 416 columns]"
      ]
     },
     "execution_count": 51,
     "metadata": {},
     "output_type": "execute_result"
    }
   ],
   "source": [
    "# X5\n",
    "top_10_test_X5 = [x for x in test_original_modified.X5.value_counts().sort_values(ascending=False).head(10).index]\n",
    "one_hot_top10(test_original_modified,'X5',top_10_test_X5)\n",
    "test_original_modified.head(2)"
   ]
  },
  {
   "cell_type": "code",
   "execution_count": 52,
   "metadata": {
    "ExecuteTime": {
     "end_time": "2021-08-25T15:05:15.795107Z",
     "start_time": "2021-08-25T15:05:15.755107Z"
    }
   },
   "outputs": [
    {
     "data": {
      "text/html": [
       "<div>\n",
       "<style scoped>\n",
       "    .dataframe tbody tr th:only-of-type {\n",
       "        vertical-align: middle;\n",
       "    }\n",
       "\n",
       "    .dataframe tbody tr th {\n",
       "        vertical-align: top;\n",
       "    }\n",
       "\n",
       "    .dataframe thead th {\n",
       "        text-align: right;\n",
       "    }\n",
       "</style>\n",
       "<table border=\"1\" class=\"dataframe\">\n",
       "  <thead>\n",
       "    <tr style=\"text-align: right;\">\n",
       "      <th></th>\n",
       "      <th>ID</th>\n",
       "      <th>X0</th>\n",
       "      <th>X1</th>\n",
       "      <th>X2</th>\n",
       "      <th>X3</th>\n",
       "      <th>X4</th>\n",
       "      <th>X5</th>\n",
       "      <th>X6</th>\n",
       "      <th>X8</th>\n",
       "      <th>X10</th>\n",
       "      <th>...</th>\n",
       "      <th>X6_g</th>\n",
       "      <th>X6_j</th>\n",
       "      <th>X6_d</th>\n",
       "      <th>X6_i</th>\n",
       "      <th>X6_l</th>\n",
       "      <th>X6_h</th>\n",
       "      <th>X6_a</th>\n",
       "      <th>X6_k</th>\n",
       "      <th>X6_c</th>\n",
       "      <th>X6_f</th>\n",
       "    </tr>\n",
       "  </thead>\n",
       "  <tbody>\n",
       "    <tr>\n",
       "      <th>0</th>\n",
       "      <td>1</td>\n",
       "      <td>az</td>\n",
       "      <td>v</td>\n",
       "      <td>n</td>\n",
       "      <td>f</td>\n",
       "      <td>d</td>\n",
       "      <td>t</td>\n",
       "      <td>a</td>\n",
       "      <td>w</td>\n",
       "      <td>0</td>\n",
       "      <td>...</td>\n",
       "      <td>0</td>\n",
       "      <td>1</td>\n",
       "      <td>0</td>\n",
       "      <td>0</td>\n",
       "      <td>0</td>\n",
       "      <td>0</td>\n",
       "      <td>0</td>\n",
       "      <td>0</td>\n",
       "      <td>0</td>\n",
       "      <td>0</td>\n",
       "    </tr>\n",
       "    <tr>\n",
       "      <th>1</th>\n",
       "      <td>2</td>\n",
       "      <td>t</td>\n",
       "      <td>b</td>\n",
       "      <td>ai</td>\n",
       "      <td>a</td>\n",
       "      <td>d</td>\n",
       "      <td>b</td>\n",
       "      <td>g</td>\n",
       "      <td>y</td>\n",
       "      <td>0</td>\n",
       "      <td>...</td>\n",
       "      <td>0</td>\n",
       "      <td>0</td>\n",
       "      <td>0</td>\n",
       "      <td>0</td>\n",
       "      <td>1</td>\n",
       "      <td>0</td>\n",
       "      <td>0</td>\n",
       "      <td>0</td>\n",
       "      <td>0</td>\n",
       "      <td>0</td>\n",
       "    </tr>\n",
       "  </tbody>\n",
       "</table>\n",
       "<p>2 rows × 426 columns</p>\n",
       "</div>"
      ],
      "text/plain": [
       "   ID  X0 X1  X2 X3 X4 X5 X6 X8  X10  ...  X6_g  X6_j  X6_d  X6_i  X6_l  X6_h  \\\n",
       "0   1  az  v   n  f  d  t  a  w    0  ...     0     1     0     0     0     0   \n",
       "1   2   t  b  ai  a  d  b  g  y    0  ...     0     0     0     0     1     0   \n",
       "\n",
       "   X6_a  X6_k  X6_c  X6_f  \n",
       "0     0     0     0     0  \n",
       "1     0     0     0     0  \n",
       "\n",
       "[2 rows x 426 columns]"
      ]
     },
     "execution_count": 52,
     "metadata": {},
     "output_type": "execute_result"
    }
   ],
   "source": [
    "# X6\n",
    "top_10_test_X6 = [x for x in test_original_modified.X6.value_counts().sort_values(ascending=False).head(10).index]\n",
    "one_hot_top10(test_original_modified,'X6',top_10_test_X6)\n",
    "test_original_modified.head(2)"
   ]
  },
  {
   "cell_type": "code",
   "execution_count": 53,
   "metadata": {
    "ExecuteTime": {
     "end_time": "2021-08-25T15:05:15.855107Z",
     "start_time": "2021-08-25T15:05:15.795107Z"
    }
   },
   "outputs": [
    {
     "data": {
      "text/html": [
       "<div>\n",
       "<style scoped>\n",
       "    .dataframe tbody tr th:only-of-type {\n",
       "        vertical-align: middle;\n",
       "    }\n",
       "\n",
       "    .dataframe tbody tr th {\n",
       "        vertical-align: top;\n",
       "    }\n",
       "\n",
       "    .dataframe thead th {\n",
       "        text-align: right;\n",
       "    }\n",
       "</style>\n",
       "<table border=\"1\" class=\"dataframe\">\n",
       "  <thead>\n",
       "    <tr style=\"text-align: right;\">\n",
       "      <th></th>\n",
       "      <th>ID</th>\n",
       "      <th>X0</th>\n",
       "      <th>X1</th>\n",
       "      <th>X2</th>\n",
       "      <th>X3</th>\n",
       "      <th>X4</th>\n",
       "      <th>X5</th>\n",
       "      <th>X6</th>\n",
       "      <th>X8</th>\n",
       "      <th>X10</th>\n",
       "      <th>...</th>\n",
       "      <th>X8_e</th>\n",
       "      <th>X8_j</th>\n",
       "      <th>X8_s</th>\n",
       "      <th>X8_f</th>\n",
       "      <th>X8_n</th>\n",
       "      <th>X8_i</th>\n",
       "      <th>X8_r</th>\n",
       "      <th>X8_a</th>\n",
       "      <th>X8_w</th>\n",
       "      <th>X8_v</th>\n",
       "    </tr>\n",
       "  </thead>\n",
       "  <tbody>\n",
       "    <tr>\n",
       "      <th>0</th>\n",
       "      <td>1</td>\n",
       "      <td>az</td>\n",
       "      <td>v</td>\n",
       "      <td>n</td>\n",
       "      <td>f</td>\n",
       "      <td>d</td>\n",
       "      <td>t</td>\n",
       "      <td>a</td>\n",
       "      <td>w</td>\n",
       "      <td>0</td>\n",
       "      <td>...</td>\n",
       "      <td>0</td>\n",
       "      <td>0</td>\n",
       "      <td>0</td>\n",
       "      <td>0</td>\n",
       "      <td>0</td>\n",
       "      <td>0</td>\n",
       "      <td>0</td>\n",
       "      <td>0</td>\n",
       "      <td>0</td>\n",
       "      <td>0</td>\n",
       "    </tr>\n",
       "    <tr>\n",
       "      <th>1</th>\n",
       "      <td>2</td>\n",
       "      <td>t</td>\n",
       "      <td>b</td>\n",
       "      <td>ai</td>\n",
       "      <td>a</td>\n",
       "      <td>d</td>\n",
       "      <td>b</td>\n",
       "      <td>g</td>\n",
       "      <td>y</td>\n",
       "      <td>0</td>\n",
       "      <td>...</td>\n",
       "      <td>0</td>\n",
       "      <td>0</td>\n",
       "      <td>0</td>\n",
       "      <td>0</td>\n",
       "      <td>0</td>\n",
       "      <td>0</td>\n",
       "      <td>0</td>\n",
       "      <td>0</td>\n",
       "      <td>0</td>\n",
       "      <td>0</td>\n",
       "    </tr>\n",
       "  </tbody>\n",
       "</table>\n",
       "<p>2 rows × 436 columns</p>\n",
       "</div>"
      ],
      "text/plain": [
       "   ID  X0 X1  X2 X3 X4 X5 X6 X8  X10  ...  X8_e  X8_j  X8_s  X8_f  X8_n  X8_i  \\\n",
       "0   1  az  v   n  f  d  t  a  w    0  ...     0     0     0     0     0     0   \n",
       "1   2   t  b  ai  a  d  b  g  y    0  ...     0     0     0     0     0     0   \n",
       "\n",
       "   X8_r  X8_a  X8_w  X8_v  \n",
       "0     0     0     0     0  \n",
       "1     0     0     0     0  \n",
       "\n",
       "[2 rows x 436 columns]"
      ]
     },
     "execution_count": 53,
     "metadata": {},
     "output_type": "execute_result"
    }
   ],
   "source": [
    "# X8\n",
    "top_10_test_X8 = [x for x in test_original_modified.X8.value_counts().sort_values(ascending=False).head(10).index]\n",
    "one_hot_top10(test_original_modified,'X8',top_10_test_X8)\n",
    "test_original_modified.head(2)"
   ]
  },
  {
   "cell_type": "markdown",
   "metadata": {},
   "source": [
    "* The label encoding/one hot encoding is successfully applied to the test dataset"
   ]
  },
  {
   "cell_type": "code",
   "execution_count": 54,
   "metadata": {
    "ExecuteTime": {
     "end_time": "2021-08-25T15:05:15.905107Z",
     "start_time": "2021-08-25T15:05:15.855107Z"
    }
   },
   "outputs": [
    {
     "data": {
      "text/html": [
       "<div>\n",
       "<style scoped>\n",
       "    .dataframe tbody tr th:only-of-type {\n",
       "        vertical-align: middle;\n",
       "    }\n",
       "\n",
       "    .dataframe tbody tr th {\n",
       "        vertical-align: top;\n",
       "    }\n",
       "\n",
       "    .dataframe thead th {\n",
       "        text-align: right;\n",
       "    }\n",
       "</style>\n",
       "<table border=\"1\" class=\"dataframe\">\n",
       "  <thead>\n",
       "    <tr style=\"text-align: right;\">\n",
       "      <th></th>\n",
       "      <th>ID</th>\n",
       "      <th>X10</th>\n",
       "      <th>X12</th>\n",
       "      <th>X13</th>\n",
       "      <th>X14</th>\n",
       "      <th>X15</th>\n",
       "      <th>X16</th>\n",
       "      <th>X17</th>\n",
       "      <th>X18</th>\n",
       "      <th>X19</th>\n",
       "      <th>...</th>\n",
       "      <th>X8_e</th>\n",
       "      <th>X8_j</th>\n",
       "      <th>X8_s</th>\n",
       "      <th>X8_f</th>\n",
       "      <th>X8_n</th>\n",
       "      <th>X8_i</th>\n",
       "      <th>X8_r</th>\n",
       "      <th>X8_a</th>\n",
       "      <th>X8_w</th>\n",
       "      <th>X8_v</th>\n",
       "    </tr>\n",
       "  </thead>\n",
       "  <tbody>\n",
       "    <tr>\n",
       "      <th>0</th>\n",
       "      <td>1</td>\n",
       "      <td>0</td>\n",
       "      <td>0</td>\n",
       "      <td>0</td>\n",
       "      <td>0</td>\n",
       "      <td>0</td>\n",
       "      <td>0</td>\n",
       "      <td>0</td>\n",
       "      <td>0</td>\n",
       "      <td>0</td>\n",
       "      <td>...</td>\n",
       "      <td>0</td>\n",
       "      <td>0</td>\n",
       "      <td>0</td>\n",
       "      <td>0</td>\n",
       "      <td>0</td>\n",
       "      <td>0</td>\n",
       "      <td>0</td>\n",
       "      <td>0</td>\n",
       "      <td>0</td>\n",
       "      <td>0</td>\n",
       "    </tr>\n",
       "    <tr>\n",
       "      <th>1</th>\n",
       "      <td>2</td>\n",
       "      <td>0</td>\n",
       "      <td>0</td>\n",
       "      <td>0</td>\n",
       "      <td>0</td>\n",
       "      <td>0</td>\n",
       "      <td>0</td>\n",
       "      <td>0</td>\n",
       "      <td>0</td>\n",
       "      <td>1</td>\n",
       "      <td>...</td>\n",
       "      <td>0</td>\n",
       "      <td>0</td>\n",
       "      <td>0</td>\n",
       "      <td>0</td>\n",
       "      <td>0</td>\n",
       "      <td>0</td>\n",
       "      <td>0</td>\n",
       "      <td>0</td>\n",
       "      <td>0</td>\n",
       "      <td>0</td>\n",
       "    </tr>\n",
       "    <tr>\n",
       "      <th>2</th>\n",
       "      <td>3</td>\n",
       "      <td>0</td>\n",
       "      <td>0</td>\n",
       "      <td>0</td>\n",
       "      <td>1</td>\n",
       "      <td>0</td>\n",
       "      <td>0</td>\n",
       "      <td>0</td>\n",
       "      <td>0</td>\n",
       "      <td>0</td>\n",
       "      <td>...</td>\n",
       "      <td>0</td>\n",
       "      <td>0</td>\n",
       "      <td>0</td>\n",
       "      <td>0</td>\n",
       "      <td>0</td>\n",
       "      <td>0</td>\n",
       "      <td>0</td>\n",
       "      <td>0</td>\n",
       "      <td>0</td>\n",
       "      <td>0</td>\n",
       "    </tr>\n",
       "    <tr>\n",
       "      <th>3</th>\n",
       "      <td>4</td>\n",
       "      <td>0</td>\n",
       "      <td>0</td>\n",
       "      <td>0</td>\n",
       "      <td>0</td>\n",
       "      <td>0</td>\n",
       "      <td>0</td>\n",
       "      <td>0</td>\n",
       "      <td>0</td>\n",
       "      <td>0</td>\n",
       "      <td>...</td>\n",
       "      <td>1</td>\n",
       "      <td>0</td>\n",
       "      <td>0</td>\n",
       "      <td>0</td>\n",
       "      <td>0</td>\n",
       "      <td>0</td>\n",
       "      <td>0</td>\n",
       "      <td>0</td>\n",
       "      <td>0</td>\n",
       "      <td>0</td>\n",
       "    </tr>\n",
       "    <tr>\n",
       "      <th>4</th>\n",
       "      <td>5</td>\n",
       "      <td>0</td>\n",
       "      <td>0</td>\n",
       "      <td>0</td>\n",
       "      <td>1</td>\n",
       "      <td>0</td>\n",
       "      <td>0</td>\n",
       "      <td>0</td>\n",
       "      <td>0</td>\n",
       "      <td>0</td>\n",
       "      <td>...</td>\n",
       "      <td>0</td>\n",
       "      <td>0</td>\n",
       "      <td>0</td>\n",
       "      <td>0</td>\n",
       "      <td>1</td>\n",
       "      <td>0</td>\n",
       "      <td>0</td>\n",
       "      <td>0</td>\n",
       "      <td>0</td>\n",
       "      <td>0</td>\n",
       "    </tr>\n",
       "    <tr>\n",
       "      <th>...</th>\n",
       "      <td>...</td>\n",
       "      <td>...</td>\n",
       "      <td>...</td>\n",
       "      <td>...</td>\n",
       "      <td>...</td>\n",
       "      <td>...</td>\n",
       "      <td>...</td>\n",
       "      <td>...</td>\n",
       "      <td>...</td>\n",
       "      <td>...</td>\n",
       "      <td>...</td>\n",
       "      <td>...</td>\n",
       "      <td>...</td>\n",
       "      <td>...</td>\n",
       "      <td>...</td>\n",
       "      <td>...</td>\n",
       "      <td>...</td>\n",
       "      <td>...</td>\n",
       "      <td>...</td>\n",
       "      <td>...</td>\n",
       "      <td>...</td>\n",
       "    </tr>\n",
       "    <tr>\n",
       "      <th>4204</th>\n",
       "      <td>8410</td>\n",
       "      <td>0</td>\n",
       "      <td>0</td>\n",
       "      <td>0</td>\n",
       "      <td>1</td>\n",
       "      <td>0</td>\n",
       "      <td>0</td>\n",
       "      <td>0</td>\n",
       "      <td>0</td>\n",
       "      <td>0</td>\n",
       "      <td>...</td>\n",
       "      <td>0</td>\n",
       "      <td>0</td>\n",
       "      <td>0</td>\n",
       "      <td>0</td>\n",
       "      <td>0</td>\n",
       "      <td>0</td>\n",
       "      <td>0</td>\n",
       "      <td>0</td>\n",
       "      <td>0</td>\n",
       "      <td>0</td>\n",
       "    </tr>\n",
       "    <tr>\n",
       "      <th>4205</th>\n",
       "      <td>8411</td>\n",
       "      <td>0</td>\n",
       "      <td>0</td>\n",
       "      <td>0</td>\n",
       "      <td>0</td>\n",
       "      <td>0</td>\n",
       "      <td>0</td>\n",
       "      <td>0</td>\n",
       "      <td>0</td>\n",
       "      <td>1</td>\n",
       "      <td>...</td>\n",
       "      <td>0</td>\n",
       "      <td>0</td>\n",
       "      <td>0</td>\n",
       "      <td>0</td>\n",
       "      <td>0</td>\n",
       "      <td>0</td>\n",
       "      <td>0</td>\n",
       "      <td>0</td>\n",
       "      <td>0</td>\n",
       "      <td>0</td>\n",
       "    </tr>\n",
       "    <tr>\n",
       "      <th>4206</th>\n",
       "      <td>8413</td>\n",
       "      <td>0</td>\n",
       "      <td>0</td>\n",
       "      <td>0</td>\n",
       "      <td>1</td>\n",
       "      <td>0</td>\n",
       "      <td>0</td>\n",
       "      <td>0</td>\n",
       "      <td>0</td>\n",
       "      <td>0</td>\n",
       "      <td>...</td>\n",
       "      <td>1</td>\n",
       "      <td>0</td>\n",
       "      <td>0</td>\n",
       "      <td>0</td>\n",
       "      <td>0</td>\n",
       "      <td>0</td>\n",
       "      <td>0</td>\n",
       "      <td>0</td>\n",
       "      <td>0</td>\n",
       "      <td>0</td>\n",
       "    </tr>\n",
       "    <tr>\n",
       "      <th>4207</th>\n",
       "      <td>8414</td>\n",
       "      <td>0</td>\n",
       "      <td>0</td>\n",
       "      <td>1</td>\n",
       "      <td>1</td>\n",
       "      <td>0</td>\n",
       "      <td>0</td>\n",
       "      <td>0</td>\n",
       "      <td>0</td>\n",
       "      <td>0</td>\n",
       "      <td>...</td>\n",
       "      <td>0</td>\n",
       "      <td>0</td>\n",
       "      <td>0</td>\n",
       "      <td>0</td>\n",
       "      <td>0</td>\n",
       "      <td>0</td>\n",
       "      <td>0</td>\n",
       "      <td>0</td>\n",
       "      <td>0</td>\n",
       "      <td>0</td>\n",
       "    </tr>\n",
       "    <tr>\n",
       "      <th>4208</th>\n",
       "      <td>8416</td>\n",
       "      <td>0</td>\n",
       "      <td>0</td>\n",
       "      <td>0</td>\n",
       "      <td>0</td>\n",
       "      <td>0</td>\n",
       "      <td>0</td>\n",
       "      <td>0</td>\n",
       "      <td>0</td>\n",
       "      <td>1</td>\n",
       "      <td>...</td>\n",
       "      <td>0</td>\n",
       "      <td>0</td>\n",
       "      <td>0</td>\n",
       "      <td>0</td>\n",
       "      <td>0</td>\n",
       "      <td>0</td>\n",
       "      <td>0</td>\n",
       "      <td>0</td>\n",
       "      <td>1</td>\n",
       "      <td>0</td>\n",
       "    </tr>\n",
       "  </tbody>\n",
       "</table>\n",
       "<p>4209 rows × 428 columns</p>\n",
       "</div>"
      ],
      "text/plain": [
       "        ID  X10  X12  X13  X14  X15  X16  X17  X18  X19  ...  X8_e  X8_j  \\\n",
       "0        1    0    0    0    0    0    0    0    0    0  ...     0     0   \n",
       "1        2    0    0    0    0    0    0    0    0    1  ...     0     0   \n",
       "2        3    0    0    0    1    0    0    0    0    0  ...     0     0   \n",
       "3        4    0    0    0    0    0    0    0    0    0  ...     1     0   \n",
       "4        5    0    0    0    1    0    0    0    0    0  ...     0     0   \n",
       "...    ...  ...  ...  ...  ...  ...  ...  ...  ...  ...  ...   ...   ...   \n",
       "4204  8410    0    0    0    1    0    0    0    0    0  ...     0     0   \n",
       "4205  8411    0    0    0    0    0    0    0    0    1  ...     0     0   \n",
       "4206  8413    0    0    0    1    0    0    0    0    0  ...     1     0   \n",
       "4207  8414    0    0    1    1    0    0    0    0    0  ...     0     0   \n",
       "4208  8416    0    0    0    0    0    0    0    0    1  ...     0     0   \n",
       "\n",
       "      X8_s  X8_f  X8_n  X8_i  X8_r  X8_a  X8_w  X8_v  \n",
       "0        0     0     0     0     0     0     0     0  \n",
       "1        0     0     0     0     0     0     0     0  \n",
       "2        0     0     0     0     0     0     0     0  \n",
       "3        0     0     0     0     0     0     0     0  \n",
       "4        0     0     1     0     0     0     0     0  \n",
       "...    ...   ...   ...   ...   ...   ...   ...   ...  \n",
       "4204     0     0     0     0     0     0     0     0  \n",
       "4205     0     0     0     0     0     0     0     0  \n",
       "4206     0     0     0     0     0     0     0     0  \n",
       "4207     0     0     0     0     0     0     0     0  \n",
       "4208     0     0     0     0     0     0     1     0  \n",
       "\n",
       "[4209 rows x 428 columns]"
      ]
     },
     "execution_count": 54,
     "metadata": {},
     "output_type": "execute_result"
    }
   ],
   "source": [
    "# Store the data set in test_original_modified to new object test_original_modified_OHE\n",
    "# drop the columns which are not required after performing one hot encoding\n",
    "test_original_modified_OHE = test_original_modified.drop(columns=['X0','X1','X2','X3','X4','X5','X6','X8'])\n",
    "# One hot encoded(OHE) data\n",
    "test_original_modified_OHE"
   ]
  },
  {
   "cell_type": "code",
   "execution_count": 55,
   "metadata": {
    "ExecuteTime": {
     "end_time": "2021-08-25T15:05:16.313112Z",
     "start_time": "2021-08-25T15:05:15.905107Z"
    }
   },
   "outputs": [],
   "source": [
    "# Save the modified one hot encoded train dataset\n",
    "test_original_modified_OHE.to_csv('test_original_modified_OHE.csv',index=False)"
   ]
  },
  {
   "cell_type": "code",
   "execution_count": 56,
   "metadata": {
    "ExecuteTime": {
     "end_time": "2021-08-25T15:05:16.323112Z",
     "start_time": "2021-08-25T15:05:16.313112Z"
    }
   },
   "outputs": [
    {
     "data": {
      "text/plain": [
       "(4209, 428)"
      ]
     },
     "execution_count": 56,
     "metadata": {},
     "output_type": "execute_result"
    }
   ],
   "source": [
    "# Check the shape of the modified one hot encoded train dataset\n",
    "test_original_modified_OHE.shape"
   ]
  },
  {
   "cell_type": "markdown",
   "metadata": {},
   "source": [
    "* The shape of the train dataset is reduced to 428 from 436 since 8 features were dropped after performing one hot encoding"
   ]
  },
  {
   "cell_type": "markdown",
   "metadata": {},
   "source": [
    "## Perform dimensionality reduction.\n",
    "\n",
    "Before performing dimensional reduction (aka) principal component anlysis (PCA), seperate the following:\n",
    "* Seperate the features 'ID' and 'y' from train_original_modified_OHE dataset and store it in the new object.\n",
    "* Seperate the feature 'ID' from test_original_modified_OHE.shape and store it in the new object."
   ]
  },
  {
   "cell_type": "code",
   "execution_count": 57,
   "metadata": {
    "ExecuteTime": {
     "end_time": "2021-08-25T15:05:16.373112Z",
     "start_time": "2021-08-25T15:05:16.323112Z"
    }
   },
   "outputs": [
    {
     "name": "stdout",
     "output_type": "stream",
     "text": [
      "The shape of the ID feature in train dataset is: (4209,)\n",
      "\n",
      "The shape of the ID feature in test dataset is: (4209,)\n"
     ]
    }
   ],
   "source": [
    "# store the 'ID' values into the new object train_ID and test_ID and verify the shape\n",
    "\n",
    "# Train dataset\n",
    "train_ID = train_original_modified_OHE.ID\n",
    "print('The shape of the ID feature in train dataset is:',train_ID.shape)\n",
    "\n",
    "# Test dataset\n",
    "test_ID = test_original_modified_OHE.ID\n",
    "print('\\nThe shape of the ID feature in test dataset is:',test_ID.shape)"
   ]
  },
  {
   "cell_type": "code",
   "execution_count": 58,
   "metadata": {
    "ExecuteTime": {
     "end_time": "2021-08-25T15:05:16.433112Z",
     "start_time": "2021-08-25T15:05:16.373112Z"
    }
   },
   "outputs": [
    {
     "name": "stdout",
     "output_type": "stream",
     "text": [
      "The shape of the final train dataset is: (4209, 427)\n",
      "\n",
      "The shape of the final test dataset is: (4209, 427)\n"
     ]
    }
   ],
   "source": [
    "# store the remaining values into the new object train_X and test_X and verify the shape\n",
    "\n",
    "# Train dataset\n",
    "train_X = train_original_modified_OHE.drop(columns = ['ID','y'])\n",
    "print('The shape of the final train dataset is:',train_X.shape)\n",
    "\n",
    "# Test dataset\n",
    "test_X = test_original_modified_OHE.drop(columns = ['ID'])\n",
    "print('\\nThe shape of the final test dataset is:',test_X.shape)"
   ]
  },
  {
   "cell_type": "code",
   "execution_count": 59,
   "metadata": {
    "ExecuteTime": {
     "end_time": "2021-08-25T15:05:16.473112Z",
     "start_time": "2021-08-25T15:05:16.433112Z"
    }
   },
   "outputs": [
    {
     "name": "stdout",
     "output_type": "stream",
     "text": [
      "The shape of the target feature of train dataset is: (4209,)\n"
     ]
    }
   ],
   "source": [
    "# store the 'y' values into the new object train_y and verify the shape\n",
    "train_y=train_original_modified_OHE.y\n",
    "print('The shape of the target feature of train dataset is:',train_y.shape)"
   ]
  },
  {
   "cell_type": "markdown",
   "metadata": {},
   "source": [
    "* We have successfully separated the 'ID' and target feature 'y' from train dataset.\n",
    "* Successfully separated the 'ID' feature from test dataset.\n",
    "* Also, observed that shape of the train and test data are same. It is therefore good to proceed further."
   ]
  },
  {
   "cell_type": "code",
   "execution_count": 60,
   "metadata": {
    "ExecuteTime": {
     "end_time": "2021-08-25T15:05:17.389125Z",
     "start_time": "2021-08-25T15:05:16.473112Z"
    }
   },
   "outputs": [],
   "source": [
    "# save these datasets to csv \n",
    "train_ID.to_csv('train_ID.csv',index=False)\n",
    "test_ID.to_csv('test_ID.csv',index=False)\n",
    "train_X.to_csv('train_X.csv',index=False)\n",
    "test_X.to_csv('test_X.csv',index=False)\n",
    "train_y.to_csv('train_y.csv',index=False)"
   ]
  },
  {
   "cell_type": "markdown",
   "metadata": {},
   "source": [
    "* Before performing PCA, the data needs to centered and scaled\n",
    "    * After centring, the average value for each train and train features will be 0\n",
    "    * After scaling, the standard deviation for each feature will be 1\n",
    "    * Since all the features are having 0 and 1, there is no need to standardize."
   ]
  },
  {
   "cell_type": "code",
   "execution_count": 61,
   "metadata": {
    "ExecuteTime": {
     "end_time": "2021-08-25T15:05:19.187174Z",
     "start_time": "2021-08-25T15:05:17.389125Z"
    }
   },
   "outputs": [],
   "source": [
    "# import the required PCA library\n",
    "from sklearn.decomposition import PCA\n",
    "\n",
    "# create a PCA object (instantiate)\n",
    "pca=PCA()\n",
    "\n",
    "# fit and transform the train dataset\n",
    "# transform the test dataset\n",
    "\n",
    "# fit the train dataset\n",
    "pca_fit_train_X = pca.fit(train_X)\n",
    "\n",
    "# transform the  train dataset\n",
    "pca_fit_transform_train_X = pca_fit_train_X.transform(train_X)\n",
    "\n",
    "# transform the test dataset\n",
    "pca_transform_test_X = pca.transform(test_X)"
   ]
  },
  {
   "cell_type": "markdown",
   "metadata": {},
   "source": [
    "**Note:**\n",
    "\n",
    "* In the fit step, loading scores and variation of each principal components are calculated.\n",
    "* The fit method is used only for the train dataset. Since, the test dataset will only learn from the train dataset.\n",
    "* In the transform step, cordinates for the PCA plot are generated based on the loading scores and scaled data(we have not scaled the data since all features are having 0 and 1 values).\n",
    "* Here, the test dataset is only transformed. This is because when we feed the test dataset to the algorithm,it will learn the loading scores and variation of each principal components from the train dataset and predict the outcome.   "
   ]
  },
  {
   "cell_type": "markdown",
   "metadata": {},
   "source": [
    "Now, visualize the train_X dataset using scree plot to see how many principal components should go into the final plot.\n",
    "* Calculate the percentage of variation of each principal components.\n",
    "* Assuming we have two principal components PC1 and PC2, then  \n",
    "    * The explained_variance_ratio for PC1 = (Variation for PC1/ (Total variation ie (PC1+PC2)))*100"
   ]
  },
  {
   "cell_type": "code",
   "execution_count": 62,
   "metadata": {
    "ExecuteTime": {
     "end_time": "2021-08-25T15:05:19.224176Z",
     "start_time": "2021-08-25T15:05:19.188174Z"
    }
   },
   "outputs": [],
   "source": [
    "# cumsum() is used to display PC's variation with respect to cumulative percentage\n",
    "pca_train_X_variation = np.round(pca_fit_train_X.explained_variance_ratio_.cumsum()*100,decimals=1)"
   ]
  },
  {
   "cell_type": "code",
   "execution_count": 63,
   "metadata": {
    "ExecuteTime": {
     "end_time": "2021-08-25T15:05:19.381185Z",
     "start_time": "2021-08-25T15:05:19.226176Z"
    }
   },
   "outputs": [
    {
     "data": {
      "text/plain": [
       "array([ 11.9,  20.1,  27.8,  33.9,  39.1,  43.4,  46.8,  49.8,  52.4,\n",
       "        54.7,  56.8,  58.7,  60.2,  61.7,  63.2,  64.5,  65.8,  66.9,\n",
       "        67.9,  68.9,  69.8,  70.7,  71.5,  72.3,  73.1,  73.8,  74.6,\n",
       "        75.2,  75.9,  76.6,  77.2,  77.7,  78.3,  78.8,  79.3,  79.7,\n",
       "        80.2,  80.6,  81. ,  81.4,  81.8,  82.2,  82.6,  82.9,  83.3,\n",
       "        83.6,  84. ,  84.3,  84.6,  84.9,  85.2,  85.4,  85.7,  86. ,\n",
       "        86.2,  86.5,  86.7,  87. ,  87.2,  87.4,  87.7,  87.9,  88.1,\n",
       "        88.3,  88.5,  88.7,  88.9,  89.1,  89.3,  89.5,  89.7,  89.9,\n",
       "        90.1,  90.3,  90.5,  90.7,  90.8,  91. ,  91.2,  91.4,  91.5,\n",
       "        91.7,  91.9,  92. ,  92.2,  92.4,  92.5,  92.7,  92.8,  93. ,\n",
       "        93.1,  93.3,  93.4,  93.6,  93.7,  93.8,  94. ,  94.1,  94.2,\n",
       "        94.3,  94.5,  94.6,  94.7,  94.8,  94.9,  95. ,  95.1,  95.3,\n",
       "        95.4,  95.5,  95.6,  95.7,  95.8,  95.9,  95.9,  96. ,  96.1,\n",
       "        96.2,  96.3,  96.4,  96.5,  96.5,  96.6,  96.7,  96.8,  96.8,\n",
       "        96.9,  97. ,  97.1,  97.1,  97.2,  97.3,  97.3,  97.4,  97.4,\n",
       "        97.5,  97.6,  97.6,  97.7,  97.7,  97.8,  97.8,  97.9,  97.9,\n",
       "        98. ,  98. ,  98.1,  98.1,  98.2,  98.2,  98.3,  98.3,  98.3,\n",
       "        98.4,  98.4,  98.5,  98.5,  98.5,  98.6,  98.6,  98.6,  98.7,\n",
       "        98.7,  98.7,  98.8,  98.8,  98.8,  98.9,  98.9,  98.9,  99. ,\n",
       "        99. ,  99. ,  99. ,  99.1,  99.1,  99.1,  99.1,  99.2,  99.2,\n",
       "        99.2,  99.2,  99.2,  99.3,  99.3,  99.3,  99.3,  99.3,  99.4,\n",
       "        99.4,  99.4,  99.4,  99.4,  99.5,  99.5,  99.5,  99.5,  99.5,\n",
       "        99.5,  99.5,  99.6,  99.6,  99.6,  99.6,  99.6,  99.6,  99.6,\n",
       "        99.6,  99.7,  99.7,  99.7,  99.7,  99.7,  99.7,  99.7,  99.7,\n",
       "        99.7,  99.7,  99.8,  99.8,  99.8,  99.8,  99.8,  99.8,  99.8,\n",
       "        99.8,  99.8,  99.8,  99.8,  99.8,  99.8,  99.8,  99.8,  99.8,\n",
       "        99.9,  99.9,  99.9,  99.9,  99.9,  99.9,  99.9,  99.9,  99.9,\n",
       "        99.9,  99.9,  99.9,  99.9,  99.9,  99.9,  99.9,  99.9,  99.9,\n",
       "        99.9,  99.9,  99.9,  99.9,  99.9,  99.9,  99.9,  99.9,  99.9,\n",
       "       100. , 100. , 100. , 100. , 100. , 100. , 100. , 100. , 100. ,\n",
       "       100. , 100. , 100. , 100. , 100. , 100. , 100. , 100. , 100. ,\n",
       "       100. , 100. , 100. , 100. , 100. , 100. , 100. , 100. , 100. ,\n",
       "       100. , 100. , 100. , 100. , 100. , 100. , 100. , 100. , 100. ,\n",
       "       100. , 100. , 100. , 100. , 100. , 100. , 100. , 100. , 100. ,\n",
       "       100. , 100. , 100. , 100. , 100. , 100. , 100. , 100. , 100. ,\n",
       "       100. , 100. , 100. , 100. , 100. , 100. , 100. , 100. , 100. ,\n",
       "       100. , 100. , 100. , 100. , 100. , 100. , 100. , 100. , 100. ,\n",
       "       100. , 100. , 100. , 100. , 100. , 100. , 100. , 100. , 100. ,\n",
       "       100. , 100. , 100. , 100. , 100. , 100. , 100. , 100. , 100. ,\n",
       "       100. , 100. , 100. , 100. , 100. , 100. , 100. , 100. , 100. ,\n",
       "       100. , 100. , 100. , 100. , 100. , 100. , 100. , 100. , 100. ,\n",
       "       100. , 100. , 100. , 100. , 100. , 100. , 100. , 100. , 100. ,\n",
       "       100. , 100. , 100. , 100. , 100. , 100. , 100. , 100. , 100. ,\n",
       "       100. , 100. , 100. , 100. , 100. , 100. , 100. , 100. , 100. ,\n",
       "       100. , 100. , 100. , 100. , 100. , 100. , 100. , 100. , 100. ,\n",
       "       100. , 100. , 100. , 100. , 100. , 100. , 100. , 100. , 100. ,\n",
       "       100. , 100. , 100. , 100. , 100. , 100. , 100. , 100. , 100. ,\n",
       "       100. , 100. , 100. , 100. ])"
      ]
     },
     "execution_count": 63,
     "metadata": {},
     "output_type": "execute_result"
    }
   ],
   "source": [
    "# Print the cumulative percentage of expalined variance\n",
    "pca_train_X_variation"
   ]
  },
  {
   "cell_type": "code",
   "execution_count": 64,
   "metadata": {
    "ExecuteTime": {
     "end_time": "2021-08-25T15:05:19.421185Z",
     "start_time": "2021-08-25T15:05:19.381185Z"
    }
   },
   "outputs": [
    {
     "data": {
      "text/plain": [
       "427"
      ]
     },
     "execution_count": 64,
     "metadata": {},
     "output_type": "execute_result"
    }
   ],
   "source": [
    "pca_train_X_variation.size"
   ]
  },
  {
   "cell_type": "code",
   "execution_count": 65,
   "metadata": {
    "ExecuteTime": {
     "end_time": "2021-08-25T15:05:19.461185Z",
     "start_time": "2021-08-25T15:05:19.421185Z"
    }
   },
   "outputs": [
    {
     "data": {
      "text/plain": [
       "72"
      ]
     },
     "execution_count": 65,
     "metadata": {},
     "output_type": "execute_result"
    }
   ],
   "source": [
    "np.count_nonzero(np.unique(np.extract(pca_train_X_variation<=89.9, pca_train_X_variation)))"
   ]
  },
  {
   "cell_type": "markdown",
   "metadata": {},
   "source": [
    "*  By looking into the array of elements, It is observed that among 427 Principal components, ~90% of variation of the data in train_X dataset is explained by only first 72 principal components. \n",
    "* Let's validate by visualizing scree plot for the first 72 principal components. "
   ]
  },
  {
   "cell_type": "code",
   "execution_count": 66,
   "metadata": {
    "ExecuteTime": {
     "end_time": "2021-08-25T15:05:19.501185Z",
     "start_time": "2021-08-25T15:05:19.461185Z"
    }
   },
   "outputs": [],
   "source": [
    "# create a PCA object again (instantiate) by considering first 72 principal components\n",
    "pca_72=PCA(n_components=72)"
   ]
  },
  {
   "cell_type": "code",
   "execution_count": 67,
   "metadata": {
    "ExecuteTime": {
     "end_time": "2021-08-25T15:05:21.754306Z",
     "start_time": "2021-08-25T15:05:19.501185Z"
    }
   },
   "outputs": [],
   "source": [
    "# fit and transform the train dataset\n",
    "# transform the test dataset\n",
    "\n",
    "# fit the train dataset\n",
    "pca_fit_train_X_72 = pca_72.fit(train_X)\n",
    "\n",
    "# transform the train dataset\n",
    "pca_fit_transform_train_X_72 = pca_fit_train_X_72.transform(train_X)\n",
    "\n",
    "# transform the test dataset\n",
    "pca_transform_test_X_72 = pca_72.transform(test_X)"
   ]
  },
  {
   "cell_type": "code",
   "execution_count": 68,
   "metadata": {
    "ExecuteTime": {
     "end_time": "2021-08-25T15:05:21.761306Z",
     "start_time": "2021-08-25T15:05:21.755306Z"
    },
    "scrolled": true
   },
   "outputs": [
    {
     "data": {
      "text/plain": [
       "array([11.9, 20.1, 27.8, 33.9, 39.1, 43.4, 46.8, 49.8, 52.4, 54.7, 56.8,\n",
       "       58.7, 60.2, 61.7, 63.2, 64.5, 65.8, 66.9, 67.9, 68.9, 69.8, 70.7,\n",
       "       71.5, 72.3, 73.1, 73.8, 74.6, 75.2, 75.9, 76.6, 77.2, 77.7, 78.3,\n",
       "       78.8, 79.3, 79.7, 80.2, 80.6, 81. , 81.4, 81.8, 82.2, 82.6, 82.9,\n",
       "       83.3, 83.6, 84. , 84.3, 84.6, 84.9, 85.2, 85.4, 85.7, 86. , 86.2,\n",
       "       86.5, 86.7, 87. , 87.2, 87.4, 87.6, 87.9, 88.1, 88.3, 88.5, 88.7,\n",
       "       88.9, 89.1, 89.3, 89.4, 89.6, 89.8])"
      ]
     },
     "execution_count": 68,
     "metadata": {},
     "output_type": "execute_result"
    }
   ],
   "source": [
    "# check the variation for the first 72 principal components \n",
    "pca_train_X_variation_72 = np.round(pca_fit_train_X_72.explained_variance_ratio_.cumsum()*100,decimals=1)\n",
    "pca_train_X_variation_72"
   ]
  },
  {
   "cell_type": "markdown",
   "metadata": {},
   "source": [
    "* All the first 72 features of train_X data set will be labelled as PC1, PC2, .....,PC72.\n",
    "    * Eg: feature X10 will be labelled as PC1, etc., \n",
    "* Here, X10 will be the first feature since we have done one hot encoded and dropped the list of categorical features (X0,X1,X2,X3,X4,X5,X6,X8).\n",
    "* After one hot encoding, the newly created columns/features will get automatically moved to the end. Hence the first PC1 will be the feature X10 and so on."
   ]
  },
  {
   "cell_type": "code",
   "execution_count": 69,
   "metadata": {
    "ExecuteTime": {
     "end_time": "2021-08-25T15:05:21.985309Z",
     "start_time": "2021-08-25T15:05:21.763306Z"
    }
   },
   "outputs": [
    {
     "name": "stdout",
     "output_type": "stream",
     "text": [
      "['PC1', 'PC2', 'PC3', 'PC4', 'PC5', 'PC6', 'PC7', 'PC8', 'PC9', 'PC10', 'PC11', 'PC12', 'PC13', 'PC14', 'PC15', 'PC16', 'PC17', 'PC18', 'PC19', 'PC20', 'PC21', 'PC22', 'PC23', 'PC24', 'PC25', 'PC26', 'PC27', 'PC28', 'PC29', 'PC30', 'PC31', 'PC32', 'PC33', 'PC34', 'PC35', 'PC36', 'PC37', 'PC38', 'PC39', 'PC40', 'PC41', 'PC42', 'PC43', 'PC44', 'PC45', 'PC46', 'PC47', 'PC48', 'PC49', 'PC50', 'PC51', 'PC52', 'PC53', 'PC54', 'PC55', 'PC56', 'PC57', 'PC58', 'PC59', 'PC60', 'PC61', 'PC62', 'PC63', 'PC64', 'PC65', 'PC66', 'PC67', 'PC68', 'PC69', 'PC70', 'PC71', 'PC72']\n"
     ]
    }
   ],
   "source": [
    "# assign labels for each PC's as PC1,2,etc., for visulaization in 'Scree-plot'\n",
    "labels = ['PC' + str(x) for x in range(1, len(pca_train_X_variation_72)+1)]\n",
    "print(labels)"
   ]
  },
  {
   "cell_type": "code",
   "execution_count": 70,
   "metadata": {
    "ExecuteTime": {
     "end_time": "2021-08-25T15:05:28.307320Z",
     "start_time": "2021-08-25T15:05:21.985309Z"
    }
   },
   "outputs": [
    {
     "data": {
      "text/plain": [
       "Text(0, 0.5, 'Cumulative percentage of explained variance ')"
      ]
     },
     "execution_count": 70,
     "metadata": {},
     "output_type": "execute_result"
    },
    {
     "data": {
      "image/png": "[encoded data removed]",
      "text/plain": [
       "<Figure size 1800x360 with 1 Axes>"
      ]
     },
     "metadata": {
      "needs_background": "light"
     },
     "output_type": "display_data"
    }
   ],
   "source": [
    "# generate the scree plot\n",
    "plt.figure(figsize=(25,5))\n",
    "plt.bar(x=range(1, len(pca_train_X_variation_72)+1), height=pca_train_X_variation_72,tick_label=labels)\n",
    "plt.xticks(rotation=90, color='indigo', size=15)\n",
    "plt.yticks(rotation=0, color='indigo', size=15)\n",
    "plt.title('Scree Plot',color='tab:orange', fontsize=25)\n",
    "plt.xlabel('Principal Components', {'color': 'tab:orange', 'fontsize':15})\n",
    "plt.ylabel('Cumulative percentage of explained variance ', {'color': 'tab:orange', 'fontsize':15})"
   ]
  },
  {
   "cell_type": "markdown",
   "metadata": {},
   "source": [
    "* Above scree plot shows that, considering first 72 principal components should be sufficient to represent the train_X dataset."
   ]
  },
  {
   "cell_type": "markdown",
   "metadata": {
    "ExecuteTime": {
     "end_time": "2021-08-25T11:02:50.736566Z",
     "start_time": "2021-08-25T11:02:50.726566Z"
    }
   },
   "source": [
    "* Draw the 2D PCA plot by considering only PC1 and PC2.\n",
    "    * PCA plot is to visualize how the data is spread across the origin with new coordinates, based on the loading scores and scaling."
   ]
  },
  {
   "cell_type": "code",
   "execution_count": 71,
   "metadata": {
    "ExecuteTime": {
     "end_time": "2021-08-25T15:05:28.337320Z",
     "start_time": "2021-08-25T15:05:28.307320Z"
    }
   },
   "outputs": [
    {
     "data": {
      "text/html": [
       "<div>\n",
       "<style scoped>\n",
       "    .dataframe tbody tr th:only-of-type {\n",
       "        vertical-align: middle;\n",
       "    }\n",
       "\n",
       "    .dataframe tbody tr th {\n",
       "        vertical-align: top;\n",
       "    }\n",
       "\n",
       "    .dataframe thead th {\n",
       "        text-align: right;\n",
       "    }\n",
       "</style>\n",
       "<table border=\"1\" class=\"dataframe\">\n",
       "  <thead>\n",
       "    <tr style=\"text-align: right;\">\n",
       "      <th></th>\n",
       "      <th>PC1</th>\n",
       "      <th>PC2</th>\n",
       "      <th>PC3</th>\n",
       "      <th>PC4</th>\n",
       "      <th>PC5</th>\n",
       "      <th>PC6</th>\n",
       "      <th>PC7</th>\n",
       "      <th>PC8</th>\n",
       "      <th>PC9</th>\n",
       "      <th>PC10</th>\n",
       "      <th>...</th>\n",
       "      <th>PC63</th>\n",
       "      <th>PC64</th>\n",
       "      <th>PC65</th>\n",
       "      <th>PC66</th>\n",
       "      <th>PC67</th>\n",
       "      <th>PC68</th>\n",
       "      <th>PC69</th>\n",
       "      <th>PC70</th>\n",
       "      <th>PC71</th>\n",
       "      <th>PC72</th>\n",
       "    </tr>\n",
       "  </thead>\n",
       "  <tbody>\n",
       "    <tr>\n",
       "      <th>0</th>\n",
       "      <td>0.853536</td>\n",
       "      <td>-1.231429</td>\n",
       "      <td>2.028732</td>\n",
       "      <td>0.888240</td>\n",
       "      <td>1.620308</td>\n",
       "      <td>-0.067266</td>\n",
       "      <td>0.555436</td>\n",
       "      <td>-1.024861</td>\n",
       "      <td>0.203882</td>\n",
       "      <td>-0.278966</td>\n",
       "      <td>...</td>\n",
       "      <td>0.442997</td>\n",
       "      <td>0.187113</td>\n",
       "      <td>0.060059</td>\n",
       "      <td>-0.285442</td>\n",
       "      <td>-0.213262</td>\n",
       "      <td>1.735745</td>\n",
       "      <td>0.161692</td>\n",
       "      <td>0.162600</td>\n",
       "      <td>0.186648</td>\n",
       "      <td>-0.572077</td>\n",
       "    </tr>\n",
       "    <tr>\n",
       "      <th>1</th>\n",
       "      <td>-0.106862</td>\n",
       "      <td>-1.300605</td>\n",
       "      <td>-0.024610</td>\n",
       "      <td>-0.782815</td>\n",
       "      <td>0.269748</td>\n",
       "      <td>0.147612</td>\n",
       "      <td>1.091444</td>\n",
       "      <td>-0.730456</td>\n",
       "      <td>-0.029105</td>\n",
       "      <td>0.586987</td>\n",
       "      <td>...</td>\n",
       "      <td>0.051266</td>\n",
       "      <td>-0.011726</td>\n",
       "      <td>-0.170447</td>\n",
       "      <td>-0.004101</td>\n",
       "      <td>-0.067187</td>\n",
       "      <td>0.210301</td>\n",
       "      <td>0.103604</td>\n",
       "      <td>0.484842</td>\n",
       "      <td>0.285515</td>\n",
       "      <td>0.052700</td>\n",
       "    </tr>\n",
       "  </tbody>\n",
       "</table>\n",
       "<p>2 rows × 72 columns</p>\n",
       "</div>"
      ],
      "text/plain": [
       "        PC1       PC2       PC3       PC4       PC5       PC6       PC7  \\\n",
       "0  0.853536 -1.231429  2.028732  0.888240  1.620308 -0.067266  0.555436   \n",
       "1 -0.106862 -1.300605 -0.024610 -0.782815  0.269748  0.147612  1.091444   \n",
       "\n",
       "        PC8       PC9      PC10  ...      PC63      PC64      PC65      PC66  \\\n",
       "0 -1.024861  0.203882 -0.278966  ...  0.442997  0.187113  0.060059 -0.285442   \n",
       "1 -0.730456 -0.029105  0.586987  ...  0.051266 -0.011726 -0.170447 -0.004101   \n",
       "\n",
       "       PC67      PC68      PC69      PC70      PC71      PC72  \n",
       "0 -0.213262  1.735745  0.161692  0.162600  0.186648 -0.572077  \n",
       "1 -0.067187  0.210301  0.103604  0.484842  0.285515  0.052700  \n",
       "\n",
       "[2 rows x 72 columns]"
      ]
     },
     "execution_count": 71,
     "metadata": {},
     "output_type": "execute_result"
    }
   ],
   "source": [
    "# Enter the new coordinates created by pca_fit_transform_train_X_72 into matrix\n",
    "# Rows are the observations (X) and columns are the Principal components (Y)\n",
    "pca_fit_transform_train_X_72_df = pd.DataFrame(pca_fit_transform_train_X_72,columns=labels )\n",
    "# verify the first 2 rows of data with new coordinates\n",
    "pca_fit_transform_train_X_72_df.head(2)"
   ]
  },
  {
   "cell_type": "code",
   "execution_count": 72,
   "metadata": {
    "ExecuteTime": {
     "end_time": "2021-08-25T15:05:28.869322Z",
     "start_time": "2021-08-25T15:05:28.337320Z"
    }
   },
   "outputs": [
    {
     "data": {
      "image/png": "[encoded data removed]",
      "text/plain": [
       "<Figure size 432x288 with 1 Axes>"
      ]
     },
     "metadata": {
      "needs_background": "light"
     },
     "output_type": "display_data"
    }
   ],
   "source": [
    "# Draw the 2D PCA plot for PC1 and PC2\n",
    "## Removing the cumsum() from the earlier expalained ratio calculation\n",
    "pca_train_X_variation_72_Nocumsum = np.round(pca_fit_train_X_72.explained_variance_ratio_*100,decimals=1)\n",
    "plt.title('PCA Plot',color='tab:orange', fontsize=20)\n",
    "plt.scatter(pca_fit_transform_train_X_72_df.PC1, pca_fit_transform_train_X_72_df.PC2)\n",
    "plt.xticks(rotation=90, color='indigo', size=15)\n",
    "plt.yticks(rotation=0, color='indigo', size=15)\n",
    "# The principal components are zero-indexed, So, using PC1=[0], PC2=[1]\n",
    "plt.xlabel('PC1 - {0}%'.format(pca_train_X_variation_72_Nocumsum[0]), {'color': 'tab:orange', 'fontsize':15});\n",
    "plt.ylabel('PC2 - {0}%'.format(pca_train_X_variation_72_Nocumsum[1]), {'color': 'tab:orange', 'fontsize':15});"
   ]
  },
  {
   "cell_type": "markdown",
   "metadata": {},
   "source": [
    "* Above PCA plot shows that how the data is spread along X-axis(PC1) and Y-axis (PC2).\n",
    "* 11.9% variance of the data is explained by PC1 and 8.2 % of data is explained by PC2.\n",
    "* Similarly we visulaize how the data is spread among other pricipal components as well.\n",
    "* The Loading scores explains the proportion of each observation with respect to each principal components, Lets print it."
   ]
  },
  {
   "cell_type": "code",
   "execution_count": 73,
   "metadata": {
    "ExecuteTime": {
     "end_time": "2021-08-25T15:05:28.879322Z",
     "start_time": "2021-08-25T15:05:28.869322Z"
    },
    "scrolled": true
   },
   "outputs": [
    {
     "data": {
      "text/plain": [
       "169    0.191403\n",
       "175    0.191403\n",
       "333    0.186282\n",
       "170    0.182937\n",
       "225    0.182545\n",
       "329    0.179593\n",
       "230    0.179417\n",
       "376    0.179417\n",
       "173    0.177518\n",
       "161    0.177018\n",
       "dtype: float64"
      ]
     },
     "execution_count": 73,
     "metadata": {},
     "output_type": "execute_result"
    }
   ],
   "source": [
    "# Print the loading scores\n",
    "#Lets check only for the PC1\n",
    "loading_scores = pd.Series(pca_72.components_[0])\n",
    "#sort the loading scores based on absolute value\n",
    "sorted_loading_scores=loading_scores.abs().sort_values(ascending=False)\n",
    "# display only the top 10 loading scores\n",
    "sorted_loading_scores[0:10]"
   ]
  },
  {
   "cell_type": "code",
   "execution_count": 74,
   "metadata": {
    "ExecuteTime": {
     "end_time": "2021-08-25T15:05:28.929322Z",
     "start_time": "2021-08-25T15:05:28.879322Z"
    }
   },
   "outputs": [
    {
     "name": "stdout",
     "output_type": "stream",
     "text": [
      "1.9545062087806736e-06\n",
      "0.19140322159557818\n"
     ]
    }
   ],
   "source": [
    "# Print the minimum and maximum loading scores of PC1\n",
    "print(sorted_loading_scores.min())\n",
    "print(sorted_loading_scores.max())"
   ]
  },
  {
   "cell_type": "markdown",
   "metadata": {},
   "source": [
    "* It can be concluded from the above loading scores that, almost all the observations of the train datasets plays a role in separating the Principal components PC1.\n",
    "* Example: The 175th observation has a 1 unit long vector consisting of the following:\n",
    "    * 0.191403 * PC1 +.......+ Xn * PCn \n",
    "    * 0.191403 is the proportion of 175th observation for PC1.\n",
    "    * This unit vector is called singular vector or eigen vector for PC1.\n",
    "    * similarly the loading scores will be calculated for PC2 as pca_72.components_[1], etc."
   ]
  },
  {
   "cell_type": "code",
   "execution_count": 75,
   "metadata": {
    "ExecuteTime": {
     "end_time": "2021-08-25T15:05:28.969322Z",
     "start_time": "2021-08-25T15:05:28.929322Z"
    }
   },
   "outputs": [
    {
     "data": {
      "text/plain": [
       "(4209, 72)"
      ]
     },
     "execution_count": 75,
     "metadata": {},
     "output_type": "execute_result"
    }
   ],
   "source": [
    "# From PCA, the final train and test datasets are as follows\n",
    "\n",
    "#train data\n",
    "pca_fit_transform_train_X_72.shape"
   ]
  },
  {
   "cell_type": "code",
   "execution_count": 76,
   "metadata": {
    "ExecuteTime": {
     "end_time": "2021-08-25T15:05:29.009322Z",
     "start_time": "2021-08-25T15:05:28.969322Z"
    }
   },
   "outputs": [
    {
     "data": {
      "text/plain": [
       "(4209, 72)"
      ]
     },
     "execution_count": 76,
     "metadata": {},
     "output_type": "execute_result"
    }
   ],
   "source": [
    "#test data\n",
    "pca_transform_test_X_72.shape"
   ]
  },
  {
   "cell_type": "code",
   "execution_count": 77,
   "metadata": {
    "ExecuteTime": {
     "end_time": "2021-08-25T15:05:29.049322Z",
     "start_time": "2021-08-25T15:05:29.009322Z"
    }
   },
   "outputs": [
    {
     "data": {
      "text/plain": [
       "(4209,)"
      ]
     },
     "execution_count": 77,
     "metadata": {},
     "output_type": "execute_result"
    }
   ],
   "source": [
    "#train label\n",
    "train_y.shape"
   ]
  },
  {
   "cell_type": "code",
   "execution_count": 78,
   "metadata": {
    "ExecuteTime": {
     "end_time": "2021-08-25T15:05:29.099322Z",
     "start_time": "2021-08-25T15:05:29.049322Z"
    }
   },
   "outputs": [
    {
     "data": {
      "text/plain": [
       "(4209,)"
      ]
     },
     "execution_count": 78,
     "metadata": {},
     "output_type": "execute_result"
    }
   ],
   "source": [
    "# train ID\n",
    "train_ID.shape"
   ]
  },
  {
   "cell_type": "code",
   "execution_count": 79,
   "metadata": {
    "ExecuteTime": {
     "end_time": "2021-08-25T15:05:29.149322Z",
     "start_time": "2021-08-25T15:05:29.099322Z"
    }
   },
   "outputs": [
    {
     "data": {
      "text/plain": [
       "(4209,)"
      ]
     },
     "execution_count": 79,
     "metadata": {},
     "output_type": "execute_result"
    }
   ],
   "source": [
    "test_ID.shape"
   ]
  },
  {
   "cell_type": "markdown",
   "metadata": {},
   "source": [
    "## Predict test_data using XGBoost.\n",
    "\n",
    "Before predicting the test values, lets check the target variable train_y for any outliers. If present, the value will be replaced with median values."
   ]
  },
  {
   "cell_type": "code",
   "execution_count": 80,
   "metadata": {
    "ExecuteTime": {
     "end_time": "2021-08-25T15:05:29.439322Z",
     "start_time": "2021-08-25T15:05:29.149322Z"
    }
   },
   "outputs": [
    {
     "data": {
      "text/plain": [
       "{'whiskers': [<matplotlib.lines.Line2D at 0xced4b68>,\n",
       "  <matplotlib.lines.Line2D at 0xced4910>],\n",
       " 'caps': [<matplotlib.lines.Line2D at 0xced4790>,\n",
       "  <matplotlib.lines.Line2D at 0xc9bdf58>],\n",
       " 'boxes': [<matplotlib.lines.Line2D at 0xced43b8>],\n",
       " 'medians': [<matplotlib.lines.Line2D at 0xc9bd538>],\n",
       " 'fliers': [<matplotlib.lines.Line2D at 0xc9bdc28>],\n",
       " 'means': []}"
      ]
     },
     "execution_count": 80,
     "metadata": {},
     "output_type": "execute_result"
    },
    {
     "data": {
      "image/png": "[encoded data removed]",
      "text/plain": [
       "<Figure size 432x288 with 1 Axes>"
      ]
     },
     "metadata": {
      "needs_background": "light"
     },
     "output_type": "display_data"
    }
   ],
   "source": [
    "# Using boxplot to identify the outliers\n",
    "plt.boxplot(train_y)"
   ]
  },
  {
   "cell_type": "markdown",
   "metadata": {},
   "source": [
    "Outliers are observed in the target variable train_y"
   ]
  },
  {
   "cell_type": "code",
   "execution_count": 81,
   "metadata": {
    "ExecuteTime": {
     "end_time": "2021-08-25T15:05:29.449322Z",
     "start_time": "2021-08-25T15:05:29.439322Z"
    }
   },
   "outputs": [
    {
     "name": "stdout",
     "output_type": "stream",
     "text": [
      "99.15\n"
     ]
    }
   ],
   "source": [
    "# Print the 50th percentile value which is the median\n",
    "print(train_y.quantile(0.50)) "
   ]
  },
  {
   "cell_type": "code",
   "execution_count": 82,
   "metadata": {
    "ExecuteTime": {
     "end_time": "2021-08-25T15:05:29.489322Z",
     "start_time": "2021-08-25T15:05:29.449322Z"
    }
   },
   "outputs": [
    {
     "name": "stdout",
     "output_type": "stream",
     "text": [
      "120.80600000000001\n"
     ]
    }
   ],
   "source": [
    "# Print the 95th percentile value \n",
    "print(train_y.quantile(0.95)) "
   ]
  },
  {
   "cell_type": "code",
   "execution_count": 83,
   "metadata": {
    "ExecuteTime": {
     "end_time": "2021-08-25T15:05:29.529322Z",
     "start_time": "2021-08-25T15:05:29.489322Z"
    }
   },
   "outputs": [],
   "source": [
    "# Replace the outlier with median values\n",
    "train_y = np.where(train_y > 120.80600000000001, 99.15, train_y)"
   ]
  },
  {
   "cell_type": "code",
   "execution_count": 84,
   "metadata": {
    "ExecuteTime": {
     "end_time": "2021-08-25T15:05:29.779323Z",
     "start_time": "2021-08-25T15:05:29.529322Z"
    }
   },
   "outputs": [
    {
     "data": {
      "image/png": "[encoded data removed]",
      "text/plain": [
       "<Figure size 432x288 with 1 Axes>"
      ]
     },
     "metadata": {
      "needs_background": "light"
     },
     "output_type": "display_data"
    }
   ],
   "source": [
    "# Verify again with box_plot after replacing the outliers with median values\n",
    "plt.boxplot(train_y);"
   ]
  },
  {
   "cell_type": "code",
   "execution_count": 85,
   "metadata": {
    "ExecuteTime": {
     "end_time": "2021-08-25T15:05:29.799323Z",
     "start_time": "2021-08-25T15:05:29.779323Z"
    }
   },
   "outputs": [
    {
     "data": {
      "text/plain": [
       "(4209,)"
      ]
     },
     "execution_count": 85,
     "metadata": {},
     "output_type": "execute_result"
    }
   ],
   "source": [
    "# Check the shape again   \n",
    "train_y.shape"
   ]
  },
  {
   "cell_type": "markdown",
   "metadata": {},
   "source": [
    "* It is evident from the box plot that outliers are replaced with median values in the target variable train_y.\n",
    "* Also, there is no change in the shape of the target variable. Hence its good to go with further steps."
   ]
  },
  {
   "cell_type": "code",
   "execution_count": 86,
   "metadata": {
    "ExecuteTime": {
     "end_time": "2021-08-25T15:05:30.559324Z",
     "start_time": "2021-08-25T15:05:29.799323Z"
    }
   },
   "outputs": [],
   "source": [
    "# import the required libraries\n",
    "import xgboost as xgb\n",
    "from sklearn.model_selection import cross_val_score,cross_val_predict\n",
    "# Since objective is to predict continuous variable we use XGBregressor\n",
    "from xgboost import XGBRegressor"
   ]
  },
  {
   "cell_type": "markdown",
   "metadata": {
    "ExecuteTime": {
     "end_time": "2021-08-25T11:02:56.518575Z",
     "start_time": "2021-08-25T11:02:56.508575Z"
    }
   },
   "source": [
    "__Evaluation metrics for regression__\n",
    "\n",
    "* We will use R2 in this case.\n",
    "* R2 is also known as Coefficient of Determination.\n",
    "* It gives the percentage variation in 'y' (test time) explained by 'X'variables.\n",
    "* or,it gives the percentage of data points that fall within the regression line.\n",
    "* R2= (1-SSR/SST) .\n",
    "* SSR- Sum of square residual; SST- Sum of squares total.\n",
    "* R2 value should be between 0 to 1.\n",
    "* -R2 valve indicates the worst model."
   ]
  },
  {
   "cell_type": "code",
   "execution_count": 87,
   "metadata": {
    "ExecuteTime": {
     "end_time": "2021-08-25T15:05:30.569324Z",
     "start_time": "2021-08-25T15:05:30.559324Z"
    }
   },
   "outputs": [
    {
     "name": "stdout",
     "output_type": "stream",
     "text": [
      "XGBRegressor(base_score=None, booster=None, colsample_bylevel=None,\n",
      "             colsample_bynode=None, colsample_bytree=None, gamma=None,\n",
      "             gpu_id=None, importance_type='gain', interaction_constraints=None,\n",
      "             learning_rate=None, max_delta_step=None, max_depth=None,\n",
      "             min_child_weight=None, missing=nan, monotone_constraints=None,\n",
      "             n_estimators=100, n_jobs=None, num_parallel_tree=None,\n",
      "             random_state=None, reg_alpha=None, reg_lambda=None,\n",
      "             scale_pos_weight=None, subsample=None, tree_method=None,\n",
      "             validate_parameters=None, verbosity=None)\n"
     ]
    }
   ],
   "source": [
    "# print the XGBoost parameters\n",
    "print(XGBRegressor())"
   ]
  },
  {
   "cell_type": "code",
   "execution_count": 88,
   "metadata": {
    "ExecuteTime": {
     "end_time": "2021-08-25T15:05:30.629324Z",
     "start_time": "2021-08-25T15:05:30.569324Z"
    }
   },
   "outputs": [],
   "source": [
    "# Instantiate the Regressor\n",
    "# specifying random_state ensures same result if we run the model multiple times\n",
    "# Objective will be automatically set to ''reg:squarederror'\n",
    "xgb_reg = xgb.XGBRegressor() "
   ]
  },
  {
   "cell_type": "code",
   "execution_count": 89,
   "metadata": {
    "ExecuteTime": {
     "end_time": "2021-08-25T15:05:30.749324Z",
     "start_time": "2021-08-25T15:05:30.629324Z"
    }
   },
   "outputs": [],
   "source": [
    "#To find best XGBoost Parameters\n",
    "params={ 'learning_rate'   : [0.01,0.05,0.1,1] ,\n",
    "         'max_depth'       : [2,3,5,10],\n",
    "         'min_child_weight': [ 0, 1, 3],\n",
    "         'n_estimators'    : [100,150,200,500],\n",
    "         'gamma'           : [1e-2,1e-3,0,0.1,0.01,0.5,1],\n",
    "         'colsample_bytree': [0.1,0.5,0.7,1],\n",
    "         'subsample'       : [0.2,0.3,0.5,1],\n",
    "         'reg_lambda'      : [0,1,10],\n",
    "         'reg_alpha'       : [1e-5,1e-3,1e-1,1,1e1] \n",
    "        }"
   ]
  },
  {
   "cell_type": "markdown",
   "metadata": {},
   "source": [
    "__Explainations of the parameters__\n",
    "\n",
    "* 'max_depth' - Maximum depth of trees (default = 6, range: [0,∞]).\n",
    "* 'Learning rate'(eta) - scaling the tree by learning rate predicts the output in smaller steps closer to the actual value.\n",
    "* 'reg_lambda' - L1 regularization parameter on weights to avoid overfit.\n",
    "*  'reg_alpha' - L1 regularization parameter on weights to avoid overfit.\n",
    "* 'gamma' - Minimum loss reduction required to make a further partition on a leaf node of the tree (pruning)\n",
    "* 'min_child_weight' - default =1. If the weights of each leaf is less than the min_child weight, then ramove the leaf.\n",
    "* So weights of the each leaf is > min_child_weight.\n",
    "* 'colsample_bytree': It is the subsample ratio of columns when constructing each tree.\n",
    "* 'Subsample' is the  ratio of the training instances. Setting it to 0.5 means that XGBoost would randomly sample half of the training data prior to growing trees. This will prevent overfitting. \n",
    "* Subsampling will occur once in every boosting iteration.\n",
    "* 'n_estimators' is the number of trees."
   ]
  },
  {
   "cell_type": "code",
   "execution_count": 90,
   "metadata": {
    "ExecuteTime": {
     "end_time": "2021-08-25T15:05:30.789324Z",
     "start_time": "2021-08-25T15:05:30.749324Z"
    }
   },
   "outputs": [],
   "source": [
    "# Optimize the Hyperparameter using RandomizedSearchCV\n",
    "from sklearn.model_selection import RandomizedSearchCV"
   ]
  },
  {
   "cell_type": "code",
   "execution_count": 91,
   "metadata": {
    "ExecuteTime": {
     "end_time": "2021-08-25T15:05:30.829324Z",
     "start_time": "2021-08-25T15:05:30.789324Z"
    }
   },
   "outputs": [],
   "source": [
    "# Using Random search of parameters with 10 fold cross validation\n",
    "# Improve the predictions using cross validation to optimize the parameters\n",
    "Random_Search=RandomizedSearchCV (xgb_reg,params,cv=10, scoring='r2', return_train_score=True, n_jobs=-1,verbose=1) \n",
    "# cv=10 - Number of folds in a `(Stratified)KFold`"
   ]
  },
  {
   "cell_type": "code",
   "execution_count": 92,
   "metadata": {
    "ExecuteTime": {
     "end_time": "2021-08-25T15:06:45.960499Z",
     "start_time": "2021-08-25T15:05:30.829324Z"
    }
   },
   "outputs": [
    {
     "name": "stdout",
     "output_type": "stream",
     "text": [
      "Fitting 10 folds for each of 10 candidates, totalling 100 fits\n"
     ]
    },
    {
     "name": "stderr",
     "output_type": "stream",
     "text": [
      "[Parallel(n_jobs=-1)]: Using backend LokyBackend with 4 concurrent workers.\n",
      "[Parallel(n_jobs=-1)]: Done  42 tasks      | elapsed:   34.5s\n",
      "[Parallel(n_jobs=-1)]: Done 100 out of 100 | elapsed:  1.2min finished\n"
     ]
    },
    {
     "data": {
      "text/plain": [
       "RandomizedSearchCV(cv=10,\n",
       "                   estimator=XGBRegressor(base_score=None, booster=None,\n",
       "                                          colsample_bylevel=None,\n",
       "                                          colsample_bynode=None,\n",
       "                                          colsample_bytree=None, gamma=None,\n",
       "                                          gpu_id=None, importance_type='gain',\n",
       "                                          interaction_constraints=None,\n",
       "                                          learning_rate=None,\n",
       "                                          max_delta_step=None, max_depth=None,\n",
       "                                          min_child_weight=None, missing=nan,\n",
       "                                          monotone_constraints=None,\n",
       "                                          n_estimators=100,...\n",
       "                   n_jobs=-1,\n",
       "                   param_distributions={'colsample_bytree': [0.1, 0.5, 0.7, 1],\n",
       "                                        'gamma': [0.01, 0.001, 0, 0.1, 0.01,\n",
       "                                                  0.5, 1],\n",
       "                                        'learning_rate': [0.01, 0.05, 0.1, 1],\n",
       "                                        'max_depth': [2, 3, 5, 10],\n",
       "                                        'min_child_weight': [0, 1, 3],\n",
       "                                        'n_estimators': [100, 150, 200, 500],\n",
       "                                        'reg_alpha': [1e-05, 0.001, 0.1, 1,\n",
       "                                                      10.0],\n",
       "                                        'reg_lambda': [0, 1, 10],\n",
       "                                        'subsample': [0.2, 0.3, 0.5, 1]},\n",
       "                   return_train_score=True, scoring='r2', verbose=1)"
      ]
     },
     "execution_count": 92,
     "metadata": {},
     "output_type": "execute_result"
    }
   ],
   "source": [
    "# Fit the training set to the Randon_Search to obtain the best estimators and parameters.\n",
    "Random_Search.fit(pca_fit_transform_train_X_72,train_y)"
   ]
  },
  {
   "cell_type": "code",
   "execution_count": 93,
   "metadata": {
    "ExecuteTime": {
     "end_time": "2021-08-25T15:06:45.968500Z",
     "start_time": "2021-08-25T15:06:45.961499Z"
    }
   },
   "outputs": [
    {
     "data": {
      "text/plain": [
       "XGBRegressor(base_score=0.5, booster='gbtree', colsample_bylevel=1,\n",
       "             colsample_bynode=1, colsample_bytree=0.5, gamma=0.01, gpu_id=-1,\n",
       "             importance_type='gain', interaction_constraints='',\n",
       "             learning_rate=0.1, max_delta_step=0, max_depth=3,\n",
       "             min_child_weight=0, missing=nan, monotone_constraints='()',\n",
       "             n_estimators=200, n_jobs=4, num_parallel_tree=1, random_state=0,\n",
       "             reg_alpha=0.1, reg_lambda=0, scale_pos_weight=1, subsample=0.5,\n",
       "             tree_method='exact', validate_parameters=1, verbosity=None)"
      ]
     },
     "execution_count": 93,
     "metadata": {},
     "output_type": "execute_result"
    }
   ],
   "source": [
    "# Print the best estimator\n",
    "Random_Search.best_estimator_"
   ]
  },
  {
   "cell_type": "code",
   "execution_count": 94,
   "metadata": {
    "ExecuteTime": {
     "end_time": "2021-08-25T15:06:46.014502Z",
     "start_time": "2021-08-25T15:06:45.970500Z"
    }
   },
   "outputs": [
    {
     "data": {
      "text/plain": [
       "{'subsample': 0.5,\n",
       " 'reg_lambda': 0,\n",
       " 'reg_alpha': 0.1,\n",
       " 'n_estimators': 200,\n",
       " 'min_child_weight': 0,\n",
       " 'max_depth': 3,\n",
       " 'learning_rate': 0.1,\n",
       " 'gamma': 0.01,\n",
       " 'colsample_bytree': 0.5}"
      ]
     },
     "execution_count": 94,
     "metadata": {},
     "output_type": "execute_result"
    }
   ],
   "source": [
    "#Print the best parameters\n",
    "Random_Search.best_params_"
   ]
  },
  {
   "cell_type": "code",
   "execution_count": 95,
   "metadata": {
    "ExecuteTime": {
     "end_time": "2021-08-25T15:06:46.067504Z",
     "start_time": "2021-08-25T15:06:46.017503Z"
    }
   },
   "outputs": [],
   "source": [
    "# Instantiate the XGBoost classifier with the best estimators and parameters\n",
    "xgb_reg = XGBRegressor(base_score=0.5, booster='gbtree', colsample_bylevel=1,\n",
    "             colsample_bynode=1, colsample_bytree=0.7, gamma=0.5, gpu_id=-1,\n",
    "             importance_type='gain', interaction_constraints='',\n",
    "             learning_rate=0.1, max_delta_step=0, max_depth=2,\n",
    "             min_child_weight=0, monotone_constraints='()',\n",
    "             n_estimators=200, n_jobs=4, num_parallel_tree=1, random_state=0,\n",
    "             reg_alpha=10.0, reg_lambda=10, scale_pos_weight=1, subsample=0.5,\n",
    "             tree_method='exact', validate_parameters=1, verbosity=None)"
   ]
  },
  {
   "cell_type": "code",
   "execution_count": 96,
   "metadata": {
    "ExecuteTime": {
     "end_time": "2021-08-25T15:06:55.551041Z",
     "start_time": "2021-08-25T15:06:46.067504Z"
    }
   },
   "outputs": [
    {
     "data": {
      "text/plain": [
       "array([0.65658869, 0.62269409, 0.54269783, 0.65259974, 0.64084153,\n",
       "       0.57692535, 0.51893168, 0.64919771, 0.64786329, 0.66546407])"
      ]
     },
     "execution_count": 96,
     "metadata": {},
     "output_type": "execute_result"
    }
   ],
   "source": [
    "# Check the r2 score of the model using Number of folds in a `(Stratified)KFold` cv=10\n",
    "r2_Score = cross_val_score(xgb_reg, pca_fit_transform_train_X_72, train_y, scoring=\"r2\",cv=10)\n",
    "r2_Score"
   ]
  },
  {
   "cell_type": "code",
   "execution_count": 97,
   "metadata": {
    "ExecuteTime": {
     "end_time": "2021-08-25T15:06:55.556041Z",
     "start_time": "2021-08-25T15:06:55.552041Z"
    }
   },
   "outputs": [
    {
     "name": "stdout",
     "output_type": "stream",
     "text": [
      "r2_score of the model with cross validation is: 0.62\n"
     ]
    }
   ],
   "source": [
    "# Print the mean r2_score\n",
    "print('r2_score of the model with cross validation is:',round(r2_Score.mean(),2))"
   ]
  },
  {
   "cell_type": "markdown",
   "metadata": {},
   "source": [
    "**Insights**\n",
    "* Since r2_score with cross validation is: 0.62 or 62 % which is between 50 to 100%. Hence, its good to proceed with the prediction of time the car takes to pass testing using test data.\n",
    "* This means the model explains 62% variability of the target variable (y) around its mean."
   ]
  },
  {
   "cell_type": "code",
   "execution_count": 98,
   "metadata": {
    "ExecuteTime": {
     "end_time": "2021-08-25T15:06:56.816111Z",
     "start_time": "2021-08-25T15:06:55.558042Z"
    }
   },
   "outputs": [
    {
     "data": {
      "text/plain": [
       "XGBRegressor(base_score=0.5, booster='gbtree', colsample_bylevel=1,\n",
       "             colsample_bynode=1, colsample_bytree=0.7, gamma=0.5, gpu_id=-1,\n",
       "             importance_type='gain', interaction_constraints='',\n",
       "             learning_rate=0.1, max_delta_step=0, max_depth=2,\n",
       "             min_child_weight=0, missing=nan, monotone_constraints='()',\n",
       "             n_estimators=200, n_jobs=4, num_parallel_tree=1, random_state=0,\n",
       "             reg_alpha=10.0, reg_lambda=10, scale_pos_weight=1, subsample=0.5,\n",
       "             tree_method='exact', validate_parameters=1, verbosity=None)"
      ]
     },
     "execution_count": 98,
     "metadata": {},
     "output_type": "execute_result"
    }
   ],
   "source": [
    "# Fit the training data\n",
    "xgb_reg.fit(pca_fit_transform_train_X_72,train_y)"
   ]
  },
  {
   "cell_type": "code",
   "execution_count": 99,
   "metadata": {
    "ExecuteTime": {
     "end_time": "2021-08-25T15:06:56.834112Z",
     "start_time": "2021-08-25T15:06:56.817111Z"
    }
   },
   "outputs": [
    {
     "data": {
      "text/plain": [
       "array([ 77.29153 ,  92.26583 ,  77.42101 , ...,  95.991974, 107.90856 ,\n",
       "        93.93928 ], dtype=float32)"
      ]
     },
     "execution_count": 99,
     "metadata": {},
     "output_type": "execute_result"
    }
   ],
   "source": [
    "# predict the time taken by car to pass testing using test dataset\n",
    "X_test_pred = xgb_reg.predict(pca_transform_test_X_72)\n",
    "X_test_pred "
   ]
  },
  {
   "cell_type": "code",
   "execution_count": 100,
   "metadata": {
    "ExecuteTime": {
     "end_time": "2021-08-25T15:06:56.879115Z",
     "start_time": "2021-08-25T15:06:56.835112Z"
    }
   },
   "outputs": [
    {
     "data": {
      "text/html": [
       "<div>\n",
       "<style scoped>\n",
       "    .dataframe tbody tr th:only-of-type {\n",
       "        vertical-align: middle;\n",
       "    }\n",
       "\n",
       "    .dataframe tbody tr th {\n",
       "        vertical-align: top;\n",
       "    }\n",
       "\n",
       "    .dataframe thead th {\n",
       "        text-align: right;\n",
       "    }\n",
       "</style>\n",
       "<table border=\"1\" class=\"dataframe\">\n",
       "  <thead>\n",
       "    <tr style=\"text-align: right;\">\n",
       "      <th></th>\n",
       "      <th>ID</th>\n",
       "      <th>y</th>\n",
       "    </tr>\n",
       "  </thead>\n",
       "  <tbody>\n",
       "    <tr>\n",
       "      <th>0</th>\n",
       "      <td>1</td>\n",
       "      <td>77.291527</td>\n",
       "    </tr>\n",
       "    <tr>\n",
       "      <th>1</th>\n",
       "      <td>2</td>\n",
       "      <td>92.265831</td>\n",
       "    </tr>\n",
       "    <tr>\n",
       "      <th>2</th>\n",
       "      <td>3</td>\n",
       "      <td>77.421013</td>\n",
       "    </tr>\n",
       "    <tr>\n",
       "      <th>3</th>\n",
       "      <td>4</td>\n",
       "      <td>78.572342</td>\n",
       "    </tr>\n",
       "    <tr>\n",
       "      <th>4</th>\n",
       "      <td>5</td>\n",
       "      <td>107.292984</td>\n",
       "    </tr>\n",
       "    <tr>\n",
       "      <th>5</th>\n",
       "      <td>8</td>\n",
       "      <td>90.539230</td>\n",
       "    </tr>\n",
       "    <tr>\n",
       "      <th>6</th>\n",
       "      <td>10</td>\n",
       "      <td>108.486572</td>\n",
       "    </tr>\n",
       "    <tr>\n",
       "      <th>7</th>\n",
       "      <td>11</td>\n",
       "      <td>92.264816</td>\n",
       "    </tr>\n",
       "    <tr>\n",
       "      <th>8</th>\n",
       "      <td>12</td>\n",
       "      <td>108.478447</td>\n",
       "    </tr>\n",
       "    <tr>\n",
       "      <th>9</th>\n",
       "      <td>14</td>\n",
       "      <td>96.371689</td>\n",
       "    </tr>\n",
       "  </tbody>\n",
       "</table>\n",
       "</div>"
      ],
      "text/plain": [
       "   ID           y\n",
       "0   1   77.291527\n",
       "1   2   92.265831\n",
       "2   3   77.421013\n",
       "3   4   78.572342\n",
       "4   5  107.292984\n",
       "5   8   90.539230\n",
       "6  10  108.486572\n",
       "7  11   92.264816\n",
       "8  12  108.478447\n",
       "9  14   96.371689"
      ]
     },
     "execution_count": 100,
     "metadata": {},
     "output_type": "execute_result"
    }
   ],
   "source": [
    "# print the predicted value (time) in the form of table\n",
    "df_test_pred = pd.DataFrame({'ID': test_ID, 'y': X_test_pred})\n",
    "# Print the first 10 predicted values\n",
    "df_test_pred.head(10)"
   ]
  },
  {
   "cell_type": "code",
   "execution_count": 101,
   "metadata": {
    "ExecuteTime": {
     "end_time": "2021-08-25T15:06:56.938118Z",
     "start_time": "2021-08-25T15:06:56.880115Z"
    }
   },
   "outputs": [],
   "source": [
    "# save the predicted time values \n",
    "df_test_pred.to_csv('submission.csv', index=False)"
   ]
  },
  {
   "cell_type": "markdown",
   "metadata": {},
   "source": [
    "**Conclusion**:\n",
    "* For a given datasets, XGBoost Regressor algorithm with cross validation results in R2 score of **0.62**."
   ]
  }
 ],
 "metadata": {
  "kernelspec": {
   "display_name": "Python 3",
   "language": "python",
   "name": "python3"
  },
  "language_info": {
   "codemirror_mode": {
    "name": "ipython",
    "version": 3
   },
   "file_extension": ".py",
   "mimetype": "text/x-python",
   "name": "python",
   "nbconvert_exporter": "python",
   "pygments_lexer": "ipython3",
   "version": "3.8.10"
  },
  "toc": {
   "base_numbering": 1,
   "nav_menu": {},
   "number_sections": true,
   "sideBar": true,
   "skip_h1_title": false,
   "title_cell": "Table of Contents",
   "title_sidebar": "Contents",
   "toc_cell": false,
   "toc_position": {},
   "toc_section_display": true,
   "toc_window_display": true
  }
 },
 "nbformat": 4,
 "nbformat_minor": 4
}
