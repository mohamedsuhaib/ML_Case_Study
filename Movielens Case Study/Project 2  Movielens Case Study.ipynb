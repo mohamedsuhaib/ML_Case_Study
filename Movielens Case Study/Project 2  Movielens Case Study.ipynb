{
 "cells": [
  {
   "cell_type": "markdown",
   "id": "f5c90891",
   "metadata": {
    "ExecuteTime": {
     "end_time": "2021-07-14T09:08:13.920113Z",
     "start_time": "2021-07-14T09:08:13.910113Z"
    }
   },
   "source": [
    "<img src=\"http://cfs22.simplicdn.net/ice9/new_logo.svgz \"/>\n",
    "\n",
    "# Project 02: Movielens Case Study\n",
    "__DESCRIPTION__\n",
    "\n",
    "__Background of Problem Statement :__\n",
    "\n",
    "The GroupLens Research Project is a research group in the Department of Computer Science and Engineering at the University of Minnesota. Members of the GroupLens Research Project are involved in many research projects related to the fields of information filtering, collaborative filtering, and recommender systems. The project is led by professors John Riedl and Joseph Konstan. The project began to explore automated collaborative filtering in 1992 but is most well known for its worldwide trial of an automated collaborative filtering system for Usenet news in 1996. Since then the project has expanded its scope to research overall information by filtering solutions, integrating into content-based methods, as well as, improving current collaborative filtering technology.\n",
    "\n",
    "__Problem Objective :__\n",
    "\n",
    "Here, we ask you to perform the analysis using the Exploratory Data Analysis technique. You need to find features affecting the ratings of any particular movie and build a model to predict the movie ratings.\n",
    "\n",
    "__Domain:__ Entertainment\n",
    "\n",
    "__Analysis Tasks to be performed:__\n",
    "\n",
    "   * Import the three datasets\n",
    "   * Create a new dataset [Master_Data] with the following columns MovieID Title UserID Age Gender Occupation Rating. (Hint: (i) Merge two tables at a time. (ii) Merge the tables using two primary keys MovieID & UserId)\n",
    "   * Explore the datasets using visual representations (graphs or tables), also include your comments on the following:\n",
    "        * User Age Distribution\n",
    "        * User rating of the movie “Toy Story”\n",
    "        * Top 25 movies by viewership rating\n",
    "        * Find the ratings for all the movies reviewed by for a particular user of user id = 2696\n",
    "\n",
    "\n",
    "   * Feature Engineering:\n",
    "   \n",
    "       Use column genres:\n",
    "\n",
    "        * Find out all the unique genres (Hint: split the data in column genre making a list and then process the data to find out only the unique categories of genres)\n",
    "        * Create a separate column for each genre category with a one-hot encoding ( 1 and 0) whether or not the movie belongs to that genre. \n",
    "        * Determine the features affecting the ratings of any particular movie.\n",
    "        * Develop an appropriate model to predict the movie ratings"
   ]
  },
  {
   "cell_type": "markdown",
   "id": "21c7959f",
   "metadata": {
    "toc": true
   },
   "source": [
    "<h1>Table of Contents<span class=\"tocSkip\"></span></h1>\n",
    "<div class=\"toc\"><ul class=\"toc-item\"><li><span><a href=\"#Import-Libraries-and-the-datasets\" data-toc-modified-id=\"Import-Libraries-and-the-datasets-1\"><span class=\"toc-item-num\">1&nbsp;&nbsp;</span>Import Libraries and the datasets</a></span><ul class=\"toc-item\"><li><span><a href=\"#Import-Libraries\" data-toc-modified-id=\"Import-Libraries-1.1\"><span class=\"toc-item-num\">1.1&nbsp;&nbsp;</span>Import Libraries</a></span></li><li><span><a href=\"#Import-Datasets\" data-toc-modified-id=\"Import-Datasets-1.2\"><span class=\"toc-item-num\">1.2&nbsp;&nbsp;</span>Import Datasets</a></span></li></ul></li><li><span><a href=\"#Create-a-new-dataset-[Master_Data]:\" data-toc-modified-id=\"Create-a-new-dataset-[Master_Data]:-2\"><span class=\"toc-item-num\">2&nbsp;&nbsp;</span>Create a new dataset [Master_Data]:</a></span></li><li><span><a href=\"#Explore-the-datasets-using-visual-representations\" data-toc-modified-id=\"Explore-the-datasets-using-visual-representations-3\"><span class=\"toc-item-num\">3&nbsp;&nbsp;</span>Explore the datasets using visual representations</a></span><ul class=\"toc-item\"><li><span><a href=\"#Visualizing-User-Age-Distribution\" data-toc-modified-id=\"Visualizing-User-Age-Distribution-3.1\"><span class=\"toc-item-num\">3.1&nbsp;&nbsp;</span>Visualizing User Age Distribution</a></span></li><li><span><a href=\"#Visualizing-User-rating-of-the-movie-“Toy-Story”\" data-toc-modified-id=\"Visualizing-User-rating-of-the-movie-“Toy-Story”-3.2\"><span class=\"toc-item-num\">3.2&nbsp;&nbsp;</span>Visualizing User rating of the movie “Toy Story”</a></span></li><li><span><a href=\"#Top-25-movies-by-viewership-rating\" data-toc-modified-id=\"Top-25-movies-by-viewership-rating-3.3\"><span class=\"toc-item-num\">3.3&nbsp;&nbsp;</span>Top 25 movies by viewership rating</a></span></li><li><span><a href=\"#Find-the-ratings-for-all-the-movies-reviewed-by-for-a-particular-user-of-user-id-=-2696\" data-toc-modified-id=\"Find-the-ratings-for-all-the-movies-reviewed-by-for-a-particular-user-of-user-id-=-2696-3.4\"><span class=\"toc-item-num\">3.4&nbsp;&nbsp;</span>Find the ratings for all the movies reviewed by for a particular user of user id = 2696</a></span></li></ul></li><li><span><a href=\"#Feature-Engineering:\" data-toc-modified-id=\"Feature-Engineering:-4\"><span class=\"toc-item-num\">4&nbsp;&nbsp;</span>Feature Engineering:</a></span><ul class=\"toc-item\"><li><span><a href=\"#Find-out-all-the-unique-genres\" data-toc-modified-id=\"Find-out-all-the-unique-genres-4.1\"><span class=\"toc-item-num\">4.1&nbsp;&nbsp;</span>Find out all the unique genres</a></span></li><li><span><a href=\"#Create-a-separate-column-for-each-genre-category-with-a-one-hot-encoding\" data-toc-modified-id=\"Create-a-separate-column-for-each-genre-category-with-a-one-hot-encoding-4.2\"><span class=\"toc-item-num\">4.2&nbsp;&nbsp;</span>Create a separate column for each genre category with a one-hot encoding</a></span><ul class=\"toc-item\"><li><span><a href=\"#Data-Preprocessing\" data-toc-modified-id=\"Data-Preprocessing-4.2.1\"><span class=\"toc-item-num\">4.2.1&nbsp;&nbsp;</span>Data Preprocessing</a></span></li></ul></li><li><span><a href=\"#Determine-the-features-affecting-the-ratings-of-any-particular-movie.\" data-toc-modified-id=\"Determine-the-features-affecting-the-ratings-of-any-particular-movie.-4.3\"><span class=\"toc-item-num\">4.3&nbsp;&nbsp;</span>Determine the features affecting the ratings of any particular movie.</a></span><ul class=\"toc-item\"><li><span><a href=\"#Merging-'Filtered_Master_Data_df'-with-'Encoded_Genres_df'.\" data-toc-modified-id=\"Merging-'Filtered_Master_Data_df'-with-'Encoded_Genres_df'.-4.3.1\"><span class=\"toc-item-num\">4.3.1&nbsp;&nbsp;</span>Merging 'Filtered_Master_Data_df' with 'Encoded_Genres_df'.</a></span></li><li><span><a href=\"#Train-Model-For-Logistic-Regression\" data-toc-modified-id=\"Train-Model-For-Logistic-Regression-4.3.2\"><span class=\"toc-item-num\">4.3.2&nbsp;&nbsp;</span>Train Model For Logistic Regression</a></span></li></ul></li><li><span><a href=\"#Develop-an-appropriate-model-to-predict-the-movie-ratings\" data-toc-modified-id=\"Develop-an-appropriate-model-to-predict-the-movie-ratings-4.4\"><span class=\"toc-item-num\">4.4&nbsp;&nbsp;</span>Develop an appropriate model to predict the movie ratings</a></span><ul class=\"toc-item\"><li><span><a href=\"#Spot-Check-with-other-Algorithms\" data-toc-modified-id=\"Spot-Check-with-other-Algorithms-4.4.1\"><span class=\"toc-item-num\">4.4.1&nbsp;&nbsp;</span>Spot-Check with other Algorithms</a></span></li></ul></li></ul></li><li><span><a href=\"#Case-Study-Insights\" data-toc-modified-id=\"Case-Study-Insights-5\"><span class=\"toc-item-num\">5&nbsp;&nbsp;</span>Case Study Insights</a></span></li></ul></div>"
   ]
  },
  {
   "cell_type": "markdown",
   "id": "f81d92ba",
   "metadata": {},
   "source": [
    "## Import Libraries and the datasets"
   ]
  },
  {
   "cell_type": "markdown",
   "id": "756f7a3d",
   "metadata": {},
   "source": [
    "### Import Libraries"
   ]
  },
  {
   "cell_type": "code",
   "execution_count": 1,
   "id": "a4c35c0c",
   "metadata": {
    "ExecuteTime": {
     "end_time": "2021-07-17T16:29:28.473212Z",
     "start_time": "2021-07-17T16:29:09.608133Z"
    }
   },
   "outputs": [],
   "source": [
    "#Importing all the necessary libraries\n",
    "import numpy as np\n",
    "import pandas as pd\n",
    "import matplotlib.pyplot as plt\n",
    "%matplotlib inline\n",
    "import seaborn as sns\n",
    "from matplotlib.style import use\n",
    "\n",
    "import warnings \n",
    "warnings.filterwarnings('ignore')"
   ]
  },
  {
   "cell_type": "markdown",
   "id": "af7494b9",
   "metadata": {},
   "source": [
    "### Import Datasets"
   ]
  },
  {
   "cell_type": "code",
   "execution_count": 2,
   "id": "8daf9365",
   "metadata": {
    "ExecuteTime": {
     "end_time": "2021-07-17T16:29:34.860578Z",
     "start_time": "2021-07-17T16:29:28.480213Z"
    }
   },
   "outputs": [],
   "source": [
    "#loading the datasets\n",
    "ratings_df = pd.read_csv(\"D:\\\\NIPUN_SC_REC\\\\3_Practice_Project\\\\Course_5_Data Science with Python\\\\Practice_projects\\\\Project 2 Movielens Case Study\\\\ratings.dat\", \n",
    "                         sep=\"::\", header=None, names =['UserID','MovieID','Rating','Timestamp'])\n",
    "\n",
    "users_df = pd.read_csv(\"D:\\\\NIPUN_SC_REC\\\\3_Practice_Project\\\\Course_5_Data Science with Python\\\\Practice_projects\\\\Project 2 Movielens Case Study\\\\users.dat\", \n",
    "                       sep=\"::\", header=None, names =['UserID','Gender','Age','Occupation','Zip-code'])\n",
    "\n",
    "movies_df = pd.read_csv(\"D:\\\\NIPUN_SC_REC\\\\3_Practice_Project\\\\Course_5_Data Science with Python\\\\Practice_projects\\\\Project 2 Movielens Case Study\\\\movies.dat\", \n",
    "                        sep=\"::\", header=None, names =['MovieID','Title','Genres'])"
   ]
  },
  {
   "cell_type": "code",
   "execution_count": 3,
   "id": "a48d2025",
   "metadata": {
    "ExecuteTime": {
     "end_time": "2021-07-17T16:29:34.985585Z",
     "start_time": "2021-07-17T16:29:34.864578Z"
    }
   },
   "outputs": [
    {
     "data": {
      "text/html": [
       "<div>\n",
       "<style scoped>\n",
       "    .dataframe tbody tr th:only-of-type {\n",
       "        vertical-align: middle;\n",
       "    }\n",
       "\n",
       "    .dataframe tbody tr th {\n",
       "        vertical-align: top;\n",
       "    }\n",
       "\n",
       "    .dataframe thead th {\n",
       "        text-align: right;\n",
       "    }\n",
       "</style>\n",
       "<table border=\"1\" class=\"dataframe\">\n",
       "  <thead>\n",
       "    <tr style=\"text-align: right;\">\n",
       "      <th></th>\n",
       "      <th>UserID</th>\n",
       "      <th>MovieID</th>\n",
       "      <th>Rating</th>\n",
       "      <th>Timestamp</th>\n",
       "    </tr>\n",
       "  </thead>\n",
       "  <tbody>\n",
       "    <tr>\n",
       "      <th>0</th>\n",
       "      <td>1</td>\n",
       "      <td>1193</td>\n",
       "      <td>5</td>\n",
       "      <td>978300760</td>\n",
       "    </tr>\n",
       "    <tr>\n",
       "      <th>1</th>\n",
       "      <td>1</td>\n",
       "      <td>661</td>\n",
       "      <td>3</td>\n",
       "      <td>978302109</td>\n",
       "    </tr>\n",
       "    <tr>\n",
       "      <th>2</th>\n",
       "      <td>1</td>\n",
       "      <td>914</td>\n",
       "      <td>3</td>\n",
       "      <td>978301968</td>\n",
       "    </tr>\n",
       "    <tr>\n",
       "      <th>3</th>\n",
       "      <td>1</td>\n",
       "      <td>3408</td>\n",
       "      <td>4</td>\n",
       "      <td>978300275</td>\n",
       "    </tr>\n",
       "    <tr>\n",
       "      <th>4</th>\n",
       "      <td>1</td>\n",
       "      <td>2355</td>\n",
       "      <td>5</td>\n",
       "      <td>978824291</td>\n",
       "    </tr>\n",
       "  </tbody>\n",
       "</table>\n",
       "</div>"
      ],
      "text/plain": [
       "   UserID  MovieID  Rating  Timestamp\n",
       "0       1     1193       5  978300760\n",
       "1       1      661       3  978302109\n",
       "2       1      914       3  978301968\n",
       "3       1     3408       4  978300275\n",
       "4       1     2355       5  978824291"
      ]
     },
     "execution_count": 3,
     "metadata": {},
     "output_type": "execute_result"
    }
   ],
   "source": [
    "#View the first five observations in ratings dataframe\n",
    "ratings_df.head()"
   ]
  },
  {
   "cell_type": "code",
   "execution_count": 4,
   "id": "821a140c",
   "metadata": {
    "ExecuteTime": {
     "end_time": "2021-07-17T16:29:35.038588Z",
     "start_time": "2021-07-17T16:29:34.990585Z"
    },
    "scrolled": true
   },
   "outputs": [
    {
     "name": "stdout",
     "output_type": "stream",
     "text": [
      "<class 'pandas.core.frame.DataFrame'>\n",
      "RangeIndex: 1000209 entries, 0 to 1000208\n",
      "Data columns (total 4 columns):\n",
      " #   Column     Non-Null Count    Dtype\n",
      "---  ------     --------------    -----\n",
      " 0   UserID     1000209 non-null  int64\n",
      " 1   MovieID    1000209 non-null  int64\n",
      " 2   Rating     1000209 non-null  int64\n",
      " 3   Timestamp  1000209 non-null  int64\n",
      "dtypes: int64(4)\n",
      "memory usage: 30.5 MB\n"
     ]
    }
   ],
   "source": [
    "#overview of the ratings dataframe \n",
    "ratings_df.info()"
   ]
  },
  {
   "cell_type": "code",
   "execution_count": 5,
   "id": "40c2ed4e",
   "metadata": {
    "ExecuteTime": {
     "end_time": "2021-07-17T16:29:35.084590Z",
     "start_time": "2021-07-17T16:29:35.079590Z"
    }
   },
   "outputs": [
    {
     "data": {
      "text/plain": [
       "(1000209, 4)"
      ]
     },
     "execution_count": 5,
     "metadata": {},
     "output_type": "execute_result"
    }
   ],
   "source": [
    "#check the dimensionality of the DataFrame/(No.of rows and columns)\n",
    "ratings_df.shape"
   ]
  },
  {
   "cell_type": "code",
   "execution_count": 6,
   "id": "fb1573a2",
   "metadata": {
    "ExecuteTime": {
     "end_time": "2021-07-17T16:29:35.136593Z",
     "start_time": "2021-07-17T16:29:35.090591Z"
    }
   },
   "outputs": [
    {
     "data": {
      "text/plain": [
       "UserID       0\n",
       "MovieID      0\n",
       "Rating       0\n",
       "Timestamp    0\n",
       "dtype: int64"
      ]
     },
     "execution_count": 6,
     "metadata": {},
     "output_type": "execute_result"
    }
   ],
   "source": [
    "#Check any empty or null values in columns\n",
    "ratings_df.isnull().sum()"
   ]
  },
  {
   "cell_type": "markdown",
   "id": "460bfdf7",
   "metadata": {},
   "source": [
    "<font color='green'><b>The rating dataset has no empty or null columns.</b></font>"
   ]
  },
  {
   "cell_type": "code",
   "execution_count": 7,
   "id": "83e2ebe2",
   "metadata": {
    "ExecuteTime": {
     "end_time": "2021-07-17T16:29:35.166595Z",
     "start_time": "2021-07-17T16:29:35.140594Z"
    }
   },
   "outputs": [
    {
     "data": {
      "text/html": [
       "<div>\n",
       "<style scoped>\n",
       "    .dataframe tbody tr th:only-of-type {\n",
       "        vertical-align: middle;\n",
       "    }\n",
       "\n",
       "    .dataframe tbody tr th {\n",
       "        vertical-align: top;\n",
       "    }\n",
       "\n",
       "    .dataframe thead th {\n",
       "        text-align: right;\n",
       "    }\n",
       "</style>\n",
       "<table border=\"1\" class=\"dataframe\">\n",
       "  <thead>\n",
       "    <tr style=\"text-align: right;\">\n",
       "      <th></th>\n",
       "      <th>UserID</th>\n",
       "      <th>Gender</th>\n",
       "      <th>Age</th>\n",
       "      <th>Occupation</th>\n",
       "      <th>Zip-code</th>\n",
       "    </tr>\n",
       "  </thead>\n",
       "  <tbody>\n",
       "    <tr>\n",
       "      <th>0</th>\n",
       "      <td>1</td>\n",
       "      <td>F</td>\n",
       "      <td>1</td>\n",
       "      <td>10</td>\n",
       "      <td>48067</td>\n",
       "    </tr>\n",
       "    <tr>\n",
       "      <th>1</th>\n",
       "      <td>2</td>\n",
       "      <td>M</td>\n",
       "      <td>56</td>\n",
       "      <td>16</td>\n",
       "      <td>70072</td>\n",
       "    </tr>\n",
       "    <tr>\n",
       "      <th>2</th>\n",
       "      <td>3</td>\n",
       "      <td>M</td>\n",
       "      <td>25</td>\n",
       "      <td>15</td>\n",
       "      <td>55117</td>\n",
       "    </tr>\n",
       "    <tr>\n",
       "      <th>3</th>\n",
       "      <td>4</td>\n",
       "      <td>M</td>\n",
       "      <td>45</td>\n",
       "      <td>7</td>\n",
       "      <td>02460</td>\n",
       "    </tr>\n",
       "    <tr>\n",
       "      <th>4</th>\n",
       "      <td>5</td>\n",
       "      <td>M</td>\n",
       "      <td>25</td>\n",
       "      <td>20</td>\n",
       "      <td>55455</td>\n",
       "    </tr>\n",
       "  </tbody>\n",
       "</table>\n",
       "</div>"
      ],
      "text/plain": [
       "   UserID Gender  Age  Occupation Zip-code\n",
       "0       1      F    1          10    48067\n",
       "1       2      M   56          16    70072\n",
       "2       3      M   25          15    55117\n",
       "3       4      M   45           7    02460\n",
       "4       5      M   25          20    55455"
      ]
     },
     "execution_count": 7,
     "metadata": {},
     "output_type": "execute_result"
    }
   ],
   "source": [
    "#View the first five observations in users dataframe\n",
    "users_df.head()"
   ]
  },
  {
   "cell_type": "code",
   "execution_count": 8,
   "id": "da954793",
   "metadata": {
    "ExecuteTime": {
     "end_time": "2021-07-17T16:29:35.265601Z",
     "start_time": "2021-07-17T16:29:35.167595Z"
    },
    "scrolled": true
   },
   "outputs": [
    {
     "name": "stdout",
     "output_type": "stream",
     "text": [
      "<class 'pandas.core.frame.DataFrame'>\n",
      "RangeIndex: 6040 entries, 0 to 6039\n",
      "Data columns (total 5 columns):\n",
      " #   Column      Non-Null Count  Dtype \n",
      "---  ------      --------------  ----- \n",
      " 0   UserID      6040 non-null   int64 \n",
      " 1   Gender      6040 non-null   object\n",
      " 2   Age         6040 non-null   int64 \n",
      " 3   Occupation  6040 non-null   int64 \n",
      " 4   Zip-code    6040 non-null   object\n",
      "dtypes: int64(3), object(2)\n",
      "memory usage: 188.8+ KB\n"
     ]
    }
   ],
   "source": [
    "#overview of the users dataframe\n",
    "users_df.info()"
   ]
  },
  {
   "cell_type": "code",
   "execution_count": 9,
   "id": "ceb01b5f",
   "metadata": {
    "ExecuteTime": {
     "end_time": "2021-07-17T16:29:35.354606Z",
     "start_time": "2021-07-17T16:29:35.266601Z"
    }
   },
   "outputs": [
    {
     "data": {
      "text/plain": [
       "(6040, 5)"
      ]
     },
     "execution_count": 9,
     "metadata": {},
     "output_type": "execute_result"
    }
   ],
   "source": [
    "#dimensionality of the DataFrame/(No.of rows and columns)\n",
    "users_df.shape"
   ]
  },
  {
   "cell_type": "code",
   "execution_count": 10,
   "id": "72e9280b",
   "metadata": {
    "ExecuteTime": {
     "end_time": "2021-07-17T16:29:35.402609Z",
     "start_time": "2021-07-17T16:29:35.356606Z"
    },
    "scrolled": true
   },
   "outputs": [
    {
     "data": {
      "text/plain": [
       "UserID        0\n",
       "Gender        0\n",
       "Age           0\n",
       "Occupation    0\n",
       "Zip-code      0\n",
       "dtype: int64"
      ]
     },
     "execution_count": 10,
     "metadata": {},
     "output_type": "execute_result"
    }
   ],
   "source": [
    "#Check any empty or null values in columns\n",
    "users_df.isnull().sum()"
   ]
  },
  {
   "cell_type": "markdown",
   "id": "013d48b5",
   "metadata": {},
   "source": [
    "<font color='green'><b>The users dataset has no empty or null columns.</b></font>"
   ]
  },
  {
   "cell_type": "code",
   "execution_count": 11,
   "id": "cceb7693",
   "metadata": {
    "ExecuteTime": {
     "end_time": "2021-07-17T16:29:35.449611Z",
     "start_time": "2021-07-17T16:29:35.404609Z"
    },
    "scrolled": true
   },
   "outputs": [
    {
     "data": {
      "text/html": [
       "<div>\n",
       "<style scoped>\n",
       "    .dataframe tbody tr th:only-of-type {\n",
       "        vertical-align: middle;\n",
       "    }\n",
       "\n",
       "    .dataframe tbody tr th {\n",
       "        vertical-align: top;\n",
       "    }\n",
       "\n",
       "    .dataframe thead th {\n",
       "        text-align: right;\n",
       "    }\n",
       "</style>\n",
       "<table border=\"1\" class=\"dataframe\">\n",
       "  <thead>\n",
       "    <tr style=\"text-align: right;\">\n",
       "      <th></th>\n",
       "      <th>MovieID</th>\n",
       "      <th>Title</th>\n",
       "      <th>Genres</th>\n",
       "    </tr>\n",
       "  </thead>\n",
       "  <tbody>\n",
       "    <tr>\n",
       "      <th>0</th>\n",
       "      <td>1</td>\n",
       "      <td>Toy Story (1995)</td>\n",
       "      <td>Animation|Children's|Comedy</td>\n",
       "    </tr>\n",
       "    <tr>\n",
       "      <th>1</th>\n",
       "      <td>2</td>\n",
       "      <td>Jumanji (1995)</td>\n",
       "      <td>Adventure|Children's|Fantasy</td>\n",
       "    </tr>\n",
       "    <tr>\n",
       "      <th>2</th>\n",
       "      <td>3</td>\n",
       "      <td>Grumpier Old Men (1995)</td>\n",
       "      <td>Comedy|Romance</td>\n",
       "    </tr>\n",
       "    <tr>\n",
       "      <th>3</th>\n",
       "      <td>4</td>\n",
       "      <td>Waiting to Exhale (1995)</td>\n",
       "      <td>Comedy|Drama</td>\n",
       "    </tr>\n",
       "    <tr>\n",
       "      <th>4</th>\n",
       "      <td>5</td>\n",
       "      <td>Father of the Bride Part II (1995)</td>\n",
       "      <td>Comedy</td>\n",
       "    </tr>\n",
       "  </tbody>\n",
       "</table>\n",
       "</div>"
      ],
      "text/plain": [
       "   MovieID                               Title                        Genres\n",
       "0        1                    Toy Story (1995)   Animation|Children's|Comedy\n",
       "1        2                      Jumanji (1995)  Adventure|Children's|Fantasy\n",
       "2        3             Grumpier Old Men (1995)                Comedy|Romance\n",
       "3        4            Waiting to Exhale (1995)                  Comedy|Drama\n",
       "4        5  Father of the Bride Part II (1995)                        Comedy"
      ]
     },
     "execution_count": 11,
     "metadata": {},
     "output_type": "execute_result"
    }
   ],
   "source": [
    "#View the first five observations in movies dataframe\n",
    "movies_df.head()"
   ]
  },
  {
   "cell_type": "code",
   "execution_count": 12,
   "id": "ff2f8cbc",
   "metadata": {
    "ExecuteTime": {
     "end_time": "2021-07-17T16:29:35.498614Z",
     "start_time": "2021-07-17T16:29:35.451611Z"
    },
    "scrolled": true
   },
   "outputs": [
    {
     "name": "stdout",
     "output_type": "stream",
     "text": [
      "<class 'pandas.core.frame.DataFrame'>\n",
      "RangeIndex: 3883 entries, 0 to 3882\n",
      "Data columns (total 3 columns):\n",
      " #   Column   Non-Null Count  Dtype \n",
      "---  ------   --------------  ----- \n",
      " 0   MovieID  3883 non-null   int64 \n",
      " 1   Title    3883 non-null   object\n",
      " 2   Genres   3883 non-null   object\n",
      "dtypes: int64(1), object(2)\n",
      "memory usage: 60.7+ KB\n"
     ]
    }
   ],
   "source": [
    "#overview of the movies dataframe \n",
    "movies_df.info()"
   ]
  },
  {
   "cell_type": "code",
   "execution_count": 13,
   "id": "4b24409d",
   "metadata": {
    "ExecuteTime": {
     "end_time": "2021-07-17T16:29:35.536616Z",
     "start_time": "2021-07-17T16:29:35.500614Z"
    }
   },
   "outputs": [
    {
     "data": {
      "text/plain": [
       "(3883, 3)"
      ]
     },
     "execution_count": 13,
     "metadata": {},
     "output_type": "execute_result"
    }
   ],
   "source": [
    "#check the dimensionality of the DataFrame/(No.of rows and columns)\n",
    "movies_df.shape"
   ]
  },
  {
   "cell_type": "code",
   "execution_count": 14,
   "id": "928f017e",
   "metadata": {
    "ExecuteTime": {
     "end_time": "2021-07-17T16:29:35.575619Z",
     "start_time": "2021-07-17T16:29:35.537616Z"
    }
   },
   "outputs": [
    {
     "data": {
      "text/plain": [
       "MovieID    0\n",
       "Title      0\n",
       "Genres     0\n",
       "dtype: int64"
      ]
     },
     "execution_count": 14,
     "metadata": {},
     "output_type": "execute_result"
    }
   ],
   "source": [
    "#Check any empty or null values in columns\n",
    "movies_df.isnull().sum()"
   ]
  },
  {
   "cell_type": "markdown",
   "id": "2b6af6be",
   "metadata": {},
   "source": [
    "<font color='green'><b>The movies dataset has no empty or null columns.</b></font>"
   ]
  },
  {
   "cell_type": "markdown",
   "id": "811b4a79",
   "metadata": {},
   "source": [
    "## Create a new dataset [Master_Data]:\n",
    "Create a new dataset [Master_Data] with the following columns MovieID, Title, UserID, Age, Gender and Occupation Rating.\n",
    "\n",
    "(Hint: (i) Merge two tables at a time. (ii) Merge the tables using two primary keys MovieID & UserId)"
   ]
  },
  {
   "cell_type": "code",
   "execution_count": 15,
   "id": "f70693d0",
   "metadata": {
    "ExecuteTime": {
     "end_time": "2021-07-17T16:29:36.139651Z",
     "start_time": "2021-07-17T16:29:35.576619Z"
    },
    "scrolled": true
   },
   "outputs": [
    {
     "data": {
      "text/html": [
       "<div>\n",
       "<style scoped>\n",
       "    .dataframe tbody tr th:only-of-type {\n",
       "        vertical-align: middle;\n",
       "    }\n",
       "\n",
       "    .dataframe tbody tr th {\n",
       "        vertical-align: top;\n",
       "    }\n",
       "\n",
       "    .dataframe thead th {\n",
       "        text-align: right;\n",
       "    }\n",
       "</style>\n",
       "<table border=\"1\" class=\"dataframe\">\n",
       "  <thead>\n",
       "    <tr style=\"text-align: right;\">\n",
       "      <th></th>\n",
       "      <th>MovieID</th>\n",
       "      <th>Title</th>\n",
       "      <th>Genres</th>\n",
       "      <th>UserID</th>\n",
       "      <th>Rating</th>\n",
       "      <th>Timestamp</th>\n",
       "      <th>Gender</th>\n",
       "      <th>Age</th>\n",
       "      <th>Occupation</th>\n",
       "      <th>Zip-code</th>\n",
       "    </tr>\n",
       "  </thead>\n",
       "  <tbody>\n",
       "    <tr>\n",
       "      <th>0</th>\n",
       "      <td>1</td>\n",
       "      <td>Toy Story (1995)</td>\n",
       "      <td>Animation|Children's|Comedy</td>\n",
       "      <td>1</td>\n",
       "      <td>5</td>\n",
       "      <td>978824268</td>\n",
       "      <td>F</td>\n",
       "      <td>1</td>\n",
       "      <td>10</td>\n",
       "      <td>48067</td>\n",
       "    </tr>\n",
       "    <tr>\n",
       "      <th>1</th>\n",
       "      <td>48</td>\n",
       "      <td>Pocahontas (1995)</td>\n",
       "      <td>Animation|Children's|Musical|Romance</td>\n",
       "      <td>1</td>\n",
       "      <td>5</td>\n",
       "      <td>978824351</td>\n",
       "      <td>F</td>\n",
       "      <td>1</td>\n",
       "      <td>10</td>\n",
       "      <td>48067</td>\n",
       "    </tr>\n",
       "    <tr>\n",
       "      <th>2</th>\n",
       "      <td>150</td>\n",
       "      <td>Apollo 13 (1995)</td>\n",
       "      <td>Drama</td>\n",
       "      <td>1</td>\n",
       "      <td>5</td>\n",
       "      <td>978301777</td>\n",
       "      <td>F</td>\n",
       "      <td>1</td>\n",
       "      <td>10</td>\n",
       "      <td>48067</td>\n",
       "    </tr>\n",
       "    <tr>\n",
       "      <th>3</th>\n",
       "      <td>260</td>\n",
       "      <td>Star Wars: Episode IV - A New Hope (1977)</td>\n",
       "      <td>Action|Adventure|Fantasy|Sci-Fi</td>\n",
       "      <td>1</td>\n",
       "      <td>4</td>\n",
       "      <td>978300760</td>\n",
       "      <td>F</td>\n",
       "      <td>1</td>\n",
       "      <td>10</td>\n",
       "      <td>48067</td>\n",
       "    </tr>\n",
       "    <tr>\n",
       "      <th>4</th>\n",
       "      <td>527</td>\n",
       "      <td>Schindler's List (1993)</td>\n",
       "      <td>Drama|War</td>\n",
       "      <td>1</td>\n",
       "      <td>5</td>\n",
       "      <td>978824195</td>\n",
       "      <td>F</td>\n",
       "      <td>1</td>\n",
       "      <td>10</td>\n",
       "      <td>48067</td>\n",
       "    </tr>\n",
       "  </tbody>\n",
       "</table>\n",
       "</div>"
      ],
      "text/plain": [
       "   MovieID                                      Title  \\\n",
       "0        1                           Toy Story (1995)   \n",
       "1       48                          Pocahontas (1995)   \n",
       "2      150                           Apollo 13 (1995)   \n",
       "3      260  Star Wars: Episode IV - A New Hope (1977)   \n",
       "4      527                    Schindler's List (1993)   \n",
       "\n",
       "                                 Genres  UserID  Rating  Timestamp Gender  \\\n",
       "0           Animation|Children's|Comedy       1       5  978824268      F   \n",
       "1  Animation|Children's|Musical|Romance       1       5  978824351      F   \n",
       "2                                 Drama       1       5  978301777      F   \n",
       "3       Action|Adventure|Fantasy|Sci-Fi       1       4  978300760      F   \n",
       "4                             Drama|War       1       5  978824195      F   \n",
       "\n",
       "   Age  Occupation Zip-code  \n",
       "0    1          10    48067  \n",
       "1    1          10    48067  \n",
       "2    1          10    48067  \n",
       "3    1          10    48067  \n",
       "4    1          10    48067  "
      ]
     },
     "execution_count": 15,
     "metadata": {},
     "output_type": "execute_result"
    }
   ],
   "source": [
    "#Merge the movies_df and ratings_df dataframes based on the key 'MovieID'.\n",
    "Master_Data_df = pd.merge(movies_df, ratings_df, on = 'MovieID')\n",
    "#Merge the Master_Data_df and users_df dataframes based on the key 'UserID'.\n",
    "Master_Data_df = pd.merge(Master_Data_df, users_df, on = 'UserID')\n",
    "\n",
    "#View the first five observations in the Master_Data_df dataframe.\n",
    "Master_Data_df.head() "
   ]
  },
  {
   "cell_type": "code",
   "execution_count": 16,
   "id": "f1feccf5",
   "metadata": {
    "ExecuteTime": {
     "end_time": "2021-07-17T16:29:36.153652Z",
     "start_time": "2021-07-17T16:29:36.140651Z"
    }
   },
   "outputs": [
    {
     "data": {
      "text/html": [
       "<div>\n",
       "<style scoped>\n",
       "    .dataframe tbody tr th:only-of-type {\n",
       "        vertical-align: middle;\n",
       "    }\n",
       "\n",
       "    .dataframe tbody tr th {\n",
       "        vertical-align: top;\n",
       "    }\n",
       "\n",
       "    .dataframe thead th {\n",
       "        text-align: right;\n",
       "    }\n",
       "</style>\n",
       "<table border=\"1\" class=\"dataframe\">\n",
       "  <thead>\n",
       "    <tr style=\"text-align: right;\">\n",
       "      <th></th>\n",
       "      <th>MovieID</th>\n",
       "      <th>Title</th>\n",
       "      <th>Genres</th>\n",
       "      <th>UserID</th>\n",
       "      <th>Rating</th>\n",
       "      <th>Timestamp</th>\n",
       "      <th>Gender</th>\n",
       "      <th>Age</th>\n",
       "      <th>Occupation</th>\n",
       "      <th>Zip-code</th>\n",
       "    </tr>\n",
       "  </thead>\n",
       "  <tbody>\n",
       "    <tr>\n",
       "      <th>1000204</th>\n",
       "      <td>3513</td>\n",
       "      <td>Rules of Engagement (2000)</td>\n",
       "      <td>Drama|Thriller</td>\n",
       "      <td>5727</td>\n",
       "      <td>4</td>\n",
       "      <td>958489970</td>\n",
       "      <td>M</td>\n",
       "      <td>25</td>\n",
       "      <td>4</td>\n",
       "      <td>92843</td>\n",
       "    </tr>\n",
       "    <tr>\n",
       "      <th>1000205</th>\n",
       "      <td>3535</td>\n",
       "      <td>American Psycho (2000)</td>\n",
       "      <td>Comedy|Horror|Thriller</td>\n",
       "      <td>5727</td>\n",
       "      <td>2</td>\n",
       "      <td>958489970</td>\n",
       "      <td>M</td>\n",
       "      <td>25</td>\n",
       "      <td>4</td>\n",
       "      <td>92843</td>\n",
       "    </tr>\n",
       "    <tr>\n",
       "      <th>1000206</th>\n",
       "      <td>3536</td>\n",
       "      <td>Keeping the Faith (2000)</td>\n",
       "      <td>Comedy|Romance</td>\n",
       "      <td>5727</td>\n",
       "      <td>5</td>\n",
       "      <td>958489902</td>\n",
       "      <td>M</td>\n",
       "      <td>25</td>\n",
       "      <td>4</td>\n",
       "      <td>92843</td>\n",
       "    </tr>\n",
       "    <tr>\n",
       "      <th>1000207</th>\n",
       "      <td>3555</td>\n",
       "      <td>U-571 (2000)</td>\n",
       "      <td>Action|Thriller</td>\n",
       "      <td>5727</td>\n",
       "      <td>3</td>\n",
       "      <td>958490699</td>\n",
       "      <td>M</td>\n",
       "      <td>25</td>\n",
       "      <td>4</td>\n",
       "      <td>92843</td>\n",
       "    </tr>\n",
       "    <tr>\n",
       "      <th>1000208</th>\n",
       "      <td>3578</td>\n",
       "      <td>Gladiator (2000)</td>\n",
       "      <td>Action|Drama</td>\n",
       "      <td>5727</td>\n",
       "      <td>5</td>\n",
       "      <td>958490171</td>\n",
       "      <td>M</td>\n",
       "      <td>25</td>\n",
       "      <td>4</td>\n",
       "      <td>92843</td>\n",
       "    </tr>\n",
       "  </tbody>\n",
       "</table>\n",
       "</div>"
      ],
      "text/plain": [
       "         MovieID                       Title                  Genres  UserID  \\\n",
       "1000204     3513  Rules of Engagement (2000)          Drama|Thriller    5727   \n",
       "1000205     3535      American Psycho (2000)  Comedy|Horror|Thriller    5727   \n",
       "1000206     3536    Keeping the Faith (2000)          Comedy|Romance    5727   \n",
       "1000207     3555                U-571 (2000)         Action|Thriller    5727   \n",
       "1000208     3578            Gladiator (2000)            Action|Drama    5727   \n",
       "\n",
       "         Rating  Timestamp Gender  Age  Occupation Zip-code  \n",
       "1000204       4  958489970      M   25           4    92843  \n",
       "1000205       2  958489970      M   25           4    92843  \n",
       "1000206       5  958489902      M   25           4    92843  \n",
       "1000207       3  958490699      M   25           4    92843  \n",
       "1000208       5  958490171      M   25           4    92843  "
      ]
     },
     "execution_count": 16,
     "metadata": {},
     "output_type": "execute_result"
    }
   ],
   "source": [
    "#View the last five observations in the Master_Data_df dataframe.\n",
    "Master_Data_df.tail() "
   ]
  },
  {
   "cell_type": "code",
   "execution_count": 17,
   "id": "9c531e5a",
   "metadata": {
    "ExecuteTime": {
     "end_time": "2021-07-17T16:29:36.465669Z",
     "start_time": "2021-07-17T16:29:36.154652Z"
    },
    "scrolled": true
   },
   "outputs": [
    {
     "name": "stdout",
     "output_type": "stream",
     "text": [
      "<class 'pandas.core.frame.DataFrame'>\n",
      "Int64Index: 1000209 entries, 0 to 1000208\n",
      "Data columns (total 10 columns):\n",
      " #   Column      Non-Null Count    Dtype \n",
      "---  ------      --------------    ----- \n",
      " 0   MovieID     1000209 non-null  int64 \n",
      " 1   Title       1000209 non-null  object\n",
      " 2   Genres      1000209 non-null  object\n",
      " 3   UserID      1000209 non-null  int64 \n",
      " 4   Rating      1000209 non-null  int64 \n",
      " 5   Timestamp   1000209 non-null  int64 \n",
      " 6   Gender      1000209 non-null  object\n",
      " 7   Age         1000209 non-null  int64 \n",
      " 8   Occupation  1000209 non-null  int64 \n",
      " 9   Zip-code    1000209 non-null  object\n",
      "dtypes: int64(6), object(4)\n",
      "memory usage: 68.7+ MB\n"
     ]
    }
   ],
   "source": [
    "#View the overview of the Master_Data_df dataframe.\n",
    "Master_Data_df.info()"
   ]
  },
  {
   "cell_type": "code",
   "execution_count": 18,
   "id": "27f55cd7",
   "metadata": {
    "ExecuteTime": {
     "end_time": "2021-07-17T16:29:37.275716Z",
     "start_time": "2021-07-17T16:29:36.466670Z"
    }
   },
   "outputs": [
    {
     "data": {
      "text/plain": [
       "3706"
      ]
     },
     "execution_count": 18,
     "metadata": {},
     "output_type": "execute_result"
    }
   ],
   "source": [
    "#Number of movies in the Dataset.\n",
    "len(Master_Data_df[\"Title\"].explode().unique())"
   ]
  },
  {
   "cell_type": "markdown",
   "id": "893d3a4e",
   "metadata": {},
   "source": [
    "<font color='green'><b>There are '3706' unique Movies in the dataset.</b></font>"
   ]
  },
  {
   "cell_type": "code",
   "execution_count": 19,
   "id": "16e0a24c",
   "metadata": {
    "ExecuteTime": {
     "end_time": "2021-07-17T16:29:37.301717Z",
     "start_time": "2021-07-17T16:29:37.276716Z"
    }
   },
   "outputs": [
    {
     "data": {
      "text/plain": [
       "6040"
      ]
     },
     "execution_count": 19,
     "metadata": {},
     "output_type": "execute_result"
    }
   ],
   "source": [
    "#Number of movies in the Dataset.\n",
    "len(Master_Data_df[\"UserID\"].explode().unique())"
   ]
  },
  {
   "cell_type": "markdown",
   "id": "571012c6",
   "metadata": {},
   "source": [
    "<font color='green'><b>There are '6040' unique UserIDs in the dataset.</b></font>"
   ]
  },
  {
   "cell_type": "code",
   "execution_count": 20,
   "id": "0f6347c8",
   "metadata": {
    "ExecuteTime": {
     "end_time": "2021-07-17T16:29:37.508729Z",
     "start_time": "2021-07-17T16:29:37.302717Z"
    }
   },
   "outputs": [
    {
     "data": {
      "text/plain": [
       "pandas.core.frame.DataFrame"
      ]
     },
     "execution_count": 20,
     "metadata": {},
     "output_type": "execute_result"
    }
   ],
   "source": [
    "#View the type of the Master_Data_df dataframe.\n",
    "type(Master_Data_df)"
   ]
  },
  {
   "cell_type": "code",
   "execution_count": 21,
   "id": "cf5ed0ff",
   "metadata": {
    "ExecuteTime": {
     "end_time": "2021-07-17T16:29:38.656795Z",
     "start_time": "2021-07-17T16:29:37.512729Z"
    },
    "scrolled": true
   },
   "outputs": [
    {
     "data": {
      "text/html": [
       "<div>\n",
       "<style scoped>\n",
       "    .dataframe tbody tr th:only-of-type {\n",
       "        vertical-align: middle;\n",
       "    }\n",
       "\n",
       "    .dataframe tbody tr th {\n",
       "        vertical-align: top;\n",
       "    }\n",
       "\n",
       "    .dataframe thead th {\n",
       "        text-align: right;\n",
       "    }\n",
       "</style>\n",
       "<table border=\"1\" class=\"dataframe\">\n",
       "  <thead>\n",
       "    <tr style=\"text-align: right;\">\n",
       "      <th></th>\n",
       "      <th>MovieID</th>\n",
       "      <th>Title</th>\n",
       "      <th>Genres</th>\n",
       "      <th>UserID</th>\n",
       "      <th>Rating</th>\n",
       "      <th>Timestamp</th>\n",
       "      <th>Gender</th>\n",
       "      <th>Age</th>\n",
       "      <th>Occupation</th>\n",
       "      <th>Zip-code</th>\n",
       "    </tr>\n",
       "  </thead>\n",
       "  <tbody>\n",
       "    <tr>\n",
       "      <th>count</th>\n",
       "      <td>1.000209e+06</td>\n",
       "      <td>1000209</td>\n",
       "      <td>1000209</td>\n",
       "      <td>1.000209e+06</td>\n",
       "      <td>1.000209e+06</td>\n",
       "      <td>1.000209e+06</td>\n",
       "      <td>1000209</td>\n",
       "      <td>1.000209e+06</td>\n",
       "      <td>1.000209e+06</td>\n",
       "      <td>1000209</td>\n",
       "    </tr>\n",
       "    <tr>\n",
       "      <th>unique</th>\n",
       "      <td>NaN</td>\n",
       "      <td>3706</td>\n",
       "      <td>301</td>\n",
       "      <td>NaN</td>\n",
       "      <td>NaN</td>\n",
       "      <td>NaN</td>\n",
       "      <td>2</td>\n",
       "      <td>NaN</td>\n",
       "      <td>NaN</td>\n",
       "      <td>3439</td>\n",
       "    </tr>\n",
       "    <tr>\n",
       "      <th>top</th>\n",
       "      <td>NaN</td>\n",
       "      <td>American Beauty (1999)</td>\n",
       "      <td>Comedy</td>\n",
       "      <td>NaN</td>\n",
       "      <td>NaN</td>\n",
       "      <td>NaN</td>\n",
       "      <td>M</td>\n",
       "      <td>NaN</td>\n",
       "      <td>NaN</td>\n",
       "      <td>94110</td>\n",
       "    </tr>\n",
       "    <tr>\n",
       "      <th>freq</th>\n",
       "      <td>NaN</td>\n",
       "      <td>3428</td>\n",
       "      <td>116883</td>\n",
       "      <td>NaN</td>\n",
       "      <td>NaN</td>\n",
       "      <td>NaN</td>\n",
       "      <td>753769</td>\n",
       "      <td>NaN</td>\n",
       "      <td>NaN</td>\n",
       "      <td>3802</td>\n",
       "    </tr>\n",
       "    <tr>\n",
       "      <th>mean</th>\n",
       "      <td>1.865540e+03</td>\n",
       "      <td>NaN</td>\n",
       "      <td>NaN</td>\n",
       "      <td>3.024512e+03</td>\n",
       "      <td>3.581564e+00</td>\n",
       "      <td>9.722437e+08</td>\n",
       "      <td>NaN</td>\n",
       "      <td>2.973831e+01</td>\n",
       "      <td>8.036138e+00</td>\n",
       "      <td>NaN</td>\n",
       "    </tr>\n",
       "    <tr>\n",
       "      <th>std</th>\n",
       "      <td>1.096041e+03</td>\n",
       "      <td>NaN</td>\n",
       "      <td>NaN</td>\n",
       "      <td>1.728413e+03</td>\n",
       "      <td>1.117102e+00</td>\n",
       "      <td>1.215256e+07</td>\n",
       "      <td>NaN</td>\n",
       "      <td>1.175198e+01</td>\n",
       "      <td>6.531336e+00</td>\n",
       "      <td>NaN</td>\n",
       "    </tr>\n",
       "    <tr>\n",
       "      <th>min</th>\n",
       "      <td>1.000000e+00</td>\n",
       "      <td>NaN</td>\n",
       "      <td>NaN</td>\n",
       "      <td>1.000000e+00</td>\n",
       "      <td>1.000000e+00</td>\n",
       "      <td>9.567039e+08</td>\n",
       "      <td>NaN</td>\n",
       "      <td>1.000000e+00</td>\n",
       "      <td>0.000000e+00</td>\n",
       "      <td>NaN</td>\n",
       "    </tr>\n",
       "    <tr>\n",
       "      <th>25%</th>\n",
       "      <td>1.030000e+03</td>\n",
       "      <td>NaN</td>\n",
       "      <td>NaN</td>\n",
       "      <td>1.506000e+03</td>\n",
       "      <td>3.000000e+00</td>\n",
       "      <td>9.653026e+08</td>\n",
       "      <td>NaN</td>\n",
       "      <td>2.500000e+01</td>\n",
       "      <td>2.000000e+00</td>\n",
       "      <td>NaN</td>\n",
       "    </tr>\n",
       "    <tr>\n",
       "      <th>50%</th>\n",
       "      <td>1.835000e+03</td>\n",
       "      <td>NaN</td>\n",
       "      <td>NaN</td>\n",
       "      <td>3.070000e+03</td>\n",
       "      <td>4.000000e+00</td>\n",
       "      <td>9.730180e+08</td>\n",
       "      <td>NaN</td>\n",
       "      <td>2.500000e+01</td>\n",
       "      <td>7.000000e+00</td>\n",
       "      <td>NaN</td>\n",
       "    </tr>\n",
       "    <tr>\n",
       "      <th>75%</th>\n",
       "      <td>2.770000e+03</td>\n",
       "      <td>NaN</td>\n",
       "      <td>NaN</td>\n",
       "      <td>4.476000e+03</td>\n",
       "      <td>4.000000e+00</td>\n",
       "      <td>9.752209e+08</td>\n",
       "      <td>NaN</td>\n",
       "      <td>3.500000e+01</td>\n",
       "      <td>1.400000e+01</td>\n",
       "      <td>NaN</td>\n",
       "    </tr>\n",
       "    <tr>\n",
       "      <th>max</th>\n",
       "      <td>3.952000e+03</td>\n",
       "      <td>NaN</td>\n",
       "      <td>NaN</td>\n",
       "      <td>6.040000e+03</td>\n",
       "      <td>5.000000e+00</td>\n",
       "      <td>1.046455e+09</td>\n",
       "      <td>NaN</td>\n",
       "      <td>5.600000e+01</td>\n",
       "      <td>2.000000e+01</td>\n",
       "      <td>NaN</td>\n",
       "    </tr>\n",
       "  </tbody>\n",
       "</table>\n",
       "</div>"
      ],
      "text/plain": [
       "             MovieID                   Title   Genres        UserID  \\\n",
       "count   1.000209e+06                 1000209  1000209  1.000209e+06   \n",
       "unique           NaN                    3706      301           NaN   \n",
       "top              NaN  American Beauty (1999)   Comedy           NaN   \n",
       "freq             NaN                    3428   116883           NaN   \n",
       "mean    1.865540e+03                     NaN      NaN  3.024512e+03   \n",
       "std     1.096041e+03                     NaN      NaN  1.728413e+03   \n",
       "min     1.000000e+00                     NaN      NaN  1.000000e+00   \n",
       "25%     1.030000e+03                     NaN      NaN  1.506000e+03   \n",
       "50%     1.835000e+03                     NaN      NaN  3.070000e+03   \n",
       "75%     2.770000e+03                     NaN      NaN  4.476000e+03   \n",
       "max     3.952000e+03                     NaN      NaN  6.040000e+03   \n",
       "\n",
       "              Rating     Timestamp   Gender           Age    Occupation  \\\n",
       "count   1.000209e+06  1.000209e+06  1000209  1.000209e+06  1.000209e+06   \n",
       "unique           NaN           NaN        2           NaN           NaN   \n",
       "top              NaN           NaN        M           NaN           NaN   \n",
       "freq             NaN           NaN   753769           NaN           NaN   \n",
       "mean    3.581564e+00  9.722437e+08      NaN  2.973831e+01  8.036138e+00   \n",
       "std     1.117102e+00  1.215256e+07      NaN  1.175198e+01  6.531336e+00   \n",
       "min     1.000000e+00  9.567039e+08      NaN  1.000000e+00  0.000000e+00   \n",
       "25%     3.000000e+00  9.653026e+08      NaN  2.500000e+01  2.000000e+00   \n",
       "50%     4.000000e+00  9.730180e+08      NaN  2.500000e+01  7.000000e+00   \n",
       "75%     4.000000e+00  9.752209e+08      NaN  3.500000e+01  1.400000e+01   \n",
       "max     5.000000e+00  1.046455e+09      NaN  5.600000e+01  2.000000e+01   \n",
       "\n",
       "       Zip-code  \n",
       "count   1000209  \n",
       "unique     3439  \n",
       "top       94110  \n",
       "freq       3802  \n",
       "mean        NaN  \n",
       "std         NaN  \n",
       "min         NaN  \n",
       "25%         NaN  \n",
       "50%         NaN  \n",
       "75%         NaN  \n",
       "max         NaN  "
      ]
     },
     "execution_count": 21,
     "metadata": {},
     "output_type": "execute_result"
    }
   ],
   "source": [
    "Master_Data_df.describe(include='all')"
   ]
  },
  {
   "cell_type": "code",
   "execution_count": 22,
   "id": "5a7d20ec",
   "metadata": {
    "ExecuteTime": {
     "end_time": "2021-07-17T16:29:38.662795Z",
     "start_time": "2021-07-17T16:29:38.658795Z"
    }
   },
   "outputs": [
    {
     "data": {
      "text/plain": [
       "(1000209, 10)"
      ]
     },
     "execution_count": 22,
     "metadata": {},
     "output_type": "execute_result"
    }
   ],
   "source": [
    "Master_Data_df.shape"
   ]
  },
  {
   "cell_type": "markdown",
   "id": "83f06323",
   "metadata": {},
   "source": [
    "## Explore the datasets using visual representations"
   ]
  },
  {
   "cell_type": "markdown",
   "id": "a706943b",
   "metadata": {},
   "source": [
    "### Visualizing User Age Distribution"
   ]
  },
  {
   "cell_type": "code",
   "execution_count": 23,
   "id": "59098ff2",
   "metadata": {
    "ExecuteTime": {
     "end_time": "2021-07-17T16:29:38.881808Z",
     "start_time": "2021-07-17T16:29:38.664795Z"
    }
   },
   "outputs": [
    {
     "data": {
      "text/plain": [
       "25    2096\n",
       "35    1193\n",
       "18    1103\n",
       "45     550\n",
       "50     496\n",
       "56     380\n",
       "1      222\n",
       "Name: Age, dtype: int64"
      ]
     },
     "execution_count": 23,
     "metadata": {},
     "output_type": "execute_result"
    }
   ],
   "source": [
    "#Use view_counts() to see the age distribution\n",
    "users_df['Age'].value_counts()"
   ]
  },
  {
   "cell_type": "code",
   "execution_count": 24,
   "id": "8952c67c",
   "metadata": {
    "ExecuteTime": {
     "end_time": "2021-07-17T16:29:40.310889Z",
     "start_time": "2021-07-17T16:29:38.884808Z"
    },
    "scrolled": true
   },
   "outputs": [
    {
     "data": {
      "image/png": "[encoded data removed]",
      "text/plain": [
       "<Figure size 504x360 with 1 Axes>"
      ]
     },
     "metadata": {
      "needs_background": "light"
     },
     "output_type": "display_data"
    }
   ],
   "source": [
    "#plot the age distribution in the form of histogram\n",
    "plt.figure(figsize=(7,5))\n",
    "users_df['Age'].hist()\n",
    "plt.title(\"User Age Distribution\")\n",
    "plt.xlabel(\"Age\")\n",
    "plt.ylabel(\"No. of Users\")\n",
    "plt.show()"
   ]
  },
  {
   "cell_type": "code",
   "execution_count": 25,
   "id": "b00ec363",
   "metadata": {
    "ExecuteTime": {
     "end_time": "2021-07-17T16:29:49.494415Z",
     "start_time": "2021-07-17T16:29:40.313890Z"
    },
    "scrolled": true
   },
   "outputs": [
    {
     "data": {
      "text/plain": [
       "<AxesSubplot:xlabel='Age', ylabel='Density'>"
      ]
     },
     "execution_count": 25,
     "metadata": {},
     "output_type": "execute_result"
    },
    {
     "data": {
      "image/png": "[encoded data removed]",
      "text/plain": [
       "<Figure size 432x288 with 1 Axes>"
      ]
     },
     "metadata": {
      "needs_background": "light"
     },
     "output_type": "display_data"
    }
   ],
   "source": [
    "#Plotting the distribution curve.\n",
    "sns.distplot(Master_Data_df[\"Age\"], hist=False)"
   ]
  },
  {
   "cell_type": "markdown",
   "id": "0c3dcc2d",
   "metadata": {},
   "source": [
    "<font color='green'><b>From the above plot, it seems most the users are from age group of 25, which inturn means 25 to 34 range.</b></font>"
   ]
  },
  {
   "cell_type": "code",
   "execution_count": 26,
   "id": "5187f80b",
   "metadata": {
    "ExecuteTime": {
     "end_time": "2021-07-17T16:29:50.318462Z",
     "start_time": "2021-07-17T16:29:49.496415Z"
    },
    "scrolled": true
   },
   "outputs": [
    {
     "data": {
      "image/png": "[encoded data removed]",
      "text/plain": [
       "<Figure size 432x288 with 1 Axes>"
      ]
     },
     "metadata": {
      "needs_background": "light"
     },
     "output_type": "display_data"
    }
   ],
   "source": [
    "#Plotting a cross tabulation barplot to see Gender distribution over Age.\n",
    "pd.crosstab(users_df[\"Age\"],users_df[\"Gender\"]).plot(kind=\"barh\",stacked=True)\n",
    "plt.title(\"User Distribution by Gender\")\n",
    "plt.xlabel(\"No. of Users\")\n",
    "plt.ylabel(\"Gender distribution over Age\")\n",
    "plt.show()"
   ]
  },
  {
   "cell_type": "markdown",
   "id": "20377386",
   "metadata": {},
   "source": [
    "<font color='green'><b>This above plot shows the pattern that most of the users were from Male gender.</b></font>"
   ]
  },
  {
   "cell_type": "markdown",
   "id": "13a2df65",
   "metadata": {
    "ExecuteTime": {
     "end_time": "2021-07-14T12:46:49.640186Z",
     "start_time": "2021-07-14T12:46:49.160186Z"
    }
   },
   "source": [
    "### Visualizing User rating of the movie “Toy Story”"
   ]
  },
  {
   "cell_type": "code",
   "execution_count": 27,
   "id": "144c0366",
   "metadata": {
    "ExecuteTime": {
     "end_time": "2021-07-17T16:29:51.050504Z",
     "start_time": "2021-07-17T16:29:50.320462Z"
    }
   },
   "outputs": [
    {
     "data": {
      "image/png": "[encoded data removed]",
      "text/plain": [
       "<Figure size 576x432 with 1 Axes>"
      ]
     },
     "metadata": {
      "needs_background": "light"
     },
     "output_type": "display_data"
    }
   ],
   "source": [
    "#Plot the ToyStory rating distribution by No. of users.\n",
    "plt.figure(figsize=(8,6))\n",
    "Group_by_title_df = Master_Data_df.groupby('Title')\n",
    "ToyStory_df = Group_by_title_df.get_group('Toy Story (1995)')\n",
    "#Countplot the User rating\n",
    "sns.countplot(ToyStory_df.Rating)\n",
    "plt.title('User rating of the movie “Toy Story”')\n",
    "plt.xlabel('Rating')\n",
    "plt.ylabel('Number of Users')\n",
    "plt.show()"
   ]
  },
  {
   "cell_type": "code",
   "execution_count": 28,
   "id": "1e0843d6",
   "metadata": {
    "ExecuteTime": {
     "end_time": "2021-07-17T16:29:51.057504Z",
     "start_time": "2021-07-17T16:29:51.051504Z"
    }
   },
   "outputs": [
    {
     "data": {
      "text/plain": [
       "4    835\n",
       "5    820\n",
       "3    345\n",
       "2     61\n",
       "1     16\n",
       "Name: Rating, dtype: int64"
      ]
     },
     "execution_count": 28,
     "metadata": {},
     "output_type": "execute_result"
    }
   ],
   "source": [
    "#User ratings of ToyStory in numbers\n",
    "ToyStory_df.Rating.value_counts()"
   ]
  },
  {
   "cell_type": "code",
   "execution_count": 29,
   "id": "6af4ba3d",
   "metadata": {
    "ExecuteTime": {
     "end_time": "2021-07-17T16:29:51.225514Z",
     "start_time": "2021-07-17T16:29:51.058504Z"
    }
   },
   "outputs": [
    {
     "data": {
      "text/plain": [
       "4.146846413095811"
      ]
     },
     "execution_count": 29,
     "metadata": {},
     "output_type": "execute_result"
    }
   ],
   "source": [
    "#Calculate the overall Average rating.\n",
    "ToyStory_df.Rating.mean()"
   ]
  },
  {
   "cell_type": "markdown",
   "id": "b4357926",
   "metadata": {},
   "source": [
    "<font color='green'><b>The Movie Toy Story has got maximum number of 4-Stars ratings. It has got '835' 4-Star rating, '820' 5-Star ratings. On an average Toy Story has got 4.14 ratings.</b></font>"
   ]
  },
  {
   "cell_type": "markdown",
   "id": "c6ac7616",
   "metadata": {},
   "source": [
    "### Top 25 movies by viewership rating\n",
    "\n",
    "__Top 25 movies by number of Viewers__"
   ]
  },
  {
   "cell_type": "code",
   "execution_count": 30,
   "id": "bbf5ada4",
   "metadata": {
    "ExecuteTime": {
     "end_time": "2021-07-17T16:29:51.466527Z",
     "start_time": "2021-07-17T16:29:51.228514Z"
    }
   },
   "outputs": [
    {
     "data": {
      "text/html": [
       "<div>\n",
       "<style scoped>\n",
       "    .dataframe tbody tr th:only-of-type {\n",
       "        vertical-align: middle;\n",
       "    }\n",
       "\n",
       "    .dataframe tbody tr th {\n",
       "        vertical-align: top;\n",
       "    }\n",
       "\n",
       "    .dataframe thead th {\n",
       "        text-align: right;\n",
       "    }\n",
       "</style>\n",
       "<table border=\"1\" class=\"dataframe\">\n",
       "  <thead>\n",
       "    <tr style=\"text-align: right;\">\n",
       "      <th></th>\n",
       "      <th>Number_of_Viewers</th>\n",
       "    </tr>\n",
       "    <tr>\n",
       "      <th>Title</th>\n",
       "      <th></th>\n",
       "    </tr>\n",
       "  </thead>\n",
       "  <tbody>\n",
       "    <tr>\n",
       "      <th>American Beauty (1999)</th>\n",
       "      <td>3428</td>\n",
       "    </tr>\n",
       "    <tr>\n",
       "      <th>Star Wars: Episode IV - A New Hope (1977)</th>\n",
       "      <td>2991</td>\n",
       "    </tr>\n",
       "    <tr>\n",
       "      <th>Star Wars: Episode V - The Empire Strikes Back (1980)</th>\n",
       "      <td>2990</td>\n",
       "    </tr>\n",
       "    <tr>\n",
       "      <th>Star Wars: Episode VI - Return of the Jedi (1983)</th>\n",
       "      <td>2883</td>\n",
       "    </tr>\n",
       "    <tr>\n",
       "      <th>Jurassic Park (1993)</th>\n",
       "      <td>2672</td>\n",
       "    </tr>\n",
       "    <tr>\n",
       "      <th>Saving Private Ryan (1998)</th>\n",
       "      <td>2653</td>\n",
       "    </tr>\n",
       "    <tr>\n",
       "      <th>Terminator 2: Judgment Day (1991)</th>\n",
       "      <td>2649</td>\n",
       "    </tr>\n",
       "    <tr>\n",
       "      <th>Matrix, The (1999)</th>\n",
       "      <td>2590</td>\n",
       "    </tr>\n",
       "    <tr>\n",
       "      <th>Back to the Future (1985)</th>\n",
       "      <td>2583</td>\n",
       "    </tr>\n",
       "    <tr>\n",
       "      <th>Silence of the Lambs, The (1991)</th>\n",
       "      <td>2578</td>\n",
       "    </tr>\n",
       "    <tr>\n",
       "      <th>Men in Black (1997)</th>\n",
       "      <td>2538</td>\n",
       "    </tr>\n",
       "    <tr>\n",
       "      <th>Raiders of the Lost Ark (1981)</th>\n",
       "      <td>2514</td>\n",
       "    </tr>\n",
       "    <tr>\n",
       "      <th>Fargo (1996)</th>\n",
       "      <td>2513</td>\n",
       "    </tr>\n",
       "    <tr>\n",
       "      <th>Sixth Sense, The (1999)</th>\n",
       "      <td>2459</td>\n",
       "    </tr>\n",
       "    <tr>\n",
       "      <th>Braveheart (1995)</th>\n",
       "      <td>2443</td>\n",
       "    </tr>\n",
       "    <tr>\n",
       "      <th>Shakespeare in Love (1998)</th>\n",
       "      <td>2369</td>\n",
       "    </tr>\n",
       "    <tr>\n",
       "      <th>Princess Bride, The (1987)</th>\n",
       "      <td>2318</td>\n",
       "    </tr>\n",
       "    <tr>\n",
       "      <th>Schindler's List (1993)</th>\n",
       "      <td>2304</td>\n",
       "    </tr>\n",
       "    <tr>\n",
       "      <th>L.A. Confidential (1997)</th>\n",
       "      <td>2288</td>\n",
       "    </tr>\n",
       "    <tr>\n",
       "      <th>Groundhog Day (1993)</th>\n",
       "      <td>2278</td>\n",
       "    </tr>\n",
       "    <tr>\n",
       "      <th>E.T. the Extra-Terrestrial (1982)</th>\n",
       "      <td>2269</td>\n",
       "    </tr>\n",
       "    <tr>\n",
       "      <th>Star Wars: Episode I - The Phantom Menace (1999)</th>\n",
       "      <td>2250</td>\n",
       "    </tr>\n",
       "    <tr>\n",
       "      <th>Being John Malkovich (1999)</th>\n",
       "      <td>2241</td>\n",
       "    </tr>\n",
       "    <tr>\n",
       "      <th>Shawshank Redemption, The (1994)</th>\n",
       "      <td>2227</td>\n",
       "    </tr>\n",
       "    <tr>\n",
       "      <th>Godfather, The (1972)</th>\n",
       "      <td>2223</td>\n",
       "    </tr>\n",
       "  </tbody>\n",
       "</table>\n",
       "</div>"
      ],
      "text/plain": [
       "                                                    Number_of_Viewers\n",
       "Title                                                                \n",
       "American Beauty (1999)                                           3428\n",
       "Star Wars: Episode IV - A New Hope (1977)                        2991\n",
       "Star Wars: Episode V - The Empire Strikes Back ...               2990\n",
       "Star Wars: Episode VI - Return of the Jedi (1983)                2883\n",
       "Jurassic Park (1993)                                             2672\n",
       "Saving Private Ryan (1998)                                       2653\n",
       "Terminator 2: Judgment Day (1991)                                2649\n",
       "Matrix, The (1999)                                               2590\n",
       "Back to the Future (1985)                                        2583\n",
       "Silence of the Lambs, The (1991)                                 2578\n",
       "Men in Black (1997)                                              2538\n",
       "Raiders of the Lost Ark (1981)                                   2514\n",
       "Fargo (1996)                                                     2513\n",
       "Sixth Sense, The (1999)                                          2459\n",
       "Braveheart (1995)                                                2443\n",
       "Shakespeare in Love (1998)                                       2369\n",
       "Princess Bride, The (1987)                                       2318\n",
       "Schindler's List (1993)                                          2304\n",
       "L.A. Confidential (1997)                                         2288\n",
       "Groundhog Day (1993)                                             2278\n",
       "E.T. the Extra-Terrestrial (1982)                                2269\n",
       "Star Wars: Episode I - The Phantom Menace (1999)                 2250\n",
       "Being John Malkovich (1999)                                      2241\n",
       "Shawshank Redemption, The (1994)                                 2227\n",
       "Godfather, The (1972)                                            2223"
      ]
     },
     "execution_count": 30,
     "metadata": {},
     "output_type": "execute_result"
    }
   ],
   "source": [
    "Top25_by_viewers = pd.DataFrame(Master_Data_df.groupby('Title')['Rating']\n",
    "                                .count().sort_values(ascending=False).head(25))\n",
    "\n",
    "Top25_by_viewers.rename(columns = {'Rating':'Number_of_Viewers'}, inplace = True)\n",
    "Top25_by_viewers"
   ]
  },
  {
   "cell_type": "code",
   "execution_count": 31,
   "id": "6dd56df2",
   "metadata": {
    "ExecuteTime": {
     "end_time": "2021-07-17T16:29:52.491586Z",
     "start_time": "2021-07-17T16:29:51.468528Z"
    },
    "scrolled": false
   },
   "outputs": [
    {
     "data": {
      "text/plain": [
       "<Figure size 720x720 with 0 Axes>"
      ]
     },
     "metadata": {},
     "output_type": "display_data"
    },
    {
     "data": {
      "image/png": "[encoded data removed]",
      "text/plain": [
       "<Figure size 432x288 with 1 Axes>"
      ]
     },
     "metadata": {
      "needs_background": "light"
     },
     "output_type": "display_data"
    }
   ],
   "source": [
    "#plot Top 25 Movies based on Maximum Viewership.\n",
    "plt.figure(figsize=(10,10))\n",
    "Top25_by_viewers.plot(kind='barh')\n",
    "plt.show()"
   ]
  },
  {
   "cell_type": "markdown",
   "id": "a26e72a2",
   "metadata": {},
   "source": [
    "<font color='green'><b>The above plot shows the list of Top 25 Movies by Viewers. The movie 'American Beauty (1999)' has got the highest number of viewers, which is '3428'.</b></font>\n",
    "\n",
    "__Let's try to rearrange the Top 25 movies based on Average user ratings and number of viewers greater than 2000 viewers.__"
   ]
  },
  {
   "cell_type": "code",
   "execution_count": 32,
   "id": "698a911d",
   "metadata": {
    "ExecuteTime": {
     "end_time": "2021-07-17T16:29:52.689597Z",
     "start_time": "2021-07-17T16:29:52.492586Z"
    }
   },
   "outputs": [
    {
     "data": {
      "text/html": [
       "<div>\n",
       "<style scoped>\n",
       "    .dataframe tbody tr th:only-of-type {\n",
       "        vertical-align: middle;\n",
       "    }\n",
       "\n",
       "    .dataframe tbody tr th {\n",
       "        vertical-align: top;\n",
       "    }\n",
       "\n",
       "    .dataframe thead th {\n",
       "        text-align: right;\n",
       "    }\n",
       "</style>\n",
       "<table border=\"1\" class=\"dataframe\">\n",
       "  <thead>\n",
       "    <tr style=\"text-align: right;\">\n",
       "      <th></th>\n",
       "      <th>Average_Ratings</th>\n",
       "    </tr>\n",
       "    <tr>\n",
       "      <th>Title</th>\n",
       "      <th></th>\n",
       "    </tr>\n",
       "  </thead>\n",
       "  <tbody>\n",
       "    <tr>\n",
       "      <th>Ulysses (Ulisse) (1954)</th>\n",
       "      <td>5.0</td>\n",
       "    </tr>\n",
       "    <tr>\n",
       "      <th>Lured (1947)</th>\n",
       "      <td>5.0</td>\n",
       "    </tr>\n",
       "    <tr>\n",
       "      <th>Follow the Bitch (1998)</th>\n",
       "      <td>5.0</td>\n",
       "    </tr>\n",
       "    <tr>\n",
       "      <th>Bittersweet Motel (2000)</th>\n",
       "      <td>5.0</td>\n",
       "    </tr>\n",
       "    <tr>\n",
       "      <th>Song of Freedom (1936)</th>\n",
       "      <td>5.0</td>\n",
       "    </tr>\n",
       "    <tr>\n",
       "      <th>...</th>\n",
       "      <td>...</td>\n",
       "    </tr>\n",
       "    <tr>\n",
       "      <th>Fantastic Night, The (La Nuit Fantastique) (1949)</th>\n",
       "      <td>1.0</td>\n",
       "    </tr>\n",
       "    <tr>\n",
       "      <th>Cheetah (1989)</th>\n",
       "      <td>1.0</td>\n",
       "    </tr>\n",
       "    <tr>\n",
       "      <th>Torso (Corpi Presentano Tracce di Violenza Carnale) (1973)</th>\n",
       "      <td>1.0</td>\n",
       "    </tr>\n",
       "    <tr>\n",
       "      <th>Mutters Courage (1995)</th>\n",
       "      <td>1.0</td>\n",
       "    </tr>\n",
       "    <tr>\n",
       "      <th>Windows (1980)</th>\n",
       "      <td>1.0</td>\n",
       "    </tr>\n",
       "  </tbody>\n",
       "</table>\n",
       "<p>3706 rows × 1 columns</p>\n",
       "</div>"
      ],
      "text/plain": [
       "                                                    Average_Ratings\n",
       "Title                                                              \n",
       "Ulysses (Ulisse) (1954)                                         5.0\n",
       "Lured (1947)                                                    5.0\n",
       "Follow the Bitch (1998)                                         5.0\n",
       "Bittersweet Motel (2000)                                        5.0\n",
       "Song of Freedom (1936)                                          5.0\n",
       "...                                                             ...\n",
       "Fantastic Night, The (La Nuit Fantastique) (1949)               1.0\n",
       "Cheetah (1989)                                                  1.0\n",
       "Torso (Corpi Presentano Tracce di Violenza Carn...              1.0\n",
       "Mutters Courage (1995)                                          1.0\n",
       "Windows (1980)                                                  1.0\n",
       "\n",
       "[3706 rows x 1 columns]"
      ]
     },
     "execution_count": 32,
     "metadata": {},
     "output_type": "execute_result"
    }
   ],
   "source": [
    "#Calculating Average movie rating for all movies in the dataset.\n",
    "Movies_Avg_Ratings = pd.DataFrame(Master_Data_df.groupby('Title')['Rating']\n",
    "                                  .mean().sort_values(ascending=False))\n",
    "\n",
    "Movies_Avg_Ratings.rename(columns = {'Rating':'Average_Ratings'}, inplace = True)\n",
    "Movies_Avg_Ratings"
   ]
  },
  {
   "cell_type": "code",
   "execution_count": 33,
   "id": "45a95cd2",
   "metadata": {
    "ExecuteTime": {
     "end_time": "2021-07-17T16:29:52.706598Z",
     "start_time": "2021-07-17T16:29:52.690597Z"
    },
    "scrolled": true
   },
   "outputs": [
    {
     "data": {
      "text/html": [
       "<div>\n",
       "<style scoped>\n",
       "    .dataframe tbody tr th:only-of-type {\n",
       "        vertical-align: middle;\n",
       "    }\n",
       "\n",
       "    .dataframe tbody tr th {\n",
       "        vertical-align: top;\n",
       "    }\n",
       "\n",
       "    .dataframe thead th {\n",
       "        text-align: right;\n",
       "    }\n",
       "</style>\n",
       "<table border=\"1\" class=\"dataframe\">\n",
       "  <thead>\n",
       "    <tr style=\"text-align: right;\">\n",
       "      <th></th>\n",
       "      <th>Number_of_Viewers</th>\n",
       "      <th>Average_Ratings</th>\n",
       "    </tr>\n",
       "    <tr>\n",
       "      <th>Title</th>\n",
       "      <th></th>\n",
       "      <th></th>\n",
       "    </tr>\n",
       "  </thead>\n",
       "  <tbody>\n",
       "    <tr>\n",
       "      <th>American Beauty (1999)</th>\n",
       "      <td>3428</td>\n",
       "      <td>4.317386</td>\n",
       "    </tr>\n",
       "    <tr>\n",
       "      <th>Star Wars: Episode IV - A New Hope (1977)</th>\n",
       "      <td>2991</td>\n",
       "      <td>4.453694</td>\n",
       "    </tr>\n",
       "    <tr>\n",
       "      <th>Star Wars: Episode V - The Empire Strikes Back (1980)</th>\n",
       "      <td>2990</td>\n",
       "      <td>4.292977</td>\n",
       "    </tr>\n",
       "    <tr>\n",
       "      <th>Star Wars: Episode VI - Return of the Jedi (1983)</th>\n",
       "      <td>2883</td>\n",
       "      <td>4.022893</td>\n",
       "    </tr>\n",
       "    <tr>\n",
       "      <th>Jurassic Park (1993)</th>\n",
       "      <td>2672</td>\n",
       "      <td>3.763847</td>\n",
       "    </tr>\n",
       "    <tr>\n",
       "      <th>Saving Private Ryan (1998)</th>\n",
       "      <td>2653</td>\n",
       "      <td>4.337354</td>\n",
       "    </tr>\n",
       "    <tr>\n",
       "      <th>Terminator 2: Judgment Day (1991)</th>\n",
       "      <td>2649</td>\n",
       "      <td>4.058513</td>\n",
       "    </tr>\n",
       "    <tr>\n",
       "      <th>Matrix, The (1999)</th>\n",
       "      <td>2590</td>\n",
       "      <td>4.315830</td>\n",
       "    </tr>\n",
       "    <tr>\n",
       "      <th>Back to the Future (1985)</th>\n",
       "      <td>2583</td>\n",
       "      <td>3.990321</td>\n",
       "    </tr>\n",
       "    <tr>\n",
       "      <th>Silence of the Lambs, The (1991)</th>\n",
       "      <td>2578</td>\n",
       "      <td>4.351823</td>\n",
       "    </tr>\n",
       "    <tr>\n",
       "      <th>Men in Black (1997)</th>\n",
       "      <td>2538</td>\n",
       "      <td>3.739953</td>\n",
       "    </tr>\n",
       "    <tr>\n",
       "      <th>Raiders of the Lost Ark (1981)</th>\n",
       "      <td>2514</td>\n",
       "      <td>4.477725</td>\n",
       "    </tr>\n",
       "    <tr>\n",
       "      <th>Fargo (1996)</th>\n",
       "      <td>2513</td>\n",
       "      <td>4.254676</td>\n",
       "    </tr>\n",
       "    <tr>\n",
       "      <th>Sixth Sense, The (1999)</th>\n",
       "      <td>2459</td>\n",
       "      <td>4.406263</td>\n",
       "    </tr>\n",
       "    <tr>\n",
       "      <th>Braveheart (1995)</th>\n",
       "      <td>2443</td>\n",
       "      <td>4.234957</td>\n",
       "    </tr>\n",
       "    <tr>\n",
       "      <th>Shakespeare in Love (1998)</th>\n",
       "      <td>2369</td>\n",
       "      <td>4.127480</td>\n",
       "    </tr>\n",
       "    <tr>\n",
       "      <th>Princess Bride, The (1987)</th>\n",
       "      <td>2318</td>\n",
       "      <td>4.303710</td>\n",
       "    </tr>\n",
       "    <tr>\n",
       "      <th>Schindler's List (1993)</th>\n",
       "      <td>2304</td>\n",
       "      <td>4.510417</td>\n",
       "    </tr>\n",
       "    <tr>\n",
       "      <th>L.A. Confidential (1997)</th>\n",
       "      <td>2288</td>\n",
       "      <td>4.219406</td>\n",
       "    </tr>\n",
       "    <tr>\n",
       "      <th>Groundhog Day (1993)</th>\n",
       "      <td>2278</td>\n",
       "      <td>3.953029</td>\n",
       "    </tr>\n",
       "    <tr>\n",
       "      <th>E.T. the Extra-Terrestrial (1982)</th>\n",
       "      <td>2269</td>\n",
       "      <td>3.965183</td>\n",
       "    </tr>\n",
       "    <tr>\n",
       "      <th>Star Wars: Episode I - The Phantom Menace (1999)</th>\n",
       "      <td>2250</td>\n",
       "      <td>3.409778</td>\n",
       "    </tr>\n",
       "    <tr>\n",
       "      <th>Being John Malkovich (1999)</th>\n",
       "      <td>2241</td>\n",
       "      <td>4.125390</td>\n",
       "    </tr>\n",
       "    <tr>\n",
       "      <th>Shawshank Redemption, The (1994)</th>\n",
       "      <td>2227</td>\n",
       "      <td>4.554558</td>\n",
       "    </tr>\n",
       "    <tr>\n",
       "      <th>Godfather, The (1972)</th>\n",
       "      <td>2223</td>\n",
       "      <td>4.524966</td>\n",
       "    </tr>\n",
       "  </tbody>\n",
       "</table>\n",
       "</div>"
      ],
      "text/plain": [
       "                                                    Number_of_Viewers  \\\n",
       "Title                                                                   \n",
       "American Beauty (1999)                                           3428   \n",
       "Star Wars: Episode IV - A New Hope (1977)                        2991   \n",
       "Star Wars: Episode V - The Empire Strikes Back ...               2990   \n",
       "Star Wars: Episode VI - Return of the Jedi (1983)                2883   \n",
       "Jurassic Park (1993)                                             2672   \n",
       "Saving Private Ryan (1998)                                       2653   \n",
       "Terminator 2: Judgment Day (1991)                                2649   \n",
       "Matrix, The (1999)                                               2590   \n",
       "Back to the Future (1985)                                        2583   \n",
       "Silence of the Lambs, The (1991)                                 2578   \n",
       "Men in Black (1997)                                              2538   \n",
       "Raiders of the Lost Ark (1981)                                   2514   \n",
       "Fargo (1996)                                                     2513   \n",
       "Sixth Sense, The (1999)                                          2459   \n",
       "Braveheart (1995)                                                2443   \n",
       "Shakespeare in Love (1998)                                       2369   \n",
       "Princess Bride, The (1987)                                       2318   \n",
       "Schindler's List (1993)                                          2304   \n",
       "L.A. Confidential (1997)                                         2288   \n",
       "Groundhog Day (1993)                                             2278   \n",
       "E.T. the Extra-Terrestrial (1982)                                2269   \n",
       "Star Wars: Episode I - The Phantom Menace (1999)                 2250   \n",
       "Being John Malkovich (1999)                                      2241   \n",
       "Shawshank Redemption, The (1994)                                 2227   \n",
       "Godfather, The (1972)                                            2223   \n",
       "\n",
       "                                                    Average_Ratings  \n",
       "Title                                                                \n",
       "American Beauty (1999)                                     4.317386  \n",
       "Star Wars: Episode IV - A New Hope (1977)                  4.453694  \n",
       "Star Wars: Episode V - The Empire Strikes Back ...         4.292977  \n",
       "Star Wars: Episode VI - Return of the Jedi (1983)          4.022893  \n",
       "Jurassic Park (1993)                                       3.763847  \n",
       "Saving Private Ryan (1998)                                 4.337354  \n",
       "Terminator 2: Judgment Day (1991)                          4.058513  \n",
       "Matrix, The (1999)                                         4.315830  \n",
       "Back to the Future (1985)                                  3.990321  \n",
       "Silence of the Lambs, The (1991)                           4.351823  \n",
       "Men in Black (1997)                                        3.739953  \n",
       "Raiders of the Lost Ark (1981)                             4.477725  \n",
       "Fargo (1996)                                               4.254676  \n",
       "Sixth Sense, The (1999)                                    4.406263  \n",
       "Braveheart (1995)                                          4.234957  \n",
       "Shakespeare in Love (1998)                                 4.127480  \n",
       "Princess Bride, The (1987)                                 4.303710  \n",
       "Schindler's List (1993)                                    4.510417  \n",
       "L.A. Confidential (1997)                                   4.219406  \n",
       "Groundhog Day (1993)                                       3.953029  \n",
       "E.T. the Extra-Terrestrial (1982)                          3.965183  \n",
       "Star Wars: Episode I - The Phantom Menace (1999)           3.409778  \n",
       "Being John Malkovich (1999)                                4.125390  \n",
       "Shawshank Redemption, The (1994)                           4.554558  \n",
       "Godfather, The (1972)                                      4.524966  "
      ]
     },
     "execution_count": 33,
     "metadata": {},
     "output_type": "execute_result"
    }
   ],
   "source": [
    "#Merge the Top25_by_viewers and Movies_Avg_Ratings dataframes based on Movie Title.\n",
    "Top25_Movies = pd.merge(Top25_by_viewers, Movies_Avg_Ratings, on='Title')\n",
    "\n",
    "#New Dataframe created with Movie title, number of viewers and average ratings.\n",
    "Top25_Movies"
   ]
  },
  {
   "cell_type": "markdown",
   "id": "1e9c9ad2",
   "metadata": {},
   "source": [
    "__Rearranging Top 25 Movies based on Average ratings.__"
   ]
  },
  {
   "cell_type": "code",
   "execution_count": 34,
   "id": "7a55a0af",
   "metadata": {
    "ExecuteTime": {
     "end_time": "2021-07-17T16:29:52.760601Z",
     "start_time": "2021-07-17T16:29:52.708599Z"
    }
   },
   "outputs": [
    {
     "data": {
      "text/plain": [
       "Title\n",
       "Shawshank Redemption, The (1994)                         4.554558\n",
       "Godfather, The (1972)                                    4.524966\n",
       "Schindler's List (1993)                                  4.510417\n",
       "Raiders of the Lost Ark (1981)                           4.477725\n",
       "Star Wars: Episode IV - A New Hope (1977)                4.453694\n",
       "Sixth Sense, The (1999)                                  4.406263\n",
       "Silence of the Lambs, The (1991)                         4.351823\n",
       "Saving Private Ryan (1998)                               4.337354\n",
       "American Beauty (1999)                                   4.317386\n",
       "Matrix, The (1999)                                       4.315830\n",
       "Princess Bride, The (1987)                               4.303710\n",
       "Star Wars: Episode V - The Empire Strikes Back (1980)    4.292977\n",
       "Fargo (1996)                                             4.254676\n",
       "Braveheart (1995)                                        4.234957\n",
       "L.A. Confidential (1997)                                 4.219406\n",
       "Shakespeare in Love (1998)                               4.127480\n",
       "Being John Malkovich (1999)                              4.125390\n",
       "Terminator 2: Judgment Day (1991)                        4.058513\n",
       "Star Wars: Episode VI - Return of the Jedi (1983)        4.022893\n",
       "Back to the Future (1985)                                3.990321\n",
       "E.T. the Extra-Terrestrial (1982)                        3.965183\n",
       "Groundhog Day (1993)                                     3.953029\n",
       "Jurassic Park (1993)                                     3.763847\n",
       "Men in Black (1997)                                      3.739953\n",
       "Star Wars: Episode I - The Phantom Menace (1999)         3.409778\n",
       "Name: Average_Ratings, dtype: float64"
      ]
     },
     "execution_count": 34,
     "metadata": {},
     "output_type": "execute_result"
    }
   ],
   "source": [
    "#Sort the newly created dataframe based on rating.\n",
    "Top25_Viewership_Rating = Top25_Movies.Average_Ratings.sort_values(ascending=False)\n",
    "Top25_Viewership_Rating"
   ]
  },
  {
   "cell_type": "code",
   "execution_count": 35,
   "id": "7e644e11",
   "metadata": {
    "ExecuteTime": {
     "end_time": "2021-07-17T16:29:53.691655Z",
     "start_time": "2021-07-17T16:29:52.762602Z"
    }
   },
   "outputs": [
    {
     "data": {
      "image/png": "[encoded data removed]",
      "text/plain": [
       "<Figure size 504x432 with 1 Axes>"
      ]
     },
     "metadata": {
      "needs_background": "light"
     },
     "output_type": "display_data"
    }
   ],
   "source": [
    "plt.figure(figsize=(7,6))\n",
    "Top25_Viewership_Rating.plot(kind='barh',color='green')\n",
    "plt.xlabel(\"Avg.Ratings\")\n",
    "plt.show()"
   ]
  },
  {
   "cell_type": "markdown",
   "id": "c0974359",
   "metadata": {},
   "source": [
    "<font color='green'><b>When considering only number of viewers the movie \"American Beauty (1999)\" tops the list, but considering Average user rating as-well-as the number of viewers watched(above 2000 viewers), the movie \"The Shawshank Redemption\" seems to be the top movie based on viewership ratings.<b></font>"
   ]
  },
  {
   "cell_type": "markdown",
   "id": "d0881e24",
   "metadata": {},
   "source": [
    "### Find the ratings for all the movies reviewed by for a particular user of user id = 2696"
   ]
  },
  {
   "cell_type": "code",
   "execution_count": 36,
   "id": "8fe59128",
   "metadata": {
    "ExecuteTime": {
     "end_time": "2021-07-17T16:29:53.710656Z",
     "start_time": "2021-07-17T16:29:53.692655Z"
    },
    "scrolled": true
   },
   "outputs": [
    {
     "data": {
      "text/html": [
       "<div>\n",
       "<style scoped>\n",
       "    .dataframe tbody tr th:only-of-type {\n",
       "        vertical-align: middle;\n",
       "    }\n",
       "\n",
       "    .dataframe tbody tr th {\n",
       "        vertical-align: top;\n",
       "    }\n",
       "\n",
       "    .dataframe thead th {\n",
       "        text-align: right;\n",
       "    }\n",
       "</style>\n",
       "<table border=\"1\" class=\"dataframe\">\n",
       "  <thead>\n",
       "    <tr style=\"text-align: right;\">\n",
       "      <th></th>\n",
       "      <th>MovieID</th>\n",
       "      <th>Title</th>\n",
       "      <th>Genres</th>\n",
       "      <th>UserID</th>\n",
       "      <th>Rating</th>\n",
       "      <th>Timestamp</th>\n",
       "      <th>Gender</th>\n",
       "      <th>Age</th>\n",
       "      <th>Occupation</th>\n",
       "      <th>Zip-code</th>\n",
       "    </tr>\n",
       "  </thead>\n",
       "  <tbody>\n",
       "    <tr>\n",
       "      <th>991035</th>\n",
       "      <td>350</td>\n",
       "      <td>Client, The (1994)</td>\n",
       "      <td>Drama|Mystery|Thriller</td>\n",
       "      <td>2696</td>\n",
       "      <td>3</td>\n",
       "      <td>973308886</td>\n",
       "      <td>M</td>\n",
       "      <td>25</td>\n",
       "      <td>7</td>\n",
       "      <td>24210</td>\n",
       "    </tr>\n",
       "    <tr>\n",
       "      <th>991036</th>\n",
       "      <td>800</td>\n",
       "      <td>Lone Star (1996)</td>\n",
       "      <td>Drama|Mystery</td>\n",
       "      <td>2696</td>\n",
       "      <td>5</td>\n",
       "      <td>973308842</td>\n",
       "      <td>M</td>\n",
       "      <td>25</td>\n",
       "      <td>7</td>\n",
       "      <td>24210</td>\n",
       "    </tr>\n",
       "    <tr>\n",
       "      <th>991037</th>\n",
       "      <td>1092</td>\n",
       "      <td>Basic Instinct (1992)</td>\n",
       "      <td>Mystery|Thriller</td>\n",
       "      <td>2696</td>\n",
       "      <td>4</td>\n",
       "      <td>973308886</td>\n",
       "      <td>M</td>\n",
       "      <td>25</td>\n",
       "      <td>7</td>\n",
       "      <td>24210</td>\n",
       "    </tr>\n",
       "    <tr>\n",
       "      <th>991038</th>\n",
       "      <td>1097</td>\n",
       "      <td>E.T. the Extra-Terrestrial (1982)</td>\n",
       "      <td>Children's|Drama|Fantasy|Sci-Fi</td>\n",
       "      <td>2696</td>\n",
       "      <td>3</td>\n",
       "      <td>973308690</td>\n",
       "      <td>M</td>\n",
       "      <td>25</td>\n",
       "      <td>7</td>\n",
       "      <td>24210</td>\n",
       "    </tr>\n",
       "    <tr>\n",
       "      <th>991039</th>\n",
       "      <td>1258</td>\n",
       "      <td>Shining, The (1980)</td>\n",
       "      <td>Horror</td>\n",
       "      <td>2696</td>\n",
       "      <td>4</td>\n",
       "      <td>973308710</td>\n",
       "      <td>M</td>\n",
       "      <td>25</td>\n",
       "      <td>7</td>\n",
       "      <td>24210</td>\n",
       "    </tr>\n",
       "  </tbody>\n",
       "</table>\n",
       "</div>"
      ],
      "text/plain": [
       "        MovieID                              Title  \\\n",
       "991035      350                 Client, The (1994)   \n",
       "991036      800                   Lone Star (1996)   \n",
       "991037     1092              Basic Instinct (1992)   \n",
       "991038     1097  E.T. the Extra-Terrestrial (1982)   \n",
       "991039     1258                Shining, The (1980)   \n",
       "\n",
       "                                 Genres  UserID  Rating  Timestamp Gender  \\\n",
       "991035           Drama|Mystery|Thriller    2696       3  973308886      M   \n",
       "991036                    Drama|Mystery    2696       5  973308842      M   \n",
       "991037                 Mystery|Thriller    2696       4  973308886      M   \n",
       "991038  Children's|Drama|Fantasy|Sci-Fi    2696       3  973308690      M   \n",
       "991039                           Horror    2696       4  973308710      M   \n",
       "\n",
       "        Age  Occupation Zip-code  \n",
       "991035   25           7    24210  \n",
       "991036   25           7    24210  \n",
       "991037   25           7    24210  \n",
       "991038   25           7    24210  \n",
       "991039   25           7    24210  "
      ]
     },
     "execution_count": 36,
     "metadata": {},
     "output_type": "execute_result"
    }
   ],
   "source": [
    "#Create a dataframe with movies reviewed by User ID 2696\n",
    "UserID_2696_df = Master_Data_df[Master_Data_df['UserID'] == 2696]\n",
    "UserID_2696_df.head()"
   ]
  },
  {
   "cell_type": "code",
   "execution_count": 37,
   "id": "60e4a746",
   "metadata": {
    "ExecuteTime": {
     "end_time": "2021-07-17T16:29:53.744658Z",
     "start_time": "2021-07-17T16:29:53.711656Z"
    }
   },
   "outputs": [
    {
     "data": {
      "text/plain": [
       "pandas.core.frame.DataFrame"
      ]
     },
     "execution_count": 37,
     "metadata": {},
     "output_type": "execute_result"
    }
   ],
   "source": [
    "type(UserID_2696_df)"
   ]
  },
  {
   "cell_type": "code",
   "execution_count": 38,
   "id": "c1f28f70",
   "metadata": {
    "ExecuteTime": {
     "end_time": "2021-07-17T16:29:53.781660Z",
     "start_time": "2021-07-17T16:29:53.746658Z"
    }
   },
   "outputs": [
    {
     "data": {
      "text/plain": [
       "20"
      ]
     },
     "execution_count": 38,
     "metadata": {},
     "output_type": "execute_result"
    }
   ],
   "source": [
    "#Number of Movies rated by USedID_2629\n",
    "len(UserID_2696_df[\"Title\"].explode().unique())"
   ]
  },
  {
   "cell_type": "markdown",
   "id": "54b4756f",
   "metadata": {},
   "source": [
    "<font color='green'><b>UserID_2696 has reviewed 20 Movies in total.</b></font>"
   ]
  },
  {
   "cell_type": "code",
   "execution_count": 39,
   "id": "f55859bf",
   "metadata": {
    "ExecuteTime": {
     "end_time": "2021-07-17T16:29:53.828663Z",
     "start_time": "2021-07-17T16:29:53.782660Z"
    }
   },
   "outputs": [
    {
     "data": {
      "text/plain": [
       "['Client, The (1994)',\n",
       " 'Lone Star (1996)',\n",
       " 'Basic Instinct (1992)',\n",
       " 'E.T. the Extra-Terrestrial (1982)',\n",
       " 'Shining, The (1980)',\n",
       " 'Back to the Future (1985)',\n",
       " 'Cop Land (1997)',\n",
       " 'L.A. Confidential (1997)',\n",
       " 'Game, The (1997)',\n",
       " 'I Know What You Did Last Summer (1997)',\n",
       " \"Devil's Advocate, The (1997)\",\n",
       " 'Midnight in the Garden of Good and Evil (1997)',\n",
       " 'Palmetto (1998)',\n",
       " 'Wild Things (1998)',\n",
       " 'Perfect Murder, A (1998)',\n",
       " 'I Still Know What You Did Last Summer (1998)',\n",
       " 'Psycho (1998)',\n",
       " 'Lake Placid (1999)',\n",
       " 'Talented Mr. Ripley, The (1999)',\n",
       " 'JFK (1991)']"
      ]
     },
     "execution_count": 39,
     "metadata": {},
     "output_type": "execute_result"
    }
   ],
   "source": [
    "#List of Movies reviewed by UserID_2696\n",
    "list(UserID_2696_df.Title)"
   ]
  },
  {
   "cell_type": "code",
   "execution_count": 40,
   "id": "5d55afbf",
   "metadata": {
    "ExecuteTime": {
     "end_time": "2021-07-17T16:29:53.867665Z",
     "start_time": "2021-07-17T16:29:53.830663Z"
    },
    "scrolled": true
   },
   "outputs": [
    {
     "data": {
      "text/plain": [
       "Mystery|Thriller                    3\n",
       "Drama|Mystery|Thriller              2\n",
       "Horror|Mystery|Thriller             2\n",
       "Drama|Mystery                       2\n",
       "Crime|Drama|Mystery|Thriller        1\n",
       "Comedy|Crime|Drama|Mystery          1\n",
       "Horror                              1\n",
       "Crime|Horror|Mystery|Thriller       1\n",
       "Film-Noir|Mystery|Thriller          1\n",
       "Crime|Drama|Mystery                 1\n",
       "Comedy|Sci-Fi                       1\n",
       "Crime|Horror|Thriller               1\n",
       "Children's|Drama|Fantasy|Sci-Fi     1\n",
       "Horror|Thriller                     1\n",
       "Crime|Film-Noir|Mystery|Thriller    1\n",
       "Name: Genres, dtype: int64"
      ]
     },
     "execution_count": 40,
     "metadata": {},
     "output_type": "execute_result"
    }
   ],
   "source": [
    "#Most reviewed Movie-Genres by UserID_2696\n",
    "UserID_2696_df.Genres.value_counts()"
   ]
  },
  {
   "cell_type": "code",
   "execution_count": 41,
   "id": "a436459f",
   "metadata": {
    "ExecuteTime": {
     "end_time": "2021-07-17T16:29:54.674711Z",
     "start_time": "2021-07-17T16:29:53.869665Z"
    }
   },
   "outputs": [
    {
     "data": {
      "image/png": "[encoded data removed]",
      "text/plain": [
       "<Figure size 432x288 with 1 Axes>"
      ]
     },
     "metadata": {
      "needs_background": "light"
     },
     "output_type": "display_data"
    }
   ],
   "source": [
    "#Plotting UserID_2696 Rating distribution over Movies.\n",
    "plt.barh(UserID_2696_df[\"Title\"],UserID_2696_df[\"Rating\"])\n",
    "plt.title(\"User Rating over Movies\")\n",
    "plt.xlabel(\"Ratings\")\n",
    "plt.ylabel(\"Movies\")\n",
    "plt.show()"
   ]
  },
  {
   "cell_type": "markdown",
   "id": "233f6d86",
   "metadata": {},
   "source": [
    "<font color='green'><b>From the above plot, we can say that, the highest rated movie by UserID_2696 is 'Lone Star(1996)'.</b></font>"
   ]
  },
  {
   "cell_type": "markdown",
   "id": "71887053",
   "metadata": {},
   "source": [
    "## Feature Engineering:\n",
    "__Use column genres:__"
   ]
  },
  {
   "cell_type": "markdown",
   "id": "f7d60260",
   "metadata": {},
   "source": [
    "### Find out all the unique genres\n",
    "__(Hint: split the data in column genre making a list and then process the data to find out only the unique categories of genres)__"
   ]
  },
  {
   "cell_type": "code",
   "execution_count": 42,
   "id": "539be6a3",
   "metadata": {
    "ExecuteTime": {
     "end_time": "2021-07-17T16:29:54.688712Z",
     "start_time": "2021-07-17T16:29:54.676711Z"
    },
    "scrolled": true
   },
   "outputs": [
    {
     "data": {
      "text/plain": [
       "0                   Animation|Children's|Comedy\n",
       "1          Animation|Children's|Musical|Romance\n",
       "2                                         Drama\n",
       "3               Action|Adventure|Fantasy|Sci-Fi\n",
       "4                                     Drama|War\n",
       "                           ...                 \n",
       "1000204                          Drama|Thriller\n",
       "1000205                  Comedy|Horror|Thriller\n",
       "1000206                          Comedy|Romance\n",
       "1000207                         Action|Thriller\n",
       "1000208                            Action|Drama\n",
       "Name: Genres, Length: 1000209, dtype: object"
      ]
     },
     "execution_count": 42,
     "metadata": {},
     "output_type": "execute_result"
    }
   ],
   "source": [
    "#Elements in Genres column are in a combined form.\n",
    "Master_Data_df['Genres']"
   ]
  },
  {
   "cell_type": "markdown",
   "id": "0f99e611",
   "metadata": {},
   "source": [
    "__Elements in Genres column are in combined form. Let's split the genres as a list and add them as new columns in Master_Data itself.__"
   ]
  },
  {
   "cell_type": "code",
   "execution_count": 43,
   "id": "333b8562",
   "metadata": {
    "ExecuteTime": {
     "end_time": "2021-07-17T16:29:55.944784Z",
     "start_time": "2021-07-17T16:29:54.690712Z"
    }
   },
   "outputs": [
    {
     "data": {
      "text/html": [
       "<div>\n",
       "<style scoped>\n",
       "    .dataframe tbody tr th:only-of-type {\n",
       "        vertical-align: middle;\n",
       "    }\n",
       "\n",
       "    .dataframe tbody tr th {\n",
       "        vertical-align: top;\n",
       "    }\n",
       "\n",
       "    .dataframe thead th {\n",
       "        text-align: right;\n",
       "    }\n",
       "</style>\n",
       "<table border=\"1\" class=\"dataframe\">\n",
       "  <thead>\n",
       "    <tr style=\"text-align: right;\">\n",
       "      <th></th>\n",
       "      <th>MovieID</th>\n",
       "      <th>Title</th>\n",
       "      <th>Genres</th>\n",
       "      <th>UserID</th>\n",
       "      <th>Rating</th>\n",
       "      <th>Timestamp</th>\n",
       "      <th>Gender</th>\n",
       "      <th>Age</th>\n",
       "      <th>Occupation</th>\n",
       "      <th>Zip-code</th>\n",
       "      <th>Genres_List</th>\n",
       "    </tr>\n",
       "  </thead>\n",
       "  <tbody>\n",
       "    <tr>\n",
       "      <th>0</th>\n",
       "      <td>1</td>\n",
       "      <td>Toy Story (1995)</td>\n",
       "      <td>Animation|Children's|Comedy</td>\n",
       "      <td>1</td>\n",
       "      <td>5</td>\n",
       "      <td>978824268</td>\n",
       "      <td>F</td>\n",
       "      <td>1</td>\n",
       "      <td>10</td>\n",
       "      <td>48067</td>\n",
       "      <td>[Animation, Children's, Comedy]</td>\n",
       "    </tr>\n",
       "    <tr>\n",
       "      <th>1</th>\n",
       "      <td>48</td>\n",
       "      <td>Pocahontas (1995)</td>\n",
       "      <td>Animation|Children's|Musical|Romance</td>\n",
       "      <td>1</td>\n",
       "      <td>5</td>\n",
       "      <td>978824351</td>\n",
       "      <td>F</td>\n",
       "      <td>1</td>\n",
       "      <td>10</td>\n",
       "      <td>48067</td>\n",
       "      <td>[Animation, Children's, Musical, Romance]</td>\n",
       "    </tr>\n",
       "    <tr>\n",
       "      <th>2</th>\n",
       "      <td>150</td>\n",
       "      <td>Apollo 13 (1995)</td>\n",
       "      <td>Drama</td>\n",
       "      <td>1</td>\n",
       "      <td>5</td>\n",
       "      <td>978301777</td>\n",
       "      <td>F</td>\n",
       "      <td>1</td>\n",
       "      <td>10</td>\n",
       "      <td>48067</td>\n",
       "      <td>[Drama]</td>\n",
       "    </tr>\n",
       "    <tr>\n",
       "      <th>3</th>\n",
       "      <td>260</td>\n",
       "      <td>Star Wars: Episode IV - A New Hope (1977)</td>\n",
       "      <td>Action|Adventure|Fantasy|Sci-Fi</td>\n",
       "      <td>1</td>\n",
       "      <td>4</td>\n",
       "      <td>978300760</td>\n",
       "      <td>F</td>\n",
       "      <td>1</td>\n",
       "      <td>10</td>\n",
       "      <td>48067</td>\n",
       "      <td>[Action, Adventure, Fantasy, Sci-Fi]</td>\n",
       "    </tr>\n",
       "    <tr>\n",
       "      <th>4</th>\n",
       "      <td>527</td>\n",
       "      <td>Schindler's List (1993)</td>\n",
       "      <td>Drama|War</td>\n",
       "      <td>1</td>\n",
       "      <td>5</td>\n",
       "      <td>978824195</td>\n",
       "      <td>F</td>\n",
       "      <td>1</td>\n",
       "      <td>10</td>\n",
       "      <td>48067</td>\n",
       "      <td>[Drama, War]</td>\n",
       "    </tr>\n",
       "  </tbody>\n",
       "</table>\n",
       "</div>"
      ],
      "text/plain": [
       "   MovieID                                      Title  \\\n",
       "0        1                           Toy Story (1995)   \n",
       "1       48                          Pocahontas (1995)   \n",
       "2      150                           Apollo 13 (1995)   \n",
       "3      260  Star Wars: Episode IV - A New Hope (1977)   \n",
       "4      527                    Schindler's List (1993)   \n",
       "\n",
       "                                 Genres  UserID  Rating  Timestamp Gender  \\\n",
       "0           Animation|Children's|Comedy       1       5  978824268      F   \n",
       "1  Animation|Children's|Musical|Romance       1       5  978824351      F   \n",
       "2                                 Drama       1       5  978301777      F   \n",
       "3       Action|Adventure|Fantasy|Sci-Fi       1       4  978300760      F   \n",
       "4                             Drama|War       1       5  978824195      F   \n",
       "\n",
       "   Age  Occupation Zip-code                                Genres_List  \n",
       "0    1          10    48067            [Animation, Children's, Comedy]  \n",
       "1    1          10    48067  [Animation, Children's, Musical, Romance]  \n",
       "2    1          10    48067                                    [Drama]  \n",
       "3    1          10    48067       [Action, Adventure, Fantasy, Sci-Fi]  \n",
       "4    1          10    48067                               [Drama, War]  "
      ]
     },
     "execution_count": 43,
     "metadata": {},
     "output_type": "execute_result"
    }
   ],
   "source": [
    "#Create a new column and add the Genres column data in the form of list by spliting the combined data.\n",
    "Master_Data_df['Genres_List'] = Master_Data_df['Genres'].str.split('|')\n",
    "#View the observation to check the new column created.\n",
    "Master_Data_df.head()"
   ]
  },
  {
   "cell_type": "code",
   "execution_count": 44,
   "id": "b082970b",
   "metadata": {
    "ExecuteTime": {
     "end_time": "2021-07-17T16:29:56.245801Z",
     "start_time": "2021-07-17T16:29:55.945784Z"
    },
    "scrolled": true
   },
   "outputs": [
    {
     "name": "stdout",
     "output_type": "stream",
     "text": [
      "<class 'pandas.core.frame.DataFrame'>\n",
      "Int64Index: 1000209 entries, 0 to 1000208\n",
      "Data columns (total 11 columns):\n",
      " #   Column       Non-Null Count    Dtype \n",
      "---  ------       --------------    ----- \n",
      " 0   MovieID      1000209 non-null  int64 \n",
      " 1   Title        1000209 non-null  object\n",
      " 2   Genres       1000209 non-null  object\n",
      " 3   UserID       1000209 non-null  int64 \n",
      " 4   Rating       1000209 non-null  int64 \n",
      " 5   Timestamp    1000209 non-null  int64 \n",
      " 6   Gender       1000209 non-null  object\n",
      " 7   Age          1000209 non-null  int64 \n",
      " 8   Occupation   1000209 non-null  int64 \n",
      " 9   Zip-code     1000209 non-null  object\n",
      " 10  Genres_List  1000209 non-null  object\n",
      "dtypes: int64(6), object(5)\n",
      "memory usage: 72.5+ MB\n"
     ]
    }
   ],
   "source": [
    "Master_Data_df.info()"
   ]
  },
  {
   "cell_type": "code",
   "execution_count": 45,
   "id": "995a910d",
   "metadata": {
    "ExecuteTime": {
     "end_time": "2021-07-17T16:29:57.269859Z",
     "start_time": "2021-07-17T16:29:56.247801Z"
    },
    "scrolled": true
   },
   "outputs": [
    {
     "data": {
      "text/plain": [
       "array(['Animation', \"Children's\", 'Comedy', 'Musical', 'Romance', 'Drama',\n",
       "       'Action', 'Adventure', 'Fantasy', 'Sci-Fi', 'War', 'Crime',\n",
       "       'Thriller', 'Western', 'Horror', 'Mystery', 'Documentary',\n",
       "       'Film-Noir'], dtype=object)"
      ]
     },
     "execution_count": 45,
     "metadata": {},
     "output_type": "execute_result"
    }
   ],
   "source": [
    "#Transform list-like element in 'Genres_List' column to find the unique genres.\n",
    "nd_unique_genres=Master_Data_df['Genres_List'].explode().unique()\n",
    "nd_unique_genres"
   ]
  },
  {
   "cell_type": "code",
   "execution_count": 46,
   "id": "49dcdd63",
   "metadata": {
    "ExecuteTime": {
     "end_time": "2021-07-17T16:29:57.275860Z",
     "start_time": "2021-07-17T16:29:57.270859Z"
    }
   },
   "outputs": [
    {
     "data": {
      "text/plain": [
       "numpy.ndarray"
      ]
     },
     "execution_count": 46,
     "metadata": {},
     "output_type": "execute_result"
    }
   ],
   "source": [
    "type(nd_unique_genres)"
   ]
  },
  {
   "cell_type": "markdown",
   "id": "fd60e1ad",
   "metadata": {},
   "source": [
    "<font color='green'><b>The ndarray 'nd_unique_genres' shows all the unique categories of genres in the dataset such as 'Animation', \"Children's\", 'Comedy', 'Musical', 'Romance', 'Drama',\n",
    "       'Action', 'Adventure', 'Fantasy', 'Sci-Fi', 'War', 'Crime',\n",
    "       'Thriller', 'Western', 'Horror', 'Mystery', 'Documentary',\n",
    "    'Film-Noir'.</b></font>"
   ]
  },
  {
   "cell_type": "markdown",
   "id": "bed32de3",
   "metadata": {},
   "source": [
    "### Create a separate column for each genre category with a one-hot encoding\n",
    "#### Data Preprocessing\n",
    "\n",
    "Convert a multiple list of the categorical data into one hot encoded Numerical type using MultiLabelBinarizer().\n",
    "\n",
    "__MultiLabelBinarizer__\n",
    "\n",
    "MultiLabelBinarizer can be used to transform between iterable of iterables and a multilabel format. Since our Column Genres_List consist of multiple list, we can use MultiLabelBinarizer for one hot encoding."
   ]
  },
  {
   "cell_type": "code",
   "execution_count": 47,
   "id": "1c8d0961",
   "metadata": {
    "ExecuteTime": {
     "end_time": "2021-07-17T16:30:01.519102Z",
     "start_time": "2021-07-17T16:29:57.276860Z"
    }
   },
   "outputs": [
    {
     "data": {
      "text/html": [
       "<div>\n",
       "<style scoped>\n",
       "    .dataframe tbody tr th:only-of-type {\n",
       "        vertical-align: middle;\n",
       "    }\n",
       "\n",
       "    .dataframe tbody tr th {\n",
       "        vertical-align: top;\n",
       "    }\n",
       "\n",
       "    .dataframe thead th {\n",
       "        text-align: right;\n",
       "    }\n",
       "</style>\n",
       "<table border=\"1\" class=\"dataframe\">\n",
       "  <thead>\n",
       "    <tr style=\"text-align: right;\">\n",
       "      <th></th>\n",
       "      <th>Action</th>\n",
       "      <th>Adventure</th>\n",
       "      <th>Animation</th>\n",
       "      <th>Children's</th>\n",
       "      <th>Comedy</th>\n",
       "      <th>Crime</th>\n",
       "      <th>Documentary</th>\n",
       "      <th>Drama</th>\n",
       "      <th>Fantasy</th>\n",
       "      <th>Film-Noir</th>\n",
       "      <th>Horror</th>\n",
       "      <th>Musical</th>\n",
       "      <th>Mystery</th>\n",
       "      <th>Romance</th>\n",
       "      <th>Sci-Fi</th>\n",
       "      <th>Thriller</th>\n",
       "      <th>War</th>\n",
       "      <th>Western</th>\n",
       "    </tr>\n",
       "  </thead>\n",
       "  <tbody>\n",
       "    <tr>\n",
       "      <th>0</th>\n",
       "      <td>0</td>\n",
       "      <td>0</td>\n",
       "      <td>1</td>\n",
       "      <td>1</td>\n",
       "      <td>1</td>\n",
       "      <td>0</td>\n",
       "      <td>0</td>\n",
       "      <td>0</td>\n",
       "      <td>0</td>\n",
       "      <td>0</td>\n",
       "      <td>0</td>\n",
       "      <td>0</td>\n",
       "      <td>0</td>\n",
       "      <td>0</td>\n",
       "      <td>0</td>\n",
       "      <td>0</td>\n",
       "      <td>0</td>\n",
       "      <td>0</td>\n",
       "    </tr>\n",
       "    <tr>\n",
       "      <th>1</th>\n",
       "      <td>0</td>\n",
       "      <td>0</td>\n",
       "      <td>1</td>\n",
       "      <td>1</td>\n",
       "      <td>0</td>\n",
       "      <td>0</td>\n",
       "      <td>0</td>\n",
       "      <td>0</td>\n",
       "      <td>0</td>\n",
       "      <td>0</td>\n",
       "      <td>0</td>\n",
       "      <td>1</td>\n",
       "      <td>0</td>\n",
       "      <td>1</td>\n",
       "      <td>0</td>\n",
       "      <td>0</td>\n",
       "      <td>0</td>\n",
       "      <td>0</td>\n",
       "    </tr>\n",
       "    <tr>\n",
       "      <th>2</th>\n",
       "      <td>0</td>\n",
       "      <td>0</td>\n",
       "      <td>0</td>\n",
       "      <td>0</td>\n",
       "      <td>0</td>\n",
       "      <td>0</td>\n",
       "      <td>0</td>\n",
       "      <td>1</td>\n",
       "      <td>0</td>\n",
       "      <td>0</td>\n",
       "      <td>0</td>\n",
       "      <td>0</td>\n",
       "      <td>0</td>\n",
       "      <td>0</td>\n",
       "      <td>0</td>\n",
       "      <td>0</td>\n",
       "      <td>0</td>\n",
       "      <td>0</td>\n",
       "    </tr>\n",
       "    <tr>\n",
       "      <th>3</th>\n",
       "      <td>1</td>\n",
       "      <td>1</td>\n",
       "      <td>0</td>\n",
       "      <td>0</td>\n",
       "      <td>0</td>\n",
       "      <td>0</td>\n",
       "      <td>0</td>\n",
       "      <td>0</td>\n",
       "      <td>1</td>\n",
       "      <td>0</td>\n",
       "      <td>0</td>\n",
       "      <td>0</td>\n",
       "      <td>0</td>\n",
       "      <td>0</td>\n",
       "      <td>1</td>\n",
       "      <td>0</td>\n",
       "      <td>0</td>\n",
       "      <td>0</td>\n",
       "    </tr>\n",
       "    <tr>\n",
       "      <th>4</th>\n",
       "      <td>0</td>\n",
       "      <td>0</td>\n",
       "      <td>0</td>\n",
       "      <td>0</td>\n",
       "      <td>0</td>\n",
       "      <td>0</td>\n",
       "      <td>0</td>\n",
       "      <td>1</td>\n",
       "      <td>0</td>\n",
       "      <td>0</td>\n",
       "      <td>0</td>\n",
       "      <td>0</td>\n",
       "      <td>0</td>\n",
       "      <td>0</td>\n",
       "      <td>0</td>\n",
       "      <td>0</td>\n",
       "      <td>1</td>\n",
       "      <td>0</td>\n",
       "    </tr>\n",
       "    <tr>\n",
       "      <th>...</th>\n",
       "      <td>...</td>\n",
       "      <td>...</td>\n",
       "      <td>...</td>\n",
       "      <td>...</td>\n",
       "      <td>...</td>\n",
       "      <td>...</td>\n",
       "      <td>...</td>\n",
       "      <td>...</td>\n",
       "      <td>...</td>\n",
       "      <td>...</td>\n",
       "      <td>...</td>\n",
       "      <td>...</td>\n",
       "      <td>...</td>\n",
       "      <td>...</td>\n",
       "      <td>...</td>\n",
       "      <td>...</td>\n",
       "      <td>...</td>\n",
       "      <td>...</td>\n",
       "    </tr>\n",
       "    <tr>\n",
       "      <th>1000204</th>\n",
       "      <td>0</td>\n",
       "      <td>0</td>\n",
       "      <td>0</td>\n",
       "      <td>0</td>\n",
       "      <td>0</td>\n",
       "      <td>0</td>\n",
       "      <td>0</td>\n",
       "      <td>1</td>\n",
       "      <td>0</td>\n",
       "      <td>0</td>\n",
       "      <td>0</td>\n",
       "      <td>0</td>\n",
       "      <td>0</td>\n",
       "      <td>0</td>\n",
       "      <td>0</td>\n",
       "      <td>1</td>\n",
       "      <td>0</td>\n",
       "      <td>0</td>\n",
       "    </tr>\n",
       "    <tr>\n",
       "      <th>1000205</th>\n",
       "      <td>0</td>\n",
       "      <td>0</td>\n",
       "      <td>0</td>\n",
       "      <td>0</td>\n",
       "      <td>1</td>\n",
       "      <td>0</td>\n",
       "      <td>0</td>\n",
       "      <td>0</td>\n",
       "      <td>0</td>\n",
       "      <td>0</td>\n",
       "      <td>1</td>\n",
       "      <td>0</td>\n",
       "      <td>0</td>\n",
       "      <td>0</td>\n",
       "      <td>0</td>\n",
       "      <td>1</td>\n",
       "      <td>0</td>\n",
       "      <td>0</td>\n",
       "    </tr>\n",
       "    <tr>\n",
       "      <th>1000206</th>\n",
       "      <td>0</td>\n",
       "      <td>0</td>\n",
       "      <td>0</td>\n",
       "      <td>0</td>\n",
       "      <td>1</td>\n",
       "      <td>0</td>\n",
       "      <td>0</td>\n",
       "      <td>0</td>\n",
       "      <td>0</td>\n",
       "      <td>0</td>\n",
       "      <td>0</td>\n",
       "      <td>0</td>\n",
       "      <td>0</td>\n",
       "      <td>1</td>\n",
       "      <td>0</td>\n",
       "      <td>0</td>\n",
       "      <td>0</td>\n",
       "      <td>0</td>\n",
       "    </tr>\n",
       "    <tr>\n",
       "      <th>1000207</th>\n",
       "      <td>1</td>\n",
       "      <td>0</td>\n",
       "      <td>0</td>\n",
       "      <td>0</td>\n",
       "      <td>0</td>\n",
       "      <td>0</td>\n",
       "      <td>0</td>\n",
       "      <td>0</td>\n",
       "      <td>0</td>\n",
       "      <td>0</td>\n",
       "      <td>0</td>\n",
       "      <td>0</td>\n",
       "      <td>0</td>\n",
       "      <td>0</td>\n",
       "      <td>0</td>\n",
       "      <td>1</td>\n",
       "      <td>0</td>\n",
       "      <td>0</td>\n",
       "    </tr>\n",
       "    <tr>\n",
       "      <th>1000208</th>\n",
       "      <td>1</td>\n",
       "      <td>0</td>\n",
       "      <td>0</td>\n",
       "      <td>0</td>\n",
       "      <td>0</td>\n",
       "      <td>0</td>\n",
       "      <td>0</td>\n",
       "      <td>1</td>\n",
       "      <td>0</td>\n",
       "      <td>0</td>\n",
       "      <td>0</td>\n",
       "      <td>0</td>\n",
       "      <td>0</td>\n",
       "      <td>0</td>\n",
       "      <td>0</td>\n",
       "      <td>0</td>\n",
       "      <td>0</td>\n",
       "      <td>0</td>\n",
       "    </tr>\n",
       "  </tbody>\n",
       "</table>\n",
       "<p>1000209 rows × 18 columns</p>\n",
       "</div>"
      ],
      "text/plain": [
       "         Action  Adventure  Animation  Children's  Comedy  Crime  Documentary  \\\n",
       "0             0          0          1           1       1      0            0   \n",
       "1             0          0          1           1       0      0            0   \n",
       "2             0          0          0           0       0      0            0   \n",
       "3             1          1          0           0       0      0            0   \n",
       "4             0          0          0           0       0      0            0   \n",
       "...         ...        ...        ...         ...     ...    ...          ...   \n",
       "1000204       0          0          0           0       0      0            0   \n",
       "1000205       0          0          0           0       1      0            0   \n",
       "1000206       0          0          0           0       1      0            0   \n",
       "1000207       1          0          0           0       0      0            0   \n",
       "1000208       1          0          0           0       0      0            0   \n",
       "\n",
       "         Drama  Fantasy  Film-Noir  Horror  Musical  Mystery  Romance  Sci-Fi  \\\n",
       "0            0        0          0       0        0        0        0       0   \n",
       "1            0        0          0       0        1        0        1       0   \n",
       "2            1        0          0       0        0        0        0       0   \n",
       "3            0        1          0       0        0        0        0       1   \n",
       "4            1        0          0       0        0        0        0       0   \n",
       "...        ...      ...        ...     ...      ...      ...      ...     ...   \n",
       "1000204      1        0          0       0        0        0        0       0   \n",
       "1000205      0        0          0       1        0        0        0       0   \n",
       "1000206      0        0          0       0        0        0        1       0   \n",
       "1000207      0        0          0       0        0        0        0       0   \n",
       "1000208      1        0          0       0        0        0        0       0   \n",
       "\n",
       "         Thriller  War  Western  \n",
       "0               0    0        0  \n",
       "1               0    0        0  \n",
       "2               0    0        0  \n",
       "3               0    0        0  \n",
       "4               0    1        0  \n",
       "...           ...  ...      ...  \n",
       "1000204         1    0        0  \n",
       "1000205         1    0        0  \n",
       "1000206         0    0        0  \n",
       "1000207         1    0        0  \n",
       "1000208         0    0        0  \n",
       "\n",
       "[1000209 rows x 18 columns]"
      ]
     },
     "execution_count": 47,
     "metadata": {},
     "output_type": "execute_result"
    }
   ],
   "source": [
    "from sklearn.preprocessing import MultiLabelBinarizer\n",
    "\n",
    "MultiLabel_Binarizer = MultiLabelBinarizer()\n",
    "\n",
    "# use mlb to create a new dataframe of the genres from the list for each row from the original data\n",
    "Encoded_Genres_df = pd.DataFrame(MultiLabel_Binarizer.fit_transform(Master_Data_df.Genres_List),\n",
    "                                 columns=MultiLabel_Binarizer.classes_,\n",
    "                                 index=Master_Data_df.Genres_List.index)\n",
    "Encoded_Genres_df"
   ]
  },
  {
   "cell_type": "code",
   "execution_count": 48,
   "id": "9ab24203",
   "metadata": {
    "ExecuteTime": {
     "end_time": "2021-07-17T16:30:01.524103Z",
     "start_time": "2021-07-17T16:30:01.520103Z"
    }
   },
   "outputs": [
    {
     "data": {
      "text/plain": [
       "pandas.core.frame.DataFrame"
      ]
     },
     "execution_count": 48,
     "metadata": {},
     "output_type": "execute_result"
    }
   ],
   "source": [
    "type(Encoded_Genres_df)"
   ]
  },
  {
   "cell_type": "markdown",
   "id": "4d798992",
   "metadata": {},
   "source": [
    "__The Encoded_Genres_df dataframe contains columns of genres with one-hot encoded values. This will be merged with filtered Master data for creating test and training datasets.__"
   ]
  },
  {
   "cell_type": "markdown",
   "id": "470a969a",
   "metadata": {},
   "source": [
    "### Determine the features affecting the ratings of any particular movie.\n",
    "\n",
    "\n",
    "Create a new filtered dataframe with the movie data features that are relevant to rating outcome:\n",
    "\n",
    "    * zip code\n",
    "    * gender\n",
    "    * age\n",
    "    * occupation"
   ]
  },
  {
   "cell_type": "code",
   "execution_count": 49,
   "id": "4210e108",
   "metadata": {
    "ExecuteTime": {
     "end_time": "2021-07-17T16:30:01.895124Z",
     "start_time": "2021-07-17T16:30:01.525103Z"
    }
   },
   "outputs": [
    {
     "data": {
      "text/html": [
       "<div>\n",
       "<style scoped>\n",
       "    .dataframe tbody tr th:only-of-type {\n",
       "        vertical-align: middle;\n",
       "    }\n",
       "\n",
       "    .dataframe tbody tr th {\n",
       "        vertical-align: top;\n",
       "    }\n",
       "\n",
       "    .dataframe thead th {\n",
       "        text-align: right;\n",
       "    }\n",
       "</style>\n",
       "<table border=\"1\" class=\"dataframe\">\n",
       "  <thead>\n",
       "    <tr style=\"text-align: right;\">\n",
       "      <th></th>\n",
       "      <th>MovieID</th>\n",
       "      <th>Rating</th>\n",
       "      <th>Gender</th>\n",
       "      <th>Age</th>\n",
       "      <th>Occupation</th>\n",
       "      <th>Zip-code</th>\n",
       "    </tr>\n",
       "  </thead>\n",
       "  <tbody>\n",
       "    <tr>\n",
       "      <th>0</th>\n",
       "      <td>1</td>\n",
       "      <td>5</td>\n",
       "      <td>F</td>\n",
       "      <td>1</td>\n",
       "      <td>10</td>\n",
       "      <td>48067</td>\n",
       "    </tr>\n",
       "    <tr>\n",
       "      <th>1</th>\n",
       "      <td>48</td>\n",
       "      <td>5</td>\n",
       "      <td>F</td>\n",
       "      <td>1</td>\n",
       "      <td>10</td>\n",
       "      <td>48067</td>\n",
       "    </tr>\n",
       "    <tr>\n",
       "      <th>2</th>\n",
       "      <td>150</td>\n",
       "      <td>5</td>\n",
       "      <td>F</td>\n",
       "      <td>1</td>\n",
       "      <td>10</td>\n",
       "      <td>48067</td>\n",
       "    </tr>\n",
       "    <tr>\n",
       "      <th>3</th>\n",
       "      <td>260</td>\n",
       "      <td>4</td>\n",
       "      <td>F</td>\n",
       "      <td>1</td>\n",
       "      <td>10</td>\n",
       "      <td>48067</td>\n",
       "    </tr>\n",
       "    <tr>\n",
       "      <th>4</th>\n",
       "      <td>527</td>\n",
       "      <td>5</td>\n",
       "      <td>F</td>\n",
       "      <td>1</td>\n",
       "      <td>10</td>\n",
       "      <td>48067</td>\n",
       "    </tr>\n",
       "  </tbody>\n",
       "</table>\n",
       "</div>"
      ],
      "text/plain": [
       "   MovieID  Rating Gender  Age  Occupation Zip-code\n",
       "0        1       5      F    1          10    48067\n",
       "1       48       5      F    1          10    48067\n",
       "2      150       5      F    1          10    48067\n",
       "3      260       4      F    1          10    48067\n",
       "4      527       5      F    1          10    48067"
      ]
     },
     "execution_count": 49,
     "metadata": {},
     "output_type": "execute_result"
    }
   ],
   "source": [
    "#Create a dataframe with MovieID, Rating, Gender, Age, Occupation and Zip-code\n",
    "Filtered_Master_Data_df = Master_Data_df.iloc[:, [0,4,6,7,8,9]]\n",
    "Filtered_Master_Data_df.head()"
   ]
  },
  {
   "cell_type": "code",
   "execution_count": 50,
   "id": "2fdc7d16",
   "metadata": {
    "ExecuteTime": {
     "end_time": "2021-07-17T16:30:01.928126Z",
     "start_time": "2021-07-17T16:30:01.896124Z"
    },
    "scrolled": false
   },
   "outputs": [
    {
     "data": {
      "text/plain": [
       "MovieID        int64\n",
       "Rating         int64\n",
       "Gender        object\n",
       "Age            int64\n",
       "Occupation     int64\n",
       "Zip-code      object\n",
       "dtype: object"
      ]
     },
     "execution_count": 50,
     "metadata": {},
     "output_type": "execute_result"
    }
   ],
   "source": [
    "Filtered_Master_Data_df.dtypes"
   ]
  },
  {
   "cell_type": "markdown",
   "id": "da8e31c3",
   "metadata": {},
   "source": [
    "We need to change the datatype of elements in Gender and Zip-code columns."
   ]
  },
  {
   "cell_type": "markdown",
   "id": "2e6d6e4c",
   "metadata": {},
   "source": [
    "__Encode the Gender column by simply replacing 'F' and 'M' category to '0' and '1'.__"
   ]
  },
  {
   "cell_type": "code",
   "execution_count": 51,
   "id": "5d3460e2",
   "metadata": {
    "ExecuteTime": {
     "end_time": "2021-07-17T16:30:02.425154Z",
     "start_time": "2021-07-17T16:30:01.929126Z"
    }
   },
   "outputs": [
    {
     "data": {
      "text/html": [
       "<div>\n",
       "<style scoped>\n",
       "    .dataframe tbody tr th:only-of-type {\n",
       "        vertical-align: middle;\n",
       "    }\n",
       "\n",
       "    .dataframe tbody tr th {\n",
       "        vertical-align: top;\n",
       "    }\n",
       "\n",
       "    .dataframe thead th {\n",
       "        text-align: right;\n",
       "    }\n",
       "</style>\n",
       "<table border=\"1\" class=\"dataframe\">\n",
       "  <thead>\n",
       "    <tr style=\"text-align: right;\">\n",
       "      <th></th>\n",
       "      <th>MovieID</th>\n",
       "      <th>Rating</th>\n",
       "      <th>Gender</th>\n",
       "      <th>Age</th>\n",
       "      <th>Occupation</th>\n",
       "      <th>Zip-code</th>\n",
       "    </tr>\n",
       "  </thead>\n",
       "  <tbody>\n",
       "    <tr>\n",
       "      <th>0</th>\n",
       "      <td>1</td>\n",
       "      <td>5</td>\n",
       "      <td>0</td>\n",
       "      <td>1</td>\n",
       "      <td>10</td>\n",
       "      <td>48067</td>\n",
       "    </tr>\n",
       "    <tr>\n",
       "      <th>1</th>\n",
       "      <td>48</td>\n",
       "      <td>5</td>\n",
       "      <td>0</td>\n",
       "      <td>1</td>\n",
       "      <td>10</td>\n",
       "      <td>48067</td>\n",
       "    </tr>\n",
       "    <tr>\n",
       "      <th>2</th>\n",
       "      <td>150</td>\n",
       "      <td>5</td>\n",
       "      <td>0</td>\n",
       "      <td>1</td>\n",
       "      <td>10</td>\n",
       "      <td>48067</td>\n",
       "    </tr>\n",
       "    <tr>\n",
       "      <th>3</th>\n",
       "      <td>260</td>\n",
       "      <td>4</td>\n",
       "      <td>0</td>\n",
       "      <td>1</td>\n",
       "      <td>10</td>\n",
       "      <td>48067</td>\n",
       "    </tr>\n",
       "    <tr>\n",
       "      <th>4</th>\n",
       "      <td>527</td>\n",
       "      <td>5</td>\n",
       "      <td>0</td>\n",
       "      <td>1</td>\n",
       "      <td>10</td>\n",
       "      <td>48067</td>\n",
       "    </tr>\n",
       "    <tr>\n",
       "      <th>...</th>\n",
       "      <td>...</td>\n",
       "      <td>...</td>\n",
       "      <td>...</td>\n",
       "      <td>...</td>\n",
       "      <td>...</td>\n",
       "      <td>...</td>\n",
       "    </tr>\n",
       "    <tr>\n",
       "      <th>1000204</th>\n",
       "      <td>3513</td>\n",
       "      <td>4</td>\n",
       "      <td>1</td>\n",
       "      <td>25</td>\n",
       "      <td>4</td>\n",
       "      <td>92843</td>\n",
       "    </tr>\n",
       "    <tr>\n",
       "      <th>1000205</th>\n",
       "      <td>3535</td>\n",
       "      <td>2</td>\n",
       "      <td>1</td>\n",
       "      <td>25</td>\n",
       "      <td>4</td>\n",
       "      <td>92843</td>\n",
       "    </tr>\n",
       "    <tr>\n",
       "      <th>1000206</th>\n",
       "      <td>3536</td>\n",
       "      <td>5</td>\n",
       "      <td>1</td>\n",
       "      <td>25</td>\n",
       "      <td>4</td>\n",
       "      <td>92843</td>\n",
       "    </tr>\n",
       "    <tr>\n",
       "      <th>1000207</th>\n",
       "      <td>3555</td>\n",
       "      <td>3</td>\n",
       "      <td>1</td>\n",
       "      <td>25</td>\n",
       "      <td>4</td>\n",
       "      <td>92843</td>\n",
       "    </tr>\n",
       "    <tr>\n",
       "      <th>1000208</th>\n",
       "      <td>3578</td>\n",
       "      <td>5</td>\n",
       "      <td>1</td>\n",
       "      <td>25</td>\n",
       "      <td>4</td>\n",
       "      <td>92843</td>\n",
       "    </tr>\n",
       "  </tbody>\n",
       "</table>\n",
       "<p>1000209 rows × 6 columns</p>\n",
       "</div>"
      ],
      "text/plain": [
       "         MovieID  Rating  Gender  Age  Occupation Zip-code\n",
       "0              1       5       0    1          10    48067\n",
       "1             48       5       0    1          10    48067\n",
       "2            150       5       0    1          10    48067\n",
       "3            260       4       0    1          10    48067\n",
       "4            527       5       0    1          10    48067\n",
       "...          ...     ...     ...  ...         ...      ...\n",
       "1000204     3513       4       1   25           4    92843\n",
       "1000205     3535       2       1   25           4    92843\n",
       "1000206     3536       5       1   25           4    92843\n",
       "1000207     3555       3       1   25           4    92843\n",
       "1000208     3578       5       1   25           4    92843\n",
       "\n",
       "[1000209 rows x 6 columns]"
      ]
     },
     "execution_count": 51,
     "metadata": {},
     "output_type": "execute_result"
    }
   ],
   "source": [
    "#The Gender column has categorical data of nominal type.\n",
    "#Convert Gender category F and M to binary values '0's and '1's respectively.\n",
    "Filtered_Master_Data_df['Gender'].replace(['F','M'],[0,1],inplace=True)\n",
    "Filtered_Master_Data_df"
   ]
  },
  {
   "cell_type": "code",
   "execution_count": 52,
   "id": "e5373d6b",
   "metadata": {
    "ExecuteTime": {
     "end_time": "2021-07-17T16:30:03.390209Z",
     "start_time": "2021-07-17T16:30:02.426154Z"
    }
   },
   "outputs": [
    {
     "data": {
      "text/plain": [
       "0          48067\n",
       "1          48067\n",
       "2          48067\n",
       "3          48067\n",
       "4          48067\n",
       "           ...  \n",
       "1000204    92843\n",
       "1000205    92843\n",
       "1000206    92843\n",
       "1000207    92843\n",
       "1000208    92843\n",
       "Name: Zip-code, Length: 1000209, dtype: int64"
      ]
     },
     "execution_count": 52,
     "metadata": {},
     "output_type": "execute_result"
    }
   ],
   "source": [
    "#Also change 'zip code' into numerical datatype\n",
    "Filtered_Master_Data_df['Zip-code'] = Filtered_Master_Data_df['Zip-code'].str[:5]\n",
    "pd.to_numeric(Filtered_Master_Data_df['Zip-code'])"
   ]
  },
  {
   "cell_type": "code",
   "execution_count": 53,
   "id": "b2de3672",
   "metadata": {
    "ExecuteTime": {
     "end_time": "2021-07-17T16:30:03.469214Z",
     "start_time": "2021-07-17T16:30:03.391210Z"
    }
   },
   "outputs": [
    {
     "name": "stdout",
     "output_type": "stream",
     "text": [
      "<class 'pandas.core.frame.DataFrame'>\n",
      "Int64Index: 1000209 entries, 0 to 1000208\n",
      "Data columns (total 6 columns):\n",
      " #   Column      Non-Null Count    Dtype \n",
      "---  ------      --------------    ----- \n",
      " 0   MovieID     1000209 non-null  int64 \n",
      " 1   Rating      1000209 non-null  int64 \n",
      " 2   Gender      1000209 non-null  int64 \n",
      " 3   Age         1000209 non-null  int64 \n",
      " 4   Occupation  1000209 non-null  int64 \n",
      " 5   Zip-code    1000209 non-null  object\n",
      "dtypes: int64(5), object(1)\n",
      "memory usage: 49.6+ MB\n"
     ]
    }
   ],
   "source": [
    "Filtered_Master_Data_df.info()"
   ]
  },
  {
   "cell_type": "code",
   "execution_count": 54,
   "id": "d9fe7ba4",
   "metadata": {
    "ExecuteTime": {
     "end_time": "2021-07-17T16:30:04.854293Z",
     "start_time": "2021-07-17T16:30:03.470214Z"
    }
   },
   "outputs": [
    {
     "data": {
      "image/png": "[encoded data removed]",
      "text/plain": [
       "<Figure size 1440x576 with 2 Axes>"
      ]
     },
     "metadata": {
      "needs_background": "light"
     },
     "output_type": "display_data"
    }
   ],
   "source": [
    "#plot the heatmap to obtain the correlation between rating over Age, Occupation and Gender.\n",
    "plt.figure(figsize=(20,8))\n",
    "correlation=Filtered_Master_Data_df.drop(['MovieID','Zip-code'],axis=1).corr()\n",
    "sns.heatmap(correlation,xticklabels=correlation.columns.values,\n",
    "            yticklabels=correlation.columns.values,annot=True)\n",
    "plt.show()"
   ]
  },
  {
   "cell_type": "code",
   "execution_count": 55,
   "id": "1d6b302d",
   "metadata": {
    "ExecuteTime": {
     "end_time": "2021-07-17T16:30:05.054305Z",
     "start_time": "2021-07-17T16:30:04.855293Z"
    },
    "scrolled": true
   },
   "outputs": [
    {
     "data": {
      "text/plain": [
       "Rating        1.000000\n",
       "Gender       -0.019861\n",
       "Age           0.056869\n",
       "Occupation    0.006753\n",
       "Name: Rating, dtype: float64"
      ]
     },
     "execution_count": 55,
     "metadata": {},
     "output_type": "execute_result"
    }
   ],
   "source": [
    "#Correlation in numbers\n",
    "Filtered_Master_Data_df[Filtered_Master_Data_df.columns[1:]].corr()['Rating'][:]"
   ]
  },
  {
   "cell_type": "markdown",
   "id": "d81577cc",
   "metadata": {},
   "source": [
    "<font color='green'><b>We see that Age has the highest correlation over movie ratings. From the results we can say that Age is the most affecting feature over rating of movies.</b></font>\n",
    "\n",
    "<font color='green'><b>Gender has Negative or inverse correlation over Ratings, which describes that these two variables tend to move in opposite size and direction from one another, such that when one increases the other variable decreases, and vice-versa.</b></font>\n",
    "\n",
    "#### Merging 'Filtered_Master_Data_df' with 'Encoded_Genres_df'."
   ]
  },
  {
   "cell_type": "code",
   "execution_count": 56,
   "id": "c70acc78",
   "metadata": {
    "ExecuteTime": {
     "end_time": "2021-07-17T16:30:06.756402Z",
     "start_time": "2021-07-17T16:30:05.056305Z"
    }
   },
   "outputs": [
    {
     "data": {
      "text/html": [
       "<div>\n",
       "<style scoped>\n",
       "    .dataframe tbody tr th:only-of-type {\n",
       "        vertical-align: middle;\n",
       "    }\n",
       "\n",
       "    .dataframe tbody tr th {\n",
       "        vertical-align: top;\n",
       "    }\n",
       "\n",
       "    .dataframe thead th {\n",
       "        text-align: right;\n",
       "    }\n",
       "</style>\n",
       "<table border=\"1\" class=\"dataframe\">\n",
       "  <thead>\n",
       "    <tr style=\"text-align: right;\">\n",
       "      <th></th>\n",
       "      <th>MovieID</th>\n",
       "      <th>Rating</th>\n",
       "      <th>Gender</th>\n",
       "      <th>Age</th>\n",
       "      <th>Occupation</th>\n",
       "      <th>Zip-code</th>\n",
       "      <th>Action</th>\n",
       "      <th>Adventure</th>\n",
       "      <th>Animation</th>\n",
       "      <th>Children's</th>\n",
       "      <th>...</th>\n",
       "      <th>Fantasy</th>\n",
       "      <th>Film-Noir</th>\n",
       "      <th>Horror</th>\n",
       "      <th>Musical</th>\n",
       "      <th>Mystery</th>\n",
       "      <th>Romance</th>\n",
       "      <th>Sci-Fi</th>\n",
       "      <th>Thriller</th>\n",
       "      <th>War</th>\n",
       "      <th>Western</th>\n",
       "    </tr>\n",
       "  </thead>\n",
       "  <tbody>\n",
       "    <tr>\n",
       "      <th>0</th>\n",
       "      <td>1</td>\n",
       "      <td>5</td>\n",
       "      <td>0</td>\n",
       "      <td>1</td>\n",
       "      <td>10</td>\n",
       "      <td>48067</td>\n",
       "      <td>0</td>\n",
       "      <td>0</td>\n",
       "      <td>1</td>\n",
       "      <td>1</td>\n",
       "      <td>...</td>\n",
       "      <td>0</td>\n",
       "      <td>0</td>\n",
       "      <td>0</td>\n",
       "      <td>0</td>\n",
       "      <td>0</td>\n",
       "      <td>0</td>\n",
       "      <td>0</td>\n",
       "      <td>0</td>\n",
       "      <td>0</td>\n",
       "      <td>0</td>\n",
       "    </tr>\n",
       "    <tr>\n",
       "      <th>1</th>\n",
       "      <td>48</td>\n",
       "      <td>5</td>\n",
       "      <td>0</td>\n",
       "      <td>1</td>\n",
       "      <td>10</td>\n",
       "      <td>48067</td>\n",
       "      <td>0</td>\n",
       "      <td>0</td>\n",
       "      <td>1</td>\n",
       "      <td>1</td>\n",
       "      <td>...</td>\n",
       "      <td>0</td>\n",
       "      <td>0</td>\n",
       "      <td>0</td>\n",
       "      <td>1</td>\n",
       "      <td>0</td>\n",
       "      <td>1</td>\n",
       "      <td>0</td>\n",
       "      <td>0</td>\n",
       "      <td>0</td>\n",
       "      <td>0</td>\n",
       "    </tr>\n",
       "    <tr>\n",
       "      <th>2</th>\n",
       "      <td>150</td>\n",
       "      <td>5</td>\n",
       "      <td>0</td>\n",
       "      <td>1</td>\n",
       "      <td>10</td>\n",
       "      <td>48067</td>\n",
       "      <td>0</td>\n",
       "      <td>0</td>\n",
       "      <td>0</td>\n",
       "      <td>0</td>\n",
       "      <td>...</td>\n",
       "      <td>0</td>\n",
       "      <td>0</td>\n",
       "      <td>0</td>\n",
       "      <td>0</td>\n",
       "      <td>0</td>\n",
       "      <td>0</td>\n",
       "      <td>0</td>\n",
       "      <td>0</td>\n",
       "      <td>0</td>\n",
       "      <td>0</td>\n",
       "    </tr>\n",
       "    <tr>\n",
       "      <th>3</th>\n",
       "      <td>260</td>\n",
       "      <td>4</td>\n",
       "      <td>0</td>\n",
       "      <td>1</td>\n",
       "      <td>10</td>\n",
       "      <td>48067</td>\n",
       "      <td>1</td>\n",
       "      <td>1</td>\n",
       "      <td>0</td>\n",
       "      <td>0</td>\n",
       "      <td>...</td>\n",
       "      <td>1</td>\n",
       "      <td>0</td>\n",
       "      <td>0</td>\n",
       "      <td>0</td>\n",
       "      <td>0</td>\n",
       "      <td>0</td>\n",
       "      <td>1</td>\n",
       "      <td>0</td>\n",
       "      <td>0</td>\n",
       "      <td>0</td>\n",
       "    </tr>\n",
       "    <tr>\n",
       "      <th>4</th>\n",
       "      <td>527</td>\n",
       "      <td>5</td>\n",
       "      <td>0</td>\n",
       "      <td>1</td>\n",
       "      <td>10</td>\n",
       "      <td>48067</td>\n",
       "      <td>0</td>\n",
       "      <td>0</td>\n",
       "      <td>0</td>\n",
       "      <td>0</td>\n",
       "      <td>...</td>\n",
       "      <td>0</td>\n",
       "      <td>0</td>\n",
       "      <td>0</td>\n",
       "      <td>0</td>\n",
       "      <td>0</td>\n",
       "      <td>0</td>\n",
       "      <td>0</td>\n",
       "      <td>0</td>\n",
       "      <td>1</td>\n",
       "      <td>0</td>\n",
       "    </tr>\n",
       "  </tbody>\n",
       "</table>\n",
       "<p>5 rows × 24 columns</p>\n",
       "</div>"
      ],
      "text/plain": [
       "   MovieID  Rating  Gender  Age  Occupation Zip-code  Action  Adventure  \\\n",
       "0        1       5       0    1          10    48067       0          0   \n",
       "1       48       5       0    1          10    48067       0          0   \n",
       "2      150       5       0    1          10    48067       0          0   \n",
       "3      260       4       0    1          10    48067       1          1   \n",
       "4      527       5       0    1          10    48067       0          0   \n",
       "\n",
       "   Animation  Children's  ...  Fantasy  Film-Noir  Horror  Musical  Mystery  \\\n",
       "0          1           1  ...        0          0       0        0        0   \n",
       "1          1           1  ...        0          0       0        1        0   \n",
       "2          0           0  ...        0          0       0        0        0   \n",
       "3          0           0  ...        1          0       0        0        0   \n",
       "4          0           0  ...        0          0       0        0        0   \n",
       "\n",
       "   Romance  Sci-Fi  Thriller  War  Western  \n",
       "0        0       0         0    0        0  \n",
       "1        1       0         0    0        0  \n",
       "2        0       0         0    0        0  \n",
       "3        0       1         0    0        0  \n",
       "4        0       0         0    1        0  \n",
       "\n",
       "[5 rows x 24 columns]"
      ]
     },
     "execution_count": 56,
     "metadata": {},
     "output_type": "execute_result"
    }
   ],
   "source": [
    "#Create new dataframe by Merging 'Filtered_Master_Data_df' with 'Encoded_Genres_df'\n",
    "Master_Features_df = pd.merge(Filtered_Master_Data_df, Encoded_Genres_df, left_index=True, right_index=True)\n",
    "Master_Features_df.head()"
   ]
  },
  {
   "cell_type": "code",
   "execution_count": 57,
   "id": "3a836363",
   "metadata": {
    "ExecuteTime": {
     "end_time": "2021-07-17T16:30:07.316434Z",
     "start_time": "2021-07-17T16:30:06.757402Z"
    }
   },
   "outputs": [
    {
     "name": "stdout",
     "output_type": "stream",
     "text": [
      "<class 'pandas.core.frame.DataFrame'>\n",
      "Int64Index: 1000209 entries, 0 to 1000208\n",
      "Data columns (total 24 columns):\n",
      " #   Column       Non-Null Count    Dtype \n",
      "---  ------       --------------    ----- \n",
      " 0   MovieID      1000209 non-null  int64 \n",
      " 1   Rating       1000209 non-null  int64 \n",
      " 2   Gender       1000209 non-null  int64 \n",
      " 3   Age          1000209 non-null  int64 \n",
      " 4   Occupation   1000209 non-null  int64 \n",
      " 5   Zip-code     1000209 non-null  object\n",
      " 6   Action       1000209 non-null  int32 \n",
      " 7   Adventure    1000209 non-null  int32 \n",
      " 8   Animation    1000209 non-null  int32 \n",
      " 9   Children's   1000209 non-null  int32 \n",
      " 10  Comedy       1000209 non-null  int32 \n",
      " 11  Crime        1000209 non-null  int32 \n",
      " 12  Documentary  1000209 non-null  int32 \n",
      " 13  Drama        1000209 non-null  int32 \n",
      " 14  Fantasy      1000209 non-null  int32 \n",
      " 15  Film-Noir    1000209 non-null  int32 \n",
      " 16  Horror       1000209 non-null  int32 \n",
      " 17  Musical      1000209 non-null  int32 \n",
      " 18  Mystery      1000209 non-null  int32 \n",
      " 19  Romance      1000209 non-null  int32 \n",
      " 20  Sci-Fi       1000209 non-null  int32 \n",
      " 21  Thriller     1000209 non-null  int32 \n",
      " 22  War          1000209 non-null  int32 \n",
      " 23  Western      1000209 non-null  int32 \n",
      "dtypes: int32(18), int64(5), object(1)\n",
      "memory usage: 142.5+ MB\n"
     ]
    }
   ],
   "source": [
    "Master_Features_df.info()"
   ]
  },
  {
   "cell_type": "markdown",
   "id": "164a5754",
   "metadata": {},
   "source": [
    "#### Train Model For Logistic Regression\n",
    "* Create the X_feature dataframe, include all the independent variables, drop the Ratings column since this is our dependent variable.\n",
    "* Also drop the zip-code and MovieID columns, since it has no major influence on the outcome of the movie ratings.\n",
    "* Let's make a smaller dataset with only relevant features."
   ]
  },
  {
   "cell_type": "code",
   "execution_count": 58,
   "id": "97ab11b2",
   "metadata": {
    "ExecuteTime": {
     "end_time": "2021-07-17T16:30:07.861465Z",
     "start_time": "2021-07-17T16:30:07.317434Z"
    }
   },
   "outputs": [
    {
     "data": {
      "text/html": [
       "<div>\n",
       "<style scoped>\n",
       "    .dataframe tbody tr th:only-of-type {\n",
       "        vertical-align: middle;\n",
       "    }\n",
       "\n",
       "    .dataframe tbody tr th {\n",
       "        vertical-align: top;\n",
       "    }\n",
       "\n",
       "    .dataframe thead th {\n",
       "        text-align: right;\n",
       "    }\n",
       "</style>\n",
       "<table border=\"1\" class=\"dataframe\">\n",
       "  <thead>\n",
       "    <tr style=\"text-align: right;\">\n",
       "      <th></th>\n",
       "      <th>MovieID</th>\n",
       "      <th>Rating</th>\n",
       "      <th>Gender</th>\n",
       "      <th>Age</th>\n",
       "      <th>Occupation</th>\n",
       "    </tr>\n",
       "  </thead>\n",
       "  <tbody>\n",
       "    <tr>\n",
       "      <th>0</th>\n",
       "      <td>1</td>\n",
       "      <td>5</td>\n",
       "      <td>0</td>\n",
       "      <td>1</td>\n",
       "      <td>10</td>\n",
       "    </tr>\n",
       "    <tr>\n",
       "      <th>1</th>\n",
       "      <td>48</td>\n",
       "      <td>5</td>\n",
       "      <td>0</td>\n",
       "      <td>1</td>\n",
       "      <td>10</td>\n",
       "    </tr>\n",
       "    <tr>\n",
       "      <th>2</th>\n",
       "      <td>150</td>\n",
       "      <td>5</td>\n",
       "      <td>0</td>\n",
       "      <td>1</td>\n",
       "      <td>10</td>\n",
       "    </tr>\n",
       "    <tr>\n",
       "      <th>3</th>\n",
       "      <td>260</td>\n",
       "      <td>4</td>\n",
       "      <td>0</td>\n",
       "      <td>1</td>\n",
       "      <td>10</td>\n",
       "    </tr>\n",
       "    <tr>\n",
       "      <th>4</th>\n",
       "      <td>527</td>\n",
       "      <td>5</td>\n",
       "      <td>0</td>\n",
       "      <td>1</td>\n",
       "      <td>10</td>\n",
       "    </tr>\n",
       "  </tbody>\n",
       "</table>\n",
       "</div>"
      ],
      "text/plain": [
       "   MovieID  Rating  Gender  Age  Occupation\n",
       "0        1       5       0    1          10\n",
       "1       48       5       0    1          10\n",
       "2      150       5       0    1          10\n",
       "3      260       4       0    1          10\n",
       "4      527       5       0    1          10"
      ]
     },
     "execution_count": 58,
     "metadata": {},
     "output_type": "execute_result"
    }
   ],
   "source": [
    "X_feature = Filtered_Master_Data_df.drop(['Zip-code'], axis=1)\n",
    "X_feature.head()"
   ]
  },
  {
   "cell_type": "markdown",
   "id": "c2db7038",
   "metadata": {},
   "source": [
    "Since we're dealing with a large dataset, let's just train and test on a smaller portion of the dataset. There are '3706' Movies in the dataset. Let's grab only the first '500' unique movie IDs. We have to make sure both our X and Y vectors are the same number of rows."
   ]
  },
  {
   "cell_type": "code",
   "execution_count": 59,
   "id": "9e7ffeb9",
   "metadata": {
    "ExecuteTime": {
     "end_time": "2021-07-17T16:30:08.707514Z",
     "start_time": "2021-07-17T16:30:07.862465Z"
    }
   },
   "outputs": [
    {
     "data": {
      "text/html": [
       "<div>\n",
       "<style scoped>\n",
       "    .dataframe tbody tr th:only-of-type {\n",
       "        vertical-align: middle;\n",
       "    }\n",
       "\n",
       "    .dataframe tbody tr th {\n",
       "        vertical-align: top;\n",
       "    }\n",
       "\n",
       "    .dataframe thead th {\n",
       "        text-align: right;\n",
       "    }\n",
       "</style>\n",
       "<table border=\"1\" class=\"dataframe\">\n",
       "  <thead>\n",
       "    <tr style=\"text-align: right;\">\n",
       "      <th></th>\n",
       "      <th>MovieID</th>\n",
       "      <th>Rating</th>\n",
       "      <th>Gender</th>\n",
       "      <th>Age</th>\n",
       "      <th>Occupation</th>\n",
       "    </tr>\n",
       "  </thead>\n",
       "  <tbody>\n",
       "    <tr>\n",
       "      <th>0</th>\n",
       "      <td>1</td>\n",
       "      <td>5</td>\n",
       "      <td>0</td>\n",
       "      <td>1</td>\n",
       "      <td>10</td>\n",
       "    </tr>\n",
       "    <tr>\n",
       "      <th>1</th>\n",
       "      <td>48</td>\n",
       "      <td>5</td>\n",
       "      <td>0</td>\n",
       "      <td>1</td>\n",
       "      <td>10</td>\n",
       "    </tr>\n",
       "    <tr>\n",
       "      <th>2</th>\n",
       "      <td>150</td>\n",
       "      <td>5</td>\n",
       "      <td>0</td>\n",
       "      <td>1</td>\n",
       "      <td>10</td>\n",
       "    </tr>\n",
       "    <tr>\n",
       "      <th>3</th>\n",
       "      <td>260</td>\n",
       "      <td>4</td>\n",
       "      <td>0</td>\n",
       "      <td>1</td>\n",
       "      <td>10</td>\n",
       "    </tr>\n",
       "    <tr>\n",
       "      <th>53</th>\n",
       "      <td>1</td>\n",
       "      <td>4</td>\n",
       "      <td>0</td>\n",
       "      <td>50</td>\n",
       "      <td>9</td>\n",
       "    </tr>\n",
       "  </tbody>\n",
       "</table>\n",
       "</div>"
      ],
      "text/plain": [
       "    MovieID  Rating  Gender  Age  Occupation\n",
       "0         1       5       0    1          10\n",
       "1        48       5       0    1          10\n",
       "2       150       5       0    1          10\n",
       "3       260       4       0    1          10\n",
       "53        1       4       0   50           9"
      ]
     },
     "execution_count": 59,
     "metadata": {},
     "output_type": "execute_result"
    }
   ],
   "source": [
    "X_feature_small = X_feature[X_feature['MovieID'] < 500]\n",
    "X_feature_small.head()"
   ]
  },
  {
   "cell_type": "markdown",
   "id": "01605e44",
   "metadata": {},
   "source": [
    "\n",
    "\n",
    "The training data includes only the features we feel would influence the outcome of the movie rating.\n",
    "\n",
    "I have chosen that Occupation, Age and Gender are the most influential.\n",
    "\n",
    "We will get rid of the MovieID and Rating column as this will conflict with our regression.\n"
   ]
  },
  {
   "cell_type": "code",
   "execution_count": 60,
   "id": "5abcac3f",
   "metadata": {
    "ExecuteTime": {
     "end_time": "2021-07-17T16:30:09.355551Z",
     "start_time": "2021-07-17T16:30:08.708514Z"
    }
   },
   "outputs": [],
   "source": [
    "#Sampled X_Feature\n",
    "X_feature_small_trimmed = X_feature_small.drop(['MovieID','Rating'], axis=1)"
   ]
  },
  {
   "cell_type": "code",
   "execution_count": 61,
   "id": "ae192111",
   "metadata": {
    "ExecuteTime": {
     "end_time": "2021-07-17T16:30:09.560562Z",
     "start_time": "2021-07-17T16:30:09.358551Z"
    }
   },
   "outputs": [
    {
     "data": {
      "text/plain": [
       "(135309, 3)"
      ]
     },
     "execution_count": 61,
     "metadata": {},
     "output_type": "execute_result"
    }
   ],
   "source": [
    "X_feature_small_trimmed.shape"
   ]
  },
  {
   "cell_type": "markdown",
   "id": "5648fb21",
   "metadata": {},
   "source": [
    "__For '500' Movies, there are '135309' rating enrties from different users is available in the trimmed dataset.__"
   ]
  },
  {
   "cell_type": "code",
   "execution_count": 62,
   "id": "be23b3fb",
   "metadata": {
    "ExecuteTime": {
     "end_time": "2021-07-17T16:30:09.741573Z",
     "start_time": "2021-07-17T16:30:09.563563Z"
    }
   },
   "outputs": [
    {
     "name": "stdout",
     "output_type": "stream",
     "text": [
      "<class 'pandas.core.frame.DataFrame'>\n",
      "Int64Index: 135309 entries, 0 to 994618\n",
      "Data columns (total 3 columns):\n",
      " #   Column      Non-Null Count   Dtype\n",
      "---  ------      --------------   -----\n",
      " 0   Gender      135309 non-null  int64\n",
      " 1   Age         135309 non-null  int64\n",
      " 2   Occupation  135309 non-null  int64\n",
      "dtypes: int64(3)\n",
      "memory usage: 4.1 MB\n"
     ]
    }
   ],
   "source": [
    "X_feature_small_trimmed.info()"
   ]
  },
  {
   "cell_type": "code",
   "execution_count": 63,
   "id": "38911cff",
   "metadata": {
    "ExecuteTime": {
     "end_time": "2021-07-17T16:30:09.897582Z",
     "start_time": "2021-07-17T16:30:09.744573Z"
    }
   },
   "outputs": [
    {
     "data": {
      "text/html": [
       "<div>\n",
       "<style scoped>\n",
       "    .dataframe tbody tr th:only-of-type {\n",
       "        vertical-align: middle;\n",
       "    }\n",
       "\n",
       "    .dataframe tbody tr th {\n",
       "        vertical-align: top;\n",
       "    }\n",
       "\n",
       "    .dataframe thead th {\n",
       "        text-align: right;\n",
       "    }\n",
       "</style>\n",
       "<table border=\"1\" class=\"dataframe\">\n",
       "  <thead>\n",
       "    <tr style=\"text-align: right;\">\n",
       "      <th></th>\n",
       "      <th>Gender</th>\n",
       "      <th>Age</th>\n",
       "      <th>Occupation</th>\n",
       "    </tr>\n",
       "  </thead>\n",
       "  <tbody>\n",
       "    <tr>\n",
       "      <th>0</th>\n",
       "      <td>0</td>\n",
       "      <td>1</td>\n",
       "      <td>10</td>\n",
       "    </tr>\n",
       "    <tr>\n",
       "      <th>1</th>\n",
       "      <td>0</td>\n",
       "      <td>1</td>\n",
       "      <td>10</td>\n",
       "    </tr>\n",
       "    <tr>\n",
       "      <th>2</th>\n",
       "      <td>0</td>\n",
       "      <td>1</td>\n",
       "      <td>10</td>\n",
       "    </tr>\n",
       "    <tr>\n",
       "      <th>3</th>\n",
       "      <td>0</td>\n",
       "      <td>1</td>\n",
       "      <td>10</td>\n",
       "    </tr>\n",
       "    <tr>\n",
       "      <th>53</th>\n",
       "      <td>0</td>\n",
       "      <td>50</td>\n",
       "      <td>9</td>\n",
       "    </tr>\n",
       "  </tbody>\n",
       "</table>\n",
       "</div>"
      ],
      "text/plain": [
       "    Gender  Age  Occupation\n",
       "0        0    1          10\n",
       "1        0    1          10\n",
       "2        0    1          10\n",
       "3        0    1          10\n",
       "53       0   50           9"
      ]
     },
     "execution_count": 63,
     "metadata": {},
     "output_type": "execute_result"
    }
   ],
   "source": [
    "X_feature_small_trimmed.head()"
   ]
  },
  {
   "cell_type": "code",
   "execution_count": 64,
   "id": "8ead73a6",
   "metadata": {
    "ExecuteTime": {
     "end_time": "2021-07-17T16:30:10.609622Z",
     "start_time": "2021-07-17T16:30:09.900582Z"
    },
    "scrolled": true
   },
   "outputs": [
    {
     "data": {
      "image/png": "[encoded data removed]",
      "text/plain": [
       "<Figure size 504x360 with 2 Axes>"
      ]
     },
     "metadata": {
      "needs_background": "light"
     },
     "output_type": "display_data"
    }
   ],
   "source": [
    "plt.figure(figsize=(7,5))\n",
    "corr=X_feature_small_trimmed.corr()\n",
    "sns.heatmap(corr,xticklabels=corr.columns.values,yticklabels=corr.columns.values,annot=True)\n",
    "plt.show()"
   ]
  },
  {
   "cell_type": "markdown",
   "id": "e9c852d7",
   "metadata": {},
   "source": [
    "The target feature we are trying to predict is the dependent variable \"Rating\", in other words the 'y' of the linear equation."
   ]
  },
  {
   "cell_type": "code",
   "execution_count": 65,
   "id": "6d23d3be",
   "metadata": {
    "ExecuteTime": {
     "end_time": "2021-07-17T16:30:10.632624Z",
     "start_time": "2021-07-17T16:30:10.618623Z"
    }
   },
   "outputs": [],
   "source": [
    "#Target variable\n",
    "Y_target = Master_Features_df['Rating'][Master_Features_df['MovieID']< 500]"
   ]
  },
  {
   "cell_type": "code",
   "execution_count": 66,
   "id": "04aa3c6f",
   "metadata": {
    "ExecuteTime": {
     "end_time": "2021-07-17T16:30:10.724629Z",
     "start_time": "2021-07-17T16:30:10.634624Z"
    }
   },
   "outputs": [
    {
     "data": {
      "text/plain": [
       "(135309,)"
      ]
     },
     "execution_count": 66,
     "metadata": {},
     "output_type": "execute_result"
    }
   ],
   "source": [
    "Y_target.shape"
   ]
  },
  {
   "cell_type": "markdown",
   "id": "f3fb9e46",
   "metadata": {},
   "source": [
    "### Develop an appropriate model to predict the movie ratings"
   ]
  },
  {
   "cell_type": "markdown",
   "id": "ba74875b",
   "metadata": {},
   "source": [
    "Split the data into training and testing data. By default this is 75% training and 25% testing"
   ]
  },
  {
   "cell_type": "code",
   "execution_count": 67,
   "id": "bd813587",
   "metadata": {
    "ExecuteTime": {
     "end_time": "2021-07-17T16:30:11.754688Z",
     "start_time": "2021-07-17T16:30:10.726629Z"
    }
   },
   "outputs": [
    {
     "data": {
      "text/plain": [
       "((101481, 3), (33828, 3), (101481,), (33828,))"
      ]
     },
     "execution_count": 67,
     "metadata": {},
     "output_type": "execute_result"
    }
   ],
   "source": [
    "#Import train_test_split from sklearn model selection\n",
    "from sklearn.model_selection import train_test_split\n",
    "\n",
    "#Assign the feature and target to split the training and testing dataset\n",
    "x_train, x_test, y_train, y_test = train_test_split(X_feature_small_trimmed,Y_target,random_state=1)\n",
    "x_train.shape, x_test.shape, y_train.shape, y_test.shape"
   ]
  },
  {
   "cell_type": "markdown",
   "id": "7063be78",
   "metadata": {},
   "source": [
    "__Logistic regression is best used for predicting categorical data. We need to do logistic regression on the training data so we can see how well our test data does the prediction.__"
   ]
  },
  {
   "cell_type": "code",
   "execution_count": 68,
   "id": "4876a325",
   "metadata": {
    "ExecuteTime": {
     "end_time": "2021-07-17T16:30:14.218829Z",
     "start_time": "2021-07-17T16:30:11.756688Z"
    }
   },
   "outputs": [
    {
     "data": {
      "text/plain": [
       "LogisticRegression(solver='liblinear')"
      ]
     },
     "execution_count": 68,
     "metadata": {},
     "output_type": "execute_result"
    }
   ],
   "source": [
    "#import Logistic Regression model from sklearn linear model\n",
    "from sklearn.linear_model import LogisticRegression\n",
    "logreg = LogisticRegression(solver = 'liblinear')\n",
    "\n",
    "#Fit the training dataset\n",
    "logreg.fit(x_train,y_train)"
   ]
  },
  {
   "cell_type": "markdown",
   "id": "80246834",
   "metadata": {},
   "source": [
    "Let's predict the outcome based on test set"
   ]
  },
  {
   "cell_type": "code",
   "execution_count": 69,
   "id": "93417a88",
   "metadata": {
    "ExecuteTime": {
     "end_time": "2021-07-17T16:30:14.236830Z",
     "start_time": "2021-07-17T16:30:14.220829Z"
    }
   },
   "outputs": [],
   "source": [
    "#Y_predict\n",
    "y_pred = logreg.predict(x_test)"
   ]
  },
  {
   "cell_type": "markdown",
   "id": "ed91a9a1",
   "metadata": {},
   "source": [
    "Let's get the accuracy score of the test data."
   ]
  },
  {
   "cell_type": "code",
   "execution_count": 70,
   "id": "965ad016",
   "metadata": {
    "ExecuteTime": {
     "end_time": "2021-07-17T16:30:14.694856Z",
     "start_time": "2021-07-17T16:30:14.240830Z"
    },
    "scrolled": false
   },
   "outputs": [
    {
     "name": "stdout",
     "output_type": "stream",
     "text": [
      "Accuracy Score: 0.3398663828780892\n",
      "Confusion Matrix:\n",
      " [[    0     0     0  1992     0]\n",
      " [    0     0     0  4109     0]\n",
      " [    0     0     0  9267     0]\n",
      " [    0     0     0 11497     0]\n",
      " [    0     0     0  6963     0]]\n",
      "Classification Report:\n",
      "               precision    recall  f1-score   support\n",
      "\n",
      "           1       0.00      0.00      0.00      1992\n",
      "           2       0.00      0.00      0.00      4109\n",
      "           3       0.00      0.00      0.00      9267\n",
      "           4       0.34      1.00      0.51     11497\n",
      "           5       0.00      0.00      0.00      6963\n",
      "\n",
      "    accuracy                           0.34     33828\n",
      "   macro avg       0.07      0.20      0.10     33828\n",
      "weighted avg       0.12      0.34      0.17     33828\n",
      "\n"
     ]
    }
   ],
   "source": [
    "#Import metrics from sklearn\n",
    "from sklearn import metrics\n",
    "print(\"Accuracy Score:\",metrics.accuracy_score(y_test,y_pred))\n",
    "print(\"Confusion Matrix:\\n\",metrics.confusion_matrix(y_test, y_pred))\n",
    "print(\"Classification Report:\\n\",metrics.classification_report(y_test, y_pred))"
   ]
  },
  {
   "cell_type": "markdown",
   "id": "2a531671",
   "metadata": {},
   "source": [
    "<font color='green'><b>Accuracy score acheived is 34%.</b></font>"
   ]
  },
  {
   "cell_type": "code",
   "execution_count": 71,
   "id": "82417c4a",
   "metadata": {
    "ExecuteTime": {
     "end_time": "2021-07-17T16:30:14.701856Z",
     "start_time": "2021-07-17T16:30:14.695856Z"
    }
   },
   "outputs": [
    {
     "name": "stdout",
     "output_type": "stream",
     "text": [
      "actual:     [2 1 3 5 3 1 3 4 4 3 3 3 4 4 2 1 3 4 2 2 3 3 4 3 4 4 3 3 3 4]\n",
      "predicted:  [4 4 4 4 4 4 4 4 4 4 4 4 4 4 4 4 4 4 4 4 4 4 4 4 4 4 4 4 4 4]\n"
     ]
    }
   ],
   "source": [
    "# print the first 30 true and predicted responses\n",
    "print ('actual:    ', y_test.values[0:30])\n",
    "print ('predicted: ', y_pred[0:30])"
   ]
  },
  {
   "cell_type": "markdown",
   "id": "17e6d522",
   "metadata": {},
   "source": [
    "#### Spot-Check with other Algorithms"
   ]
  },
  {
   "cell_type": "code",
   "execution_count": 72,
   "id": "ae87f5bf",
   "metadata": {
    "ExecuteTime": {
     "end_time": "2021-07-17T16:31:02.135570Z",
     "start_time": "2021-07-17T16:30:14.702857Z"
    }
   },
   "outputs": [
    {
     "name": "stdout",
     "output_type": "stream",
     "text": [
      "LDA: 0.338911 (0.003931)\n",
      "KNN: 0.267321 (0.012119)\n",
      "CART: 0.340004 (0.003806)\n",
      "NB: 0.338911 (0.003931)\n"
     ]
    }
   ],
   "source": [
    "# Spot-Check Algorithms\n",
    "from sklearn.tree import DecisionTreeClassifier\n",
    "from sklearn.neighbors import KNeighborsClassifier\n",
    "from sklearn.discriminant_analysis import LinearDiscriminantAnalysis\n",
    "from sklearn.naive_bayes import GaussianNB\n",
    "\n",
    "from sklearn.model_selection import KFold\n",
    "from sklearn.model_selection import cross_val_score\n",
    "\n",
    "seed = 7\n",
    "models = []\n",
    "models.append(('LDA', LinearDiscriminantAnalysis()))\n",
    "models.append(('KNN', KNeighborsClassifier()))\n",
    "models.append(('CART', DecisionTreeClassifier()))\n",
    "models.append(('NB', GaussianNB()))\n",
    "# evaluate each model in turn\n",
    "results = []\n",
    "names = []\n",
    "for name, model in models:\n",
    "    kfold = KFold(n_splits=10, random_state=seed)\n",
    "    cv_results = cross_val_score(model, x_train, y_train, cv=kfold, scoring='accuracy')\n",
    "    results.append(cv_results)\n",
    "    names.append(name)\n",
    "    msg = \"%s: %f (%f)\" % (name, cv_results.mean(), cv_results.std())\n",
    "    print(msg)"
   ]
  },
  {
   "cell_type": "code",
   "execution_count": 73,
   "id": "02bc533d",
   "metadata": {
    "ExecuteTime": {
     "end_time": "2021-07-17T16:31:02.431586Z",
     "start_time": "2021-07-17T16:31:02.136570Z"
    },
    "scrolled": true
   },
   "outputs": [
    {
     "data": {
      "image/png": "[encoded data removed]",
      "text/plain": [
       "<Figure size 432x288 with 1 Axes>"
      ]
     },
     "metadata": {
      "needs_background": "light"
     },
     "output_type": "display_data"
    }
   ],
   "source": [
    "#Compare Algorithms by plotting the boxplot\n",
    "fig = plt.figure()\n",
    "fig.suptitle('Algorithm Comparison')\n",
    "ax = fig.add_subplot(111)\n",
    "plt.boxplot(results, widths=0.35, patch_artist=True, boxprops=dict(facecolor=\"C2\"))\n",
    "ax.set_xticklabels(names)\n",
    "plt.show()"
   ]
  },
  {
   "cell_type": "markdown",
   "id": "0eb02b26",
   "metadata": {},
   "source": [
    "<font color='green'><b>The Naive Bayes Algorithm, Classification and Regression Trees(CART) and Linear Discriminant Analysis(LDA) algorithms also gives the same accuracy results of 34%.</b></font>"
   ]
  },
  {
   "cell_type": "markdown",
   "id": "66360a1c",
   "metadata": {},
   "source": [
    "## Case Study Insights\n",
    "\n",
    "* The Dataset contains '3706' unique Movies rated by '6040' users. Most of the users are from age group of 25 to 34 range. The Gender distribution shows that there are more Male viewers compared to Female viewers. As per the Analysis, Age is the most affecting feature over movie rating. Also Gender has negative or inverse correlation over movie ratings.\n",
    "\n",
    "\n",
    "* There are some unique categories of genres found in the dataset. such as, 'Animation', \"Children's\", 'Comedy', 'Musical', 'Romance', 'Drama', 'Action', 'Adventure', 'Fantasy', 'Sci-Fi', 'War', 'Crime', 'Thriller', 'Western', 'Horror', 'Mystery', 'Documentary', 'Film-Noir'.\n",
    "\n",
    "\n",
    "* In the case of Movie ToyStory(1995), the movie has got '835' 4-Star rating and '820' 5-Star ratings. On an average ToyStory has got 4.14 ratings.\n",
    "\n",
    "\n",
    "* The movie 'American Beauty (1999)' tops the top 25 movies by viewers, which is '3428' viewers. When considering average user rating as-well-as considerable number of viewers(above 2000 viewers), the movie \"The Shawshank Redemption\" tops the list, followed by The Godfather(1972).\n",
    "\n",
    "\n",
    "* In the case of UserID_2696, the user has reviewed 20 movies in total. The highest rating given by the UserID_2696 is '5' for the movie \"Lone Star(1996)\".\n",
    "\n",
    "\n",
    "* Logistic Regression model is chosen for predicting the movie ratings. since, the dataset contains catagorical data. The accuracy score obtained by Logistic regression model is 34%. Spot checking the training and testing dataset with different algorithm results in simillar accuracy of 34%."
   ]
  }
 ],
 "metadata": {
  "kernelspec": {
   "display_name": "Python 3",
   "language": "python",
   "name": "python3"
  },
  "language_info": {
   "codemirror_mode": {
    "name": "ipython",
    "version": 3
   },
   "file_extension": ".py",
   "mimetype": "text/x-python",
   "name": "python",
   "nbconvert_exporter": "python",
   "pygments_lexer": "ipython3",
   "version": "3.8.10"
  },
  "toc": {
   "base_numbering": 1,
   "nav_menu": {},
   "number_sections": true,
   "sideBar": true,
   "skip_h1_title": true,
   "title_cell": "Table of Contents",
   "title_sidebar": "Contents",
   "toc_cell": true,
   "toc_position": {
    "height": "calc(100% - 180px)",
    "left": "10px",
    "top": "150px",
    "width": "308.2px"
   },
   "toc_section_display": true,
   "toc_window_display": true
  }
 },
 "nbformat": 4,
 "nbformat_minor": 5
}
